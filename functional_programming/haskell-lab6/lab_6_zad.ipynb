{
 "cells": [
  {
   "cell_type": "markdown",
   "id": "ddf55729",
   "metadata": {},
   "source": [
    "# Lab_6"
   ]
  },
  {
   "cell_type": "markdown",
   "id": "8b72ee15",
   "metadata": {},
   "source": [
    "## Zadania #1\n",
    "**1.1 Zmodyfikować definicję tak, aby zamiast extractMaybe wykorzystać >^$>**"
   ]
  },
  {
   "cell_type": "code",
   "execution_count": 1,
   "id": "6ae81ac8",
   "metadata": {},
   "outputs": [
    {
     "data": {
      "text/html": [
       "<style>/* Styles used for the Hoogle display in the pager */\n",
       ".hoogle-doc {\n",
       "display: block;\n",
       "padding-bottom: 1.3em;\n",
       "padding-left: 0.4em;\n",
       "}\n",
       ".hoogle-code {\n",
       "display: block;\n",
       "font-family: monospace;\n",
       "white-space: pre;\n",
       "}\n",
       ".hoogle-text {\n",
       "display: block;\n",
       "}\n",
       ".hoogle-name {\n",
       "color: green;\n",
       "font-weight: bold;\n",
       "}\n",
       ".hoogle-head {\n",
       "font-weight: bold;\n",
       "}\n",
       ".hoogle-sub {\n",
       "display: block;\n",
       "margin-left: 0.4em;\n",
       "}\n",
       ".hoogle-package {\n",
       "font-weight: bold;\n",
       "font-style: italic;\n",
       "}\n",
       ".hoogle-module {\n",
       "font-weight: bold;\n",
       "}\n",
       ".hoogle-class {\n",
       "font-weight: bold;\n",
       "}\n",
       ".get-type {\n",
       "color: green;\n",
       "font-weight: bold;\n",
       "font-family: monospace;\n",
       "display: block;\n",
       "white-space: pre-wrap;\n",
       "}\n",
       ".show-type {\n",
       "color: green;\n",
       "font-weight: bold;\n",
       "font-family: monospace;\n",
       "margin-left: 1em;\n",
       "}\n",
       ".mono {\n",
       "font-family: monospace;\n",
       "display: block;\n",
       "}\n",
       ".err-msg {\n",
       "color: red;\n",
       "font-style: italic;\n",
       "font-family: monospace;\n",
       "white-space: pre;\n",
       "display: block;\n",
       "}\n",
       "#unshowable {\n",
       "color: red;\n",
       "font-weight: bold;\n",
       "}\n",
       ".err-msg.in.collapse {\n",
       "padding-top: 0.7em;\n",
       "}\n",
       ".highlight-code {\n",
       "white-space: pre;\n",
       "font-family: monospace;\n",
       "}\n",
       ".suggestion-warning { \n",
       "font-weight: bold;\n",
       "color: rgb(200, 130, 0);\n",
       "}\n",
       ".suggestion-error { \n",
       "font-weight: bold;\n",
       "color: red;\n",
       "}\n",
       ".suggestion-name {\n",
       "font-weight: bold;\n",
       "}\n",
       "</style><div class=\"suggestion-name\" style=\"clear:both;\">Avoid lambda</div><div class=\"suggestion-row\" style=\"float: left;\"><div class=\"suggestion-warning\">Found:</div><div class=\"highlight-code\" id=\"haskell\">\\ x -> g (extractMaybe (f x))</div></div><div class=\"suggestion-row\" style=\"float: left;\"><div class=\"suggestion-warning\">Why Not:</div><div class=\"highlight-code\" id=\"haskell\">g . extractMaybe . f</div></div>"
      ],
      "text/plain": [
       "Line 6: Avoid lambda\n",
       "Found:\n",
       "\\ x -> g (extractMaybe (f x))\n",
       "Why not:\n",
       "g . extractMaybe . f"
      ]
     },
     "metadata": {},
     "output_type": "display_data"
    }
   ],
   "source": [
    "extractMaybe :: Maybe a -> a\n",
    "extractMaybe Nothing  = error \"Nothing inside!\"\n",
    "extractMaybe (Just x) = x\n",
    "\n",
    "(>.>>) :: (a -> Maybe b) -> (b -> Maybe c) -> (a -> Maybe c)\n",
    "f >.>> g = \\x -> g (extractMaybe (f x)) -- do zmodyfikowania\n",
    "\n",
    "(>^$>) :: Maybe a -> (a -> Maybe b) -> Maybe b\n",
    "Nothing  >^$> _ = Nothing\n",
    "(Just x) >^$> f = f x\n",
    "infixl 1 >^$>"
   ]
  },
  {
   "cell_type": "code",
   "execution_count": 2,
   "id": "350fbb27",
   "metadata": {},
   "outputs": [
    {
     "data": {
      "text/plain": [
       "Just 10"
      ]
     },
     "metadata": {},
     "output_type": "display_data"
    }
   ],
   "source": [
    "(>.>>) :: (a -> Maybe b) -> (b -> Maybe c) -> (a -> Maybe c)\n",
    "f >.>> g = \\x -> f x >^$> g\n",
    "\n",
    "(\\x -> Just (x+2)) >.>> (\\x -> Just (x*2)) $ 3"
   ]
  },
  {
   "cell_type": "markdown",
   "id": "ddf5847f",
   "metadata": {},
   "source": [
    "**1.2 Ponownie zmodyfikować definicję, ale tym razem zamiast extractMaybe wykorzystać fmap**"
   ]
  },
  {
   "cell_type": "code",
   "execution_count": 3,
   "id": "8612dc81",
   "metadata": {},
   "outputs": [
    {
     "data": {
      "text/html": [
       "<style>/* Styles used for the Hoogle display in the pager */\n",
       ".hoogle-doc {\n",
       "display: block;\n",
       "padding-bottom: 1.3em;\n",
       "padding-left: 0.4em;\n",
       "}\n",
       ".hoogle-code {\n",
       "display: block;\n",
       "font-family: monospace;\n",
       "white-space: pre;\n",
       "}\n",
       ".hoogle-text {\n",
       "display: block;\n",
       "}\n",
       ".hoogle-name {\n",
       "color: green;\n",
       "font-weight: bold;\n",
       "}\n",
       ".hoogle-head {\n",
       "font-weight: bold;\n",
       "}\n",
       ".hoogle-sub {\n",
       "display: block;\n",
       "margin-left: 0.4em;\n",
       "}\n",
       ".hoogle-package {\n",
       "font-weight: bold;\n",
       "font-style: italic;\n",
       "}\n",
       ".hoogle-module {\n",
       "font-weight: bold;\n",
       "}\n",
       ".hoogle-class {\n",
       "font-weight: bold;\n",
       "}\n",
       ".get-type {\n",
       "color: green;\n",
       "font-weight: bold;\n",
       "font-family: monospace;\n",
       "display: block;\n",
       "white-space: pre-wrap;\n",
       "}\n",
       ".show-type {\n",
       "color: green;\n",
       "font-weight: bold;\n",
       "font-family: monospace;\n",
       "margin-left: 1em;\n",
       "}\n",
       ".mono {\n",
       "font-family: monospace;\n",
       "display: block;\n",
       "}\n",
       ".err-msg {\n",
       "color: red;\n",
       "font-style: italic;\n",
       "font-family: monospace;\n",
       "white-space: pre;\n",
       "display: block;\n",
       "}\n",
       "#unshowable {\n",
       "color: red;\n",
       "font-weight: bold;\n",
       "}\n",
       ".err-msg.in.collapse {\n",
       "padding-top: 0.7em;\n",
       "}\n",
       ".highlight-code {\n",
       "white-space: pre;\n",
       "font-family: monospace;\n",
       "}\n",
       ".suggestion-warning { \n",
       "font-weight: bold;\n",
       "color: rgb(200, 130, 0);\n",
       "}\n",
       ".suggestion-error { \n",
       "font-weight: bold;\n",
       "color: red;\n",
       "}\n",
       ".suggestion-name {\n",
       "font-weight: bold;\n",
       "}\n",
       "</style><div class=\"suggestion-name\" style=\"clear:both;\">Avoid lambda</div><div class=\"suggestion-row\" style=\"float: left;\"><div class=\"suggestion-warning\">Found:</div><div class=\"highlight-code\" id=\"haskell\">\\ x -> joinMaybe (fmap g (f x))</div></div><div class=\"suggestion-row\" style=\"float: left;\"><div class=\"suggestion-warning\">Why Not:</div><div class=\"highlight-code\" id=\"haskell\">joinMaybe . fmap g . f</div></div>"
      ],
      "text/plain": [
       "Line 7: Avoid lambda\n",
       "Found:\n",
       "\\ x -> joinMaybe (fmap g (f x))\n",
       "Why not:\n",
       "joinMaybe . fmap g . f"
      ]
     },
     "metadata": {},
     "output_type": "display_data"
    },
    {
     "data": {
      "text/plain": [
       "Just 10"
      ]
     },
     "metadata": {},
     "output_type": "display_data"
    }
   ],
   "source": [
    "joinMaybe :: Maybe (Maybe a) -> Maybe a\n",
    "joinMaybe Nothing = Nothing\n",
    "joinMaybe (Just (Just x)) = Just x\n",
    "joinMaybe (Just Nothing) = Nothing\n",
    "\n",
    "(>.>>) :: (a -> Maybe b) -> (b -> Maybe c) -> (a -> Maybe c)\n",
    "f >.>> g = \\x -> joinMaybe (fmap g (f x))\n",
    "\n",
    "(\\x -> Just (x+2)) >.>> (\\x -> Just (x*2)) $ 3"
   ]
  },
  {
   "cell_type": "markdown",
   "id": "844d476c",
   "metadata": {},
   "source": [
    "## Zadania #2\n",
    "**2.1 (Dla monady Maybe) zdefiniować (>=>) przy pomocy >>=; czy można tę definicję uogólnić, aby była prawdziwa dla dowolnej monady?**"
   ]
  },
  {
   "cell_type": "code",
   "execution_count": 4,
   "id": "8ef223ae",
   "metadata": {},
   "outputs": [
    {
     "data": {
      "text/html": [
       "<style>/* Styles used for the Hoogle display in the pager */\n",
       ".hoogle-doc {\n",
       "display: block;\n",
       "padding-bottom: 1.3em;\n",
       "padding-left: 0.4em;\n",
       "}\n",
       ".hoogle-code {\n",
       "display: block;\n",
       "font-family: monospace;\n",
       "white-space: pre;\n",
       "}\n",
       ".hoogle-text {\n",
       "display: block;\n",
       "}\n",
       ".hoogle-name {\n",
       "color: green;\n",
       "font-weight: bold;\n",
       "}\n",
       ".hoogle-head {\n",
       "font-weight: bold;\n",
       "}\n",
       ".hoogle-sub {\n",
       "display: block;\n",
       "margin-left: 0.4em;\n",
       "}\n",
       ".hoogle-package {\n",
       "font-weight: bold;\n",
       "font-style: italic;\n",
       "}\n",
       ".hoogle-module {\n",
       "font-weight: bold;\n",
       "}\n",
       ".hoogle-class {\n",
       "font-weight: bold;\n",
       "}\n",
       ".get-type {\n",
       "color: green;\n",
       "font-weight: bold;\n",
       "font-family: monospace;\n",
       "display: block;\n",
       "white-space: pre-wrap;\n",
       "}\n",
       ".show-type {\n",
       "color: green;\n",
       "font-weight: bold;\n",
       "font-family: monospace;\n",
       "margin-left: 1em;\n",
       "}\n",
       ".mono {\n",
       "font-family: monospace;\n",
       "display: block;\n",
       "}\n",
       ".err-msg {\n",
       "color: red;\n",
       "font-style: italic;\n",
       "font-family: monospace;\n",
       "white-space: pre;\n",
       "display: block;\n",
       "}\n",
       "#unshowable {\n",
       "color: red;\n",
       "font-weight: bold;\n",
       "}\n",
       ".err-msg.in.collapse {\n",
       "padding-top: 0.7em;\n",
       "}\n",
       ".highlight-code {\n",
       "white-space: pre;\n",
       "font-family: monospace;\n",
       "}\n",
       ".suggestion-warning { \n",
       "font-weight: bold;\n",
       "color: rgb(200, 130, 0);\n",
       "}\n",
       ".suggestion-error { \n",
       "font-weight: bold;\n",
       "color: red;\n",
       "}\n",
       ".suggestion-name {\n",
       "font-weight: bold;\n",
       "}\n",
       "</style><div class=\"suggestion-name\" style=\"clear:both;\">Redundant lambda</div><div class=\"suggestion-row\" style=\"float: left;\"><div class=\"suggestion-warning\">Found:</div><div class=\"highlight-code\" id=\"haskell\">(>=>) f g = \\ x -> f x >>= g</div></div><div class=\"suggestion-row\" style=\"float: left;\"><div class=\"suggestion-warning\">Why Not:</div><div class=\"highlight-code\" id=\"haskell\">(>=>) f g x = f x >>= g</div></div>"
      ],
      "text/plain": [
       "Line 2: Redundant lambda\n",
       "Found:\n",
       "(>=>) f g = \\ x -> f x >>= g\n",
       "Why not:\n",
       "(>=>) f g x = f x >>= g"
      ]
     },
     "metadata": {},
     "output_type": "display_data"
    }
   ],
   "source": [
    "(>=>) :: Monad m => (a -> m b) -> (b -> m c) -> (a -> m c)\n",
    "(>=>) f g = \\x -> f x >>= g"
   ]
  },
  {
   "cell_type": "markdown",
   "id": "8345cc72",
   "metadata": {},
   "source": [
    "**2.2 Napisać funkcję join dla monady Maybe**"
   ]
  },
  {
   "cell_type": "code",
   "execution_count": 5,
   "id": "0cfc86d6",
   "metadata": {},
   "outputs": [],
   "source": [
    "maybeJoin :: Maybe (Maybe a) -> Maybe a\n",
    "maybeJoin (Just (Just a)) = Just a\n",
    "maybeJoin (Just Nothing) = Nothing\n",
    "maybeJoin Nothing = Nothing"
   ]
  },
  {
   "cell_type": "markdown",
   "id": "da3c3a1e",
   "metadata": {},
   "source": [
    "**2.3 Napisać trzy wersje funkcji:**"
   ]
  },
  {
   "cell_type": "code",
   "execution_count": 6,
   "id": "71ddc5a2",
   "metadata": {},
   "outputs": [
    {
     "data": {
      "text/plain": [
       "Just 20"
      ]
     },
     "metadata": {},
     "output_type": "display_data"
    },
    {
     "data": {
      "text/plain": [
       "Nothing"
      ]
     },
     "metadata": {},
     "output_type": "display_data"
    }
   ],
   "source": [
    "safeDiv :: Int -> Int -> Maybe Int\n",
    "safeDiv x y | y /= 0    = Just $ x `div` y\n",
    "            | otherwise = Nothing\n",
    "\n",
    "safeSum10DivXi :: [Int] -> Maybe Int\n",
    "safeSum10DivXi [] = Just 0\n",
    "safeSum10DivXi (x:xs) = \n",
    "    case safeDiv 10 x of\n",
    "        Nothing -> Nothing\n",
    "        Just newX -> case safeSum10DivXi xs of\n",
    "                            Nothing -> Nothing\n",
    "                            Just newY -> Just (newX + newY)\n",
    "                            \n",
    "safeSum10DivXi [1,2,3,4]\n",
    "safeSum10DivXi [1,0,3]"
   ]
  },
  {
   "cell_type": "code",
   "execution_count": 7,
   "id": "6b764f7b",
   "metadata": {},
   "outputs": [
    {
     "data": {
      "text/plain": [
       "Just 20"
      ]
     },
     "metadata": {},
     "output_type": "display_data"
    },
    {
     "data": {
      "text/plain": [
       "Nothing"
      ]
     },
     "metadata": {},
     "output_type": "display_data"
    }
   ],
   "source": [
    "safeSum10DivXi' :: [Int] -> Maybe Int\n",
    "safeSum10DivXi' [] = Just 0\n",
    "safeSum10DivXi' (x:xs) = do\n",
    "    newX <- safeDiv 10 x\n",
    "    newXs <- safeSum10DivXi' xs\n",
    "    return $ newX + newXs\n",
    "    \n",
    "safeSum10DivXi [1,2,3,4]\n",
    "safeSum10DivXi [1,0,3]"
   ]
  },
  {
   "cell_type": "code",
   "execution_count": 8,
   "id": "e92401d6",
   "metadata": {},
   "outputs": [
    {
     "data": {
      "text/plain": [
       "Just 20"
      ]
     },
     "metadata": {},
     "output_type": "display_data"
    },
    {
     "data": {
      "text/plain": [
       "Nothing"
      ]
     },
     "metadata": {},
     "output_type": "display_data"
    }
   ],
   "source": [
    "safeSum10DivXi'' :: [Int] -> Maybe Int\n",
    "safeSum10DivXi'' [] = Just 0\n",
    "safeSum10DivXi'' (x:xs) = safeDiv 10 x >>= \\x -> safeSum10DivXi'' xs >>= \\y -> return $ x + y\n",
    "\n",
    "safeSum10DivXi [1,2,3,4]\n",
    "safeSum10DivXi [1,0,3]"
   ]
  },
  {
   "cell_type": "markdown",
   "id": "8da3a553",
   "metadata": {},
   "source": [
    "## Zadania #3\n",
    "**3.1 Napisać funkcję join dla monady (Either e)**"
   ]
  },
  {
   "cell_type": "code",
   "execution_count": 9,
   "id": "639776ad",
   "metadata": {},
   "outputs": [],
   "source": [
    "eitherJoin :: Either a (Either a b) -> Either a b\n",
    "eitherJoin (Right (Left a)) = Left a\n",
    "eitherJoin (Right (Right a)) = Right a\n",
    "eitherJoin (Left a) = Left a"
   ]
  },
  {
   "cell_type": "markdown",
   "id": "b39874a8",
   "metadata": {},
   "source": [
    "**3.2 Napisać definicję funkcji safeF5'' (odpowiadającą tej z poprzedniego ćwiczenia, dotyczącego monady Maybe) z wykorzystaniem monady Either e**"
   ]
  },
  {
   "cell_type": "code",
   "execution_count": 10,
   "id": "a3da605f",
   "metadata": {},
   "outputs": [
    {
     "data": {
      "text/plain": [
       "Right 20"
      ]
     },
     "metadata": {},
     "output_type": "display_data"
    },
    {
     "data": {
      "text/plain": [
       "Left \"Cannot div by zero!\""
      ]
     },
     "metadata": {},
     "output_type": "display_data"
    }
   ],
   "source": [
    "-- ? jest podana literalnie wyżej\n",
    "-- napiszę coś takiego\n",
    "safeDiv' :: Int -> Int -> Either String Int\n",
    "safeDiv' x y | y /= 0    = Right $ x `div` y\n",
    "            | otherwise = Left \"Cannot div by zero!\"\n",
    "\n",
    "safeF5'' :: [Int] -> Either String Int\n",
    "safeF5'' [] = Right 0\n",
    "safeF5'' (x:xs) = safeDiv' 10 x >>= \\x -> safeF5'' xs >>= \\y -> return $ x + y\n",
    "\n",
    "safeF5'' [1,2,3,4]\n",
    "safeF5'' [1,0,3]"
   ]
  },
  {
   "cell_type": "markdown",
   "id": "df5d543b",
   "metadata": {},
   "source": [
    "## Zadania #4\n",
    "**4.1 Napisać funkcję join dla monady []**"
   ]
  },
  {
   "cell_type": "code",
   "execution_count": 11,
   "id": "317ad56d",
   "metadata": {},
   "outputs": [
    {
     "data": {
      "text/html": [
       "<style>/* Styles used for the Hoogle display in the pager */\n",
       ".hoogle-doc {\n",
       "display: block;\n",
       "padding-bottom: 1.3em;\n",
       "padding-left: 0.4em;\n",
       "}\n",
       ".hoogle-code {\n",
       "display: block;\n",
       "font-family: monospace;\n",
       "white-space: pre;\n",
       "}\n",
       ".hoogle-text {\n",
       "display: block;\n",
       "}\n",
       ".hoogle-name {\n",
       "color: green;\n",
       "font-weight: bold;\n",
       "}\n",
       ".hoogle-head {\n",
       "font-weight: bold;\n",
       "}\n",
       ".hoogle-sub {\n",
       "display: block;\n",
       "margin-left: 0.4em;\n",
       "}\n",
       ".hoogle-package {\n",
       "font-weight: bold;\n",
       "font-style: italic;\n",
       "}\n",
       ".hoogle-module {\n",
       "font-weight: bold;\n",
       "}\n",
       ".hoogle-class {\n",
       "font-weight: bold;\n",
       "}\n",
       ".get-type {\n",
       "color: green;\n",
       "font-weight: bold;\n",
       "font-family: monospace;\n",
       "display: block;\n",
       "white-space: pre-wrap;\n",
       "}\n",
       ".show-type {\n",
       "color: green;\n",
       "font-weight: bold;\n",
       "font-family: monospace;\n",
       "margin-left: 1em;\n",
       "}\n",
       ".mono {\n",
       "font-family: monospace;\n",
       "display: block;\n",
       "}\n",
       ".err-msg {\n",
       "color: red;\n",
       "font-style: italic;\n",
       "font-family: monospace;\n",
       "white-space: pre;\n",
       "display: block;\n",
       "}\n",
       "#unshowable {\n",
       "color: red;\n",
       "font-weight: bold;\n",
       "}\n",
       ".err-msg.in.collapse {\n",
       "padding-top: 0.7em;\n",
       "}\n",
       ".highlight-code {\n",
       "white-space: pre;\n",
       "font-family: monospace;\n",
       "}\n",
       ".suggestion-warning { \n",
       "font-weight: bold;\n",
       "color: rgb(200, 130, 0);\n",
       "}\n",
       ".suggestion-error { \n",
       "font-weight: bold;\n",
       "color: red;\n",
       "}\n",
       ".suggestion-name {\n",
       "font-weight: bold;\n",
       "}\n",
       "</style><div class=\"suggestion-name\" style=\"clear:both;\">Use foldr</div><div class=\"suggestion-row\" style=\"float: left;\"><div class=\"suggestion-warning\">Found:</div><div class=\"highlight-code\" id=\"haskell\">joinList [] = []\n",
       "joinList (xs : xss) = xs ++ joinList xss</div></div><div class=\"suggestion-row\" style=\"float: left;\"><div class=\"suggestion-warning\">Why Not:</div><div class=\"highlight-code\" id=\"haskell\">joinList xss = foldr (++) [] xss</div></div>"
      ],
      "text/plain": [
       "Line 2: Use foldr\n",
       "Found:\n",
       "joinList [] = []\n",
       "joinList (xs : xss) = xs ++ joinList xss\n",
       "Why not:\n",
       "joinList xss = foldr (++) [] xss"
      ]
     },
     "metadata": {},
     "output_type": "display_data"
    }
   ],
   "source": [
    "joinList :: [[a]] -> [a]\n",
    "joinList [] = []\n",
    "joinList (xs:xss) = xs ++ joinList xss"
   ]
  }
 ],
 "metadata": {
  "kernelspec": {
   "display_name": "Haskell",
   "language": "haskell",
   "name": "haskell"
  },
  "language_info": {
   "codemirror_mode": "ihaskell",
   "file_extension": ".hs",
   "mimetype": "text/x-haskell",
   "name": "haskell",
   "pygments_lexer": "Haskell",
   "version": "8.10.7"
  }
 },
 "nbformat": 4,
 "nbformat_minor": 5
}
