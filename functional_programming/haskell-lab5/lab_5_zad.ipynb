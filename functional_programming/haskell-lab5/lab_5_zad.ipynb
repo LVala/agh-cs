{
 "cells": [
  {
   "cell_type": "markdown",
   "id": "171b8cbe",
   "metadata": {},
   "source": [
    "# Lab_5"
   ]
  },
  {
   "cell_type": "markdown",
   "id": "9f9586e3",
   "metadata": {},
   "source": [
    "## Zadania #1\n",
    "**1.1 Napisać odpowiedniki echo3 i dialog wykorzystujące notację do**"
   ]
  },
  {
   "cell_type": "code",
   "execution_count": 1,
   "id": "71a58ac3",
   "metadata": {},
   "outputs": [],
   "source": [
    "echo3 :: IO ()\n",
    "echo3 = do\n",
    "    line1 <- getLine\n",
    "    line2 <- getLine\n",
    "    putStrLn $ line1 ++ line2"
   ]
  },
  {
   "cell_type": "code",
   "execution_count": 2,
   "id": "f863dcac",
   "metadata": {},
   "outputs": [],
   "source": [
    "dialog :: IO ()\n",
    "dialog = do\n",
    "    putStr \"What is your happy number? \"\n",
    "    n <- getLine\n",
    "    let num = read n :: Int in\n",
    "                   if num == 7\n",
    "                   then putStrLn \"Ah, lucky 7!\"\n",
    "                   else if odd num\n",
    "                        then putStrLn \"Odd number! That's most people's choice...\"\n",
    "                        else putStrLn \"Hm, even number? Unusual!\""
   ]
  },
  {
   "cell_type": "markdown",
   "id": "01a10bab",
   "metadata": {},
   "source": [
    "**1.2 Napisać odpowiednik twoQuestions bez użycia notacji do**"
   ]
  },
  {
   "cell_type": "code",
   "execution_count": 3,
   "id": "286faacf",
   "metadata": {},
   "outputs": [],
   "source": [
    "twoQuestions :: IO ()\n",
    "twoQuestions = putStr \"What is your name? \"\n",
    "            >> getLine\n",
    "            >>= \\n -> putStr \"How old are you? \"\n",
    "            >> getLine\n",
    "            >>= \\o -> print (n, o)"
   ]
  },
  {
   "cell_type": "markdown",
   "id": "2c490395",
   "metadata": {},
   "source": [
    "**1.3 Napisać ‘akcję’ getLine' odpowiadającą getLine z biblioteki Prelude**"
   ]
  },
  {
   "cell_type": "code",
   "execution_count": 4,
   "id": "8524ee24",
   "metadata": {},
   "outputs": [],
   "source": [
    "getLine' :: IO String\n",
    "getLine' = do\n",
    "    c <- getChar\n",
    "    if c == '\\n' then return \"\"\n",
    "    else do\n",
    "        s <- getLine\n",
    "        return (c:s)"
   ]
  },
  {
   "cell_type": "markdown",
   "id": "f122376e",
   "metadata": {},
   "source": [
    "## Zadania #2\n",
    "**2.1 Napisać odpowiednik sequence' wykorzystujący foldr**"
   ]
  },
  {
   "cell_type": "code",
   "execution_count": 5,
   "id": "9591ac09",
   "metadata": {},
   "outputs": [
    {
     "data": {
      "text/html": [
       "<style>/* Styles used for the Hoogle display in the pager */\n",
       ".hoogle-doc {\n",
       "display: block;\n",
       "padding-bottom: 1.3em;\n",
       "padding-left: 0.4em;\n",
       "}\n",
       ".hoogle-code {\n",
       "display: block;\n",
       "font-family: monospace;\n",
       "white-space: pre;\n",
       "}\n",
       ".hoogle-text {\n",
       "display: block;\n",
       "}\n",
       ".hoogle-name {\n",
       "color: green;\n",
       "font-weight: bold;\n",
       "}\n",
       ".hoogle-head {\n",
       "font-weight: bold;\n",
       "}\n",
       ".hoogle-sub {\n",
       "display: block;\n",
       "margin-left: 0.4em;\n",
       "}\n",
       ".hoogle-package {\n",
       "font-weight: bold;\n",
       "font-style: italic;\n",
       "}\n",
       ".hoogle-module {\n",
       "font-weight: bold;\n",
       "}\n",
       ".hoogle-class {\n",
       "font-weight: bold;\n",
       "}\n",
       ".get-type {\n",
       "color: green;\n",
       "font-weight: bold;\n",
       "font-family: monospace;\n",
       "display: block;\n",
       "white-space: pre-wrap;\n",
       "}\n",
       ".show-type {\n",
       "color: green;\n",
       "font-weight: bold;\n",
       "font-family: monospace;\n",
       "margin-left: 1em;\n",
       "}\n",
       ".mono {\n",
       "font-family: monospace;\n",
       "display: block;\n",
       "}\n",
       ".err-msg {\n",
       "color: red;\n",
       "font-style: italic;\n",
       "font-family: monospace;\n",
       "white-space: pre;\n",
       "display: block;\n",
       "}\n",
       "#unshowable {\n",
       "color: red;\n",
       "font-weight: bold;\n",
       "}\n",
       ".err-msg.in.collapse {\n",
       "padding-top: 0.7em;\n",
       "}\n",
       ".highlight-code {\n",
       "white-space: pre;\n",
       "font-family: monospace;\n",
       "}\n",
       ".suggestion-warning { \n",
       "font-weight: bold;\n",
       "color: rgb(200, 130, 0);\n",
       "}\n",
       ".suggestion-error { \n",
       "font-weight: bold;\n",
       "color: red;\n",
       "}\n",
       ".suggestion-name {\n",
       "font-weight: bold;\n",
       "}\n",
       "</style><div class=\"suggestion-name\" style=\"clear:both;\">Use sequence_</div><div class=\"suggestion-row\" style=\"float: left;\"><div class=\"suggestion-warning\">Found:</div><div class=\"highlight-code\" id=\"haskell\">foldr (>>) (return ())</div></div><div class=\"suggestion-row\" style=\"float: left;\"><div class=\"suggestion-warning\">Why Not:</div><div class=\"highlight-code\" id=\"haskell\">sequence_</div></div>"
      ],
      "text/plain": [
       "Line 2: Use sequence_\n",
       "Found:\n",
       "foldr (>>) (return ())\n",
       "Why not:\n",
       "sequence_"
      ]
     },
     "metadata": {},
     "output_type": "display_data"
    }
   ],
   "source": [
    "sequence' :: [IO ()] -> IO ()\n",
    "sequence' = foldr (>>) (return ())"
   ]
  },
  {
   "cell_type": "code",
   "execution_count": 6,
   "id": "91531ccb",
   "metadata": {},
   "outputs": [
    {
     "data": {
      "text/plain": [
       "Ben\n",
       "Joe\n",
       "Ally"
      ]
     },
     "metadata": {},
     "output_type": "display_data"
    }
   ],
   "source": [
    "actionList :: [IO ()]\n",
    "actionList = [putStrLn \"Ben\",\n",
    "              putStrLn \"Joe\",\n",
    "              putStrLn \"Ally\"]\n",
    "              \n",
    "sequence' actionList"
   ]
  },
  {
   "cell_type": "markdown",
   "id": "9e0e3e3f",
   "metadata": {},
   "source": [
    "**2.2 Zmienić postać 1. agrumentu foldr: z >> na wyrażenie lambda**"
   ]
  },
  {
   "cell_type": "code",
   "execution_count": 7,
   "id": "0fc77783",
   "metadata": {},
   "outputs": [
    {
     "data": {
      "text/html": [
       "<style>/* Styles used for the Hoogle display in the pager */\n",
       ".hoogle-doc {\n",
       "display: block;\n",
       "padding-bottom: 1.3em;\n",
       "padding-left: 0.4em;\n",
       "}\n",
       ".hoogle-code {\n",
       "display: block;\n",
       "font-family: monospace;\n",
       "white-space: pre;\n",
       "}\n",
       ".hoogle-text {\n",
       "display: block;\n",
       "}\n",
       ".hoogle-name {\n",
       "color: green;\n",
       "font-weight: bold;\n",
       "}\n",
       ".hoogle-head {\n",
       "font-weight: bold;\n",
       "}\n",
       ".hoogle-sub {\n",
       "display: block;\n",
       "margin-left: 0.4em;\n",
       "}\n",
       ".hoogle-package {\n",
       "font-weight: bold;\n",
       "font-style: italic;\n",
       "}\n",
       ".hoogle-module {\n",
       "font-weight: bold;\n",
       "}\n",
       ".hoogle-class {\n",
       "font-weight: bold;\n",
       "}\n",
       ".get-type {\n",
       "color: green;\n",
       "font-weight: bold;\n",
       "font-family: monospace;\n",
       "display: block;\n",
       "white-space: pre-wrap;\n",
       "}\n",
       ".show-type {\n",
       "color: green;\n",
       "font-weight: bold;\n",
       "font-family: monospace;\n",
       "margin-left: 1em;\n",
       "}\n",
       ".mono {\n",
       "font-family: monospace;\n",
       "display: block;\n",
       "}\n",
       ".err-msg {\n",
       "color: red;\n",
       "font-style: italic;\n",
       "font-family: monospace;\n",
       "white-space: pre;\n",
       "display: block;\n",
       "}\n",
       "#unshowable {\n",
       "color: red;\n",
       "font-weight: bold;\n",
       "}\n",
       ".err-msg.in.collapse {\n",
       "padding-top: 0.7em;\n",
       "}\n",
       ".highlight-code {\n",
       "white-space: pre;\n",
       "font-family: monospace;\n",
       "}\n",
       ".suggestion-warning { \n",
       "font-weight: bold;\n",
       "color: rgb(200, 130, 0);\n",
       "}\n",
       ".suggestion-error { \n",
       "font-weight: bold;\n",
       "color: red;\n",
       "}\n",
       ".suggestion-name {\n",
       "font-weight: bold;\n",
       "}\n",
       "</style><div class=\"suggestion-name\" style=\"clear:both;\">Avoid lambda</div><div class=\"suggestion-row\" style=\"float: left;\"><div class=\"suggestion-warning\">Found:</div><div class=\"highlight-code\" id=\"haskell\">\\ x xs -> x >> xs</div></div><div class=\"suggestion-row\" style=\"float: left;\"><div class=\"suggestion-warning\">Why Not:</div><div class=\"highlight-code\" id=\"haskell\">(>>)</div></div>"
      ],
      "text/plain": [
       "Line 2: Avoid lambda\n",
       "Found:\n",
       "\\ x xs -> x >> xs\n",
       "Why not:\n",
       "(>>)"
      ]
     },
     "metadata": {},
     "output_type": "display_data"
    },
    {
     "data": {
      "text/plain": [
       "Ben\n",
       "Joe\n",
       "Ally"
      ]
     },
     "metadata": {},
     "output_type": "display_data"
    }
   ],
   "source": [
    "sequence'' :: [IO ()] -> IO ()\n",
    "sequence'' = foldr (\\x xs -> x >> xs) (return ())\n",
    "\n",
    "sequence'' actionList"
   ]
  },
  {
   "cell_type": "markdown",
   "id": "f8fc4914",
   "metadata": {},
   "source": [
    "**2.3 Napisać odpowiednik sequence' wykonujący ‘akcje’ od ostaniej do pierwszej; rozważyć co najmniej dwa warianty, np. foldr na odwróconej liście i wykorzystanie foldl**"
   ]
  },
  {
   "cell_type": "code",
   "execution_count": 8,
   "id": "337f2583",
   "metadata": {},
   "outputs": [
    {
     "data": {
      "text/html": [
       "<style>/* Styles used for the Hoogle display in the pager */\n",
       ".hoogle-doc {\n",
       "display: block;\n",
       "padding-bottom: 1.3em;\n",
       "padding-left: 0.4em;\n",
       "}\n",
       ".hoogle-code {\n",
       "display: block;\n",
       "font-family: monospace;\n",
       "white-space: pre;\n",
       "}\n",
       ".hoogle-text {\n",
       "display: block;\n",
       "}\n",
       ".hoogle-name {\n",
       "color: green;\n",
       "font-weight: bold;\n",
       "}\n",
       ".hoogle-head {\n",
       "font-weight: bold;\n",
       "}\n",
       ".hoogle-sub {\n",
       "display: block;\n",
       "margin-left: 0.4em;\n",
       "}\n",
       ".hoogle-package {\n",
       "font-weight: bold;\n",
       "font-style: italic;\n",
       "}\n",
       ".hoogle-module {\n",
       "font-weight: bold;\n",
       "}\n",
       ".hoogle-class {\n",
       "font-weight: bold;\n",
       "}\n",
       ".get-type {\n",
       "color: green;\n",
       "font-weight: bold;\n",
       "font-family: monospace;\n",
       "display: block;\n",
       "white-space: pre-wrap;\n",
       "}\n",
       ".show-type {\n",
       "color: green;\n",
       "font-weight: bold;\n",
       "font-family: monospace;\n",
       "margin-left: 1em;\n",
       "}\n",
       ".mono {\n",
       "font-family: monospace;\n",
       "display: block;\n",
       "}\n",
       ".err-msg {\n",
       "color: red;\n",
       "font-style: italic;\n",
       "font-family: monospace;\n",
       "white-space: pre;\n",
       "display: block;\n",
       "}\n",
       "#unshowable {\n",
       "color: red;\n",
       "font-weight: bold;\n",
       "}\n",
       ".err-msg.in.collapse {\n",
       "padding-top: 0.7em;\n",
       "}\n",
       ".highlight-code {\n",
       "white-space: pre;\n",
       "font-family: monospace;\n",
       "}\n",
       ".suggestion-warning { \n",
       "font-weight: bold;\n",
       "color: rgb(200, 130, 0);\n",
       "}\n",
       ".suggestion-error { \n",
       "font-weight: bold;\n",
       "color: red;\n",
       "}\n",
       ".suggestion-name {\n",
       "font-weight: bold;\n",
       "}\n",
       "</style><div class=\"suggestion-name\" style=\"clear:both;\">Use sequence_</div><div class=\"suggestion-row\" style=\"float: left;\"><div class=\"suggestion-warning\">Found:</div><div class=\"highlight-code\" id=\"haskell\">foldr (>>) (return ())</div></div><div class=\"suggestion-row\" style=\"float: left;\"><div class=\"suggestion-warning\">Why Not:</div><div class=\"highlight-code\" id=\"haskell\">sequence_</div></div>"
      ],
      "text/plain": [
       "Line 2: Use sequence_\n",
       "Found:\n",
       "foldr (>>) (return ())\n",
       "Why not:\n",
       "sequence_"
      ]
     },
     "metadata": {},
     "output_type": "display_data"
    },
    {
     "data": {
      "text/plain": [
       "Ally\n",
       "Joe\n",
       "Ben"
      ]
     },
     "metadata": {},
     "output_type": "display_data"
    }
   ],
   "source": [
    "sequenceRev :: [IO ()] -> IO ()\n",
    "sequenceRev xs = foldr (>>) (return ()) (reverse xs)\n",
    "\n",
    "sequenceRev actionList"
   ]
  },
  {
   "cell_type": "code",
   "execution_count": 9,
   "id": "c3dbfea7",
   "metadata": {
    "scrolled": true
   },
   "outputs": [
    {
     "data": {
      "text/plain": [
       "Ally\n",
       "Joe\n",
       "Ben"
      ]
     },
     "metadata": {},
     "output_type": "display_data"
    }
   ],
   "source": [
    "sequenceRev' :: [IO ()] -> IO ()\n",
    "sequenceRev' = foldl (>>) (return ())\n",
    "\n",
    "sequenceRev actionList"
   ]
  },
  {
   "cell_type": "markdown",
   "id": "5f25310d",
   "metadata": {},
   "source": [
    "## Zadania #3\n",
    "**3.1 Sprawdzić możliwość automatycznego wygenerowania instancji Functor dla typu MyList (klauzula deriving)**"
   ]
  },
  {
   "cell_type": "code",
   "execution_count": 10,
   "id": "0957c727",
   "metadata": {},
   "outputs": [],
   "source": [
    "{-# LANGUAGE DeriveFunctor #-}\n",
    "\n",
    "data MyList a = EmptyList\n",
    "              | Cons a (MyList a) deriving (Show, Functor)"
   ]
  },
  {
   "cell_type": "code",
   "execution_count": 11,
   "id": "e8ddabde",
   "metadata": {},
   "outputs": [
    {
     "data": {
      "text/plain": [
       "Cons 2 (Cons 4 (Cons 6 (Cons 8 EmptyList)))"
      ]
     },
     "metadata": {},
     "output_type": "display_data"
    }
   ],
   "source": [
    "let lst1 = Cons 1 (Cons 2 (Cons 3 (Cons 4 EmptyList)))\n",
    "fmap (*2) lst1"
   ]
  },
  {
   "cell_type": "markdown",
   "id": "d4f1121b",
   "metadata": {},
   "source": [
    "**3.2 Napisać własną implementację funktora (instance Functor), a następnie sprawdzić możliwość jej automatycznego wygenerowania dla drzewa binarnego zdefiniowanego jako**"
   ]
  },
  {
   "cell_type": "code",
   "execution_count": 12,
   "id": "c7c05ba4",
   "metadata": {},
   "outputs": [],
   "source": [
    "data BinTree a = EmptyBT | NodeBT a (BinTree a) (BinTree a) \n",
    "            deriving (Show)\n",
    "            \n",
    "instance Functor BinTree where\n",
    "    fmap g EmptyBT = EmptyBT\n",
    "    fmap g (NodeBT a lt rt) = NodeBT (g a) (fmap g lt) (fmap g rt)"
   ]
  },
  {
   "cell_type": "code",
   "execution_count": 13,
   "id": "13b11a1f",
   "metadata": {},
   "outputs": [],
   "source": [
    "data BinTree' a = EmptyBT' | NodeBT' a (BinTree' a) (BinTree' a) \n",
    "            deriving (Show, Functor)"
   ]
  },
  {
   "cell_type": "markdown",
   "id": "315dee98",
   "metadata": {},
   "source": [
    "**3.3 Napisać implementacje funktora (instance Functor) dla następujących typów:**"
   ]
  },
  {
   "cell_type": "code",
   "execution_count": 14,
   "id": "602bcc5b",
   "metadata": {},
   "outputs": [
    {
     "data": {
      "text/plain": [
       "Pair {getPair = (3,2)}"
      ]
     },
     "metadata": {},
     "output_type": "display_data"
    }
   ],
   "source": [
    "newtype Pair b a = Pair { getPair :: (a,b) } deriving Show\n",
    "-- fmap should change the first element\n",
    "\n",
    "instance Functor (Pair b) where\n",
    "    fmap g Pair { getPair = (a,b) } = Pair {getPair = (g a,b)}\n",
    "    \n",
    "fmap (+2) (Pair (1,2))"
   ]
  },
  {
   "cell_type": "code",
   "execution_count": 15,
   "id": "452e37c5",
   "metadata": {},
   "outputs": [],
   "source": [
    "data Tree2 a = EmptyT2 | Leaf a | Node (Tree2 a) a (Tree2 a) deriving Show\n",
    "\n",
    "instance Functor Tree2 where\n",
    "    fmap g EmptyT2 = EmptyT2\n",
    "    fmap g (Leaf a) = Leaf (g a)\n",
    "    fmap g (Node lt a rt) = Node (fmap g lt) (g a) (fmap g rt)"
   ]
  },
  {
   "cell_type": "code",
   "execution_count": 16,
   "id": "fc70ed63",
   "metadata": {},
   "outputs": [],
   "source": [
    "data GTree a = Leaf a | GNode [GTree a] deriving Show\n",
    "\n",
    "instance Functor GTree where\n",
    "    fmap g (Leaf a) = Leaf (g a)\n",
    "    fmap g (GNode xs) = GNode (map (fmap g) xs)"
   ]
  },
  {
   "cell_type": "markdown",
   "id": "ab645e11",
   "metadata": {},
   "source": [
    "# Zadania #4\n",
    "**4.1 Napisać implementacje funktora aplikatywnego (instance Applicative) dla typu**"
   ]
  },
  {
   "cell_type": "code",
   "execution_count": 17,
   "id": "26f99110",
   "metadata": {
    "scrolled": true
   },
   "outputs": [],
   "source": [
    "newtype MyTriple a = MyTriple (a,a,a) deriving Show\n",
    "\n",
    "instance Functor MyTriple where\n",
    "    fmap g (MyTriple (a,b,c)) = MyTriple (g a, g b, g c)\n",
    "    \n",
    "instance Applicative MyTriple where\n",
    "    pure a = MyTriple (a,a,a)\n",
    "    MyTriple (f,g,h) <*> MyTriple (a,b,c) = MyTriple (f a, g b, h c)"
   ]
  }
 ],
 "metadata": {
  "kernelspec": {
   "display_name": "Haskell",
   "language": "haskell",
   "name": "haskell"
  },
  "language_info": {
   "codemirror_mode": "ihaskell",
   "file_extension": ".hs",
   "mimetype": "text/x-haskell",
   "name": "haskell",
   "pygments_lexer": "Haskell",
   "version": "8.10.7"
  }
 },
 "nbformat": 4,
 "nbformat_minor": 5
}
