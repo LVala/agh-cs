{
 "cells": [
  {
   "cell_type": "markdown",
   "id": "a2a04c18",
   "metadata": {},
   "source": [
    "# Lab_1"
   ]
  },
  {
   "cell_type": "markdown",
   "id": "3da3e805",
   "metadata": {},
   "source": [
    "## Zadania #1\n",
    "**1.1 Zdefiniować funkcję obliczającą długość wektora w 3D**"
   ]
  },
  {
   "cell_type": "code",
   "execution_count": 1,
   "id": "f4f05113",
   "metadata": {},
   "outputs": [],
   "source": [
    "vec3DLen :: (Double, Double, Double ) -> Double\n",
    "vec3DLen (x, y, z) = sqrt(x^2 + y^2 + z^2)"
   ]
  },
  {
   "cell_type": "code",
   "execution_count": 2,
   "id": "1c00866a",
   "metadata": {},
   "outputs": [
    {
     "data": {
      "text/plain": [
       "3.7416573867739413"
      ]
     },
     "metadata": {},
     "output_type": "display_data"
    }
   ],
   "source": [
    "vec3DLen (1, 2, 3)"
   ]
  },
  {
   "cell_type": "markdown",
   "id": "9f8d648e",
   "metadata": {},
   "source": [
    "**1.2 Zdefiniować funkcję swap**"
   ]
  },
  {
   "cell_type": "code",
   "execution_count": 3,
   "id": "7fbaae76",
   "metadata": {},
   "outputs": [],
   "source": [
    "swap :: (Int, Char) -> (Char, Int)\n",
    "swap (a, b) = (b, a)"
   ]
  },
  {
   "cell_type": "code",
   "execution_count": 4,
   "id": "a263df9e",
   "metadata": {},
   "outputs": [
    {
     "data": {
      "text/plain": [
       "('c',1)"
      ]
     },
     "metadata": {},
     "output_type": "display_data"
    }
   ],
   "source": [
    "swap (1, 'c')"
   ]
  },
  {
   "cell_type": "markdown",
   "id": "feed82f1",
   "metadata": {},
   "source": [
    "**1.3 Zdefiniować funkcję sprawdzającą, czy przekazane trzy liczby całkowite są równe**"
   ]
  },
  {
   "cell_type": "code",
   "execution_count": 5,
   "id": "1c6ae76c",
   "metadata": {},
   "outputs": [],
   "source": [
    "threeEqual :: (Int, Int, Int) -> Bool\n",
    "threeEqual (x, y, z) = x == y && y == z"
   ]
  },
  {
   "cell_type": "code",
   "execution_count": 6,
   "id": "da0b3d78",
   "metadata": {},
   "outputs": [
    {
     "data": {
      "text/plain": [
       "True"
      ]
     },
     "metadata": {},
     "output_type": "display_data"
    }
   ],
   "source": [
    "threeEqual (1, 1, 1)"
   ]
  },
  {
   "cell_type": "markdown",
   "id": "79177f2d",
   "metadata": {},
   "source": [
    "**1.4 Zdefiniować (bez użycia where, let...in) funkcję obliczającą pole trójkąta, jeśli znane są długości a, bi c jego boków (wzór Herona)**"
   ]
  },
  {
   "cell_type": "code",
   "execution_count": 7,
   "id": "81114b37",
   "metadata": {},
   "outputs": [],
   "source": [
    "triangleHeron :: (Double, Double, Double) -> Double\n",
    "triangleHeron (a, b, c) = sqrt (0.5 * (a + b + c) * (0.5 * (a + b + c) - a) * \n",
    "    (0.5 * (a + b + c) - b) * (0.5 * (a + b + c) - c)) "
   ]
  },
  {
   "cell_type": "code",
   "execution_count": 8,
   "id": "0f3085e5",
   "metadata": {},
   "outputs": [
    {
     "data": {
      "text/plain": [
       "10.825317547305483"
      ]
     },
     "metadata": {},
     "output_type": "display_data"
    }
   ],
   "source": [
    "triangleHeron (5, 5, 5)"
   ]
  },
  {
   "cell_type": "markdown",
   "id": "d2428b9c",
   "metadata": {},
   "source": [
    "## Zadania #2\n",
    "**2.1 Używając if...else zdefiniować funkcję obliczającą wartość bezwzględną liczby całkowitej**"
   ]
  },
  {
   "cell_type": "code",
   "execution_count": 9,
   "id": "45432a1a",
   "metadata": {
    "scrolled": false
   },
   "outputs": [],
   "source": [
    "absInt :: Int -> Int\n",
    "absInt n = \n",
    "    if n < 0\n",
    "    then (-1) * n\n",
    "    else n"
   ]
  },
  {
   "cell_type": "code",
   "execution_count": 10,
   "id": "6a9979be",
   "metadata": {},
   "outputs": [
    {
     "data": {
      "text/plain": [
       "3"
      ]
     },
     "metadata": {},
     "output_type": "display_data"
    },
    {
     "data": {
      "text/plain": [
       "3"
      ]
     },
     "metadata": {},
     "output_type": "display_data"
    }
   ],
   "source": [
    "absInt (-3)\n",
    "absInt 3"
   ]
  },
  {
   "cell_type": "markdown",
   "id": "7e5c2e48",
   "metadata": {},
   "source": [
    "**2.2 Używając if...else zdefiniować funkcję min2Int**"
   ]
  },
  {
   "cell_type": "code",
   "execution_count": 11,
   "id": "1293466b",
   "metadata": {},
   "outputs": [],
   "source": [
    "min2Int :: (Int, Int) -> Int\n",
    "min2Int (a, b) = \n",
    "    if a < b\n",
    "    then a\n",
    "    else b"
   ]
  },
  {
   "cell_type": "code",
   "execution_count": 12,
   "id": "3506dd30",
   "metadata": {},
   "outputs": [
    {
     "data": {
      "text/plain": [
       "1"
      ]
     },
     "metadata": {},
     "output_type": "display_data"
    },
    {
     "data": {
      "text/plain": [
       "0"
      ]
     },
     "metadata": {},
     "output_type": "display_data"
    }
   ],
   "source": [
    "min2Int (2, 1)\n",
    "min2Int (0, 1)"
   ]
  },
  {
   "cell_type": "markdown",
   "id": "d303e8e4",
   "metadata": {},
   "source": [
    "**2.3 Zdefiniować funkcję min3Int**"
   ]
  },
  {
   "cell_type": "code",
   "execution_count": 13,
   "id": "a6410fa4",
   "metadata": {},
   "outputs": [
    {
     "data": {
      "text/html": [
       "<style>/* Styles used for the Hoogle display in the pager */\n",
       ".hoogle-doc {\n",
       "display: block;\n",
       "padding-bottom: 1.3em;\n",
       "padding-left: 0.4em;\n",
       "}\n",
       ".hoogle-code {\n",
       "display: block;\n",
       "font-family: monospace;\n",
       "white-space: pre;\n",
       "}\n",
       ".hoogle-text {\n",
       "display: block;\n",
       "}\n",
       ".hoogle-name {\n",
       "color: green;\n",
       "font-weight: bold;\n",
       "}\n",
       ".hoogle-head {\n",
       "font-weight: bold;\n",
       "}\n",
       ".hoogle-sub {\n",
       "display: block;\n",
       "margin-left: 0.4em;\n",
       "}\n",
       ".hoogle-package {\n",
       "font-weight: bold;\n",
       "font-style: italic;\n",
       "}\n",
       ".hoogle-module {\n",
       "font-weight: bold;\n",
       "}\n",
       ".hoogle-class {\n",
       "font-weight: bold;\n",
       "}\n",
       ".get-type {\n",
       "color: green;\n",
       "font-weight: bold;\n",
       "font-family: monospace;\n",
       "display: block;\n",
       "white-space: pre-wrap;\n",
       "}\n",
       ".show-type {\n",
       "color: green;\n",
       "font-weight: bold;\n",
       "font-family: monospace;\n",
       "margin-left: 1em;\n",
       "}\n",
       ".mono {\n",
       "font-family: monospace;\n",
       "display: block;\n",
       "}\n",
       ".err-msg {\n",
       "color: red;\n",
       "font-style: italic;\n",
       "font-family: monospace;\n",
       "white-space: pre;\n",
       "display: block;\n",
       "}\n",
       "#unshowable {\n",
       "color: red;\n",
       "font-weight: bold;\n",
       "}\n",
       ".err-msg.in.collapse {\n",
       "padding-top: 0.7em;\n",
       "}\n",
       ".highlight-code {\n",
       "white-space: pre;\n",
       "font-family: monospace;\n",
       "}\n",
       ".suggestion-warning { \n",
       "font-weight: bold;\n",
       "color: rgb(200, 130, 0);\n",
       "}\n",
       ".suggestion-error { \n",
       "font-weight: bold;\n",
       "color: red;\n",
       "}\n",
       ".suggestion-name {\n",
       "font-weight: bold;\n",
       "}\n",
       "</style><div class=\"suggestion-name\" style=\"clear:both;\">Use guards</div><div class=\"suggestion-row\" style=\"float: left;\"><div class=\"suggestion-warning\">Found:</div><div class=\"highlight-code\" id=\"haskell\">min3Int (a, b, c)\n",
       "  = if a > b then if b > c then c else b else if a > c then c else a</div></div><div class=\"suggestion-row\" style=\"float: left;\"><div class=\"suggestion-warning\">Why Not:</div><div class=\"highlight-code\" id=\"haskell\">min3Int (a, b, c)\n",
       "  | a > b = if b > c then c else b\n",
       "  | a > c = c\n",
       "  | otherwise = a</div></div>"
      ],
      "text/plain": [
       "Line 2: Use guards\n",
       "Found:\n",
       "min3Int (a, b, c)\n",
       "  = if a > b then if b > c then c else b else if a > c then c else a\n",
       "Why not:\n",
       "min3Int (a, b, c)\n",
       "  | a > b = if b > c then c else b\n",
       "  | a > c = c\n",
       "  | otherwise = a"
      ]
     },
     "metadata": {},
     "output_type": "display_data"
    }
   ],
   "source": [
    "min3Int :: (Int, Int, Int) -> Int\n",
    "min3Int (a, b, c) = \n",
    "    if a > b\n",
    "    then \n",
    "        if b > c\n",
    "        then c\n",
    "        else b\n",
    "    else \n",
    "        if a > c\n",
    "        then c\n",
    "        else a"
   ]
  },
  {
   "cell_type": "code",
   "execution_count": 14,
   "id": "a78d3ca2",
   "metadata": {},
   "outputs": [
    {
     "data": {
      "text/plain": [
       "1"
      ]
     },
     "metadata": {},
     "output_type": "display_data"
    },
    {
     "data": {
      "text/plain": [
       "0"
      ]
     },
     "metadata": {},
     "output_type": "display_data"
    },
    {
     "data": {
      "text/plain": [
       "-2"
      ]
     },
     "metadata": {},
     "output_type": "display_data"
    }
   ],
   "source": [
    "min3Int (3,1,2)\n",
    "min3Int (3,1,0)\n",
    "min3Int (-2,1,2)"
   ]
  },
  {
   "cell_type": "markdown",
   "id": "ff9665ca",
   "metadata": {},
   "source": [
    "**2.4 Zdefiniować funkcję min3Int używając min2Int**"
   ]
  },
  {
   "cell_type": "code",
   "execution_count": 15,
   "id": "362948da",
   "metadata": {},
   "outputs": [
    {
     "data": {
      "text/html": [
       "<style>/* Styles used for the Hoogle display in the pager */\n",
       ".hoogle-doc {\n",
       "display: block;\n",
       "padding-bottom: 1.3em;\n",
       "padding-left: 0.4em;\n",
       "}\n",
       ".hoogle-code {\n",
       "display: block;\n",
       "font-family: monospace;\n",
       "white-space: pre;\n",
       "}\n",
       ".hoogle-text {\n",
       "display: block;\n",
       "}\n",
       ".hoogle-name {\n",
       "color: green;\n",
       "font-weight: bold;\n",
       "}\n",
       ".hoogle-head {\n",
       "font-weight: bold;\n",
       "}\n",
       ".hoogle-sub {\n",
       "display: block;\n",
       "margin-left: 0.4em;\n",
       "}\n",
       ".hoogle-package {\n",
       "font-weight: bold;\n",
       "font-style: italic;\n",
       "}\n",
       ".hoogle-module {\n",
       "font-weight: bold;\n",
       "}\n",
       ".hoogle-class {\n",
       "font-weight: bold;\n",
       "}\n",
       ".get-type {\n",
       "color: green;\n",
       "font-weight: bold;\n",
       "font-family: monospace;\n",
       "display: block;\n",
       "white-space: pre-wrap;\n",
       "}\n",
       ".show-type {\n",
       "color: green;\n",
       "font-weight: bold;\n",
       "font-family: monospace;\n",
       "margin-left: 1em;\n",
       "}\n",
       ".mono {\n",
       "font-family: monospace;\n",
       "display: block;\n",
       "}\n",
       ".err-msg {\n",
       "color: red;\n",
       "font-style: italic;\n",
       "font-family: monospace;\n",
       "white-space: pre;\n",
       "display: block;\n",
       "}\n",
       "#unshowable {\n",
       "color: red;\n",
       "font-weight: bold;\n",
       "}\n",
       ".err-msg.in.collapse {\n",
       "padding-top: 0.7em;\n",
       "}\n",
       ".highlight-code {\n",
       "white-space: pre;\n",
       "font-family: monospace;\n",
       "}\n",
       ".suggestion-warning { \n",
       "font-weight: bold;\n",
       "color: rgb(200, 130, 0);\n",
       "}\n",
       ".suggestion-error { \n",
       "font-weight: bold;\n",
       "color: red;\n",
       "}\n",
       ".suggestion-name {\n",
       "font-weight: bold;\n",
       "}\n",
       "</style><div class=\"suggestion-name\" style=\"clear:both;\">Use guards</div><div class=\"suggestion-row\" style=\"float: left;\"><div class=\"suggestion-warning\">Found:</div><div class=\"highlight-code\" id=\"haskell\">min3Int (a, b, c)\n",
       "  = if min2Int (a, b) == b then\n",
       "        if min2Int (b, c) == c then c else b\n",
       "    else\n",
       "        if min2Int (a, c) == c then c else a</div></div><div class=\"suggestion-row\" style=\"float: left;\"><div class=\"suggestion-warning\">Why Not:</div><div class=\"highlight-code\" id=\"haskell\">min3Int (a, b, c)\n",
       "  | min2Int (a, b) == b = if min2Int (b, c) == c then c else b\n",
       "  | min2Int (a, c) == c = c\n",
       "  | otherwise = a</div></div>"
      ],
      "text/plain": [
       "Line 1: Use guards\n",
       "Found:\n",
       "min3Int (a, b, c)\n",
       "  = if min2Int (a, b) == b then\n",
       "        if min2Int (b, c) == c then c else b\n",
       "    else\n",
       "        if min2Int (a, c) == c then c else a\n",
       "Why not:\n",
       "min3Int (a, b, c)\n",
       "  | min2Int (a, b) == b = if min2Int (b, c) == c then c else b\n",
       "  | min2Int (a, c) == c = c\n",
       "  | otherwise = a"
      ]
     },
     "metadata": {},
     "output_type": "display_data"
    }
   ],
   "source": [
    "min3Int (a, b, c) = \n",
    "    if min2Int (a, b) == b\n",
    "    then\n",
    "        if min2Int (b, c) == c\n",
    "        then c\n",
    "        else b\n",
    "    else\n",
    "        if min2Int (a, c) == c\n",
    "        then c\n",
    "        else a"
   ]
  },
  {
   "cell_type": "code",
   "execution_count": 16,
   "id": "b067c98c",
   "metadata": {},
   "outputs": [
    {
     "data": {
      "text/plain": [
       "1"
      ]
     },
     "metadata": {},
     "output_type": "display_data"
    },
    {
     "data": {
      "text/plain": [
       "0"
      ]
     },
     "metadata": {},
     "output_type": "display_data"
    },
    {
     "data": {
      "text/plain": [
       "-2"
      ]
     },
     "metadata": {},
     "output_type": "display_data"
    }
   ],
   "source": [
    "min3Int (3,1,2)\n",
    "min3Int (3,1,0)\n",
    "min3Int (-2,1,2)"
   ]
  },
  {
   "cell_type": "markdown",
   "id": "34305016",
   "metadata": {},
   "source": [
    "**2.5 Zdefiniować funkcje toUpper i toLower**"
   ]
  },
  {
   "cell_type": "code",
   "execution_count": 17,
   "id": "14b1ebe1",
   "metadata": {},
   "outputs": [],
   "source": [
    "toUpper :: Char -> Char\n",
    "toUpper a = \n",
    "    if fromEnum a  > 96 && fromEnum a < 123\n",
    "    then toEnum (fromEnum a - 32)\n",
    "    else a\n",
    "\n",
    "toLower :: Char -> Char\n",
    "toLower a = \n",
    "    if fromEnum a  > 64 && fromEnum a < 91\n",
    "    then toEnum (fromEnum a + 32)\n",
    "    else a"
   ]
  },
  {
   "cell_type": "code",
   "execution_count": 18,
   "id": "50a11b23",
   "metadata": {},
   "outputs": [
    {
     "data": {
      "text/plain": [
       "'X'"
      ]
     },
     "metadata": {},
     "output_type": "display_data"
    },
    {
     "data": {
      "text/plain": [
       "'z'"
      ]
     },
     "metadata": {},
     "output_type": "display_data"
    }
   ],
   "source": [
    "toUpper 'x'\n",
    "toLower 'Z'"
   ]
  },
  {
   "cell_type": "markdown",
   "id": "82c843fa",
   "metadata": {},
   "source": [
    "**2.6 Zdefiniować funkcje isDigit i charToNum**"
   ]
  },
  {
   "cell_type": "code",
   "execution_count": 19,
   "id": "5c81d4f1",
   "metadata": {},
   "outputs": [],
   "source": [
    "isDigit :: Char -> Bool\n",
    "isDigit a = fromEnum a >= 48 && fromEnum a <= 57\n",
    "\n",
    "charToNum :: Char -> Int\n",
    "charToNum a = \n",
    "    if isDigit a\n",
    "    then fromEnum a - 48\n",
    "    else 404"
   ]
  },
  {
   "cell_type": "code",
   "execution_count": 20,
   "id": "01b9d23b",
   "metadata": {},
   "outputs": [
    {
     "data": {
      "text/plain": [
       "True"
      ]
     },
     "metadata": {},
     "output_type": "display_data"
    },
    {
     "data": {
      "text/plain": [
       "False"
      ]
     },
     "metadata": {},
     "output_type": "display_data"
    }
   ],
   "source": [
    "isDigit '0'\n",
    "isDigit 'a'"
   ]
  },
  {
   "cell_type": "code",
   "execution_count": 21,
   "id": "5c3c8d76",
   "metadata": {
    "scrolled": true
   },
   "outputs": [
    {
     "data": {
      "text/plain": [
       "3"
      ]
     },
     "metadata": {},
     "output_type": "display_data"
    }
   ],
   "source": [
    "charToNum '3'"
   ]
  },
  {
   "cell_type": "markdown",
   "id": "bb2bc765",
   "metadata": {},
   "source": [
    "**2.7 Zdefiniować funkcje romanDigit (tylko dla zakresu 1..9 )**"
   ]
  },
  {
   "cell_type": "code",
   "execution_count": 22,
   "id": "1f7036a1",
   "metadata": {},
   "outputs": [],
   "source": [
    "--ifology"
   ]
  },
  {
   "cell_type": "markdown",
   "id": "b0237cec",
   "metadata": {},
   "source": [
    "## Zadania #3\n",
    "**3.1 Używając \"guards\" zdefiniować funkcje sgn i min3Int**"
   ]
  },
  {
   "cell_type": "code",
   "execution_count": 23,
   "id": "c58a7d70",
   "metadata": {},
   "outputs": [],
   "source": [
    "sgn :: Int -> Int\n",
    "sgn n\n",
    "    | n < 0  = -1\n",
    "    | n == 0 = 0\n",
    "    | n > 0  = 1\n",
    "    \n",
    "min3Int :: (Int, Int, Int) -> Int\n",
    "min3Int (a, b, c)\n",
    "    | a < b && a < c = a\n",
    "    | b < a && b < c = b\n",
    "    | c < a && c < b = c"
   ]
  },
  {
   "cell_type": "code",
   "execution_count": 24,
   "id": "d10932ed",
   "metadata": {},
   "outputs": [
    {
     "data": {
      "text/plain": [
       "-1"
      ]
     },
     "metadata": {},
     "output_type": "display_data"
    },
    {
     "data": {
      "text/plain": [
       "1"
      ]
     },
     "metadata": {},
     "output_type": "display_data"
    }
   ],
   "source": [
    "sgn (-3)\n",
    "min3Int (3,1,2)"
   ]
  },
  {
   "cell_type": "markdown",
   "id": "80d7511a",
   "metadata": {},
   "source": [
    "**3.2 Wykorzystując \"guards\" przepisać poprzednio zdefiniowane funkcje: toUpper, toLower, isDigit, charToNum, romanDigit**"
   ]
  },
  {
   "cell_type": "code",
   "execution_count": 25,
   "id": "8d992ab8",
   "metadata": {},
   "outputs": [],
   "source": [
    "romanDigit :: Char -> String\n",
    "romanDigit n\n",
    "    |n == '1' = \"I\"\n",
    "    |n == '2' = \"II\"    \n",
    "    |n == '3' = \"III\"    \n",
    "    |n == '4' = \"IV\"    \n",
    "    |n == '5' = \"V\"    \n",
    "    |n == '6' = \"VI\"    \n",
    "    |n == '7' = \"VII\"    \n",
    "    |n == '8' = \"VIII\"    \n",
    "    |n == '9' = \"IX\"\n",
    "    |otherwise = \"n\""
   ]
  },
  {
   "cell_type": "code",
   "execution_count": 26,
   "id": "ab3c3596",
   "metadata": {
    "scrolled": true
   },
   "outputs": [
    {
     "data": {
      "text/plain": [
       "\"III\""
      ]
     },
     "metadata": {},
     "output_type": "display_data"
    }
   ],
   "source": [
    "romanDigit '3'"
   ]
  },
  {
   "cell_type": "markdown",
   "id": "bd59f85d",
   "metadata": {},
   "source": [
    "## Zadania #4\n",
    "**4.1 Wykorzystując dopasowanie wzorców napisać definicje następujących funkcji logicznych**"
   ]
  },
  {
   "cell_type": "code",
   "execution_count": 27,
   "id": "a3bd332f",
   "metadata": {},
   "outputs": [],
   "source": [
    "or' :: (Bool, Bool) -> Bool\n",
    "or' (True, True) = True\n",
    "or' (True, False) = True\n",
    "or' (False, True) = True\n",
    "or' (False, False) = False\n",
    "-- itd."
   ]
  },
  {
   "cell_type": "code",
   "execution_count": 28,
   "id": "e3d3ad90",
   "metadata": {
    "scrolled": true
   },
   "outputs": [
    {
     "data": {
      "text/plain": [
       "True"
      ]
     },
     "metadata": {},
     "output_type": "display_data"
    }
   ],
   "source": [
    "or' (True, False)"
   ]
  },
  {
   "cell_type": "markdown",
   "id": "3576e56c",
   "metadata": {},
   "source": [
    "**4.2 Każdą z powyższych funkcji można zaimplementować w różny sposób. Czy istnieją ich optymalne implementacje (w sensie wydajności)?**"
   ]
  },
  {
   "cell_type": "code",
   "execution_count": 29,
   "id": "1c72b619",
   "metadata": {},
   "outputs": [],
   "source": [
    "or' :: (Bool, Bool) -> Bool\n",
    "or' (False, False) = False\n",
    "or' (_, _)  = True"
   ]
  },
  {
   "cell_type": "code",
   "execution_count": 30,
   "id": "2acf5062",
   "metadata": {},
   "outputs": [],
   "source": [
    "and' :: (Bool, Bool) -> Bool\n",
    "and' (True, True) = True\n",
    "and' (_, _) = False"
   ]
  },
  {
   "cell_type": "code",
   "execution_count": 31,
   "id": "947cc7ca",
   "metadata": {},
   "outputs": [],
   "source": [
    "nand' :: (Bool, Bool) -> Bool\n",
    "nand' (False, False) = True\n",
    "nand' (_, _) = False"
   ]
  },
  {
   "cell_type": "code",
   "execution_count": 32,
   "id": "90d0f422",
   "metadata": {},
   "outputs": [],
   "source": [
    "xor' :: (Bool, Bool) -> Bool\n",
    "xor' (True, a) = not a\n",
    "xor' (False, a) = a"
   ]
  },
  {
   "cell_type": "markdown",
   "id": "8d9c92b4",
   "metadata": {},
   "source": [
    "## Zadania #5\n",
    "**5.1 Wykorzystując case...of napisać definicje funkcji z poprzednich zadań**"
   ]
  },
  {
   "cell_type": "code",
   "execution_count": 33,
   "id": "8e5cbdc1",
   "metadata": {},
   "outputs": [],
   "source": [
    "isItTheAnswer :: String -> Bool\n",
    "isItTheAnswer n =\n",
    "    case n of\n",
    "    \"Love\" -> True\n",
    "    _ -> False"
   ]
  },
  {
   "cell_type": "code",
   "execution_count": 34,
   "id": "d273498d",
   "metadata": {},
   "outputs": [
    {
     "data": {
      "text/html": [
       "<style>/* Styles used for the Hoogle display in the pager */\n",
       ".hoogle-doc {\n",
       "display: block;\n",
       "padding-bottom: 1.3em;\n",
       "padding-left: 0.4em;\n",
       "}\n",
       ".hoogle-code {\n",
       "display: block;\n",
       "font-family: monospace;\n",
       "white-space: pre;\n",
       "}\n",
       ".hoogle-text {\n",
       "display: block;\n",
       "}\n",
       ".hoogle-name {\n",
       "color: green;\n",
       "font-weight: bold;\n",
       "}\n",
       ".hoogle-head {\n",
       "font-weight: bold;\n",
       "}\n",
       ".hoogle-sub {\n",
       "display: block;\n",
       "margin-left: 0.4em;\n",
       "}\n",
       ".hoogle-package {\n",
       "font-weight: bold;\n",
       "font-style: italic;\n",
       "}\n",
       ".hoogle-module {\n",
       "font-weight: bold;\n",
       "}\n",
       ".hoogle-class {\n",
       "font-weight: bold;\n",
       "}\n",
       ".get-type {\n",
       "color: green;\n",
       "font-weight: bold;\n",
       "font-family: monospace;\n",
       "display: block;\n",
       "white-space: pre-wrap;\n",
       "}\n",
       ".show-type {\n",
       "color: green;\n",
       "font-weight: bold;\n",
       "font-family: monospace;\n",
       "margin-left: 1em;\n",
       "}\n",
       ".mono {\n",
       "font-family: monospace;\n",
       "display: block;\n",
       "}\n",
       ".err-msg {\n",
       "color: red;\n",
       "font-style: italic;\n",
       "font-family: monospace;\n",
       "white-space: pre;\n",
       "display: block;\n",
       "}\n",
       "#unshowable {\n",
       "color: red;\n",
       "font-weight: bold;\n",
       "}\n",
       ".err-msg.in.collapse {\n",
       "padding-top: 0.7em;\n",
       "}\n",
       ".highlight-code {\n",
       "white-space: pre;\n",
       "font-family: monospace;\n",
       "}\n",
       ".suggestion-warning { \n",
       "font-weight: bold;\n",
       "color: rgb(200, 130, 0);\n",
       "}\n",
       ".suggestion-error { \n",
       "font-weight: bold;\n",
       "color: red;\n",
       "}\n",
       ".suggestion-name {\n",
       "font-weight: bold;\n",
       "}\n",
       "</style><div class=\"suggestion-name\" style=\"clear:both;\">Use if</div><div class=\"suggestion-row\" style=\"float: left;\"><div class=\"suggestion-warning\">Found:</div><div class=\"highlight-code\" id=\"haskell\">case n of\n",
       "  True -> False\n",
       "  _ -> True</div></div><div class=\"suggestion-row\" style=\"float: left;\"><div class=\"suggestion-warning\">Why Not:</div><div class=\"highlight-code\" id=\"haskell\">if n then False else True</div></div>"
      ],
      "text/plain": [
       "Line 3: Use if\n",
       "Found:\n",
       "case n of\n",
       "  True -> False\n",
       "  _ -> True\n",
       "Why not:\n",
       "if n then False else True"
      ]
     },
     "metadata": {},
     "output_type": "display_data"
    }
   ],
   "source": [
    "not' :: Bool -> Bool\n",
    "not' n =\n",
    "    case n of\n",
    "    True -> False\n",
    "    _ -> True"
   ]
  },
  {
   "cell_type": "code",
   "execution_count": 35,
   "id": "76a296b5",
   "metadata": {},
   "outputs": [],
   "source": [
    "or' :: (Bool, Bool) -> Bool\n",
    "or' (a, b) =\n",
    "    case (a, b) of\n",
    "    (False, False) -> False\n",
    "    (_, _) -> True"
   ]
  },
  {
   "cell_type": "code",
   "execution_count": 36,
   "id": "1e4686ac",
   "metadata": {},
   "outputs": [],
   "source": [
    "and' :: (Bool, Bool) -> Bool\n",
    "and' (a, b) =\n",
    "    case (a, b) of\n",
    "    (True, True) -> True\n",
    "    (_, _) -> False"
   ]
  },
  {
   "cell_type": "markdown",
   "id": "0a9eb300",
   "metadata": {},
   "source": [
    "## Zadania #6\n",
    "**6.1 Wykorzystując klauzulę where napisać definicję funkcji unitVec2D obliczającą wersor (wektor jednostkowy) podanego jako argument wektora 2D**"
   ]
  },
  {
   "cell_type": "code",
   "execution_count": 37,
   "id": "08894f86",
   "metadata": {},
   "outputs": [],
   "source": [
    "unitVec2D :: (Double, Double) -> (Double, Double)\n",
    "unitVec2D (x, y) = (x/vec_len, y/vec_len)\n",
    "    where vec_len = sqrt (x^2 + y^2)"
   ]
  },
  {
   "cell_type": "code",
   "execution_count": 38,
   "id": "9514c57b",
   "metadata": {},
   "outputs": [
    {
     "data": {
      "text/plain": [
       "(0.4472135954999579,0.8944271909999159)"
      ]
     },
     "metadata": {},
     "output_type": "display_data"
    }
   ],
   "source": [
    "unitVec2D (1, 2)"
   ]
  },
  {
   "cell_type": "markdown",
   "id": "52fa4211",
   "metadata": {},
   "source": [
    "**6.2 Napisać definicję funkcji unitVec3D**"
   ]
  },
  {
   "cell_type": "code",
   "execution_count": 39,
   "id": "b1e6b3be",
   "metadata": {},
   "outputs": [],
   "source": [
    "unitVec3D :: (Double, Double, Double) -> (Double, Double, Double)\n",
    "unitVec3D (x, y, z) = (x/vec_len, y/vec_len, z/vec_len)\n",
    "    where vec_len = sqrt (x^2 + y^2 + z^2)"
   ]
  },
  {
   "cell_type": "code",
   "execution_count": 40,
   "id": "323fdc18",
   "metadata": {},
   "outputs": [
    {
     "data": {
      "text/plain": [
       "(0.2672612419124244,0.5345224838248488,0.8017837257372732)"
      ]
     },
     "metadata": {},
     "output_type": "display_data"
    }
   ],
   "source": [
    "unitVec3D (1, 2, 3)"
   ]
  },
  {
   "cell_type": "markdown",
   "id": "19896e11",
   "metadata": {},
   "source": [
    "**6.3 Przepisać funkcję obliczającą pole trójkąta na podstawie wzoru Herona; wykorzystać where do definicji zmiennej lokalnej p (połowa obwodu trójkąta)**"
   ]
  },
  {
   "cell_type": "code",
   "execution_count": 41,
   "id": "5cb257bc",
   "metadata": {},
   "outputs": [],
   "source": [
    "triangleHeron :: (Double, Double, Double) -> Double\n",
    "triangleHeron (a, b, c) = sqrt (p * (p-a) * (p-b) * (p-c))\n",
    "    where p = (a + b + c)/2"
   ]
  },
  {
   "cell_type": "code",
   "execution_count": 42,
   "id": "8b7c32e4",
   "metadata": {},
   "outputs": [
    {
     "data": {
      "text/plain": [
       "10.825317547305483"
      ]
     },
     "metadata": {},
     "output_type": "display_data"
    }
   ],
   "source": [
    "triangleHeron (5, 5, 5)"
   ]
  },
  {
   "cell_type": "markdown",
   "id": "cfcfb7ce",
   "metadata": {},
   "source": [
    "## Zadania #7\n",
    "**7.1 Przepisać rozwiązania zadań z poprzedniego punktu zamieniając where na let...in**"
   ]
  },
  {
   "cell_type": "code",
   "execution_count": 43,
   "id": "dc12725c",
   "metadata": {},
   "outputs": [],
   "source": [
    "unitVec3D :: (Double, Double, Double) -> (Double, Double, Double)\n",
    "unitVec3D (x, y, z) = \n",
    "    let vec_len = sqrt (x^2 + y^2 + z^2)\n",
    "    in (x/vec_len, y/vec_len, z/vec_len)"
   ]
  },
  {
   "cell_type": "code",
   "execution_count": 44,
   "id": "9f0f1801",
   "metadata": {},
   "outputs": [
    {
     "data": {
      "text/plain": [
       "(0.2672612419124244,0.5345224838248488,0.8017837257372732)"
      ]
     },
     "metadata": {},
     "output_type": "display_data"
    }
   ],
   "source": [
    "unitVec3D (1, 2, 3)"
   ]
  },
  {
   "cell_type": "code",
   "execution_count": 45,
   "id": "1c599b15",
   "metadata": {},
   "outputs": [],
   "source": [
    "triangleHeron :: (Double, Double, Double) -> Double\n",
    "triangleHeron (a, b, c) =\n",
    "    let p = (a + b + c)/2\n",
    "    in sqrt (p * (p-a) * (p-b) * (p-c))"
   ]
  },
  {
   "cell_type": "code",
   "execution_count": 46,
   "id": "1b3349fc",
   "metadata": {},
   "outputs": [
    {
     "data": {
      "text/plain": [
       "10.825317547305483"
      ]
     },
     "metadata": {},
     "output_type": "display_data"
    }
   ],
   "source": [
    "triangleHeron (5, 5, 5)"
   ]
  },
  {
   "cell_type": "markdown",
   "id": "11dfb787",
   "metadata": {},
   "source": [
    "## Zadania #8\n",
    "**8.1 Zmodyfikować klauzulę where w funkcji roots używając nawiasów {} do definicji granic bloku**"
   ]
  },
  {
   "cell_type": "code",
   "execution_count": 47,
   "id": "6322e731",
   "metadata": {},
   "outputs": [],
   "source": [
    "roots :: (Double, Double, Double) -> (Double, Double)\n",
    "roots (a, b, c) = ((-b - d) / e, (-b + d) / e)\n",
    "    where {d = sqrt (b * b - 4 * a * c); e = 2 * a}"
   ]
  },
  {
   "cell_type": "code",
   "execution_count": 48,
   "id": "7d7a94fb",
   "metadata": {},
   "outputs": [
    {
     "data": {
      "text/plain": [
       "(-4.561552812808831,-0.4384471871911697)"
      ]
     },
     "metadata": {},
     "output_type": "display_data"
    }
   ],
   "source": [
    "roots (1,5,2)"
   ]
  },
  {
   "cell_type": "markdown",
   "id": "93c75515",
   "metadata": {},
   "source": [
    "**8.2 Dodać w wybranych (poprzednio utworzonych) plikach komentarze (jedno i wieloliniowe)**"
   ]
  },
  {
   "cell_type": "code",
   "execution_count": 49,
   "id": "55f9e194",
   "metadata": {},
   "outputs": [],
   "source": [
    "-- komentarz jednoliniowy\n",
    "{-\n",
    "komentarz\n",
    "wieloliniowy\n",
    "-}"
   ]
  },
  {
   "cell_type": "markdown",
   "id": "fee4f947",
   "metadata": {},
   "source": [
    "**8.3 Powtórzyć zmianę (dodanie {}) dla implementacji roots wykorzystującej let...in**"
   ]
  },
  {
   "cell_type": "code",
   "execution_count": 50,
   "id": "19b6b68d",
   "metadata": {},
   "outputs": [],
   "source": [
    "roots :: (Double, Double, Double) -> (Double, Double)\n",
    "roots (a, b, c) = \n",
    "    let {d = sqrt (b * b - 4 * a * c); e = 2 * a}\n",
    "    in ( (-b - d) / e, (-b + d) / e )"
   ]
  },
  {
   "cell_type": "markdown",
   "id": "557c7b99",
   "metadata": {},
   "source": [
    "## Zadania #9\n",
    "**9.1 Napisać kilka (-naście?) definicji funkcji (bez jawnego podawania typu, jak powyżej) za każdym razem zgadując wynik wnioskowania typów**"
   ]
  },
  {
   "cell_type": "code",
   "execution_count": 51,
   "id": "a31dda5c",
   "metadata": {},
   "outputs": [
    {
     "data": {
      "text/html": [
       "<style>/* Styles used for the Hoogle display in the pager */\n",
       ".hoogle-doc {\n",
       "display: block;\n",
       "padding-bottom: 1.3em;\n",
       "padding-left: 0.4em;\n",
       "}\n",
       ".hoogle-code {\n",
       "display: block;\n",
       "font-family: monospace;\n",
       "white-space: pre;\n",
       "}\n",
       ".hoogle-text {\n",
       "display: block;\n",
       "}\n",
       ".hoogle-name {\n",
       "color: green;\n",
       "font-weight: bold;\n",
       "}\n",
       ".hoogle-head {\n",
       "font-weight: bold;\n",
       "}\n",
       ".hoogle-sub {\n",
       "display: block;\n",
       "margin-left: 0.4em;\n",
       "}\n",
       ".hoogle-package {\n",
       "font-weight: bold;\n",
       "font-style: italic;\n",
       "}\n",
       ".hoogle-module {\n",
       "font-weight: bold;\n",
       "}\n",
       ".hoogle-class {\n",
       "font-weight: bold;\n",
       "}\n",
       ".get-type {\n",
       "color: green;\n",
       "font-weight: bold;\n",
       "font-family: monospace;\n",
       "display: block;\n",
       "white-space: pre-wrap;\n",
       "}\n",
       ".show-type {\n",
       "color: green;\n",
       "font-weight: bold;\n",
       "font-family: monospace;\n",
       "margin-left: 1em;\n",
       "}\n",
       ".mono {\n",
       "font-family: monospace;\n",
       "display: block;\n",
       "}\n",
       ".err-msg {\n",
       "color: red;\n",
       "font-style: italic;\n",
       "font-family: monospace;\n",
       "white-space: pre;\n",
       "display: block;\n",
       "}\n",
       "#unshowable {\n",
       "color: red;\n",
       "font-weight: bold;\n",
       "}\n",
       ".err-msg.in.collapse {\n",
       "padding-top: 0.7em;\n",
       "}\n",
       ".highlight-code {\n",
       "white-space: pre;\n",
       "font-family: monospace;\n",
       "}\n",
       ".suggestion-warning { \n",
       "font-weight: bold;\n",
       "color: rgb(200, 130, 0);\n",
       "}\n",
       ".suggestion-error { \n",
       "font-weight: bold;\n",
       "color: red;\n",
       "}\n",
       ".suggestion-name {\n",
       "font-weight: bold;\n",
       "}\n",
       "</style><span class='get-type'>f1 :: forall p. p -> p</span>"
      ],
      "text/plain": [
       "f1 :: forall p. p -> p"
      ]
     },
     "metadata": {},
     "output_type": "display_data"
    }
   ],
   "source": [
    "f1 x = x\n",
    ":t f1"
   ]
  },
  {
   "cell_type": "code",
   "execution_count": 52,
   "id": "b0ac61be",
   "metadata": {},
   "outputs": [
    {
     "data": {
      "text/html": [
       "<style>/* Styles used for the Hoogle display in the pager */\n",
       ".hoogle-doc {\n",
       "display: block;\n",
       "padding-bottom: 1.3em;\n",
       "padding-left: 0.4em;\n",
       "}\n",
       ".hoogle-code {\n",
       "display: block;\n",
       "font-family: monospace;\n",
       "white-space: pre;\n",
       "}\n",
       ".hoogle-text {\n",
       "display: block;\n",
       "}\n",
       ".hoogle-name {\n",
       "color: green;\n",
       "font-weight: bold;\n",
       "}\n",
       ".hoogle-head {\n",
       "font-weight: bold;\n",
       "}\n",
       ".hoogle-sub {\n",
       "display: block;\n",
       "margin-left: 0.4em;\n",
       "}\n",
       ".hoogle-package {\n",
       "font-weight: bold;\n",
       "font-style: italic;\n",
       "}\n",
       ".hoogle-module {\n",
       "font-weight: bold;\n",
       "}\n",
       ".hoogle-class {\n",
       "font-weight: bold;\n",
       "}\n",
       ".get-type {\n",
       "color: green;\n",
       "font-weight: bold;\n",
       "font-family: monospace;\n",
       "display: block;\n",
       "white-space: pre-wrap;\n",
       "}\n",
       ".show-type {\n",
       "color: green;\n",
       "font-weight: bold;\n",
       "font-family: monospace;\n",
       "margin-left: 1em;\n",
       "}\n",
       ".mono {\n",
       "font-family: monospace;\n",
       "display: block;\n",
       "}\n",
       ".err-msg {\n",
       "color: red;\n",
       "font-style: italic;\n",
       "font-family: monospace;\n",
       "white-space: pre;\n",
       "display: block;\n",
       "}\n",
       "#unshowable {\n",
       "color: red;\n",
       "font-weight: bold;\n",
       "}\n",
       ".err-msg.in.collapse {\n",
       "padding-top: 0.7em;\n",
       "}\n",
       ".highlight-code {\n",
       "white-space: pre;\n",
       "font-family: monospace;\n",
       "}\n",
       ".suggestion-warning { \n",
       "font-weight: bold;\n",
       "color: rgb(200, 130, 0);\n",
       "}\n",
       ".suggestion-error { \n",
       "font-weight: bold;\n",
       "color: red;\n",
       "}\n",
       ".suggestion-name {\n",
       "font-weight: bold;\n",
       "}\n",
       "</style><span class='get-type'>f2 :: forall a. Eq a => (a, a) -> Bool</span>"
      ],
      "text/plain": [
       "f2 :: forall a. Eq a => (a, a) -> Bool"
      ]
     },
     "metadata": {},
     "output_type": "display_data"
    }
   ],
   "source": [
    "f2 (x, y) = x == y\n",
    ":t f2"
   ]
  },
  {
   "cell_type": "code",
   "execution_count": 53,
   "id": "1eda6b6f",
   "metadata": {},
   "outputs": [
    {
     "data": {
      "text/html": [
       "<style>/* Styles used for the Hoogle display in the pager */\n",
       ".hoogle-doc {\n",
       "display: block;\n",
       "padding-bottom: 1.3em;\n",
       "padding-left: 0.4em;\n",
       "}\n",
       ".hoogle-code {\n",
       "display: block;\n",
       "font-family: monospace;\n",
       "white-space: pre;\n",
       "}\n",
       ".hoogle-text {\n",
       "display: block;\n",
       "}\n",
       ".hoogle-name {\n",
       "color: green;\n",
       "font-weight: bold;\n",
       "}\n",
       ".hoogle-head {\n",
       "font-weight: bold;\n",
       "}\n",
       ".hoogle-sub {\n",
       "display: block;\n",
       "margin-left: 0.4em;\n",
       "}\n",
       ".hoogle-package {\n",
       "font-weight: bold;\n",
       "font-style: italic;\n",
       "}\n",
       ".hoogle-module {\n",
       "font-weight: bold;\n",
       "}\n",
       ".hoogle-class {\n",
       "font-weight: bold;\n",
       "}\n",
       ".get-type {\n",
       "color: green;\n",
       "font-weight: bold;\n",
       "font-family: monospace;\n",
       "display: block;\n",
       "white-space: pre-wrap;\n",
       "}\n",
       ".show-type {\n",
       "color: green;\n",
       "font-weight: bold;\n",
       "font-family: monospace;\n",
       "margin-left: 1em;\n",
       "}\n",
       ".mono {\n",
       "font-family: monospace;\n",
       "display: block;\n",
       "}\n",
       ".err-msg {\n",
       "color: red;\n",
       "font-style: italic;\n",
       "font-family: monospace;\n",
       "white-space: pre;\n",
       "display: block;\n",
       "}\n",
       "#unshowable {\n",
       "color: red;\n",
       "font-weight: bold;\n",
       "}\n",
       ".err-msg.in.collapse {\n",
       "padding-top: 0.7em;\n",
       "}\n",
       ".highlight-code {\n",
       "white-space: pre;\n",
       "font-family: monospace;\n",
       "}\n",
       ".suggestion-warning { \n",
       "font-weight: bold;\n",
       "color: rgb(200, 130, 0);\n",
       "}\n",
       ".suggestion-error { \n",
       "font-weight: bold;\n",
       "color: red;\n",
       "}\n",
       ".suggestion-name {\n",
       "font-weight: bold;\n",
       "}\n",
       "</style><span class='get-type'>f3 :: forall a. Ord a => (a, a) -> Bool</span>"
      ],
      "text/plain": [
       "f3 :: forall a. Ord a => (a, a) -> Bool"
      ]
     },
     "metadata": {},
     "output_type": "display_data"
    }
   ],
   "source": [
    "f3 (x, y) = x > y\n",
    ":t f3"
   ]
  },
  {
   "cell_type": "code",
   "execution_count": 54,
   "id": "d169efe5",
   "metadata": {},
   "outputs": [
    {
     "data": {
      "text/html": [
       "<style>/* Styles used for the Hoogle display in the pager */\n",
       ".hoogle-doc {\n",
       "display: block;\n",
       "padding-bottom: 1.3em;\n",
       "padding-left: 0.4em;\n",
       "}\n",
       ".hoogle-code {\n",
       "display: block;\n",
       "font-family: monospace;\n",
       "white-space: pre;\n",
       "}\n",
       ".hoogle-text {\n",
       "display: block;\n",
       "}\n",
       ".hoogle-name {\n",
       "color: green;\n",
       "font-weight: bold;\n",
       "}\n",
       ".hoogle-head {\n",
       "font-weight: bold;\n",
       "}\n",
       ".hoogle-sub {\n",
       "display: block;\n",
       "margin-left: 0.4em;\n",
       "}\n",
       ".hoogle-package {\n",
       "font-weight: bold;\n",
       "font-style: italic;\n",
       "}\n",
       ".hoogle-module {\n",
       "font-weight: bold;\n",
       "}\n",
       ".hoogle-class {\n",
       "font-weight: bold;\n",
       "}\n",
       ".get-type {\n",
       "color: green;\n",
       "font-weight: bold;\n",
       "font-family: monospace;\n",
       "display: block;\n",
       "white-space: pre-wrap;\n",
       "}\n",
       ".show-type {\n",
       "color: green;\n",
       "font-weight: bold;\n",
       "font-family: monospace;\n",
       "margin-left: 1em;\n",
       "}\n",
       ".mono {\n",
       "font-family: monospace;\n",
       "display: block;\n",
       "}\n",
       ".err-msg {\n",
       "color: red;\n",
       "font-style: italic;\n",
       "font-family: monospace;\n",
       "white-space: pre;\n",
       "display: block;\n",
       "}\n",
       "#unshowable {\n",
       "color: red;\n",
       "font-weight: bold;\n",
       "}\n",
       ".err-msg.in.collapse {\n",
       "padding-top: 0.7em;\n",
       "}\n",
       ".highlight-code {\n",
       "white-space: pre;\n",
       "font-family: monospace;\n",
       "}\n",
       ".suggestion-warning { \n",
       "font-weight: bold;\n",
       "color: rgb(200, 130, 0);\n",
       "}\n",
       ".suggestion-error { \n",
       "font-weight: bold;\n",
       "color: red;\n",
       "}\n",
       ".suggestion-name {\n",
       "font-weight: bold;\n",
       "}\n",
       "</style><span class='get-type'>f4 :: forall a. Num a => (a, a) -> a</span>"
      ],
      "text/plain": [
       "f4 :: forall a. Num a => (a, a) -> a"
      ]
     },
     "metadata": {},
     "output_type": "display_data"
    }
   ],
   "source": [
    "f4 (x, y) = x + y\n",
    ":t f4"
   ]
  },
  {
   "cell_type": "code",
   "execution_count": 55,
   "id": "14cd6033",
   "metadata": {},
   "outputs": [
    {
     "data": {
      "text/html": [
       "<style>/* Styles used for the Hoogle display in the pager */\n",
       ".hoogle-doc {\n",
       "display: block;\n",
       "padding-bottom: 1.3em;\n",
       "padding-left: 0.4em;\n",
       "}\n",
       ".hoogle-code {\n",
       "display: block;\n",
       "font-family: monospace;\n",
       "white-space: pre;\n",
       "}\n",
       ".hoogle-text {\n",
       "display: block;\n",
       "}\n",
       ".hoogle-name {\n",
       "color: green;\n",
       "font-weight: bold;\n",
       "}\n",
       ".hoogle-head {\n",
       "font-weight: bold;\n",
       "}\n",
       ".hoogle-sub {\n",
       "display: block;\n",
       "margin-left: 0.4em;\n",
       "}\n",
       ".hoogle-package {\n",
       "font-weight: bold;\n",
       "font-style: italic;\n",
       "}\n",
       ".hoogle-module {\n",
       "font-weight: bold;\n",
       "}\n",
       ".hoogle-class {\n",
       "font-weight: bold;\n",
       "}\n",
       ".get-type {\n",
       "color: green;\n",
       "font-weight: bold;\n",
       "font-family: monospace;\n",
       "display: block;\n",
       "white-space: pre-wrap;\n",
       "}\n",
       ".show-type {\n",
       "color: green;\n",
       "font-weight: bold;\n",
       "font-family: monospace;\n",
       "margin-left: 1em;\n",
       "}\n",
       ".mono {\n",
       "font-family: monospace;\n",
       "display: block;\n",
       "}\n",
       ".err-msg {\n",
       "color: red;\n",
       "font-style: italic;\n",
       "font-family: monospace;\n",
       "white-space: pre;\n",
       "display: block;\n",
       "}\n",
       "#unshowable {\n",
       "color: red;\n",
       "font-weight: bold;\n",
       "}\n",
       ".err-msg.in.collapse {\n",
       "padding-top: 0.7em;\n",
       "}\n",
       ".highlight-code {\n",
       "white-space: pre;\n",
       "font-family: monospace;\n",
       "}\n",
       ".suggestion-warning { \n",
       "font-weight: bold;\n",
       "color: rgb(200, 130, 0);\n",
       "}\n",
       ".suggestion-error { \n",
       "font-weight: bold;\n",
       "color: red;\n",
       "}\n",
       ".suggestion-name {\n",
       "font-weight: bold;\n",
       "}\n",
       "</style><span class='get-type'>f5 :: forall a. Fractional a => (a, a) -> a</span>"
      ],
      "text/plain": [
       "f5 :: forall a. Fractional a => (a, a) -> a"
      ]
     },
     "metadata": {},
     "output_type": "display_data"
    }
   ],
   "source": [
    "f5 (x, y) = x/y\n",
    ":t f5"
   ]
  },
  {
   "cell_type": "code",
   "execution_count": 56,
   "id": "0bf1aae2",
   "metadata": {},
   "outputs": [
    {
     "data": {
      "text/html": [
       "<style>/* Styles used for the Hoogle display in the pager */\n",
       ".hoogle-doc {\n",
       "display: block;\n",
       "padding-bottom: 1.3em;\n",
       "padding-left: 0.4em;\n",
       "}\n",
       ".hoogle-code {\n",
       "display: block;\n",
       "font-family: monospace;\n",
       "white-space: pre;\n",
       "}\n",
       ".hoogle-text {\n",
       "display: block;\n",
       "}\n",
       ".hoogle-name {\n",
       "color: green;\n",
       "font-weight: bold;\n",
       "}\n",
       ".hoogle-head {\n",
       "font-weight: bold;\n",
       "}\n",
       ".hoogle-sub {\n",
       "display: block;\n",
       "margin-left: 0.4em;\n",
       "}\n",
       ".hoogle-package {\n",
       "font-weight: bold;\n",
       "font-style: italic;\n",
       "}\n",
       ".hoogle-module {\n",
       "font-weight: bold;\n",
       "}\n",
       ".hoogle-class {\n",
       "font-weight: bold;\n",
       "}\n",
       ".get-type {\n",
       "color: green;\n",
       "font-weight: bold;\n",
       "font-family: monospace;\n",
       "display: block;\n",
       "white-space: pre-wrap;\n",
       "}\n",
       ".show-type {\n",
       "color: green;\n",
       "font-weight: bold;\n",
       "font-family: monospace;\n",
       "margin-left: 1em;\n",
       "}\n",
       ".mono {\n",
       "font-family: monospace;\n",
       "display: block;\n",
       "}\n",
       ".err-msg {\n",
       "color: red;\n",
       "font-style: italic;\n",
       "font-family: monospace;\n",
       "white-space: pre;\n",
       "display: block;\n",
       "}\n",
       "#unshowable {\n",
       "color: red;\n",
       "font-weight: bold;\n",
       "}\n",
       ".err-msg.in.collapse {\n",
       "padding-top: 0.7em;\n",
       "}\n",
       ".highlight-code {\n",
       "white-space: pre;\n",
       "font-family: monospace;\n",
       "}\n",
       ".suggestion-warning { \n",
       "font-weight: bold;\n",
       "color: rgb(200, 130, 0);\n",
       "}\n",
       ".suggestion-error { \n",
       "font-weight: bold;\n",
       "color: red;\n",
       "}\n",
       ".suggestion-name {\n",
       "font-weight: bold;\n",
       "}\n",
       "</style><span class='get-type'>f6 :: forall p. (Eq p, Floating p) => (p, p) -> p</span>"
      ],
      "text/plain": [
       "f6 :: forall p. (Eq p, Floating p) => (p, p) -> p"
      ]
     },
     "metadata": {},
     "output_type": "display_data"
    }
   ],
   "source": [
    "f6 (x, y) = if x/3 == 1 then x**y else y\n",
    ":t f6"
   ]
  },
  {
   "cell_type": "code",
   "execution_count": 57,
   "id": "6bbac3d3",
   "metadata": {},
   "outputs": [
    {
     "data": {
      "text/html": [
       "<style>/* Styles used for the Hoogle display in the pager */\n",
       ".hoogle-doc {\n",
       "display: block;\n",
       "padding-bottom: 1.3em;\n",
       "padding-left: 0.4em;\n",
       "}\n",
       ".hoogle-code {\n",
       "display: block;\n",
       "font-family: monospace;\n",
       "white-space: pre;\n",
       "}\n",
       ".hoogle-text {\n",
       "display: block;\n",
       "}\n",
       ".hoogle-name {\n",
       "color: green;\n",
       "font-weight: bold;\n",
       "}\n",
       ".hoogle-head {\n",
       "font-weight: bold;\n",
       "}\n",
       ".hoogle-sub {\n",
       "display: block;\n",
       "margin-left: 0.4em;\n",
       "}\n",
       ".hoogle-package {\n",
       "font-weight: bold;\n",
       "font-style: italic;\n",
       "}\n",
       ".hoogle-module {\n",
       "font-weight: bold;\n",
       "}\n",
       ".hoogle-class {\n",
       "font-weight: bold;\n",
       "}\n",
       ".get-type {\n",
       "color: green;\n",
       "font-weight: bold;\n",
       "font-family: monospace;\n",
       "display: block;\n",
       "white-space: pre-wrap;\n",
       "}\n",
       ".show-type {\n",
       "color: green;\n",
       "font-weight: bold;\n",
       "font-family: monospace;\n",
       "margin-left: 1em;\n",
       "}\n",
       ".mono {\n",
       "font-family: monospace;\n",
       "display: block;\n",
       "}\n",
       ".err-msg {\n",
       "color: red;\n",
       "font-style: italic;\n",
       "font-family: monospace;\n",
       "white-space: pre;\n",
       "display: block;\n",
       "}\n",
       "#unshowable {\n",
       "color: red;\n",
       "font-weight: bold;\n",
       "}\n",
       ".err-msg.in.collapse {\n",
       "padding-top: 0.7em;\n",
       "}\n",
       ".highlight-code {\n",
       "white-space: pre;\n",
       "font-family: monospace;\n",
       "}\n",
       ".suggestion-warning { \n",
       "font-weight: bold;\n",
       "color: rgb(200, 130, 0);\n",
       "}\n",
       ".suggestion-error { \n",
       "font-weight: bold;\n",
       "color: red;\n",
       "}\n",
       ".suggestion-name {\n",
       "font-weight: bold;\n",
       "}\n",
       "</style><span class='get-type'>f7 :: forall a b. (Fractional a, Integral b) => (a, b) -> a</span>"
      ],
      "text/plain": [
       "f7 :: forall a b. (Fractional a, Integral b) => (a, b) -> a"
      ]
     },
     "metadata": {},
     "output_type": "display_data"
    }
   ],
   "source": [
    "f7 (x, y) = x^^y\n",
    ":t f7"
   ]
  },
  {
   "cell_type": "code",
   "execution_count": 58,
   "id": "5282f22f",
   "metadata": {},
   "outputs": [
    {
     "data": {
      "text/html": [
       "<style>/* Styles used for the Hoogle display in the pager */\n",
       ".hoogle-doc {\n",
       "display: block;\n",
       "padding-bottom: 1.3em;\n",
       "padding-left: 0.4em;\n",
       "}\n",
       ".hoogle-code {\n",
       "display: block;\n",
       "font-family: monospace;\n",
       "white-space: pre;\n",
       "}\n",
       ".hoogle-text {\n",
       "display: block;\n",
       "}\n",
       ".hoogle-name {\n",
       "color: green;\n",
       "font-weight: bold;\n",
       "}\n",
       ".hoogle-head {\n",
       "font-weight: bold;\n",
       "}\n",
       ".hoogle-sub {\n",
       "display: block;\n",
       "margin-left: 0.4em;\n",
       "}\n",
       ".hoogle-package {\n",
       "font-weight: bold;\n",
       "font-style: italic;\n",
       "}\n",
       ".hoogle-module {\n",
       "font-weight: bold;\n",
       "}\n",
       ".hoogle-class {\n",
       "font-weight: bold;\n",
       "}\n",
       ".get-type {\n",
       "color: green;\n",
       "font-weight: bold;\n",
       "font-family: monospace;\n",
       "display: block;\n",
       "white-space: pre-wrap;\n",
       "}\n",
       ".show-type {\n",
       "color: green;\n",
       "font-weight: bold;\n",
       "font-family: monospace;\n",
       "margin-left: 1em;\n",
       "}\n",
       ".mono {\n",
       "font-family: monospace;\n",
       "display: block;\n",
       "}\n",
       ".err-msg {\n",
       "color: red;\n",
       "font-style: italic;\n",
       "font-family: monospace;\n",
       "white-space: pre;\n",
       "display: block;\n",
       "}\n",
       "#unshowable {\n",
       "color: red;\n",
       "font-weight: bold;\n",
       "}\n",
       ".err-msg.in.collapse {\n",
       "padding-top: 0.7em;\n",
       "}\n",
       ".highlight-code {\n",
       "white-space: pre;\n",
       "font-family: monospace;\n",
       "}\n",
       ".suggestion-warning { \n",
       "font-weight: bold;\n",
       "color: rgb(200, 130, 0);\n",
       "}\n",
       ".suggestion-error { \n",
       "font-weight: bold;\n",
       "color: red;\n",
       "}\n",
       ".suggestion-name {\n",
       "font-weight: bold;\n",
       "}\n",
       "</style><span class='get-type'>f8 :: forall p. Num p => Bool -> p</span>"
      ],
      "text/plain": [
       "f8 :: forall p. Num p => Bool -> p"
      ]
     },
     "metadata": {},
     "output_type": "display_data"
    }
   ],
   "source": [
    "f8 x = if x then 3 else 2\n",
    ":t f8"
   ]
  }
 ],
 "metadata": {
  "kernelspec": {
   "display_name": "Haskell",
   "language": "haskell",
   "name": "haskell"
  },
  "language_info": {
   "codemirror_mode": "ihaskell",
   "file_extension": ".hs",
   "mimetype": "text/x-haskell",
   "name": "haskell",
   "pygments_lexer": "Haskell",
   "version": "8.10.7"
  }
 },
 "nbformat": 4,
 "nbformat_minor": 5
}
