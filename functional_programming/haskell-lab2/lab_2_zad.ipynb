{
 "cells": [
  {
   "cell_type": "markdown",
   "id": "e4b1b84a",
   "metadata": {},
   "source": [
    "# Lab_2"
   ]
  },
  {
   "cell_type": "markdown",
   "id": "9c8d300a",
   "metadata": {},
   "source": [
    "## Zadania #1"
   ]
  },
  {
   "cell_type": "markdown",
   "id": "411cf4f9",
   "metadata": {},
   "source": [
    "**1.1 Dodać nawiasy w deklaracji funkcji add2C**"
   ]
  },
  {
   "cell_type": "code",
   "execution_count": 1,
   "id": "ea23287f",
   "metadata": {},
   "outputs": [],
   "source": [
    "add2T :: Num a => (a, a) -> a\n",
    "add2T (x, y) = x + y\n",
    "\n",
    "add2C :: Num a => (a -> (a -> a))\n",
    "add2C x y = x + y"
   ]
  },
  {
   "cell_type": "code",
   "execution_count": 2,
   "id": "92de6dd5",
   "metadata": {},
   "outputs": [
    {
     "data": {
      "text/plain": [
       "3"
      ]
     },
     "metadata": {},
     "output_type": "display_data"
    }
   ],
   "source": [
    "add2C 1 2"
   ]
  },
  {
   "cell_type": "markdown",
   "id": "5cb5cde3",
   "metadata": {},
   "source": [
    "**1.2 Podać definicje funkcji add3T i add3C**"
   ]
  },
  {
   "cell_type": "code",
   "execution_count": 3,
   "id": "27491b05",
   "metadata": {},
   "outputs": [],
   "source": [
    "add3T :: Num a => (a, a, a) -> a\n",
    "add3T (x, y, z) = x + y + z\n",
    "\n",
    "add3C :: Num a => a -> a -> a -> a\n",
    "add3C x y z = x + y + z"
   ]
  },
  {
   "cell_type": "code",
   "execution_count": 4,
   "id": "faa6901c",
   "metadata": {},
   "outputs": [
    {
     "data": {
      "text/plain": [
       "6"
      ]
     },
     "metadata": {},
     "output_type": "display_data"
    },
    {
     "data": {
      "text/plain": [
       "6"
      ]
     },
     "metadata": {},
     "output_type": "display_data"
    }
   ],
   "source": [
    "add3T (1, 2, 3)\n",
    "add3C 1 2 3"
   ]
  },
  {
   "cell_type": "markdown",
   "id": "d15179ae",
   "metadata": {},
   "source": [
    "**1.3 Dodać nawiasy w deklaracji typu add3C i w wywołaniu**"
   ]
  },
  {
   "cell_type": "code",
   "execution_count": 5,
   "id": "f8871ce5",
   "metadata": {},
   "outputs": [],
   "source": [
    "add3C :: Num a => (a -> (a -> (a -> a)))\n",
    "add3C x y z = x + y + z"
   ]
  },
  {
   "cell_type": "code",
   "execution_count": 6,
   "id": "889b49c4",
   "metadata": {},
   "outputs": [
    {
     "data": {
      "text/html": [
       "<style>/* Styles used for the Hoogle display in the pager */\n",
       ".hoogle-doc {\n",
       "display: block;\n",
       "padding-bottom: 1.3em;\n",
       "padding-left: 0.4em;\n",
       "}\n",
       ".hoogle-code {\n",
       "display: block;\n",
       "font-family: monospace;\n",
       "white-space: pre;\n",
       "}\n",
       ".hoogle-text {\n",
       "display: block;\n",
       "}\n",
       ".hoogle-name {\n",
       "color: green;\n",
       "font-weight: bold;\n",
       "}\n",
       ".hoogle-head {\n",
       "font-weight: bold;\n",
       "}\n",
       ".hoogle-sub {\n",
       "display: block;\n",
       "margin-left: 0.4em;\n",
       "}\n",
       ".hoogle-package {\n",
       "font-weight: bold;\n",
       "font-style: italic;\n",
       "}\n",
       ".hoogle-module {\n",
       "font-weight: bold;\n",
       "}\n",
       ".hoogle-class {\n",
       "font-weight: bold;\n",
       "}\n",
       ".get-type {\n",
       "color: green;\n",
       "font-weight: bold;\n",
       "font-family: monospace;\n",
       "display: block;\n",
       "white-space: pre-wrap;\n",
       "}\n",
       ".show-type {\n",
       "color: green;\n",
       "font-weight: bold;\n",
       "font-family: monospace;\n",
       "margin-left: 1em;\n",
       "}\n",
       ".mono {\n",
       "font-family: monospace;\n",
       "display: block;\n",
       "}\n",
       ".err-msg {\n",
       "color: red;\n",
       "font-style: italic;\n",
       "font-family: monospace;\n",
       "white-space: pre;\n",
       "display: block;\n",
       "}\n",
       "#unshowable {\n",
       "color: red;\n",
       "font-weight: bold;\n",
       "}\n",
       ".err-msg.in.collapse {\n",
       "padding-top: 0.7em;\n",
       "}\n",
       ".highlight-code {\n",
       "white-space: pre;\n",
       "font-family: monospace;\n",
       "}\n",
       ".suggestion-warning { \n",
       "font-weight: bold;\n",
       "color: rgb(200, 130, 0);\n",
       "}\n",
       ".suggestion-error { \n",
       "font-weight: bold;\n",
       "color: red;\n",
       "}\n",
       ".suggestion-name {\n",
       "font-weight: bold;\n",
       "}\n",
       "</style><div class=\"suggestion-name\" style=\"clear:both;\">Redundant bracket</div><div class=\"suggestion-row\" style=\"float: left;\"><div class=\"suggestion-warning\">Found:</div><div class=\"highlight-code\" id=\"haskell\">(((add3C 1) 2) 3)</div></div><div class=\"suggestion-row\" style=\"float: left;\"><div class=\"suggestion-warning\">Why Not:</div><div class=\"highlight-code\" id=\"haskell\">((add3C 1) 2) 3</div></div><div class=\"suggestion-name\" style=\"clear:both;\">Redundant bracket</div><div class=\"suggestion-row\" style=\"float: left;\"><div class=\"suggestion-warning\">Found:</div><div class=\"highlight-code\" id=\"haskell\">((add3C 1) 2) 3</div></div><div class=\"suggestion-row\" style=\"float: left;\"><div class=\"suggestion-warning\">Why Not:</div><div class=\"highlight-code\" id=\"haskell\">(add3C 1) 2 3</div></div><div class=\"suggestion-name\" style=\"clear:both;\">Redundant bracket</div><div class=\"suggestion-row\" style=\"float: left;\"><div class=\"suggestion-warning\">Found:</div><div class=\"highlight-code\" id=\"haskell\">(add3C 1) 2</div></div><div class=\"suggestion-row\" style=\"float: left;\"><div class=\"suggestion-warning\">Why Not:</div><div class=\"highlight-code\" id=\"haskell\">add3C 1 2</div></div>"
      ],
      "text/plain": [
       "Line 1: Redundant bracket\n",
       "Found:\n",
       "(((add3C 1) 2) 3)\n",
       "Why not:\n",
       "((add3C 1) 2) 3Line 1: Redundant bracket\n",
       "Found:\n",
       "((add3C 1) 2) 3\n",
       "Why not:\n",
       "(add3C 1) 2 3Line 1: Redundant bracket\n",
       "Found:\n",
       "(add3C 1) 2\n",
       "Why not:\n",
       "add3C 1 2"
      ]
     },
     "metadata": {},
     "output_type": "display_data"
    },
    {
     "data": {
      "text/plain": [
       "6"
      ]
     },
     "metadata": {},
     "output_type": "display_data"
    }
   ],
   "source": [
    "(((add3C 1) 2) 3)"
   ]
  },
  {
   "cell_type": "markdown",
   "id": "3a47dafd",
   "metadata": {},
   "source": [
    "**1.4 Napisać i sprawdzić działanie funkcji**"
   ]
  },
  {
   "cell_type": "code",
   "execution_count": 7,
   "id": "d82ebdd2",
   "metadata": {},
   "outputs": [],
   "source": [
    "curry2 :: ((a, b) -> c) -> a -> b -> c\n",
    "curry2 f x y = f (x, y)\n",
    "\n",
    "uncurry2 :: (a -> b -> c) -> (a, b) -> c\n",
    "uncurry2 f (x, y) = f x y\n",
    "\n",
    "curry3 :: ((a, b, c) -> d) -> a -> b -> c -> d\n",
    "curry3 f x y z = f (x, y, z)\n",
    "\n",
    "uncurry3 :: (a -> b -> c -> d) -> (a, b, c) -> d\n",
    "uncurry3 f (x, y, z) = f x y z"
   ]
  },
  {
   "cell_type": "code",
   "execution_count": 8,
   "id": "e341380d",
   "metadata": {},
   "outputs": [
    {
     "data": {
      "text/plain": [
       "3"
      ]
     },
     "metadata": {},
     "output_type": "display_data"
    },
    {
     "data": {
      "text/plain": [
       "3"
      ]
     },
     "metadata": {},
     "output_type": "display_data"
    },
    {
     "data": {
      "text/plain": [
       "6"
      ]
     },
     "metadata": {},
     "output_type": "display_data"
    },
    {
     "data": {
      "text/plain": [
       "6"
      ]
     },
     "metadata": {},
     "output_type": "display_data"
    }
   ],
   "source": [
    "curry2 add2T 1 2\n",
    "uncurry2 add2C (1, 2)\n",
    "curry3 add3T 1 2 3\n",
    "uncurry3 add3C (1, 2, 3)"
   ]
  },
  {
   "cell_type": "markdown",
   "id": "4d531417",
   "metadata": {},
   "source": [
    "## Zadania #2"
   ]
  },
  {
   "cell_type": "markdown",
   "id": "1211dd89",
   "metadata": {},
   "source": [
    "**2.1 Zdefiniować i sprawdzić działanie funkcji**"
   ]
  },
  {
   "cell_type": "code",
   "execution_count": 9,
   "id": "df0cdadd",
   "metadata": {},
   "outputs": [],
   "source": [
    "fiveToPower_ :: Integer -> Integer\n",
    "fiveToPower_ = (5 ^)\n",
    "\n",
    "_ToPower5 :: Num a => a -> a\n",
    "_ToPower5 = (^ 5)\n",
    "\n",
    "subtrNFrom5 :: Num a => a -> a\n",
    "subtrNFrom5 = (5 -)\n",
    "\n",
    "subtr5From_ :: Num a => a -> a\n",
    "subtr5From_ = flip (-) 5"
   ]
  },
  {
   "cell_type": "code",
   "execution_count": 10,
   "id": "59e5f2ef",
   "metadata": {},
   "outputs": [
    {
     "data": {
      "text/plain": [
       "125"
      ]
     },
     "metadata": {},
     "output_type": "display_data"
    },
    {
     "data": {
      "text/plain": [
       "32"
      ]
     },
     "metadata": {},
     "output_type": "display_data"
    },
    {
     "data": {
      "text/plain": [
       "2"
      ]
     },
     "metadata": {},
     "output_type": "display_data"
    },
    {
     "data": {
      "text/plain": [
       "1"
      ]
     },
     "metadata": {},
     "output_type": "display_data"
    }
   ],
   "source": [
    "fiveToPower_ 3\n",
    "_ToPower5 2\n",
    "subtrNFrom5 3\n",
    "subtr5From_ 6"
   ]
  },
  {
   "cell_type": "markdown",
   "id": "6e3942e2",
   "metadata": {},
   "source": [
    "**2.2 Zdefiniować funkcję flip2 będącą odpowiednikiem funkcji flip z biblioteki standardowej (Prelude)**"
   ]
  },
  {
   "cell_type": "code",
   "execution_count": 11,
   "id": "d124a57f",
   "metadata": {},
   "outputs": [],
   "source": [
    "flip2 :: (a -> b -> c) -> b -> a -> c\n",
    "flip2 f a b = f  b a"
   ]
  },
  {
   "cell_type": "code",
   "execution_count": 12,
   "id": "c4a0fc7a",
   "metadata": {},
   "outputs": [
    {
     "data": {
      "text/plain": [
       "1"
      ]
     },
     "metadata": {},
     "output_type": "display_data"
    }
   ],
   "source": [
    "flip2 (-) 5 6"
   ]
  },
  {
   "cell_type": "markdown",
   "id": "663eda06",
   "metadata": {},
   "source": [
    "**2.3 Zdefiniować funkcję flip3 będącą trójparametrowym (tzn. funkcja 3 zmiennych) odpowiednikiem funkcji flip2**"
   ]
  },
  {
   "cell_type": "code",
   "execution_count": 13,
   "id": "83a35cb0",
   "metadata": {},
   "outputs": [],
   "source": [
    "flip3 :: (a -> b -> c -> d) -> c -> b -> a -> d\n",
    "flip3 f a b c = f c b a"
   ]
  },
  {
   "cell_type": "markdown",
   "id": "3fd49476",
   "metadata": {},
   "source": [
    "## Zadania #3"
   ]
  },
  {
   "cell_type": "markdown",
   "id": "04c56f54",
   "metadata": {},
   "source": [
    "**3.1 Zdefiniować funkcję**"
   ]
  },
  {
   "cell_type": "code",
   "execution_count": 14,
   "id": "959c1526",
   "metadata": {},
   "outputs": [],
   "source": [
    "isPalindrome :: [Char] -> Bool\n",
    "isPalindrome s = s == reverse s"
   ]
  },
  {
   "cell_type": "code",
   "execution_count": 15,
   "id": "35f4fa12",
   "metadata": {},
   "outputs": [
    {
     "data": {
      "text/plain": [
       "True"
      ]
     },
     "metadata": {},
     "output_type": "display_data"
    }
   ],
   "source": [
    "isPalindrome \"ABBA\""
   ]
  },
  {
   "cell_type": "markdown",
   "id": "c2ce8504",
   "metadata": {},
   "source": [
    "**3.2 Zdefiniować funkcję getElemAtIdx wykorzystując funkcje poznane powyżej (np. drop, head, tail)**"
   ]
  },
  {
   "cell_type": "code",
   "execution_count": 16,
   "id": "a70a07d4",
   "metadata": {},
   "outputs": [
    {
     "data": {
      "text/html": [
       "<style>/* Styles used for the Hoogle display in the pager */\n",
       ".hoogle-doc {\n",
       "display: block;\n",
       "padding-bottom: 1.3em;\n",
       "padding-left: 0.4em;\n",
       "}\n",
       ".hoogle-code {\n",
       "display: block;\n",
       "font-family: monospace;\n",
       "white-space: pre;\n",
       "}\n",
       ".hoogle-text {\n",
       "display: block;\n",
       "}\n",
       ".hoogle-name {\n",
       "color: green;\n",
       "font-weight: bold;\n",
       "}\n",
       ".hoogle-head {\n",
       "font-weight: bold;\n",
       "}\n",
       ".hoogle-sub {\n",
       "display: block;\n",
       "margin-left: 0.4em;\n",
       "}\n",
       ".hoogle-package {\n",
       "font-weight: bold;\n",
       "font-style: italic;\n",
       "}\n",
       ".hoogle-module {\n",
       "font-weight: bold;\n",
       "}\n",
       ".hoogle-class {\n",
       "font-weight: bold;\n",
       "}\n",
       ".get-type {\n",
       "color: green;\n",
       "font-weight: bold;\n",
       "font-family: monospace;\n",
       "display: block;\n",
       "white-space: pre-wrap;\n",
       "}\n",
       ".show-type {\n",
       "color: green;\n",
       "font-weight: bold;\n",
       "font-family: monospace;\n",
       "margin-left: 1em;\n",
       "}\n",
       ".mono {\n",
       "font-family: monospace;\n",
       "display: block;\n",
       "}\n",
       ".err-msg {\n",
       "color: red;\n",
       "font-style: italic;\n",
       "font-family: monospace;\n",
       "white-space: pre;\n",
       "display: block;\n",
       "}\n",
       "#unshowable {\n",
       "color: red;\n",
       "font-weight: bold;\n",
       "}\n",
       ".err-msg.in.collapse {\n",
       "padding-top: 0.7em;\n",
       "}\n",
       ".highlight-code {\n",
       "white-space: pre;\n",
       "font-family: monospace;\n",
       "}\n",
       ".suggestion-warning { \n",
       "font-weight: bold;\n",
       "color: rgb(200, 130, 0);\n",
       "}\n",
       ".suggestion-error { \n",
       "font-weight: bold;\n",
       "color: red;\n",
       "}\n",
       ".suggestion-name {\n",
       "font-weight: bold;\n",
       "}\n",
       "</style><div class=\"suggestion-name\" style=\"clear:both;\">Use !!</div><div class=\"suggestion-row\" style=\"float: left;\"><div class=\"suggestion-warning\">Found:</div><div class=\"highlight-code\" id=\"haskell\">head (drop i xs)</div></div><div class=\"suggestion-row\" style=\"float: left;\"><div class=\"suggestion-warning\">Why Not:</div><div class=\"highlight-code\" id=\"haskell\">xs !! max 0 i</div></div>"
      ],
      "text/plain": [
       "Line 2: Use !!\n",
       "Found:\n",
       "head (drop i xs)\n",
       "Why not:\n",
       "xs !! max 0 i"
      ]
     },
     "metadata": {},
     "output_type": "display_data"
    }
   ],
   "source": [
    "getElemAtIdx :: Int -> [a] -> a\n",
    "getElemAtIdx i xs = head (drop i xs)"
   ]
  },
  {
   "cell_type": "code",
   "execution_count": 17,
   "id": "1ba6b750",
   "metadata": {},
   "outputs": [
    {
     "data": {
      "text/plain": [
       "5"
      ]
     },
     "metadata": {},
     "output_type": "display_data"
    }
   ],
   "source": [
    "getElemAtIdx 1 [1,5,3,2] "
   ]
  },
  {
   "cell_type": "markdown",
   "id": "f6ab7b20",
   "metadata": {},
   "source": [
    "**3.3 Zdefiniować funkcję**"
   ]
  },
  {
   "cell_type": "code",
   "execution_count": 18,
   "id": "9c7bffc3",
   "metadata": {},
   "outputs": [],
   "source": [
    "capitalize :: [Char] -> [Char]\n",
    "capitalize w = toEnum (fromEnum (head w) -32 ) : tail w"
   ]
  },
  {
   "cell_type": "code",
   "execution_count": 19,
   "id": "ddaabe0a",
   "metadata": {},
   "outputs": [
    {
     "data": {
      "text/plain": [
       "\"Haskell\""
      ]
     },
     "metadata": {},
     "output_type": "display_data"
    }
   ],
   "source": [
    "capitalize \"haskell\""
   ]
  },
  {
   "cell_type": "markdown",
   "id": "6831c9fa",
   "metadata": {},
   "source": [
    "## Zadania #4"
   ]
  },
  {
   "cell_type": "markdown",
   "id": "7cfa262f",
   "metadata": {},
   "source": [
    "**4.1 Napisać wyrażenie obliczające, ile jest w przedziale [1,100] trójek liczb całkowitych reprezentujących długości boków trójkąta prostokątnego**"
   ]
  },
  {
   "cell_type": "code",
   "execution_count": 20,
   "id": "5c4f3bd8",
   "metadata": {},
   "outputs": [
    {
     "data": {
      "text/plain": [
       "52"
      ]
     },
     "metadata": {},
     "output_type": "display_data"
    }
   ],
   "source": [
    "length [(a,b,c) | a <- [1..100], b <- [a..100], c <- [b..100], a^2 + b^2 == c^2]"
   ]
  },
  {
   "cell_type": "markdown",
   "id": "d1438f18",
   "metadata": {},
   "source": [
    "**4.2 Czy poniższa definicja funkcji (sprawdzającej, czy liczba jest pierwsza) jest poprawna?**"
   ]
  },
  {
   "cell_type": "code",
   "execution_count": 21,
   "id": "05b8b8b7",
   "metadata": {},
   "outputs": [
    {
     "data": {
      "text/html": [
       "<style>/* Styles used for the Hoogle display in the pager */\n",
       ".hoogle-doc {\n",
       "display: block;\n",
       "padding-bottom: 1.3em;\n",
       "padding-left: 0.4em;\n",
       "}\n",
       ".hoogle-code {\n",
       "display: block;\n",
       "font-family: monospace;\n",
       "white-space: pre;\n",
       "}\n",
       ".hoogle-text {\n",
       "display: block;\n",
       "}\n",
       ".hoogle-name {\n",
       "color: green;\n",
       "font-weight: bold;\n",
       "}\n",
       ".hoogle-head {\n",
       "font-weight: bold;\n",
       "}\n",
       ".hoogle-sub {\n",
       "display: block;\n",
       "margin-left: 0.4em;\n",
       "}\n",
       ".hoogle-package {\n",
       "font-weight: bold;\n",
       "font-style: italic;\n",
       "}\n",
       ".hoogle-module {\n",
       "font-weight: bold;\n",
       "}\n",
       ".hoogle-class {\n",
       "font-weight: bold;\n",
       "}\n",
       ".get-type {\n",
       "color: green;\n",
       "font-weight: bold;\n",
       "font-family: monospace;\n",
       "display: block;\n",
       "white-space: pre-wrap;\n",
       "}\n",
       ".show-type {\n",
       "color: green;\n",
       "font-weight: bold;\n",
       "font-family: monospace;\n",
       "margin-left: 1em;\n",
       "}\n",
       ".mono {\n",
       "font-family: monospace;\n",
       "display: block;\n",
       "}\n",
       ".err-msg {\n",
       "color: red;\n",
       "font-style: italic;\n",
       "font-family: monospace;\n",
       "white-space: pre;\n",
       "display: block;\n",
       "}\n",
       "#unshowable {\n",
       "color: red;\n",
       "font-weight: bold;\n",
       "}\n",
       ".err-msg.in.collapse {\n",
       "padding-top: 0.7em;\n",
       "}\n",
       ".highlight-code {\n",
       "white-space: pre;\n",
       "font-family: monospace;\n",
       "}\n",
       ".suggestion-warning { \n",
       "font-weight: bold;\n",
       "color: rgb(200, 130, 0);\n",
       "}\n",
       ".suggestion-error { \n",
       "font-weight: bold;\n",
       "color: red;\n",
       "}\n",
       ".suggestion-name {\n",
       "font-weight: bold;\n",
       "}\n",
       "</style><div class=\"suggestion-name\" style=\"clear:both;\">Use null</div><div class=\"suggestion-row\" style=\"float: left;\"><div class=\"suggestion-warning\">Found:</div><div class=\"highlight-code\" id=\"haskell\">[i | i <- [2 .. n - 1], n `mod` i == 0] == []</div></div><div class=\"suggestion-row\" style=\"float: left;\"><div class=\"suggestion-warning\">Why Not:</div><div class=\"highlight-code\" id=\"haskell\">null ([i | i <- [2 .. n - 1], n `mod` i == 0])</div></div>"
      ],
      "text/plain": [
       "Line 2: Use null\n",
       "Found:\n",
       "[i | i <- [2 .. n - 1], n `mod` i == 0] == []\n",
       "Why not:\n",
       "null ([i | i <- [2 .. n - 1], n `mod` i == 0])"
      ]
     },
     "metadata": {},
     "output_type": "display_data"
    }
   ],
   "source": [
    "isPrime :: Integral t => t -> Bool\n",
    "isPrime n = [i | i <- [2..n-1], n `mod` i == 0] == []"
   ]
  },
  {
   "cell_type": "code",
   "execution_count": 22,
   "id": "ea07693f",
   "metadata": {},
   "outputs": [
    {
     "data": {
      "text/plain": [
       "True"
      ]
     },
     "metadata": {},
     "output_type": "display_data"
    },
    {
     "data": {
      "text/plain": [
       "True"
      ]
     },
     "metadata": {},
     "output_type": "display_data"
    },
    {
     "data": {
      "text/plain": [
       "True"
      ]
     },
     "metadata": {},
     "output_type": "display_data"
    },
    {
     "data": {
      "text/plain": [
       "True"
      ]
     },
     "metadata": {},
     "output_type": "display_data"
    }
   ],
   "source": [
    "isPrime 5\n",
    "isPrime 1\n",
    "isPrime 0\n",
    "isPrime (-64)\n",
    "--implementacja niepoprawna"
   ]
  },
  {
   "cell_type": "code",
   "execution_count": 23,
   "id": "854f16ab",
   "metadata": {},
   "outputs": [],
   "source": [
    "--odrobinę efektywniejsza implementacja\n",
    "isPrime :: Integral t => t -> Bool\n",
    "isPrime a\n",
    "    | a < 2 = False\n",
    "    | a == 2 = True\n",
    "    | even a = False\n",
    "    | otherwise = null [i | i <- [1..(a `div` 2)-1], a `mod` (i*2+1) == 0]\n",
    "--wystarczy szukać do pierwiastka z a, ale trzeba by\n",
    "--implementować sqrt Int->Int"
   ]
  },
  {
   "cell_type": "markdown",
   "id": "3f84cad1",
   "metadata": {},
   "source": [
    "**4.3 Napisać wyrażenie obliczające, ile jest w przedziale [1,10000] liczb pierwszych**"
   ]
  },
  {
   "cell_type": "code",
   "execution_count": 24,
   "id": "5c7a1802",
   "metadata": {},
   "outputs": [
    {
     "data": {
      "text/plain": [
       "1229"
      ]
     },
     "metadata": {},
     "output_type": "display_data"
    }
   ],
   "source": [
    "length [x | x <- [1..10000], isPrime x]"
   ]
  },
  {
   "cell_type": "markdown",
   "id": "7a1bd933",
   "metadata": {},
   "source": [
    "**4.4 Napisać nową definicję funkcji isPrime wykorzystując ciąg primes**"
   ]
  },
  {
   "cell_type": "code",
   "execution_count": 25,
   "id": "60b97d3f",
   "metadata": {},
   "outputs": [],
   "source": [
    "primes :: [Int]\n",
    "primes = eratoSieve [2..]\n",
    " where\n",
    "   eratoSieve :: [Int] -> [Int]\n",
    "   eratoSieve (p : xs) = p : eratoSieve [x | x <- xs, x `mod` p /= 0]"
   ]
  },
  {
   "cell_type": "code",
   "execution_count": 26,
   "id": "c494e81a",
   "metadata": {
    "scrolled": true
   },
   "outputs": [],
   "source": [
    "isPrime :: Integral t => t -> Bool\n",
    "isPrime x = a `elem` take a primes\n",
    "    where a = fromIntegral x\n",
    "--nie mam pojęcia dlaczego to działa"
   ]
  },
  {
   "cell_type": "code",
   "execution_count": 27,
   "id": "471d3ab4",
   "metadata": {
    "scrolled": true
   },
   "outputs": [
    {
     "data": {
      "text/html": [
       "<style>/* Styles used for the Hoogle display in the pager */\n",
       ".hoogle-doc {\n",
       "display: block;\n",
       "padding-bottom: 1.3em;\n",
       "padding-left: 0.4em;\n",
       "}\n",
       ".hoogle-code {\n",
       "display: block;\n",
       "font-family: monospace;\n",
       "white-space: pre;\n",
       "}\n",
       ".hoogle-text {\n",
       "display: block;\n",
       "}\n",
       ".hoogle-name {\n",
       "color: green;\n",
       "font-weight: bold;\n",
       "}\n",
       ".hoogle-head {\n",
       "font-weight: bold;\n",
       "}\n",
       ".hoogle-sub {\n",
       "display: block;\n",
       "margin-left: 0.4em;\n",
       "}\n",
       ".hoogle-package {\n",
       "font-weight: bold;\n",
       "font-style: italic;\n",
       "}\n",
       ".hoogle-module {\n",
       "font-weight: bold;\n",
       "}\n",
       ".hoogle-class {\n",
       "font-weight: bold;\n",
       "}\n",
       ".get-type {\n",
       "color: green;\n",
       "font-weight: bold;\n",
       "font-family: monospace;\n",
       "display: block;\n",
       "white-space: pre-wrap;\n",
       "}\n",
       ".show-type {\n",
       "color: green;\n",
       "font-weight: bold;\n",
       "font-family: monospace;\n",
       "margin-left: 1em;\n",
       "}\n",
       ".mono {\n",
       "font-family: monospace;\n",
       "display: block;\n",
       "}\n",
       ".err-msg {\n",
       "color: red;\n",
       "font-style: italic;\n",
       "font-family: monospace;\n",
       "white-space: pre;\n",
       "display: block;\n",
       "}\n",
       "#unshowable {\n",
       "color: red;\n",
       "font-weight: bold;\n",
       "}\n",
       ".err-msg.in.collapse {\n",
       "padding-top: 0.7em;\n",
       "}\n",
       ".highlight-code {\n",
       "white-space: pre;\n",
       "font-family: monospace;\n",
       "}\n",
       ".suggestion-warning { \n",
       "font-weight: bold;\n",
       "color: rgb(200, 130, 0);\n",
       "}\n",
       ".suggestion-error { \n",
       "font-weight: bold;\n",
       "color: red;\n",
       "}\n",
       ".suggestion-name {\n",
       "font-weight: bold;\n",
       "}\n",
       "</style><span class='get-type'>isPrime :: forall t. Integral t => t -> Bool</span>"
      ],
      "text/plain": [
       "isPrime :: forall t. Integral t => t -> Bool"
      ]
     },
     "metadata": {},
     "output_type": "display_data"
    }
   ],
   "source": [
    ":t isPrime"
   ]
  },
  {
   "cell_type": "code",
   "execution_count": 28,
   "id": "fc8168b6",
   "metadata": {
    "scrolled": true
   },
   "outputs": [
    {
     "data": {
      "text/html": [
       "<style>/* Styles used for the Hoogle display in the pager */\n",
       ".hoogle-doc {\n",
       "display: block;\n",
       "padding-bottom: 1.3em;\n",
       "padding-left: 0.4em;\n",
       "}\n",
       ".hoogle-code {\n",
       "display: block;\n",
       "font-family: monospace;\n",
       "white-space: pre;\n",
       "}\n",
       ".hoogle-text {\n",
       "display: block;\n",
       "}\n",
       ".hoogle-name {\n",
       "color: green;\n",
       "font-weight: bold;\n",
       "}\n",
       ".hoogle-head {\n",
       "font-weight: bold;\n",
       "}\n",
       ".hoogle-sub {\n",
       "display: block;\n",
       "margin-left: 0.4em;\n",
       "}\n",
       ".hoogle-package {\n",
       "font-weight: bold;\n",
       "font-style: italic;\n",
       "}\n",
       ".hoogle-module {\n",
       "font-weight: bold;\n",
       "}\n",
       ".hoogle-class {\n",
       "font-weight: bold;\n",
       "}\n",
       ".get-type {\n",
       "color: green;\n",
       "font-weight: bold;\n",
       "font-family: monospace;\n",
       "display: block;\n",
       "white-space: pre-wrap;\n",
       "}\n",
       ".show-type {\n",
       "color: green;\n",
       "font-weight: bold;\n",
       "font-family: monospace;\n",
       "margin-left: 1em;\n",
       "}\n",
       ".mono {\n",
       "font-family: monospace;\n",
       "display: block;\n",
       "}\n",
       ".err-msg {\n",
       "color: red;\n",
       "font-style: italic;\n",
       "font-family: monospace;\n",
       "white-space: pre;\n",
       "display: block;\n",
       "}\n",
       "#unshowable {\n",
       "color: red;\n",
       "font-weight: bold;\n",
       "}\n",
       ".err-msg.in.collapse {\n",
       "padding-top: 0.7em;\n",
       "}\n",
       ".highlight-code {\n",
       "white-space: pre;\n",
       "font-family: monospace;\n",
       "}\n",
       ".suggestion-warning { \n",
       "font-weight: bold;\n",
       "color: rgb(200, 130, 0);\n",
       "}\n",
       ".suggestion-error { \n",
       "font-weight: bold;\n",
       "color: red;\n",
       "}\n",
       ".suggestion-name {\n",
       "font-weight: bold;\n",
       "}\n",
       "</style><span class='get-type'>g :: forall a. Num a => a</span>"
      ],
      "text/plain": [
       "g :: forall a. Num a => a"
      ]
     },
     "metadata": {},
     "output_type": "display_data"
    },
    {
     "data": {
      "text/html": [
       "<style>/* Styles used for the Hoogle display in the pager */\n",
       ".hoogle-doc {\n",
       "display: block;\n",
       "padding-bottom: 1.3em;\n",
       "padding-left: 0.4em;\n",
       "}\n",
       ".hoogle-code {\n",
       "display: block;\n",
       "font-family: monospace;\n",
       "white-space: pre;\n",
       "}\n",
       ".hoogle-text {\n",
       "display: block;\n",
       "}\n",
       ".hoogle-name {\n",
       "color: green;\n",
       "font-weight: bold;\n",
       "}\n",
       ".hoogle-head {\n",
       "font-weight: bold;\n",
       "}\n",
       ".hoogle-sub {\n",
       "display: block;\n",
       "margin-left: 0.4em;\n",
       "}\n",
       ".hoogle-package {\n",
       "font-weight: bold;\n",
       "font-style: italic;\n",
       "}\n",
       ".hoogle-module {\n",
       "font-weight: bold;\n",
       "}\n",
       ".hoogle-class {\n",
       "font-weight: bold;\n",
       "}\n",
       ".get-type {\n",
       "color: green;\n",
       "font-weight: bold;\n",
       "font-family: monospace;\n",
       "display: block;\n",
       "white-space: pre-wrap;\n",
       "}\n",
       ".show-type {\n",
       "color: green;\n",
       "font-weight: bold;\n",
       "font-family: monospace;\n",
       "margin-left: 1em;\n",
       "}\n",
       ".mono {\n",
       "font-family: monospace;\n",
       "display: block;\n",
       "}\n",
       ".err-msg {\n",
       "color: red;\n",
       "font-style: italic;\n",
       "font-family: monospace;\n",
       "white-space: pre;\n",
       "display: block;\n",
       "}\n",
       "#unshowable {\n",
       "color: red;\n",
       "font-weight: bold;\n",
       "}\n",
       ".err-msg.in.collapse {\n",
       "padding-top: 0.7em;\n",
       "}\n",
       ".highlight-code {\n",
       "white-space: pre;\n",
       "font-family: monospace;\n",
       "}\n",
       ".suggestion-warning { \n",
       "font-weight: bold;\n",
       "color: rgb(200, 130, 0);\n",
       "}\n",
       ".suggestion-error { \n",
       "font-weight: bold;\n",
       "color: red;\n",
       "}\n",
       ".suggestion-name {\n",
       "font-weight: bold;\n",
       "}\n",
       "</style><span class='get-type'>i :: [Int]</span>"
      ],
      "text/plain": [
       "i :: [Int]"
      ]
     },
     "metadata": {},
     "output_type": "display_data"
    },
    {
     "data": {
      "text/plain": [
       "True"
      ]
     },
     "metadata": {},
     "output_type": "display_data"
    },
    {
     "data": {
      "text/plain": [
       "True"
      ]
     },
     "metadata": {},
     "output_type": "display_data"
    }
   ],
   "source": [
    "g = 2 :: Num a => a\n",
    ":t g\n",
    "i = take g primes\n",
    ":t i\n",
    "g `elem` i\n",
    "g `elem` take g primes"
   ]
  },
  {
   "cell_type": "code",
   "execution_count": 29,
   "id": "f16b96e7",
   "metadata": {
    "scrolled": true
   },
   "outputs": [
    {
     "data": {
      "text/html": [
       "<style>/* Styles used for the Hoogle display in the pager */\n",
       ".hoogle-doc {\n",
       "display: block;\n",
       "padding-bottom: 1.3em;\n",
       "padding-left: 0.4em;\n",
       "}\n",
       ".hoogle-code {\n",
       "display: block;\n",
       "font-family: monospace;\n",
       "white-space: pre;\n",
       "}\n",
       ".hoogle-text {\n",
       "display: block;\n",
       "}\n",
       ".hoogle-name {\n",
       "color: green;\n",
       "font-weight: bold;\n",
       "}\n",
       ".hoogle-head {\n",
       "font-weight: bold;\n",
       "}\n",
       ".hoogle-sub {\n",
       "display: block;\n",
       "margin-left: 0.4em;\n",
       "}\n",
       ".hoogle-package {\n",
       "font-weight: bold;\n",
       "font-style: italic;\n",
       "}\n",
       ".hoogle-module {\n",
       "font-weight: bold;\n",
       "}\n",
       ".hoogle-class {\n",
       "font-weight: bold;\n",
       "}\n",
       ".get-type {\n",
       "color: green;\n",
       "font-weight: bold;\n",
       "font-family: monospace;\n",
       "display: block;\n",
       "white-space: pre-wrap;\n",
       "}\n",
       ".show-type {\n",
       "color: green;\n",
       "font-weight: bold;\n",
       "font-family: monospace;\n",
       "margin-left: 1em;\n",
       "}\n",
       ".mono {\n",
       "font-family: monospace;\n",
       "display: block;\n",
       "}\n",
       ".err-msg {\n",
       "color: red;\n",
       "font-style: italic;\n",
       "font-family: monospace;\n",
       "white-space: pre;\n",
       "display: block;\n",
       "}\n",
       "#unshowable {\n",
       "color: red;\n",
       "font-weight: bold;\n",
       "}\n",
       ".err-msg.in.collapse {\n",
       "padding-top: 0.7em;\n",
       "}\n",
       ".highlight-code {\n",
       "white-space: pre;\n",
       "font-family: monospace;\n",
       "}\n",
       ".suggestion-warning { \n",
       "font-weight: bold;\n",
       "color: rgb(200, 130, 0);\n",
       "}\n",
       ".suggestion-error { \n",
       "font-weight: bold;\n",
       "color: red;\n",
       "}\n",
       ".suggestion-name {\n",
       "font-weight: bold;\n",
       "}\n",
       "</style><span class='get-type'>h :: forall a. Integral a => a</span>"
      ],
      "text/plain": [
       "h :: forall a. Integral a => a"
      ]
     },
     "metadata": {},
     "output_type": "display_data"
    },
    {
     "data": {
      "text/html": [
       "<style>/* Styles used for the Hoogle display in the pager */\n",
       ".hoogle-doc {\n",
       "display: block;\n",
       "padding-bottom: 1.3em;\n",
       "padding-left: 0.4em;\n",
       "}\n",
       ".hoogle-code {\n",
       "display: block;\n",
       "font-family: monospace;\n",
       "white-space: pre;\n",
       "}\n",
       ".hoogle-text {\n",
       "display: block;\n",
       "}\n",
       ".hoogle-name {\n",
       "color: green;\n",
       "font-weight: bold;\n",
       "}\n",
       ".hoogle-head {\n",
       "font-weight: bold;\n",
       "}\n",
       ".hoogle-sub {\n",
       "display: block;\n",
       "margin-left: 0.4em;\n",
       "}\n",
       ".hoogle-package {\n",
       "font-weight: bold;\n",
       "font-style: italic;\n",
       "}\n",
       ".hoogle-module {\n",
       "font-weight: bold;\n",
       "}\n",
       ".hoogle-class {\n",
       "font-weight: bold;\n",
       "}\n",
       ".get-type {\n",
       "color: green;\n",
       "font-weight: bold;\n",
       "font-family: monospace;\n",
       "display: block;\n",
       "white-space: pre-wrap;\n",
       "}\n",
       ".show-type {\n",
       "color: green;\n",
       "font-weight: bold;\n",
       "font-family: monospace;\n",
       "margin-left: 1em;\n",
       "}\n",
       ".mono {\n",
       "font-family: monospace;\n",
       "display: block;\n",
       "}\n",
       ".err-msg {\n",
       "color: red;\n",
       "font-style: italic;\n",
       "font-family: monospace;\n",
       "white-space: pre;\n",
       "display: block;\n",
       "}\n",
       "#unshowable {\n",
       "color: red;\n",
       "font-weight: bold;\n",
       "}\n",
       ".err-msg.in.collapse {\n",
       "padding-top: 0.7em;\n",
       "}\n",
       ".highlight-code {\n",
       "white-space: pre;\n",
       "font-family: monospace;\n",
       "}\n",
       ".suggestion-warning { \n",
       "font-weight: bold;\n",
       "color: rgb(200, 130, 0);\n",
       "}\n",
       ".suggestion-error { \n",
       "font-weight: bold;\n",
       "color: red;\n",
       "}\n",
       ".suggestion-name {\n",
       "font-weight: bold;\n",
       "}\n",
       "</style><span class='get-type'>primes :: [Int]</span>"
      ],
      "text/plain": [
       "primes :: [Int]"
      ]
     },
     "metadata": {},
     "output_type": "display_data"
    },
    {
     "data": {
      "text/html": [
       "<style>/* Styles used for the Hoogle display in the pager */\n",
       ".hoogle-doc {\n",
       "display: block;\n",
       "padding-bottom: 1.3em;\n",
       "padding-left: 0.4em;\n",
       "}\n",
       ".hoogle-code {\n",
       "display: block;\n",
       "font-family: monospace;\n",
       "white-space: pre;\n",
       "}\n",
       ".hoogle-text {\n",
       "display: block;\n",
       "}\n",
       ".hoogle-name {\n",
       "color: green;\n",
       "font-weight: bold;\n",
       "}\n",
       ".hoogle-head {\n",
       "font-weight: bold;\n",
       "}\n",
       ".hoogle-sub {\n",
       "display: block;\n",
       "margin-left: 0.4em;\n",
       "}\n",
       ".hoogle-package {\n",
       "font-weight: bold;\n",
       "font-style: italic;\n",
       "}\n",
       ".hoogle-module {\n",
       "font-weight: bold;\n",
       "}\n",
       ".hoogle-class {\n",
       "font-weight: bold;\n",
       "}\n",
       ".get-type {\n",
       "color: green;\n",
       "font-weight: bold;\n",
       "font-family: monospace;\n",
       "display: block;\n",
       "white-space: pre-wrap;\n",
       "}\n",
       ".show-type {\n",
       "color: green;\n",
       "font-weight: bold;\n",
       "font-family: monospace;\n",
       "margin-left: 1em;\n",
       "}\n",
       ".mono {\n",
       "font-family: monospace;\n",
       "display: block;\n",
       "}\n",
       ".err-msg {\n",
       "color: red;\n",
       "font-style: italic;\n",
       "font-family: monospace;\n",
       "white-space: pre;\n",
       "display: block;\n",
       "}\n",
       "#unshowable {\n",
       "color: red;\n",
       "font-weight: bold;\n",
       "}\n",
       ".err-msg.in.collapse {\n",
       "padding-top: 0.7em;\n",
       "}\n",
       ".highlight-code {\n",
       "white-space: pre;\n",
       "font-family: monospace;\n",
       "}\n",
       ".suggestion-warning { \n",
       "font-weight: bold;\n",
       "color: rgb(200, 130, 0);\n",
       "}\n",
       ".suggestion-error { \n",
       "font-weight: bold;\n",
       "color: red;\n",
       "}\n",
       ".suggestion-name {\n",
       "font-weight: bold;\n",
       "}\n",
       "</style><span class='get-type'>j :: [Int]</span>"
      ],
      "text/plain": [
       "j :: [Int]"
      ]
     },
     "metadata": {},
     "output_type": "display_data"
    },
    {
     "data": {
      "text/plain": [
       "True"
      ]
     },
     "metadata": {},
     "output_type": "display_data"
    },
    {
     "data": {
      "text/plain": [
       "True"
      ]
     },
     "metadata": {},
     "output_type": "display_data"
    }
   ],
   "source": [
    "h = 2 :: Integral a => a\n",
    ":t h\n",
    ":t primes\n",
    "j = take h primes\n",
    ":t j\n",
    "h `elem` j\n",
    "h `elem` take h primes\n",
    "-- ?????????\n",
    "-- dlaczego wyżej nie działa ?????"
   ]
  },
  {
   "cell_type": "markdown",
   "id": "d3c53b58",
   "metadata": {},
   "source": [
    "**4.5 Wykorzystując wynik poprzedniego ćwiczenia napisać funkcję, która podaje, ile jest liczb pierwszych w przedziale [1,n], gdzie n jest parametrem funkcji**"
   ]
  },
  {
   "cell_type": "code",
   "execution_count": 30,
   "id": "fce202dd",
   "metadata": {},
   "outputs": [],
   "source": [
    "howManyPrimes :: Integral a => a -> Int\n",
    "howManyPrimes n \n",
    "    |n < 2 = 0\n",
    "    |otherwise = length [x | x <- [1..n], isPrime x]"
   ]
  },
  {
   "cell_type": "code",
   "execution_count": 31,
   "id": "987f5ff4",
   "metadata": {},
   "outputs": [
    {
     "data": {
      "text/plain": [
       "25"
      ]
     },
     "metadata": {},
     "output_type": "display_data"
    }
   ],
   "source": [
    "howManyPrimes 100"
   ]
  },
  {
   "cell_type": "markdown",
   "id": "b5c72ba0",
   "metadata": {},
   "source": [
    "**4.6 Napisać definicję funkcji:**"
   ]
  },
  {
   "cell_type": "code",
   "execution_count": 32,
   "id": "74b7bfac",
   "metadata": {},
   "outputs": [],
   "source": [
    "allEqual :: Eq a => [a] -> Bool\n",
    "allEqual xs = [x | x <- xs, x == head xs] == xs"
   ]
  },
  {
   "cell_type": "code",
   "execution_count": 33,
   "id": "561ece9b",
   "metadata": {
    "scrolled": true
   },
   "outputs": [
    {
     "data": {
      "text/plain": [
       "True"
      ]
     },
     "metadata": {},
     "output_type": "display_data"
    },
    {
     "data": {
      "text/plain": [
       "False"
      ]
     },
     "metadata": {},
     "output_type": "display_data"
    },
    {
     "data": {
      "text/plain": [
       "True"
      ]
     },
     "metadata": {},
     "output_type": "display_data"
    }
   ],
   "source": [
    "allEqual [1,1,1]\n",
    "allEqual [1,2,1]\n",
    "allEqual [] -- ??"
   ]
  },
  {
   "cell_type": "code",
   "execution_count": 34,
   "id": "3c8da140",
   "metadata": {},
   "outputs": [],
   "source": [
    "--ładniejsza implementacja\n",
    "allEqual :: Eq a => [a] -> Bool\n",
    "allEqual xs = all (== head xs) xs"
   ]
  },
  {
   "cell_type": "code",
   "execution_count": 35,
   "id": "66c19b27",
   "metadata": {},
   "outputs": [
    {
     "data": {
      "text/plain": [
       "True"
      ]
     },
     "metadata": {},
     "output_type": "display_data"
    },
    {
     "data": {
      "text/plain": [
       "False"
      ]
     },
     "metadata": {},
     "output_type": "display_data"
    },
    {
     "data": {
      "text/plain": [
       "True"
      ]
     },
     "metadata": {},
     "output_type": "display_data"
    },
    {
     "ename": "",
     "evalue": "",
     "output_type": "error",
     "traceback": [
      "Prelude.head: empty list"
     ]
    }
   ],
   "source": [
    "allEqual [1,1,1]\n",
    "allEqual [1,2,1]\n",
    "allEqual [] -- ??\n",
    "head [] --w funkcji nie wyrzuca exception"
   ]
  },
  {
   "cell_type": "markdown",
   "id": "c28c6daa",
   "metadata": {},
   "source": [
    "## Zadania #5"
   ]
  },
  {
   "cell_type": "markdown",
   "id": "d40e01a5",
   "metadata": {},
   "source": [
    "**5.1 Napisać definicję funkcji fib2 na podstawie poniższej (korekursywnej) definicji ciągu Fibonacciego**"
   ]
  },
  {
   "cell_type": "code",
   "execution_count": 36,
   "id": "1f77a0b7",
   "metadata": {},
   "outputs": [],
   "source": [
    "-- złożoność obliczeniowa podejścia rekursywnego bez spamiętywania\n",
    "-- z pliku ex6.hs jest wykładnicza\n",
    "\n",
    "fibs = 0 : 1 : zipWith (+) fibs (tail fibs) :: [Int]\n",
    "\n",
    "fib2 :: Int -> Int\n",
    "fib2 n = fibs !! n\n",
    "-- żłożoność obliczeniowa powyższego podejścia jest liniowa"
   ]
  },
  {
   "cell_type": "code",
   "execution_count": 37,
   "id": "e94bf643",
   "metadata": {},
   "outputs": [
    {
     "data": {
      "text/plain": [
       "55"
      ]
     },
     "metadata": {},
     "output_type": "display_data"
    }
   ],
   "source": [
    "fib2 10"
   ]
  },
  {
   "cell_type": "markdown",
   "id": "8b99e651",
   "metadata": {},
   "source": [
    "## Zadania #6"
   ]
  },
  {
   "cell_type": "markdown",
   "id": "e682670e",
   "metadata": {},
   "source": [
    "**6.1 Napisać rekurencyjne definicje funkcji**"
   ]
  },
  {
   "cell_type": "code",
   "execution_count": 38,
   "id": "465d14d2",
   "metadata": {},
   "outputs": [
    {
     "data": {
      "text/html": [
       "<style>/* Styles used for the Hoogle display in the pager */\n",
       ".hoogle-doc {\n",
       "display: block;\n",
       "padding-bottom: 1.3em;\n",
       "padding-left: 0.4em;\n",
       "}\n",
       ".hoogle-code {\n",
       "display: block;\n",
       "font-family: monospace;\n",
       "white-space: pre;\n",
       "}\n",
       ".hoogle-text {\n",
       "display: block;\n",
       "}\n",
       ".hoogle-name {\n",
       "color: green;\n",
       "font-weight: bold;\n",
       "}\n",
       ".hoogle-head {\n",
       "font-weight: bold;\n",
       "}\n",
       ".hoogle-sub {\n",
       "display: block;\n",
       "margin-left: 0.4em;\n",
       "}\n",
       ".hoogle-package {\n",
       "font-weight: bold;\n",
       "font-style: italic;\n",
       "}\n",
       ".hoogle-module {\n",
       "font-weight: bold;\n",
       "}\n",
       ".hoogle-class {\n",
       "font-weight: bold;\n",
       "}\n",
       ".get-type {\n",
       "color: green;\n",
       "font-weight: bold;\n",
       "font-family: monospace;\n",
       "display: block;\n",
       "white-space: pre-wrap;\n",
       "}\n",
       ".show-type {\n",
       "color: green;\n",
       "font-weight: bold;\n",
       "font-family: monospace;\n",
       "margin-left: 1em;\n",
       "}\n",
       ".mono {\n",
       "font-family: monospace;\n",
       "display: block;\n",
       "}\n",
       ".err-msg {\n",
       "color: red;\n",
       "font-style: italic;\n",
       "font-family: monospace;\n",
       "white-space: pre;\n",
       "display: block;\n",
       "}\n",
       "#unshowable {\n",
       "color: red;\n",
       "font-weight: bold;\n",
       "}\n",
       ".err-msg.in.collapse {\n",
       "padding-top: 0.7em;\n",
       "}\n",
       ".highlight-code {\n",
       "white-space: pre;\n",
       "font-family: monospace;\n",
       "}\n",
       ".suggestion-warning { \n",
       "font-weight: bold;\n",
       "color: rgb(200, 130, 0);\n",
       "}\n",
       ".suggestion-error { \n",
       "font-weight: bold;\n",
       "color: red;\n",
       "}\n",
       ".suggestion-name {\n",
       "font-weight: bold;\n",
       "}\n",
       "</style><div class=\"suggestion-name\" style=\"clear:both;\">Use foldr</div><div class=\"suggestion-row\" style=\"float: left;\"><div class=\"suggestion-warning\">Found:</div><div class=\"highlight-code\" id=\"haskell\">prod' [] = 1\n",
       "prod' (x : xs) = x * prod' xs</div></div><div class=\"suggestion-row\" style=\"float: left;\"><div class=\"suggestion-warning\">Why Not:</div><div class=\"highlight-code\" id=\"haskell\">prod' xs = foldr (*) 1 xs</div></div>"
      ],
      "text/plain": [
       "Line 2: Use foldr\n",
       "Found:\n",
       "prod' [] = 1\n",
       "prod' (x : xs) = x * prod' xs\n",
       "Why not:\n",
       "prod' xs = foldr (*) 1 xs"
      ]
     },
     "metadata": {},
     "output_type": "display_data"
    },
    {
     "data": {
      "text/plain": [
       "6"
      ]
     },
     "metadata": {},
     "output_type": "display_data"
    }
   ],
   "source": [
    "prod' :: Num a => [a] -> a -- prod' [1,2,3] = 6\n",
    "prod' [] = 1\n",
    "prod' (x:xs) = x * prod' xs\n",
    "\n",
    "prod' [1,2,3]"
   ]
  },
  {
   "cell_type": "code",
   "execution_count": 39,
   "id": "b6c99caa",
   "metadata": {},
   "outputs": [
    {
     "data": {
      "text/html": [
       "<style>/* Styles used for the Hoogle display in the pager */\n",
       ".hoogle-doc {\n",
       "display: block;\n",
       "padding-bottom: 1.3em;\n",
       "padding-left: 0.4em;\n",
       "}\n",
       ".hoogle-code {\n",
       "display: block;\n",
       "font-family: monospace;\n",
       "white-space: pre;\n",
       "}\n",
       ".hoogle-text {\n",
       "display: block;\n",
       "}\n",
       ".hoogle-name {\n",
       "color: green;\n",
       "font-weight: bold;\n",
       "}\n",
       ".hoogle-head {\n",
       "font-weight: bold;\n",
       "}\n",
       ".hoogle-sub {\n",
       "display: block;\n",
       "margin-left: 0.4em;\n",
       "}\n",
       ".hoogle-package {\n",
       "font-weight: bold;\n",
       "font-style: italic;\n",
       "}\n",
       ".hoogle-module {\n",
       "font-weight: bold;\n",
       "}\n",
       ".hoogle-class {\n",
       "font-weight: bold;\n",
       "}\n",
       ".get-type {\n",
       "color: green;\n",
       "font-weight: bold;\n",
       "font-family: monospace;\n",
       "display: block;\n",
       "white-space: pre-wrap;\n",
       "}\n",
       ".show-type {\n",
       "color: green;\n",
       "font-weight: bold;\n",
       "font-family: monospace;\n",
       "margin-left: 1em;\n",
       "}\n",
       ".mono {\n",
       "font-family: monospace;\n",
       "display: block;\n",
       "}\n",
       ".err-msg {\n",
       "color: red;\n",
       "font-style: italic;\n",
       "font-family: monospace;\n",
       "white-space: pre;\n",
       "display: block;\n",
       "}\n",
       "#unshowable {\n",
       "color: red;\n",
       "font-weight: bold;\n",
       "}\n",
       ".err-msg.in.collapse {\n",
       "padding-top: 0.7em;\n",
       "}\n",
       ".highlight-code {\n",
       "white-space: pre;\n",
       "font-family: monospace;\n",
       "}\n",
       ".suggestion-warning { \n",
       "font-weight: bold;\n",
       "color: rgb(200, 130, 0);\n",
       "}\n",
       ".suggestion-error { \n",
       "font-weight: bold;\n",
       "color: red;\n",
       "}\n",
       ".suggestion-name {\n",
       "font-weight: bold;\n",
       "}\n",
       "</style><div class=\"suggestion-name\" style=\"clear:both;\">Use foldr</div><div class=\"suggestion-row\" style=\"float: left;\"><div class=\"suggestion-warning\">Found:</div><div class=\"highlight-code\" id=\"haskell\">length' [] = 0\n",
       "length' (x : xs) = 1 + length' xs</div></div><div class=\"suggestion-row\" style=\"float: left;\"><div class=\"suggestion-warning\">Why Not:</div><div class=\"highlight-code\" id=\"haskell\">length' xs = foldr (\\ x -> (+) 1) 0 xs</div></div>"
      ],
      "text/plain": [
       "Line 2: Use foldr\n",
       "Found:\n",
       "length' [] = 0\n",
       "length' (x : xs) = 1 + length' xs\n",
       "Why not:\n",
       "length' xs = foldr (\\ x -> (+) 1) 0 xs"
      ]
     },
     "metadata": {},
     "output_type": "display_data"
    },
    {
     "data": {
      "text/plain": [
       "4"
      ]
     },
     "metadata": {},
     "output_type": "display_data"
    }
   ],
   "source": [
    "length' :: [a] -> Int -- length' [1,1,1,1] = 4\n",
    "length' [] = 0\n",
    "length' (x:xs) = 1 + length' xs\n",
    "\n",
    "length' [1,1,1,1]"
   ]
  },
  {
   "cell_type": "code",
   "execution_count": 40,
   "id": "5ec01004",
   "metadata": {},
   "outputs": [
    {
     "data": {
      "text/html": [
       "<style>/* Styles used for the Hoogle display in the pager */\n",
       ".hoogle-doc {\n",
       "display: block;\n",
       "padding-bottom: 1.3em;\n",
       "padding-left: 0.4em;\n",
       "}\n",
       ".hoogle-code {\n",
       "display: block;\n",
       "font-family: monospace;\n",
       "white-space: pre;\n",
       "}\n",
       ".hoogle-text {\n",
       "display: block;\n",
       "}\n",
       ".hoogle-name {\n",
       "color: green;\n",
       "font-weight: bold;\n",
       "}\n",
       ".hoogle-head {\n",
       "font-weight: bold;\n",
       "}\n",
       ".hoogle-sub {\n",
       "display: block;\n",
       "margin-left: 0.4em;\n",
       "}\n",
       ".hoogle-package {\n",
       "font-weight: bold;\n",
       "font-style: italic;\n",
       "}\n",
       ".hoogle-module {\n",
       "font-weight: bold;\n",
       "}\n",
       ".hoogle-class {\n",
       "font-weight: bold;\n",
       "}\n",
       ".get-type {\n",
       "color: green;\n",
       "font-weight: bold;\n",
       "font-family: monospace;\n",
       "display: block;\n",
       "white-space: pre-wrap;\n",
       "}\n",
       ".show-type {\n",
       "color: green;\n",
       "font-weight: bold;\n",
       "font-family: monospace;\n",
       "margin-left: 1em;\n",
       "}\n",
       ".mono {\n",
       "font-family: monospace;\n",
       "display: block;\n",
       "}\n",
       ".err-msg {\n",
       "color: red;\n",
       "font-style: italic;\n",
       "font-family: monospace;\n",
       "white-space: pre;\n",
       "display: block;\n",
       "}\n",
       "#unshowable {\n",
       "color: red;\n",
       "font-weight: bold;\n",
       "}\n",
       ".err-msg.in.collapse {\n",
       "padding-top: 0.7em;\n",
       "}\n",
       ".highlight-code {\n",
       "white-space: pre;\n",
       "font-family: monospace;\n",
       "}\n",
       ".suggestion-warning { \n",
       "font-weight: bold;\n",
       "color: rgb(200, 130, 0);\n",
       "}\n",
       ".suggestion-error { \n",
       "font-weight: bold;\n",
       "color: red;\n",
       "}\n",
       ".suggestion-name {\n",
       "font-weight: bold;\n",
       "}\n",
       "</style><div class=\"suggestion-name\" style=\"clear:both;\">Use foldr</div><div class=\"suggestion-row\" style=\"float: left;\"><div class=\"suggestion-warning\">Found:</div><div class=\"highlight-code\" id=\"haskell\">or' [] = False\n",
       "or' (x : xs) = x || or' xs</div></div><div class=\"suggestion-row\" style=\"float: left;\"><div class=\"suggestion-warning\">Why Not:</div><div class=\"highlight-code\" id=\"haskell\">or' xs = foldr (||) False xs</div></div>"
      ],
      "text/plain": [
       "Line 2: Use foldr\n",
       "Found:\n",
       "or' [] = False\n",
       "or' (x : xs) = x || or' xs\n",
       "Why not:\n",
       "or' xs = foldr (||) False xs"
      ]
     },
     "metadata": {},
     "output_type": "display_data"
    },
    {
     "data": {
      "text/plain": [
       "True"
      ]
     },
     "metadata": {},
     "output_type": "display_data"
    }
   ],
   "source": [
    "or' :: [Bool] -> Bool -- or' [True, False, True] = True\n",
    "or' [] = False\n",
    "or' (x:xs) = x || or' xs\n",
    "\n",
    "or' [True, False, True]"
   ]
  },
  {
   "cell_type": "code",
   "execution_count": 41,
   "id": "a67a49fb",
   "metadata": {},
   "outputs": [
    {
     "data": {
      "text/plain": [
       "False"
      ]
     },
     "metadata": {},
     "output_type": "display_data"
    },
    {
     "data": {
      "text/plain": [
       "False"
      ]
     },
     "metadata": {},
     "output_type": "display_data"
    },
    {
     "data": {
      "text/plain": [
       "True"
      ]
     },
     "metadata": {},
     "output_type": "display_data"
    }
   ],
   "source": [
    "and' :: [Bool] -> Bool -- and' [True, False, True] = False\n",
    "and' [] = False\n",
    "and' [True] = True\n",
    "and' (x:xs) = x && and' xs\n",
    "\n",
    "and' [True, False, True]\n",
    "and' []\n",
    "and' [True, True]"
   ]
  },
  {
   "cell_type": "code",
   "execution_count": 42,
   "id": "3a07aa90",
   "metadata": {},
   "outputs": [
    {
     "data": {
      "text/plain": [
       "True"
      ]
     },
     "metadata": {},
     "output_type": "display_data"
    },
    {
     "data": {
      "text/plain": [
       "False"
      ]
     },
     "metadata": {},
     "output_type": "display_data"
    }
   ],
   "source": [
    "elem' :: Eq a => a -> [a] -> Bool -- elem' 3 [1,2,3] = True\n",
    "elem' _ [] = False\n",
    "elem' i (x:xs) = x == i || elem' i xs\n",
    "\n",
    "elem' 3 [1,3,6,2]\n",
    "elem' 3 [1,2,6,7]"
   ]
  },
  {
   "cell_type": "code",
   "execution_count": 43,
   "id": "504bbda6",
   "metadata": {},
   "outputs": [
    {
     "data": {
      "text/html": [
       "<style>/* Styles used for the Hoogle display in the pager */\n",
       ".hoogle-doc {\n",
       "display: block;\n",
       "padding-bottom: 1.3em;\n",
       "padding-left: 0.4em;\n",
       "}\n",
       ".hoogle-code {\n",
       "display: block;\n",
       "font-family: monospace;\n",
       "white-space: pre;\n",
       "}\n",
       ".hoogle-text {\n",
       "display: block;\n",
       "}\n",
       ".hoogle-name {\n",
       "color: green;\n",
       "font-weight: bold;\n",
       "}\n",
       ".hoogle-head {\n",
       "font-weight: bold;\n",
       "}\n",
       ".hoogle-sub {\n",
       "display: block;\n",
       "margin-left: 0.4em;\n",
       "}\n",
       ".hoogle-package {\n",
       "font-weight: bold;\n",
       "font-style: italic;\n",
       "}\n",
       ".hoogle-module {\n",
       "font-weight: bold;\n",
       "}\n",
       ".hoogle-class {\n",
       "font-weight: bold;\n",
       "}\n",
       ".get-type {\n",
       "color: green;\n",
       "font-weight: bold;\n",
       "font-family: monospace;\n",
       "display: block;\n",
       "white-space: pre-wrap;\n",
       "}\n",
       ".show-type {\n",
       "color: green;\n",
       "font-weight: bold;\n",
       "font-family: monospace;\n",
       "margin-left: 1em;\n",
       "}\n",
       ".mono {\n",
       "font-family: monospace;\n",
       "display: block;\n",
       "}\n",
       ".err-msg {\n",
       "color: red;\n",
       "font-style: italic;\n",
       "font-family: monospace;\n",
       "white-space: pre;\n",
       "display: block;\n",
       "}\n",
       "#unshowable {\n",
       "color: red;\n",
       "font-weight: bold;\n",
       "}\n",
       ".err-msg.in.collapse {\n",
       "padding-top: 0.7em;\n",
       "}\n",
       ".highlight-code {\n",
       "white-space: pre;\n",
       "font-family: monospace;\n",
       "}\n",
       ".suggestion-warning { \n",
       "font-weight: bold;\n",
       "color: rgb(200, 130, 0);\n",
       "}\n",
       ".suggestion-error { \n",
       "font-weight: bold;\n",
       "color: red;\n",
       "}\n",
       ".suggestion-name {\n",
       "font-weight: bold;\n",
       "}\n",
       "</style><div class=\"suggestion-name\" style=\"clear:both;\">Use map</div><div class=\"suggestion-row\" style=\"float: left;\"><div class=\"suggestion-warning\">Found:</div><div class=\"highlight-code\" id=\"haskell\">doubleAll [] = []\n",
       "doubleAll (x : xs) = 2 * x : doubleAll xs</div></div><div class=\"suggestion-row\" style=\"float: left;\"><div class=\"suggestion-warning\">Why Not:</div><div class=\"highlight-code\" id=\"haskell\">doubleAll xs = map (2 *) xs</div></div>"
      ],
      "text/plain": [
       "Line 2: Use map\n",
       "Found:\n",
       "doubleAll [] = []\n",
       "doubleAll (x : xs) = 2 * x : doubleAll xs\n",
       "Why not:\n",
       "doubleAll xs = map (2 *) xs"
      ]
     },
     "metadata": {},
     "output_type": "display_data"
    },
    {
     "data": {
      "text/plain": [
       "[2,4,6,12]"
      ]
     },
     "metadata": {},
     "output_type": "display_data"
    }
   ],
   "source": [
    "doubleAll :: Num t => [t] -> [t] -- doubleAll [1,2] = [2,4]\n",
    "doubleAll [] = []\n",
    "doubleAll (x:xs) = 2*x : doubleAll xs\n",
    "\n",
    "doubleAll [1,2,3,6]"
   ]
  },
  {
   "cell_type": "code",
   "execution_count": 44,
   "id": "806d7c58",
   "metadata": {},
   "outputs": [
    {
     "data": {
      "text/html": [
       "<style>/* Styles used for the Hoogle display in the pager */\n",
       ".hoogle-doc {\n",
       "display: block;\n",
       "padding-bottom: 1.3em;\n",
       "padding-left: 0.4em;\n",
       "}\n",
       ".hoogle-code {\n",
       "display: block;\n",
       "font-family: monospace;\n",
       "white-space: pre;\n",
       "}\n",
       ".hoogle-text {\n",
       "display: block;\n",
       "}\n",
       ".hoogle-name {\n",
       "color: green;\n",
       "font-weight: bold;\n",
       "}\n",
       ".hoogle-head {\n",
       "font-weight: bold;\n",
       "}\n",
       ".hoogle-sub {\n",
       "display: block;\n",
       "margin-left: 0.4em;\n",
       "}\n",
       ".hoogle-package {\n",
       "font-weight: bold;\n",
       "font-style: italic;\n",
       "}\n",
       ".hoogle-module {\n",
       "font-weight: bold;\n",
       "}\n",
       ".hoogle-class {\n",
       "font-weight: bold;\n",
       "}\n",
       ".get-type {\n",
       "color: green;\n",
       "font-weight: bold;\n",
       "font-family: monospace;\n",
       "display: block;\n",
       "white-space: pre-wrap;\n",
       "}\n",
       ".show-type {\n",
       "color: green;\n",
       "font-weight: bold;\n",
       "font-family: monospace;\n",
       "margin-left: 1em;\n",
       "}\n",
       ".mono {\n",
       "font-family: monospace;\n",
       "display: block;\n",
       "}\n",
       ".err-msg {\n",
       "color: red;\n",
       "font-style: italic;\n",
       "font-family: monospace;\n",
       "white-space: pre;\n",
       "display: block;\n",
       "}\n",
       "#unshowable {\n",
       "color: red;\n",
       "font-weight: bold;\n",
       "}\n",
       ".err-msg.in.collapse {\n",
       "padding-top: 0.7em;\n",
       "}\n",
       ".highlight-code {\n",
       "white-space: pre;\n",
       "font-family: monospace;\n",
       "}\n",
       ".suggestion-warning { \n",
       "font-weight: bold;\n",
       "color: rgb(200, 130, 0);\n",
       "}\n",
       ".suggestion-error { \n",
       "font-weight: bold;\n",
       "color: red;\n",
       "}\n",
       ".suggestion-name {\n",
       "font-weight: bold;\n",
       "}\n",
       "</style><div class=\"suggestion-name\" style=\"clear:both;\">Use map</div><div class=\"suggestion-row\" style=\"float: left;\"><div class=\"suggestion-warning\">Found:</div><div class=\"highlight-code\" id=\"haskell\">squareAll [] = []\n",
       "squareAll (x : xs) = x ^ 2 : squareAll xs</div></div><div class=\"suggestion-row\" style=\"float: left;\"><div class=\"suggestion-warning\">Why Not:</div><div class=\"highlight-code\" id=\"haskell\">squareAll xs = map (^ 2) xs</div></div>"
      ],
      "text/plain": [
       "Line 2: Use map\n",
       "Found:\n",
       "squareAll [] = []\n",
       "squareAll (x : xs) = x ^ 2 : squareAll xs\n",
       "Why not:\n",
       "squareAll xs = map (^ 2) xs"
      ]
     },
     "metadata": {},
     "output_type": "display_data"
    },
    {
     "data": {
      "text/plain": [
       "[4,9,64]"
      ]
     },
     "metadata": {},
     "output_type": "display_data"
    }
   ],
   "source": [
    "squareAll :: Num t => [t] -> [t] -- squareAll [2,3] = [4,9]\n",
    "squareAll [] = []\n",
    "squareAll (x:xs) = x^2 : squareAll xs\n",
    "\n",
    "squareAll [2,3,8]"
   ]
  },
  {
   "cell_type": "code",
   "execution_count": 45,
   "id": "b8264e21",
   "metadata": {},
   "outputs": [
    {
     "data": {
      "text/plain": [
       "[2]"
      ]
     },
     "metadata": {},
     "output_type": "display_data"
    }
   ],
   "source": [
    "selectEven :: Integral t => [t] -> [t] -- selectEven [1,2,3] = [2]\n",
    "selectEven [] = []\n",
    "selectEven (x:xs)\n",
    "    | even x = x : selectEven xs\n",
    "    | otherwise = selectEven xs\n",
    "    \n",
    "selectEven [1,2,3]"
   ]
  },
  {
   "cell_type": "markdown",
   "id": "dffd5357",
   "metadata": {},
   "source": [
    "**6.2 Wyznaczyć dla funkcji sum' rozmiar listy [1..N], przy którym pojawia się przepełnienie stosu**"
   ]
  },
  {
   "cell_type": "code",
   "execution_count": 46,
   "id": "26a4db7a",
   "metadata": {},
   "outputs": [
    {
     "data": {
      "text/html": [
       "<style>/* Styles used for the Hoogle display in the pager */\n",
       ".hoogle-doc {\n",
       "display: block;\n",
       "padding-bottom: 1.3em;\n",
       "padding-left: 0.4em;\n",
       "}\n",
       ".hoogle-code {\n",
       "display: block;\n",
       "font-family: monospace;\n",
       "white-space: pre;\n",
       "}\n",
       ".hoogle-text {\n",
       "display: block;\n",
       "}\n",
       ".hoogle-name {\n",
       "color: green;\n",
       "font-weight: bold;\n",
       "}\n",
       ".hoogle-head {\n",
       "font-weight: bold;\n",
       "}\n",
       ".hoogle-sub {\n",
       "display: block;\n",
       "margin-left: 0.4em;\n",
       "}\n",
       ".hoogle-package {\n",
       "font-weight: bold;\n",
       "font-style: italic;\n",
       "}\n",
       ".hoogle-module {\n",
       "font-weight: bold;\n",
       "}\n",
       ".hoogle-class {\n",
       "font-weight: bold;\n",
       "}\n",
       ".get-type {\n",
       "color: green;\n",
       "font-weight: bold;\n",
       "font-family: monospace;\n",
       "display: block;\n",
       "white-space: pre-wrap;\n",
       "}\n",
       ".show-type {\n",
       "color: green;\n",
       "font-weight: bold;\n",
       "font-family: monospace;\n",
       "margin-left: 1em;\n",
       "}\n",
       ".mono {\n",
       "font-family: monospace;\n",
       "display: block;\n",
       "}\n",
       ".err-msg {\n",
       "color: red;\n",
       "font-style: italic;\n",
       "font-family: monospace;\n",
       "white-space: pre;\n",
       "display: block;\n",
       "}\n",
       "#unshowable {\n",
       "color: red;\n",
       "font-weight: bold;\n",
       "}\n",
       ".err-msg.in.collapse {\n",
       "padding-top: 0.7em;\n",
       "}\n",
       ".highlight-code {\n",
       "white-space: pre;\n",
       "font-family: monospace;\n",
       "}\n",
       ".suggestion-warning { \n",
       "font-weight: bold;\n",
       "color: rgb(200, 130, 0);\n",
       "}\n",
       ".suggestion-error { \n",
       "font-weight: bold;\n",
       "color: red;\n",
       "}\n",
       ".suggestion-name {\n",
       "font-weight: bold;\n",
       "}\n",
       "</style><div class=\"suggestion-name\" style=\"clear:both;\">Use foldr</div><div class=\"suggestion-row\" style=\"float: left;\"><div class=\"suggestion-warning\">Found:</div><div class=\"highlight-code\" id=\"haskell\">sum' [] = 0\n",
       "sum' (x : xs) = x + sum' xs</div></div><div class=\"suggestion-row\" style=\"float: left;\"><div class=\"suggestion-warning\">Why Not:</div><div class=\"highlight-code\" id=\"haskell\">sum' xs = foldr (+) 0 xs</div></div>"
      ],
      "text/plain": [
       "Line 2: Use foldr\n",
       "Found:\n",
       "sum' [] = 0\n",
       "sum' (x : xs) = x + sum' xs\n",
       "Why not:\n",
       "sum' xs = foldr (+) 0 xs"
      ]
     },
     "metadata": {},
     "output_type": "display_data"
    }
   ],
   "source": [
    "sum' :: Num a => [a] -> a\n",
    "sum' []     = 0\n",
    "sum' (x:xs) = x + sum' xs"
   ]
  },
  {
   "cell_type": "code",
   "execution_count": 47,
   "id": "877f2aac",
   "metadata": {},
   "outputs": [
    {
     "data": {
      "text/plain": [
       "50000005000000"
      ]
     },
     "metadata": {},
     "output_type": "display_data"
    }
   ],
   "source": [
    "sum' [1..10000000]\n",
    "-- alokacja pamięci na stosie i kopcu (heap) w Haskellu to \n",
    "-- bardzo ciekawy temat, jak można się domyślać, nie jest zrealizowany\n",
    "-- tak jak np. w Javie, co jest zasługą m. in. leniwej ewaluacji\n",
    "-- dzięki temu trudniej przepełnić stos\n",
    "\n",
    "-- do tego najwyraźniej występują różnice pomiędzy najnowszą wersją GHCI \n",
    "-- oraz kernelem IHaskell do Jupyter Notebooka\n",
    "-- w GHCI w konsoli powyższa wartość skutowała stack overflow\n",
    "-- tutaj natomiast łatwiej uzyskać heap overflow"
   ]
  },
  {
   "cell_type": "markdown",
   "id": "9c0f7ca4",
   "metadata": {},
   "source": [
    "**6.3 Napisać funkcję obliczającą średnią arytmetyczną elementów listy**"
   ]
  },
  {
   "cell_type": "code",
   "execution_count": 48,
   "id": "fe2fb5bd",
   "metadata": {},
   "outputs": [],
   "source": [
    "artAvg :: (Real a, Fractional b) => [a] -> b\n",
    "artAvg [] = 0\n",
    "artAvg xs = realToFrac (sum xs) / fromIntegral (length xs)"
   ]
  },
  {
   "cell_type": "code",
   "execution_count": 49,
   "id": "4535bd65",
   "metadata": {},
   "outputs": [
    {
     "data": {
      "text/plain": [
       "10.0"
      ]
     },
     "metadata": {},
     "output_type": "display_data"
    }
   ],
   "source": [
    "artAvg [5,10,15]"
   ]
  },
  {
   "cell_type": "markdown",
   "id": "1f33b55f",
   "metadata": {},
   "source": [
    "**6.4 Napisać funkcję obliczającą średnią geometryczną elementów listy. Czy można te dwie funkcje połączyć i zwracać obie średnie jako parę?**"
   ]
  },
  {
   "cell_type": "code",
   "execution_count": 50,
   "id": "ba210e90",
   "metadata": {
    "scrolled": true
   },
   "outputs": [],
   "source": [
    "geoAvg :: (Real a, Fractional b) => [a] -> b\n",
    "geoAvg [] = 0\n",
    "geoAvg xs = realToFrac (realToFrac (product xs) ** (1 / fromIntegral (length xs)))"
   ]
  },
  {
   "cell_type": "code",
   "execution_count": 51,
   "id": "08938b19",
   "metadata": {},
   "outputs": [
    {
     "data": {
      "text/plain": [
       "9.085602964160698"
      ]
     },
     "metadata": {},
     "output_type": "display_data"
    }
   ],
   "source": [
    "geoAvg [5,10,15]"
   ]
  },
  {
   "cell_type": "code",
   "execution_count": 52,
   "id": "4e6402a4",
   "metadata": {},
   "outputs": [],
   "source": [
    "getAvg :: (Real a, Fractional b) => [a] -> (b, b)\n",
    "getAvg [] = (0, 0)\n",
    "getAvg xs = (artAvg xs, geoAvg xs)"
   ]
  },
  {
   "cell_type": "code",
   "execution_count": 53,
   "id": "7cab3156",
   "metadata": {},
   "outputs": [
    {
     "data": {
      "text/plain": [
       "(10.0,9.085602964160698)"
      ]
     },
     "metadata": {},
     "output_type": "display_data"
    }
   ],
   "source": [
    "getAvg [5,10,15]"
   ]
  },
  {
   "cell_type": "markdown",
   "id": "202b7c43",
   "metadata": {},
   "source": [
    "## Zadania #7"
   ]
  },
  {
   "cell_type": "markdown",
   "id": "0d3ccae7",
   "metadata": {},
   "source": [
    "**7.1 Napisać definicje funkcji wykorzystując akumulator i funkcję pomocniczą/wewnętrzną**"
   ]
  },
  {
   "cell_type": "code",
   "execution_count": 54,
   "id": "85d5778a",
   "metadata": {},
   "outputs": [
    {
     "data": {
      "text/plain": [
       "6"
      ]
     },
     "metadata": {},
     "output_type": "display_data"
    }
   ],
   "source": [
    "prod'2 :: Num a => [a] -> a\n",
    "prod'2 = loop 1\n",
    "    where loop acc [] = acc\n",
    "          loop acc (x:xs) = loop (acc * x) xs\n",
    "\n",
    "\n",
    "prod'2 [1,2,3]"
   ]
  },
  {
   "cell_type": "code",
   "execution_count": 55,
   "id": "a394d4ca",
   "metadata": {},
   "outputs": [
    {
     "data": {
      "text/plain": [
       "4"
      ]
     },
     "metadata": {},
     "output_type": "display_data"
    }
   ],
   "source": [
    "length'2 :: [a] -> Int\n",
    "length'2 = loop 0\n",
    "    where loop acc [] = acc\n",
    "          loop acc (x:xs) = loop (acc + 1) xs\n",
    "          \n",
    "length'2 [1,1,1,1]"
   ]
  },
  {
   "cell_type": "markdown",
   "id": "3406a83e",
   "metadata": {},
   "source": [
    "## Zadania #8"
   ]
  },
  {
   "cell_type": "code",
   "execution_count": 56,
   "id": "a17e4f2f",
   "metadata": {},
   "outputs": [],
   "source": [
    "qSort :: Ord a => [a] -> [a]\n",
    "qSort []     = []\n",
    "qSort (x:xs) = qSort (leftPart xs) ++ [x] ++ qSort (rightPart xs)\n",
    " where\n",
    "   leftPart  xs = [ y | y <- xs, y <= x ]\n",
    "   rightPart xs = [ y | y <- xs, y > x  ]"
   ]
  },
  {
   "cell_type": "code",
   "execution_count": 57,
   "id": "b88b9b31",
   "metadata": {},
   "outputs": [
    {
     "data": {
      "text/plain": [
       "[1,2,3,4,5,6,6,7,8,9,56]"
      ]
     },
     "metadata": {},
     "output_type": "display_data"
    }
   ],
   "source": [
    "qSort [1,3,6,5,4,8,7,2,9,56,6]"
   ]
  },
  {
   "cell_type": "markdown",
   "id": "6b272103",
   "metadata": {},
   "source": [
    "**8.1 Zmodyfikować funkcje wewnętrzne leftPart i rightPart tak, aby zamiast list comprehensions wykorzystać funkcję filter (z biblioteki standardowej)**"
   ]
  },
  {
   "cell_type": "code",
   "execution_count": 58,
   "id": "9d2d56e7",
   "metadata": {},
   "outputs": [],
   "source": [
    "qSort :: Ord a => [a] -> [a]\n",
    "qSort []     = []\n",
    "qSort (x:xs) = qSort (leftPart xs) ++ [x] ++ qSort (rightPart xs)\n",
    " where\n",
    "   leftPart  xs = filter (<= x) xs\n",
    "   rightPart xs = filter (> x) xs"
   ]
  },
  {
   "cell_type": "code",
   "execution_count": 59,
   "id": "f7cd92e1",
   "metadata": {},
   "outputs": [
    {
     "data": {
      "text/plain": [
       "[1,2,3,4,5,6,6,7,8,9,56]"
      ]
     },
     "metadata": {},
     "output_type": "display_data"
    }
   ],
   "source": [
    "qSort [1,3,6,5,4,8,7,2,9,56,6]"
   ]
  },
  {
   "cell_type": "markdown",
   "id": "eaee16fb",
   "metadata": {},
   "source": [
    "**8.2 Zdefiniować funkcję mSort (implementacja algorytmu MergeSort)**"
   ]
  },
  {
   "cell_type": "code",
   "execution_count": 60,
   "id": "c0dc418a",
   "metadata": {},
   "outputs": [],
   "source": [
    "mSort :: Ord a => [a] -> [a]\n",
    "mSort [] = []\n",
    "mSort [a] = [a]\n",
    "mSort xs = merge (mSort leftPart) (mSort rightPart)\n",
    "    where (leftPart, rightPart) = splitAt (length xs `div` 2) xs\n",
    "          merge xs [] = xs\n",
    "          merge [] ys = ys\n",
    "          merge (x:xs) (y:ys)\n",
    "              | x < y = x : merge xs (y:ys)\n",
    "              |otherwise = y : merge (x:xs) ys"
   ]
  },
  {
   "cell_type": "code",
   "execution_count": 61,
   "id": "a2c54b93",
   "metadata": {},
   "outputs": [
    {
     "data": {
      "text/plain": [
       "[1,2,3,4,5,6,6,7,8,9,56]"
      ]
     },
     "metadata": {},
     "output_type": "display_data"
    }
   ],
   "source": [
    "mSort [1,2,3,4,5,6,6,7,8,9,56]"
   ]
  },
  {
   "cell_type": "markdown",
   "id": "41faeed9",
   "metadata": {},
   "source": [
    "**8.3 Zdefiniować funkcję iSort (implementacja algorytmu Insertion Sort)**"
   ]
  },
  {
   "cell_type": "code",
   "execution_count": 62,
   "id": "491f99a8",
   "metadata": {},
   "outputs": [],
   "source": [
    "iSort :: Ord a => [a] -> [a]\n",
    "iSort [] = []\n",
    "iSort (x:xs) = insert x (iSort xs)\n",
    "    where\n",
    "        insert i [] = [i]\n",
    "        insert i (y:ys)\n",
    "            | i > y = y : insert i ys\n",
    "            | otherwise = i : y : ys"
   ]
  },
  {
   "cell_type": "code",
   "execution_count": 63,
   "id": "f219a6be",
   "metadata": {},
   "outputs": [
    {
     "data": {
      "text/plain": [
       "[1,2,3,4,5,6,6,7,8,9,56]"
      ]
     },
     "metadata": {},
     "output_type": "display_data"
    }
   ],
   "source": [
    "iSort [1,2,3,4,5,6,6,7,8,9,56]"
   ]
  },
  {
   "cell_type": "markdown",
   "id": "7779bc27",
   "metadata": {},
   "source": [
    "**8.4 Naspiać dwie wersje funkcji**"
   ]
  },
  {
   "cell_type": "code",
   "execution_count": 64,
   "id": "89a585ef",
   "metadata": {},
   "outputs": [],
   "source": [
    "-- z użyciem list comprehension\n",
    "concat' :: [[a]] -> [a]\n",
    "concat' xs = [y | x <- xs, y <- x]"
   ]
  },
  {
   "cell_type": "code",
   "execution_count": 65,
   "id": "f98aac26",
   "metadata": {},
   "outputs": [
    {
     "data": {
      "text/plain": [
       "[1,2,3,4]"
      ]
     },
     "metadata": {},
     "output_type": "display_data"
    }
   ],
   "source": [
    "concat' [[1,2], [3,4]]"
   ]
  },
  {
   "cell_type": "code",
   "execution_count": 66,
   "id": "d326cbfe",
   "metadata": {},
   "outputs": [
    {
     "data": {
      "text/html": [
       "<style>/* Styles used for the Hoogle display in the pager */\n",
       ".hoogle-doc {\n",
       "display: block;\n",
       "padding-bottom: 1.3em;\n",
       "padding-left: 0.4em;\n",
       "}\n",
       ".hoogle-code {\n",
       "display: block;\n",
       "font-family: monospace;\n",
       "white-space: pre;\n",
       "}\n",
       ".hoogle-text {\n",
       "display: block;\n",
       "}\n",
       ".hoogle-name {\n",
       "color: green;\n",
       "font-weight: bold;\n",
       "}\n",
       ".hoogle-head {\n",
       "font-weight: bold;\n",
       "}\n",
       ".hoogle-sub {\n",
       "display: block;\n",
       "margin-left: 0.4em;\n",
       "}\n",
       ".hoogle-package {\n",
       "font-weight: bold;\n",
       "font-style: italic;\n",
       "}\n",
       ".hoogle-module {\n",
       "font-weight: bold;\n",
       "}\n",
       ".hoogle-class {\n",
       "font-weight: bold;\n",
       "}\n",
       ".get-type {\n",
       "color: green;\n",
       "font-weight: bold;\n",
       "font-family: monospace;\n",
       "display: block;\n",
       "white-space: pre-wrap;\n",
       "}\n",
       ".show-type {\n",
       "color: green;\n",
       "font-weight: bold;\n",
       "font-family: monospace;\n",
       "margin-left: 1em;\n",
       "}\n",
       ".mono {\n",
       "font-family: monospace;\n",
       "display: block;\n",
       "}\n",
       ".err-msg {\n",
       "color: red;\n",
       "font-style: italic;\n",
       "font-family: monospace;\n",
       "white-space: pre;\n",
       "display: block;\n",
       "}\n",
       "#unshowable {\n",
       "color: red;\n",
       "font-weight: bold;\n",
       "}\n",
       ".err-msg.in.collapse {\n",
       "padding-top: 0.7em;\n",
       "}\n",
       ".highlight-code {\n",
       "white-space: pre;\n",
       "font-family: monospace;\n",
       "}\n",
       ".suggestion-warning { \n",
       "font-weight: bold;\n",
       "color: rgb(200, 130, 0);\n",
       "}\n",
       ".suggestion-error { \n",
       "font-weight: bold;\n",
       "color: red;\n",
       "}\n",
       ".suggestion-name {\n",
       "font-weight: bold;\n",
       "}\n",
       "</style><div class=\"suggestion-name\" style=\"clear:both;\">Use foldr</div><div class=\"suggestion-row\" style=\"float: left;\"><div class=\"suggestion-warning\">Found:</div><div class=\"highlight-code\" id=\"haskell\">concat'' [] = []\n",
       "concat'' (x : xs) = x ++ concat'' xs</div></div><div class=\"suggestion-row\" style=\"float: left;\"><div class=\"suggestion-warning\">Why Not:</div><div class=\"highlight-code\" id=\"haskell\">concat'' xs = foldr (++) [] xs</div></div>"
      ],
      "text/plain": [
       "Line 3: Use foldr\n",
       "Found:\n",
       "concat'' [] = []\n",
       "concat'' (x : xs) = x ++ concat'' xs\n",
       "Why not:\n",
       "concat'' xs = foldr (++) [] xs"
      ]
     },
     "metadata": {},
     "output_type": "display_data"
    }
   ],
   "source": [
    "-- z użyciem rekursji\n",
    "concat'' :: [[a]] -> [a]\n",
    "concat'' [] = []\n",
    "concat'' (x:xs) = x ++ concat'' xs"
   ]
  },
  {
   "cell_type": "code",
   "execution_count": 67,
   "id": "76b7223b",
   "metadata": {},
   "outputs": [
    {
     "data": {
      "text/plain": [
       "[1,2,3,4]"
      ]
     },
     "metadata": {},
     "output_type": "display_data"
    }
   ],
   "source": [
    "concat'' [[1,2], [3,4]]"
   ]
  },
  {
   "cell_type": "markdown",
   "id": "78770011",
   "metadata": {},
   "source": [
    "**8.5 Napisać definicje funkcji**"
   ]
  },
  {
   "cell_type": "code",
   "execution_count": 68,
   "id": "cc56f568",
   "metadata": {},
   "outputs": [
    {
     "data": {
      "text/plain": [
       "True"
      ]
     },
     "metadata": {},
     "output_type": "display_data"
    },
    {
     "data": {
      "text/plain": [
       "False"
      ]
     },
     "metadata": {},
     "output_type": "display_data"
    }
   ],
   "source": [
    "isSorted :: [Int] -> Bool -- isSorted [1,2,2,3] = True\n",
    "isSorted [] = True\n",
    "isSorted [a] = True\n",
    "isSorted (x:xs) = x <= head xs && isSorted xs\n",
    "\n",
    "isSorted [1,2,2,3]\n",
    "isSorted [1,2,1,3]"
   ]
  },
  {
   "cell_type": "code",
   "execution_count": 69,
   "id": "7963b302",
   "metadata": {},
   "outputs": [
    {
     "data": {
      "text/plain": [
       "[3,2,1]"
      ]
     },
     "metadata": {},
     "output_type": "display_data"
    }
   ],
   "source": [
    "reverse' :: [a] -> [a] -- reverse [1,2,3] = [3,2,1]\n",
    "reverse' [] = []\n",
    "reverse' (x:xs) = reverse' xs ++ [x]\n",
    "\n",
    "reverse' [1,2,3]"
   ]
  },
  {
   "cell_type": "code",
   "execution_count": 70,
   "id": "a02c1b92",
   "metadata": {},
   "outputs": [
    {
     "data": {
      "text/plain": [
       "[(1,3),(2,4)]"
      ]
     },
     "metadata": {},
     "output_type": "display_data"
    }
   ],
   "source": [
    "zip' :: [a] -> [b] -> [(a,b)] -- zip' [1,2] [3,4] = [(1,3), (2,4)]\n",
    "zip' _ [] = []\n",
    "zip' [] _ = []\n",
    "zip' (x:xs) (y:ys) = (x,y) : zip' xs ys\n",
    "\n",
    "zip' [1,2] [3,4]"
   ]
  },
  {
   "cell_type": "code",
   "execution_count": 71,
   "id": "561235d9",
   "metadata": {},
   "outputs": [
    {
     "data": {
      "text/plain": [
       "([1,3],[2,4])"
      ]
     },
     "metadata": {},
     "output_type": "display_data"
    }
   ],
   "source": [
    "unzip' :: [(a, b)] -> ([a],[b]) -- unzip [(1,2), (3,4)] = ([1,3],[2,4])\n",
    "unzip' [] = ([], [])\n",
    "unzip' xs = (map fst xs, map snd xs)\n",
    "\n",
    "unzip [(1,2), (3,4)]"
   ]
  },
  {
   "cell_type": "code",
   "execution_count": 72,
   "id": "2246ea81",
   "metadata": {},
   "outputs": [
    {
     "data": {
      "text/plain": [
       "[(1,3,5),(2,4,6)]"
      ]
     },
     "metadata": {},
     "output_type": "display_data"
    }
   ],
   "source": [
    "zip3' :: [a] -> [b] -> [c] -> [(a,b,c)]\n",
    "zip3' [] _ _ = []\n",
    "zip3' _ [] _ = []\n",
    "zip3' _ _ [] = []\n",
    "zip3' (x:xs) (y:ys) (z:zs) = (x,y,z) : zip3' xs ys zs\n",
    "\n",
    "zip3' [1,2] [3,4] [5,6]"
   ]
  },
  {
   "cell_type": "code",
   "execution_count": 73,
   "id": "977a5c18",
   "metadata": {},
   "outputs": [
    {
     "data": {
      "text/plain": [
       "True"
      ]
     },
     "metadata": {},
     "output_type": "display_data"
    },
    {
     "data": {
      "text/plain": [
       "False"
      ]
     },
     "metadata": {},
     "output_type": "display_data"
    }
   ],
   "source": [
    "-- naiwne podejście\n",
    "subList :: Eq a => [a] -> [a] -> Bool -- subList [1,2] [3,1,2,4] = True\n",
    "subList [] _ = True\n",
    "subList _ [] = False\n",
    "subList is (x:xs) = check is (x:xs) || subList is xs\n",
    "    where check [] _ = True\n",
    "          check _ [] = False\n",
    "          check (i:is) (x:xs) = i == x && check is xs\n",
    "          \n",
    "subList [1,2] [3,1,2,4]\n",
    "subList [1,2] [3,1,4,2]"
   ]
  },
  {
   "cell_type": "markdown",
   "id": "d0495515",
   "metadata": {},
   "source": [
    "## Zadania #9"
   ]
  },
  {
   "cell_type": "markdown",
   "id": "821603fc",
   "metadata": {},
   "source": [
    "**9.1 Napisać definicję funkcji sprawdzającej, czy pierwszy element listy jest podzielnikiem drugiego**"
   ]
  },
  {
   "cell_type": "code",
   "execution_count": 74,
   "id": "7a350d5f",
   "metadata": {},
   "outputs": [],
   "source": [
    "fstDivSnd :: Integral a => [a] -> Bool\n",
    "fstDivSnd (x:y:_) | y `mod` x == 0 = True\n",
    "fstDivSnd _                        = False"
   ]
  },
  {
   "cell_type": "code",
   "execution_count": 75,
   "id": "eeb211ac",
   "metadata": {},
   "outputs": [
    {
     "data": {
      "text/plain": [
       "True"
      ]
     },
     "metadata": {},
     "output_type": "display_data"
    }
   ],
   "source": [
    "fstDivSnd [2,4,5,3,6]"
   ]
  },
  {
   "cell_type": "markdown",
   "id": "ac6e1b22",
   "metadata": {},
   "source": [
    "**9.2 Napisać definicję funkcji sprawdzającej, czy pierwszy element listy jest podzielnikiem trzeciego**"
   ]
  },
  {
   "cell_type": "code",
   "execution_count": 76,
   "id": "49869435",
   "metadata": {},
   "outputs": [],
   "source": [
    "fstDivThr :: Integral a => [a] -> Bool\n",
    "fstDivThr (x:y:z:_) | z `mod` x == 0 = True\n",
    "fstDivThr _                          = False"
   ]
  },
  {
   "cell_type": "code",
   "execution_count": 77,
   "id": "0087e3dc",
   "metadata": {},
   "outputs": [
    {
     "data": {
      "text/plain": [
       "True"
      ]
     },
     "metadata": {},
     "output_type": "display_data"
    }
   ],
   "source": [
    "fstDivThr [2,3,8,3,6]"
   ]
  }
 ],
 "metadata": {
  "kernelspec": {
   "display_name": "Haskell",
   "language": "haskell",
   "name": "haskell"
  },
  "language_info": {
   "codemirror_mode": "ihaskell",
   "file_extension": ".hs",
   "mimetype": "text/x-haskell",
   "name": "haskell",
   "pygments_lexer": "Haskell",
   "version": "8.10.7"
  }
 },
 "nbformat": 4,
 "nbformat_minor": 5
}
