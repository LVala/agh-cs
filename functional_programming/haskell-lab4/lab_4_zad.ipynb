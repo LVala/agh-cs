{
 "cells": [
  {
   "cell_type": "markdown",
   "id": "67284151",
   "metadata": {},
   "source": [
    "# Lab_4"
   ]
  },
  {
   "cell_type": "markdown",
   "id": "67d52897",
   "metadata": {},
   "source": [
    "## Zadania #1"
   ]
  },
  {
   "cell_type": "markdown",
   "id": "041654a3",
   "metadata": {},
   "source": [
    "**1.1 Napisać odpowiedniki powyższych (tj. z zestawu) typów i funkcji dla układów: cylindrycznego i sferycznego**"
   ]
  },
  {
   "cell_type": "code",
   "execution_count": 1,
   "id": "bdf58fa0",
   "metadata": {},
   "outputs": [],
   "source": [
    "newtype CylindricalCoord a = MkCylindricalCoord (a, a, a)\n",
    "newtype SphericalCoord a = MkSphericalCoord (a, a, a)\n",
    "\n",
    "cylindricalToSpherical :: Floating a => CylindricalCoord a -> SphericalCoord a\n",
    "cylindricalToSpherical (MkCylindricalCoord (rho, phi, z)) = MkSphericalCoord (sqrt (rho^2 + z^2), phi, atan (z/rho))\n",
    "\n",
    "a = cylindricalToSpherical (MkCylindricalCoord (1,2,3))"
   ]
  },
  {
   "cell_type": "markdown",
   "id": "272301f4",
   "metadata": {},
   "source": [
    "**1.2 Sprawdzić działanie funkcji**"
   ]
  },
  {
   "cell_type": "code",
   "execution_count": 2,
   "id": "937b1fa3",
   "metadata": {},
   "outputs": [],
   "source": [
    "personInfoToString :: (String,String,String) -> String\n",
    "personInfoToString (nm,snm,addr) =\n",
    " \"name: \" ++ nm ++ \", surname: \" ++ snm ++ \", addr: \" ++ addr"
   ]
  },
  {
   "cell_type": "code",
   "execution_count": 3,
   "id": "3e801ada",
   "metadata": {},
   "outputs": [
    {
     "data": {
      "text/plain": [
       "\"name: Michail, surname: Berlioz, addr: ul. Sadowa 302a, m.50\""
      ]
     },
     "metadata": {},
     "output_type": "display_data"
    },
    {
     "data": {
      "text/plain": [
       "\"name: ul. Sadowa 302a, m.50, surname: Stiopa, addr: Lichodiejew\""
      ]
     },
     "metadata": {},
     "output_type": "display_data"
    }
   ],
   "source": [
    "personInfoToString (\"Michail\", \"Berlioz\", \"ul. Sadowa 302a, m.50\")\n",
    "personInfoToString (\"ul. Sadowa 302a, m.50\", \"Stiopa\", \"Lichodiejew\")"
   ]
  },
  {
   "cell_type": "markdown",
   "id": "b60f4ef6",
   "metadata": {},
   "source": [
    "**1.3 Dodać aliasy do powyższego zadania**"
   ]
  },
  {
   "cell_type": "code",
   "execution_count": 4,
   "id": "02bff37d",
   "metadata": {},
   "outputs": [],
   "source": [
    "type Name' = String\n",
    "type Surname' = String\n",
    "type Address' = String\n",
    "type PersonInfo' = (Name', Surname', Address')\n",
    "type PersonInfoToStringType' = PersonInfo' -> String"
   ]
  },
  {
   "cell_type": "code",
   "execution_count": 5,
   "id": "d545a9cd",
   "metadata": {},
   "outputs": [],
   "source": [
    "personInfoToString' :: PersonInfoToStringType'\n",
    "personInfoToString' (nm,snm,addr) =\n",
    " \"name: \" ++ nm ++ \", surname: \" ++ snm ++ \", addr: \" ++ addr"
   ]
  },
  {
   "cell_type": "code",
   "execution_count": 6,
   "id": "c4fe0fe9",
   "metadata": {},
   "outputs": [
    {
     "data": {
      "text/plain": [
       "\"name: Michail, surname: Berlioz, addr: ul. Sadowa 302a, m.50\""
      ]
     },
     "metadata": {},
     "output_type": "display_data"
    }
   ],
   "source": [
    "personInfoToString (\"Michail\", \"Berlioz\", \"ul. Sadowa 302a, m.50\")"
   ]
  },
  {
   "cell_type": "markdown",
   "id": "84bc7712",
   "metadata": {},
   "source": [
    "**1.4 Wykorzystując newtype napisać funkcję**"
   ]
  },
  {
   "cell_type": "code",
   "execution_count": 7,
   "id": "b01ef556",
   "metadata": {},
   "outputs": [],
   "source": [
    "newtype Name'' = MkName'' String\n",
    "newtype Surname'' = MkSurname'' String\n",
    "newtype Address'' = MkAddress'' String\n",
    "newtype PersonInfo'' = MkPersonInfo'' (Name'', Surname'', Address'')"
   ]
  },
  {
   "cell_type": "code",
   "execution_count": 8,
   "id": "c0f6c579",
   "metadata": {},
   "outputs": [],
   "source": [
    "personInfoToString'' :: PersonInfo'' -> String\n",
    "personInfoToString'' (MkPersonInfo'' (MkName'' name, MkSurname'' surname, MkAddress'' address)) =\n",
    "    \"name: \" ++ name ++ \", surname: \" ++ surname ++ \", addr: \" ++ address"
   ]
  },
  {
   "cell_type": "code",
   "execution_count": 9,
   "id": "21973962",
   "metadata": {},
   "outputs": [
    {
     "data": {
      "text/plain": [
       "\"name: Michail, surname: Berlioz, addr: ul. Sadowa 302a, m.50\""
      ]
     },
     "metadata": {},
     "output_type": "display_data"
    }
   ],
   "source": [
    "personInfoToString'' (MkPersonInfo'' (MkName'' \"Michail\", MkSurname'' \"Berlioz\", MkAddress'' \"ul. Sadowa 302a, m.50\"))"
   ]
  },
  {
   "cell_type": "markdown",
   "id": "7241227d",
   "metadata": {},
   "source": [
    "## Zadania #2"
   ]
  },
  {
   "cell_type": "markdown",
   "id": "42bee31c",
   "metadata": {},
   "source": [
    "**2.1 Zdefiniować funkcje dostępowe np. xCoord3D itd. dla następującego typu (reprezentacja wektorów w 3D, współrzędne kartezjańskie)**"
   ]
  },
  {
   "cell_type": "code",
   "execution_count": 10,
   "id": "39283155",
   "metadata": {},
   "outputs": [],
   "source": [
    "{-\n",
    "uwaga: ta sama nazwa* dla:\n",
    " - konstruktora typu (po lewej)\n",
    " - konstruktora danych/wartości (po prawej)\n",
    "\n",
    " * druga (obok omówionej poprzednio -- z prefiksem 'Mk') powszechna konwencja w Haskellu!\n",
    "-}\n",
    "data Cart3DVec a = Cart3DVec a a a"
   ]
  },
  {
   "cell_type": "code",
   "execution_count": 11,
   "id": "c4f9f4eb",
   "metadata": {},
   "outputs": [],
   "source": [
    "xCoord3D :: Cart3DVec a -> a\n",
    "xCoord3D (Cart3DVec a _ _) = a\n",
    "\n",
    "yCoord3D :: Cart3DVec a -> a\n",
    "yCoord3D (Cart3DVec _ y _) = y\n",
    "\n",
    "zCoord3D :: Cart3DVec a -> a\n",
    "zCoord3D (Cart3DVec _ _ z) = z"
   ]
  },
  {
   "cell_type": "code",
   "execution_count": 12,
   "id": "a4203e96",
   "metadata": {},
   "outputs": [
    {
     "data": {
      "text/plain": [
       "1"
      ]
     },
     "metadata": {},
     "output_type": "display_data"
    },
    {
     "data": {
      "text/plain": [
       "2"
      ]
     },
     "metadata": {},
     "output_type": "display_data"
    },
    {
     "data": {
      "text/plain": [
       "3"
      ]
     },
     "metadata": {},
     "output_type": "display_data"
    }
   ],
   "source": [
    "vec = Cart3DVec 1 2 3\n",
    "\n",
    "xCoord3D vec\n",
    "yCoord3D vec\n",
    "zCoord3D vec"
   ]
  },
  {
   "cell_type": "markdown",
   "id": "f84ca370",
   "metadata": {},
   "source": [
    "**2.2 Wykorzystując record syntax napisać nową wersję Cart3DVec, a następnie sprawdzić istnienie odpowiednich (wygenerowanych przez kompilator) funkcji dostępowych**"
   ]
  },
  {
   "cell_type": "code",
   "execution_count": 13,
   "id": "dfaf173c",
   "metadata": {},
   "outputs": [],
   "source": [
    "data Cart3DVec a = Cart3DVec {x::a, y::a, z::a}"
   ]
  },
  {
   "cell_type": "code",
   "execution_count": 14,
   "id": "2fda0c6b",
   "metadata": {},
   "outputs": [
    {
     "data": {
      "text/plain": [
       "1"
      ]
     },
     "metadata": {},
     "output_type": "display_data"
    },
    {
     "data": {
      "text/plain": [
       "2"
      ]
     },
     "metadata": {},
     "output_type": "display_data"
    },
    {
     "data": {
      "text/plain": [
       "3"
      ]
     },
     "metadata": {},
     "output_type": "display_data"
    }
   ],
   "source": [
    "vec = Cart3DVec 1 2 3\n",
    "\n",
    "x vec\n",
    "y vec\n",
    "z vec"
   ]
  },
  {
   "cell_type": "markdown",
   "id": "e92750d2",
   "metadata": {},
   "source": [
    "**2.3 Zdefiniować funkcję polarToCartesian dla powyższego typu**"
   ]
  },
  {
   "cell_type": "code",
   "execution_count": 15,
   "id": "7ba130e3",
   "metadata": {},
   "outputs": [],
   "source": [
    "data Cart2DVec a = Cart2DVec {x::a, y::a} deriving Show"
   ]
  },
  {
   "cell_type": "code",
   "execution_count": 16,
   "id": "ca3ac497",
   "metadata": {},
   "outputs": [],
   "source": [
    "polarToCartesian :: Floating a => Cart2DVec a -> Cart2DVec a \n",
    "polarToCartesian Cart2DVec {x = r, y = phi} = Cart2DVec {x = r * cos phi, y = r * sin phi}"
   ]
  },
  {
   "cell_type": "code",
   "execution_count": 17,
   "id": "ebb6362b",
   "metadata": {},
   "outputs": [
    {
     "data": {
      "text/plain": [
       "Cart2DVec {x = -0.4161468365471424, y = 0.9092974268256817}"
      ]
     },
     "metadata": {},
     "output_type": "display_data"
    }
   ],
   "source": [
    "polarToCartesian (Cart2DVec {x=1, y=2})"
   ]
  },
  {
   "cell_type": "markdown",
   "id": "9b5eba9c",
   "metadata": {},
   "source": [
    "**2.4 Zdefiniować funkcję, obliczającą pole powierzchni (figury płaskiej); założyć, że**"
   ]
  },
  {
   "cell_type": "code",
   "execution_count": 18,
   "id": "a28599d3",
   "metadata": {},
   "outputs": [],
   "source": [
    "data Shape = Circle Float |\n",
    "             Rectangle Float Float"
   ]
  },
  {
   "cell_type": "code",
   "execution_count": 19,
   "id": "f765db3a",
   "metadata": {},
   "outputs": [],
   "source": [
    "area :: Shape -> Float\n",
    "area (Circle a) = pi * a^2\n",
    "area (Rectangle a b) = a*b"
   ]
  },
  {
   "cell_type": "code",
   "execution_count": 20,
   "id": "bbe9ddf2",
   "metadata": {},
   "outputs": [
    {
     "data": {
      "text/plain": [
       "28.274334"
      ]
     },
     "metadata": {},
     "output_type": "display_data"
    },
    {
     "data": {
      "text/plain": [
       "10.0"
      ]
     },
     "metadata": {},
     "output_type": "display_data"
    }
   ],
   "source": [
    "area (Circle 3)\n",
    "area (Rectangle 2 5)"
   ]
  },
  {
   "cell_type": "markdown",
   "id": "6631ba7f",
   "metadata": {},
   "source": [
    "**2.5 Zdefiniować funkcję zwracającą element przechowywany w korzeniu drzewa binarnego zdefiniowanego w następujący sposób**"
   ]
  },
  {
   "cell_type": "code",
   "execution_count": 21,
   "id": "4b8ad01b",
   "metadata": {},
   "outputs": [],
   "source": [
    "data Tree a = EmptyT |\n",
    "              Node a (Tree a) (Tree a)\n",
    "              deriving Show"
   ]
  },
  {
   "cell_type": "code",
   "execution_count": 22,
   "id": "b4e879cc",
   "metadata": {},
   "outputs": [],
   "source": [
    "rootValue :: Tree a -> a\n",
    "rootValue EmptyT = error \"rootValue: tree is empty\"\n",
    "rootValue (Node a _ _) = a"
   ]
  },
  {
   "cell_type": "code",
   "execution_count": 23,
   "id": "bb53b92d",
   "metadata": {},
   "outputs": [
    {
     "ename": "",
     "evalue": "",
     "output_type": "error",
     "traceback": [
      "rootValue: tree is empty\nCallStack (from HasCallStack):\n  error, called at <interactive>:2:20 in interactive:Ghci596"
     ]
    }
   ],
   "source": [
    "rootValue EmptyT "
   ]
  },
  {
   "cell_type": "code",
   "execution_count": 24,
   "id": "215cafff",
   "metadata": {},
   "outputs": [
    {
     "data": {
      "text/plain": [
       "5"
      ]
     },
     "metadata": {},
     "output_type": "display_data"
    }
   ],
   "source": [
    "rootValue (Node 5 EmptyT EmptyT)"
   ]
  },
  {
   "cell_type": "markdown",
   "id": "82147437",
   "metadata": {},
   "source": [
    "**2.6 Zdefiniować typ wyliczeniowy TrafficLights dla sygnalizacji świetlnej oraz funkcję**"
   ]
  },
  {
   "cell_type": "code",
   "execution_count": 25,
   "id": "32addb9c",
   "metadata": {},
   "outputs": [],
   "source": [
    "data TrafficLights = Red | Green | Orange"
   ]
  },
  {
   "cell_type": "code",
   "execution_count": 26,
   "id": "a67d10a2",
   "metadata": {},
   "outputs": [],
   "source": [
    "actionFor :: TrafficLights -> String\n",
    "actionFor Red = \"Stay still\"\n",
    "actionFor Green = \"Go\"\n",
    "actionFor Orange = \"Slow down and stop\""
   ]
  },
  {
   "cell_type": "code",
   "execution_count": 27,
   "id": "510c5514",
   "metadata": {},
   "outputs": [
    {
     "data": {
      "text/plain": [
       "\"Stay still\""
      ]
     },
     "metadata": {},
     "output_type": "display_data"
    }
   ],
   "source": [
    "actionFor Red"
   ]
  },
  {
   "cell_type": "markdown",
   "id": "4e291f6e",
   "metadata": {},
   "source": [
    "## Zadania #3"
   ]
  },
  {
   "cell_type": "markdown",
   "id": "c13b897a",
   "metadata": {},
   "source": [
    "**3.1 Napisać definicje następujących funkcji:**"
   ]
  },
  {
   "cell_type": "code",
   "execution_count": 28,
   "id": "dece3fc8",
   "metadata": {},
   "outputs": [],
   "source": [
    "data BinTree a = EmptyBT |\n",
    "                 NodeBT a (BinTree a) (BinTree a) deriving Show"
   ]
  },
  {
   "cell_type": "code",
   "execution_count": 29,
   "id": "edb42865",
   "metadata": {},
   "outputs": [
    {
     "data": {
      "text/plain": [
       "3"
      ]
     },
     "metadata": {},
     "output_type": "display_data"
    }
   ],
   "source": [
    "depthOfBT :: BinTree a -> Int -- głębokość drzewa binarnego\n",
    "depthOfBT EmptyBT = 0\n",
    "depthOfBT (NodeBT _ left right) = 1 + max (depthOfBT left) (depthOfBT right)\n",
    "\n",
    "depthOfBT $ NodeBT 3 (NodeBT 1 EmptyBT EmptyBT) (NodeBT 5 EmptyBT (NodeBT 6 EmptyBT EmptyBT))"
   ]
  },
  {
   "cell_type": "code",
   "execution_count": 30,
   "id": "a154ee13",
   "metadata": {},
   "outputs": [
    {
     "data": {
      "text/plain": [
       "[1,3,5,6]"
      ]
     },
     "metadata": {},
     "output_type": "display_data"
    },
    {
     "data": {
      "text/plain": [
       "[3,1,5,6]"
      ]
     },
     "metadata": {},
     "output_type": "display_data"
    },
    {
     "data": {
      "text/plain": [
       "[5,6,3,1]"
      ]
     },
     "metadata": {},
     "output_type": "display_data"
    }
   ],
   "source": [
    "flattenBT :: BinTree a -> [a]  -- napisać trzy wersje: preorder, inorder, postorder\n",
    "-- preorder\n",
    "flattenBT EmptyBT = []\n",
    "flattenBT (NodeBT a left right) = flattenBT left ++ [a] ++ flattenBT right\n",
    "\n",
    "-- inorder\n",
    "flattenBT' :: BinTree a -> [a]\n",
    "flattenBT' EmptyBT = []\n",
    "flattenBT' (NodeBT a left right) = [a] ++ flattenBT left ++ flattenBT right\n",
    "\n",
    "-- postorder\n",
    "flattenBT'' :: BinTree a -> [a]\n",
    "flattenBT'' EmptyBT = []\n",
    "flattenBT'' (NodeBT a left right) = flattenBT right ++ [a] ++ flattenBT left\n",
    "\n",
    "\n",
    "flattenBT $ NodeBT 3 (NodeBT 1 EmptyBT EmptyBT) (NodeBT 5 EmptyBT (NodeBT 6 EmptyBT EmptyBT))\n",
    "flattenBT' $ NodeBT 3 (NodeBT 1 EmptyBT EmptyBT) (NodeBT 5 EmptyBT (NodeBT 6 EmptyBT EmptyBT))\n",
    "flattenBT'' $ NodeBT 3 (NodeBT 1 EmptyBT EmptyBT) (NodeBT 5 EmptyBT (NodeBT 6 EmptyBT EmptyBT))"
   ]
  },
  {
   "cell_type": "code",
   "execution_count": 31,
   "id": "75d1dc1d",
   "metadata": {},
   "outputs": [
    {
     "data": {
      "text/plain": [
       "NodeBT 6 (NodeBT 2 EmptyBT EmptyBT) (NodeBT 10 EmptyBT (NodeBT 12 EmptyBT EmptyBT))"
      ]
     },
     "metadata": {},
     "output_type": "display_data"
    }
   ],
   "source": [
    "mapBT :: (a -> b) -> BinTree a -> BinTree b -- funkcja map dla drzewa binarnego\n",
    "mapBT _ EmptyBT = EmptyBT\n",
    "mapBT f (NodeBT a left right) = NodeBT (f a) (mapBT f left) (mapBT f right)\n",
    "\n",
    "mapBT (*2) $ NodeBT 3 (NodeBT 1 EmptyBT EmptyBT) (NodeBT 5 EmptyBT (NodeBT 6 EmptyBT EmptyBT))"
   ]
  },
  {
   "cell_type": "code",
   "execution_count": 32,
   "id": "4de640bd",
   "metadata": {},
   "outputs": [],
   "source": [
    "insert :: Ord a => a -> BinTree a -> BinTree a -- insert element into BinTree\n",
    "insert a EmptyBT = NodeBT a EmptyBT EmptyBT\n",
    "insert a (NodeBT b left right)\n",
    "    | a < b = NodeBT b (insert a left) right\n",
    "    | a > b = NodeBT b left (insert a right)\n",
    "    | otherwise = NodeBT b left right"
   ]
  },
  {
   "cell_type": "code",
   "execution_count": 33,
   "id": "4c2536bb",
   "metadata": {},
   "outputs": [
    {
     "data": {
      "text/plain": [
       "NodeBT 3 (NodeBT 1 EmptyBT EmptyBT) (NodeBT 5 (NodeBT 4 EmptyBT EmptyBT) (NodeBT 6 EmptyBT EmptyBT))"
      ]
     },
     "metadata": {},
     "output_type": "display_data"
    }
   ],
   "source": [
    "insert 4 $ NodeBT 3 (NodeBT 1 EmptyBT EmptyBT) (NodeBT 5 EmptyBT (NodeBT 6 EmptyBT EmptyBT))"
   ]
  },
  {
   "cell_type": "code",
   "execution_count": 34,
   "id": "f05eb275",
   "metadata": {},
   "outputs": [
    {
     "data": {
      "text/html": [
       "<style>/* Styles used for the Hoogle display in the pager */\n",
       ".hoogle-doc {\n",
       "display: block;\n",
       "padding-bottom: 1.3em;\n",
       "padding-left: 0.4em;\n",
       "}\n",
       ".hoogle-code {\n",
       "display: block;\n",
       "font-family: monospace;\n",
       "white-space: pre;\n",
       "}\n",
       ".hoogle-text {\n",
       "display: block;\n",
       "}\n",
       ".hoogle-name {\n",
       "color: green;\n",
       "font-weight: bold;\n",
       "}\n",
       ".hoogle-head {\n",
       "font-weight: bold;\n",
       "}\n",
       ".hoogle-sub {\n",
       "display: block;\n",
       "margin-left: 0.4em;\n",
       "}\n",
       ".hoogle-package {\n",
       "font-weight: bold;\n",
       "font-style: italic;\n",
       "}\n",
       ".hoogle-module {\n",
       "font-weight: bold;\n",
       "}\n",
       ".hoogle-class {\n",
       "font-weight: bold;\n",
       "}\n",
       ".get-type {\n",
       "color: green;\n",
       "font-weight: bold;\n",
       "font-family: monospace;\n",
       "display: block;\n",
       "white-space: pre-wrap;\n",
       "}\n",
       ".show-type {\n",
       "color: green;\n",
       "font-weight: bold;\n",
       "font-family: monospace;\n",
       "margin-left: 1em;\n",
       "}\n",
       ".mono {\n",
       "font-family: monospace;\n",
       "display: block;\n",
       "}\n",
       ".err-msg {\n",
       "color: red;\n",
       "font-style: italic;\n",
       "font-family: monospace;\n",
       "white-space: pre;\n",
       "display: block;\n",
       "}\n",
       "#unshowable {\n",
       "color: red;\n",
       "font-weight: bold;\n",
       "}\n",
       ".err-msg.in.collapse {\n",
       "padding-top: 0.7em;\n",
       "}\n",
       ".highlight-code {\n",
       "white-space: pre;\n",
       "font-family: monospace;\n",
       "}\n",
       ".suggestion-warning { \n",
       "font-weight: bold;\n",
       "color: rgb(200, 130, 0);\n",
       "}\n",
       ".suggestion-error { \n",
       "font-weight: bold;\n",
       "color: red;\n",
       "}\n",
       ".suggestion-name {\n",
       "font-weight: bold;\n",
       "}\n",
       "</style><div class=\"suggestion-name\" style=\"clear:both;\">Use foldr</div><div class=\"suggestion-row\" style=\"float: left;\"><div class=\"suggestion-warning\">Found:</div><div class=\"highlight-code\" id=\"haskell\">list2BST [] = EmptyBT\n",
       "list2BST (x : xs) = insert x (list2BST xs)</div></div><div class=\"suggestion-row\" style=\"float: left;\"><div class=\"suggestion-warning\">Why Not:</div><div class=\"highlight-code\" id=\"haskell\">list2BST xs = foldr insert EmptyBT xs</div></div>"
      ],
      "text/plain": [
       "Line 2: Use foldr\n",
       "Found:\n",
       "list2BST [] = EmptyBT\n",
       "list2BST (x : xs) = insert x (list2BST xs)\n",
       "Why not:\n",
       "list2BST xs = foldr insert EmptyBT xs"
      ]
     },
     "metadata": {},
     "output_type": "display_data"
    },
    {
     "data": {
      "text/plain": [
       "NodeBT 5 (NodeBT 2 (NodeBT 1 EmptyBT EmptyBT) (NodeBT 3 EmptyBT EmptyBT)) EmptyBT"
      ]
     },
     "metadata": {},
     "output_type": "display_data"
    }
   ],
   "source": [
    "list2BST :: Ord a => [a] -> BinTree a -- list to Binary Search Tree (BST)\n",
    "list2BST [] = EmptyBT\n",
    "list2BST (x:xs) = insert x (list2BST xs)\n",
    "\n",
    "list2BST [1,3,2,5]"
   ]
  },
  {
   "cell_type": "markdown",
   "id": "6f90e8fc",
   "metadata": {},
   "source": [
    "**3.2 Napisać definicje następujących funkcji:**"
   ]
  },
  {
   "cell_type": "code",
   "execution_count": 35,
   "id": "25967f16",
   "metadata": {},
   "outputs": [
    {
     "data": {
      "text/plain": [
       "1"
      ]
     },
     "metadata": {},
     "output_type": "display_data"
    }
   ],
   "source": [
    "occurs :: Eq a => a -> BinTree a -> Int -- liczba wystąpień elementu w drzewie binarnym\n",
    "occurs _ EmptyBT = 0\n",
    "occurs a (NodeBT b left right)\n",
    "    | a == b = 1 + occurs a left + occurs a right\n",
    "    | otherwise = occurs a left + occurs a right\n",
    "    \n",
    "occurs 3 $ NodeBT 3 (NodeBT 1 EmptyBT EmptyBT) (NodeBT 5 EmptyBT (NodeBT 6 EmptyBT EmptyBT))"
   ]
  },
  {
   "cell_type": "code",
   "execution_count": 36,
   "id": "1dc4938d",
   "metadata": {},
   "outputs": [
    {
     "data": {
      "text/plain": [
       "True"
      ]
     },
     "metadata": {},
     "output_type": "display_data"
    }
   ],
   "source": [
    "elemOf :: Eq a => a -> BinTree a -> Bool -- sprawdzenie, czy element znajduje się w drzewie\n",
    "elemOf _ EmptyBT = False\n",
    "elemOf a (NodeBT b left right) = a == b || elemOf a left || elemOf a right\n",
    "\n",
    "elemOf 3 $ NodeBT 3 (NodeBT 1 EmptyBT EmptyBT) (NodeBT 5 EmptyBT (NodeBT 6 EmptyBT EmptyBT))"
   ]
  },
  {
   "cell_type": "code",
   "execution_count": 37,
   "id": "8146024b",
   "metadata": {},
   "outputs": [
    {
     "data": {
      "text/plain": [
       "NodeBT 3 (NodeBT 5 (NodeBT 6 EmptyBT EmptyBT) EmptyBT) (NodeBT 1 EmptyBT EmptyBT)"
      ]
     },
     "metadata": {},
     "output_type": "display_data"
    }
   ],
   "source": [
    "reflect :: BinTree a -> BinTree a -- 'odbicie lustrzane' drzewa binarnego\n",
    "reflect EmptyBT = EmptyBT\n",
    "reflect (NodeBT a left right) = NodeBT a (reflect right) (reflect left)\n",
    "\n",
    "reflect $ NodeBT 3 (NodeBT 1 EmptyBT EmptyBT) (NodeBT 5 EmptyBT (NodeBT 6 EmptyBT EmptyBT))"
   ]
  },
  {
   "cell_type": "code",
   "execution_count": 38,
   "id": "1f836b0e",
   "metadata": {},
   "outputs": [
    {
     "data": {
      "text/plain": [
       "1"
      ]
     },
     "metadata": {},
     "output_type": "display_data"
    }
   ],
   "source": [
    "minElemOf :: Ord a => BinTree a -> a\n",
    "minElemOf EmptyBT = error \"Empty tree\" \n",
    "minElemOf (NodeBT a EmptyBT EmptyBT) = a\n",
    "minElemOf (NodeBT a left EmptyBT) = min a (minElemOf left)\n",
    "minElemOf (NodeBT a EmptyBT right) = min a (minElemOf right)\n",
    "minElemOf (NodeBT a left right)\n",
    "    | a < minElemOf left && a < minElemOf right = a\n",
    "    | otherwise = min (minElemOf left) (minElemOf right)\n",
    "\n",
    "minElemOf $ NodeBT 3 (NodeBT 1 EmptyBT EmptyBT) (NodeBT 5 EmptyBT (NodeBT 6 EmptyBT EmptyBT))"
   ]
  },
  {
   "cell_type": "code",
   "execution_count": 39,
   "id": "434e71b6",
   "metadata": {},
   "outputs": [
    {
     "data": {
      "text/plain": [
       "6"
      ]
     },
     "metadata": {},
     "output_type": "display_data"
    }
   ],
   "source": [
    "maxElemOf :: Ord a => BinTree a -> a\n",
    "maxElemOf EmptyBT = error \"Empty tree\" \n",
    "maxElemOf (NodeBT a EmptyBT EmptyBT) = a\n",
    "maxElemOf (NodeBT a left EmptyBT) = max a (minElemOf left)\n",
    "maxElemOf (NodeBT a EmptyBT right) = max a (minElemOf right)\n",
    "maxElemOf (NodeBT a left right)\n",
    "    | a > maxElemOf left && a > maxElemOf right = a\n",
    "    | otherwise = max (maxElemOf left) (maxElemOf right)\n",
    "    \n",
    "    \n",
    "maxElemOf $ NodeBT 3 (NodeBT 1 EmptyBT EmptyBT) (NodeBT 5 EmptyBT (NodeBT 6 EmptyBT EmptyBT))"
   ]
  },
  {
   "cell_type": "code",
   "execution_count": 40,
   "id": "39dc9058",
   "metadata": {},
   "outputs": [],
   "source": [
    "foldBinTree :: (a -> b -> b -> b) -> b -> BinTree a -> b -- fold dla drzewa binarnego\n",
    "foldBinTree _ a EmptyBT = a\n",
    "foldBinTree f a (NodeBT x left right) = f x (foldBinTree f a left) (foldBinTree f a right)"
   ]
  },
  {
   "cell_type": "code",
   "execution_count": 41,
   "id": "d63d58a2",
   "metadata": {},
   "outputs": [
    {
     "data": {
      "text/plain": [
       "15"
      ]
     },
     "metadata": {},
     "output_type": "display_data"
    }
   ],
   "source": [
    "foldBinTree (\\x l r -> x + l + r) 0 $ NodeBT 3 (NodeBT 1 EmptyBT EmptyBT) (NodeBT 5 EmptyBT (NodeBT 6 EmptyBT EmptyBT))"
   ]
  },
  {
   "cell_type": "markdown",
   "id": "59f3f6fe",
   "metadata": {},
   "source": [
    "**3.3 Zdefiniować mapBT przy pomocy foldBinTree**"
   ]
  },
  {
   "cell_type": "code",
   "execution_count": 42,
   "id": "62172c9a",
   "metadata": {},
   "outputs": [
    {
     "data": {
      "text/html": [
       "<style>/* Styles used for the Hoogle display in the pager */\n",
       ".hoogle-doc {\n",
       "display: block;\n",
       "padding-bottom: 1.3em;\n",
       "padding-left: 0.4em;\n",
       "}\n",
       ".hoogle-code {\n",
       "display: block;\n",
       "font-family: monospace;\n",
       "white-space: pre;\n",
       "}\n",
       ".hoogle-text {\n",
       "display: block;\n",
       "}\n",
       ".hoogle-name {\n",
       "color: green;\n",
       "font-weight: bold;\n",
       "}\n",
       ".hoogle-head {\n",
       "font-weight: bold;\n",
       "}\n",
       ".hoogle-sub {\n",
       "display: block;\n",
       "margin-left: 0.4em;\n",
       "}\n",
       ".hoogle-package {\n",
       "font-weight: bold;\n",
       "font-style: italic;\n",
       "}\n",
       ".hoogle-module {\n",
       "font-weight: bold;\n",
       "}\n",
       ".hoogle-class {\n",
       "font-weight: bold;\n",
       "}\n",
       ".get-type {\n",
       "color: green;\n",
       "font-weight: bold;\n",
       "font-family: monospace;\n",
       "display: block;\n",
       "white-space: pre-wrap;\n",
       "}\n",
       ".show-type {\n",
       "color: green;\n",
       "font-weight: bold;\n",
       "font-family: monospace;\n",
       "margin-left: 1em;\n",
       "}\n",
       ".mono {\n",
       "font-family: monospace;\n",
       "display: block;\n",
       "}\n",
       ".err-msg {\n",
       "color: red;\n",
       "font-style: italic;\n",
       "font-family: monospace;\n",
       "white-space: pre;\n",
       "display: block;\n",
       "}\n",
       "#unshowable {\n",
       "color: red;\n",
       "font-weight: bold;\n",
       "}\n",
       ".err-msg.in.collapse {\n",
       "padding-top: 0.7em;\n",
       "}\n",
       ".highlight-code {\n",
       "white-space: pre;\n",
       "font-family: monospace;\n",
       "}\n",
       ".suggestion-warning { \n",
       "font-weight: bold;\n",
       "color: rgb(200, 130, 0);\n",
       "}\n",
       ".suggestion-error { \n",
       "font-weight: bold;\n",
       "color: red;\n",
       "}\n",
       ".suggestion-name {\n",
       "font-weight: bold;\n",
       "}\n",
       "</style><div class=\"suggestion-name\" style=\"clear:both;\">Avoid lambda</div><div class=\"suggestion-row\" style=\"float: left;\"><div class=\"suggestion-warning\">Found:</div><div class=\"highlight-code\" id=\"haskell\">\\ x l r -> NodeBT (f x) l r</div></div><div class=\"suggestion-row\" style=\"float: left;\"><div class=\"suggestion-warning\">Why Not:</div><div class=\"highlight-code\" id=\"haskell\">NodeBT . f</div></div>"
      ],
      "text/plain": [
       "Line 1: Avoid lambda\n",
       "Found:\n",
       "\\ x l r -> NodeBT (f x) l r\n",
       "Why not:\n",
       "NodeBT . f"
      ]
     },
     "metadata": {},
     "output_type": "display_data"
    },
    {
     "data": {
      "text/plain": [
       "NodeBT 6 (NodeBT 2 EmptyBT EmptyBT) (NodeBT 10 EmptyBT (NodeBT 12 EmptyBT EmptyBT))"
      ]
     },
     "metadata": {},
     "output_type": "display_data"
    }
   ],
   "source": [
    "mapBT f = foldBinTree (\\x l r -> NodeBT (f x) l r) EmptyBT\n",
    "\n",
    "mapBT (*2) $ NodeBT 3 (NodeBT 1 EmptyBT EmptyBT) (NodeBT 5 EmptyBT (NodeBT 6 EmptyBT EmptyBT))"
   ]
  },
  {
   "cell_type": "markdown",
   "id": "1bf136ce",
   "metadata": {},
   "source": [
    "**3.4 Uogólnić typ BinTree do**"
   ]
  },
  {
   "cell_type": "code",
   "execution_count": 43,
   "id": "25649f4f",
   "metadata": {},
   "outputs": [],
   "source": [
    "data GTree a = Leaf a |\n",
    "               GNode [GTree a]\n",
    "               deriving Show"
   ]
  },
  {
   "cell_type": "code",
   "execution_count": 44,
   "id": "64ca9a1b",
   "metadata": {},
   "outputs": [
    {
     "data": {
      "text/plain": [
       "11"
      ]
     },
     "metadata": {},
     "output_type": "display_data"
    }
   ],
   "source": [
    "sumGTree :: Num a => GTree a -> a\n",
    "sumGTree (Leaf a) = a\n",
    "sumGTree (GNode []) = 0\n",
    "sumGTree (GNode (x:xs)) = sumGTree x +  sumGTree (GNode xs)\n",
    "\n",
    "sumGTree $ GNode [Leaf 1, Leaf 2, GNode [Leaf 5, Leaf 3]]"
   ]
  },
  {
   "cell_type": "code",
   "execution_count": 45,
   "id": "63b82262",
   "metadata": {},
   "outputs": [
    {
     "data": {
      "text/plain": [
       "True"
      ]
     },
     "metadata": {},
     "output_type": "display_data"
    }
   ],
   "source": [
    "elemOfGTree :: Eq a => a -> GTree a -> Bool\n",
    "elemOfGTree x (Leaf a) = a == x\n",
    "elemOfGTree _ (GNode []) = False\n",
    "elemOfGTree a (GNode (x:xs)) = elemOfGTree a x || elemOfGTree a (GNode xs)\n",
    "\n",
    "elemOfGTree 2 $ GNode [Leaf 1, Leaf 2, GNode [Leaf 5, Leaf 3]]"
   ]
  },
  {
   "cell_type": "code",
   "execution_count": 46,
   "id": "f1b77248",
   "metadata": {},
   "outputs": [
    {
     "data": {
      "text/plain": [
       "3"
      ]
     },
     "metadata": {},
     "output_type": "display_data"
    }
   ],
   "source": [
    "depthOfGTree :: GTree a -> Int\n",
    "depthOfGTree (Leaf _) = 1\n",
    "depthOfGTree (GNode []) = 0\n",
    "depthOfGTree (GNode (x:xs))\n",
    "    | depthOfGTree x > depthOfGTree (GNode xs) = 1 + depthOfGTree x\n",
    "    | otherwise = depthOfGTree (GNode xs)\n",
    "\n",
    "depthOfGTree $ GNode [Leaf 1, Leaf 2, GNode [Leaf 5, Leaf 3]]"
   ]
  },
  {
   "cell_type": "code",
   "execution_count": 47,
   "id": "7e3cc544",
   "metadata": {},
   "outputs": [
    {
     "data": {
      "text/plain": [
       "GNode [Leaf 2,Leaf 4,GNode [Leaf 10,Leaf 6]]"
      ]
     },
     "metadata": {},
     "output_type": "display_data"
    }
   ],
   "source": [
    "mapGTree :: (a -> b) -> GTree a -> GTree b\n",
    "mapGTree f (Leaf x) = Leaf $ f x\n",
    "mapGTree f (GNode xs) = GNode (map (mapGTree f) xs)\n",
    "\n",
    "mapGTree (*2) $ GNode [Leaf 1, Leaf 2, GNode [Leaf 5, Leaf 3]]"
   ]
  },
  {
   "cell_type": "code",
   "execution_count": 48,
   "id": "2b95de1d",
   "metadata": {},
   "outputs": [
    {
     "data": {
      "text/plain": [
       "[1,2,5,3]"
      ]
     },
     "metadata": {},
     "output_type": "display_data"
    }
   ],
   "source": [
    "flattenGTree :: GTree a -> [a]\n",
    "flattenGTree (Leaf a) = [a]\n",
    "flattenGTree (GNode []) = []\n",
    "flattenGTree (GNode (x:xs)) = flattenGTree x ++ flattenGTree (GNode xs)\n",
    "\n",
    "flattenGTree $ GNode [Leaf 1, Leaf 2, GNode [Leaf 5, Leaf 3]]"
   ]
  },
  {
   "cell_type": "code",
   "execution_count": 49,
   "id": "d14700d2",
   "metadata": {},
   "outputs": [
    {
     "data": {
      "text/plain": [
       "4"
      ]
     },
     "metadata": {},
     "output_type": "display_data"
    }
   ],
   "source": [
    "countGTreeLeaves :: GTree a -> Int\n",
    "countGTreeLeaves (Leaf _) = 1\n",
    "countGTreeLeaves (GNode []) = 0\n",
    "countGTreeLeaves (GNode (x:xs)) = countGTreeLeaves x + countGTreeLeaves (GNode xs)\n",
    "\n",
    "countGTreeLeaves $ GNode [Leaf 1, Leaf 2, GNode [Leaf 5, Leaf 3]]"
   ]
  },
  {
   "cell_type": "markdown",
   "id": "edc20115",
   "metadata": {},
   "source": [
    "**3.5 Rozszerzyć definicję typu data Expr a o operacje odejmowania i mnożenia oraz zmodyfikować odpowiednio funkcje show' i eval**"
   ]
  },
  {
   "cell_type": "code",
   "execution_count": 50,
   "id": "c1804ac3",
   "metadata": {},
   "outputs": [
    {
     "data": {
      "text/plain": [
       "-2"
      ]
     },
     "metadata": {},
     "output_type": "display_data"
    },
    {
     "data": {
      "text/plain": [
       "\"(3-5)\""
      ]
     },
     "metadata": {},
     "output_type": "display_data"
    },
    {
     "data": {
      "text/plain": [
       "15"
      ]
     },
     "metadata": {},
     "output_type": "display_data"
    },
    {
     "data": {
      "text/plain": [
       "\"(3*5)\""
      ]
     },
     "metadata": {},
     "output_type": "display_data"
    }
   ],
   "source": [
    "data Expr a = Lit a | -- literal/value a, e.g. Lit 2 = 2\n",
    "              Add (Expr a) (Expr a) |\n",
    "              Subtract (Expr a) (Expr a) |\n",
    "              Multiply (Expr a) (Expr a)\n",
    "\n",
    "eval :: Num a => Expr a -> a\n",
    "eval (Lit n) = n\n",
    "eval (Add e1 e2) = eval e1 + eval e2\n",
    "eval (Subtract e1 e2) = eval e1 - eval e2\n",
    "eval (Multiply e1 e2) = eval e1 * eval e2\n",
    "\n",
    "show' :: Show a => Expr a -> String\n",
    "show' (Lit n) = show n\n",
    "show' (Add e1 e2) = \"(\" ++ show' e1 ++ \"+\" ++ show' e2 ++ \")\"\n",
    "show' (Subtract e1 e2) = \"(\" ++ show' e1 ++ \"-\" ++ show' e2 ++ \")\"\n",
    "show' (Multiply e1 e2) = \"(\" ++ show' e1 ++ \"*\" ++ show' e2 ++ \")\"\n",
    "\n",
    "eval (Subtract (Lit 3) (Lit 5))\n",
    "show' (Subtract (Lit 3) (Lit 5))\n",
    "\n",
    "eval (Multiply (Lit 3) (Lit 5))\n",
    "show' (Multiply (Lit 3) (Lit 5))"
   ]
  },
  {
   "cell_type": "markdown",
   "id": "46a04a92",
   "metadata": {},
   "source": [
    "**3.6 Zmodyfikować definicję data Expr a wykorzystując ‘infixowe konstruktory’ (uwaga: pierwszym znakiem nazwy musi być w tej notacji ‘:’) oraz odpowiednio zmienić funkcje eval i show'**"
   ]
  },
  {
   "cell_type": "code",
   "execution_count": 51,
   "id": "37ef4398",
   "metadata": {},
   "outputs": [],
   "source": [
    "data Expr a = Lit a |\n",
    "              Expr a :+: Expr a |\n",
    "              Expr a :-: Expr a |\n",
    "              Expr a :*: Expr a\n",
    "              \n",
    "eval :: Num a => Expr a -> a\n",
    "eval (Lit n) = n\n",
    "eval (e1 :+: e2) = eval e1 + eval e2\n",
    "eval (e1 :-: e2) = eval e1 - eval e2\n",
    "eval (e1 :*: e2) = eval e1 * eval e2\n",
    "\n",
    "show' :: Show a => Expr a -> String\n",
    "show' (Lit n) = show n\n",
    "show' (e1 :+: e2) = \"(\" ++ show' e1 ++ \"+\" ++ show' e2 ++ \")\"\n",
    "show' (e1 :-: e2) = \"(\" ++ show' e1 ++ \"-\" ++ show' e2 ++ \")\"\n",
    "show' (e1 :*: e2) = \"(\" ++ show' e1 ++ \"*\" ++ show' e2 ++ \")\""
   ]
  },
  {
   "cell_type": "code",
   "execution_count": 52,
   "id": "bd67e3a9",
   "metadata": {},
   "outputs": [
    {
     "data": {
      "text/plain": [
       "8"
      ]
     },
     "metadata": {},
     "output_type": "display_data"
    },
    {
     "data": {
      "text/plain": [
       "\"(3+5)\""
      ]
     },
     "metadata": {},
     "output_type": "display_data"
    }
   ],
   "source": [
    "eval (Lit 3 :+: Lit 5)\n",
    "show' (Lit 3 :+: Lit 5)"
   ]
  },
  {
   "cell_type": "markdown",
   "id": "752c1260",
   "metadata": {},
   "source": [
    "## Zadania #4"
   ]
  },
  {
   "cell_type": "markdown",
   "id": "96cc4d63",
   "metadata": {},
   "source": [
    "**4.1 Dołączyć BinTree a do klasy Eq (deklaracja instance Eq a => Eq (BinTree a) where)**"
   ]
  },
  {
   "cell_type": "code",
   "execution_count": 53,
   "id": "0a820cea",
   "metadata": {},
   "outputs": [],
   "source": [
    "data BinTree a = EmptyBT |\n",
    "                 NodeBT a (BinTree a) (BinTree a) deriving Show\n",
    "                 \n",
    "instance Eq a => Eq (BinTree a) where\n",
    "    (==) EmptyBT EmptyBT = True\n",
    "    (==) _ EmptyBT = False\n",
    "    (==) EmptyBT _ = False\n",
    "    (==) (NodeBT a aleft aright) (NodeBT b bleft bright) = a == b && aleft == bleft && aright == bright"
   ]
  },
  {
   "cell_type": "code",
   "execution_count": 54,
   "id": "0039b4c7",
   "metadata": {},
   "outputs": [
    {
     "data": {
      "text/plain": [
       "True"
      ]
     },
     "metadata": {},
     "output_type": "display_data"
    }
   ],
   "source": [
    "NodeBT 3 (NodeBT 1 EmptyBT EmptyBT) (NodeBT 5 EmptyBT (NodeBT 6 EmptyBT EmptyBT)) == NodeBT 3 (NodeBT 1 EmptyBT EmptyBT) (NodeBT 5 EmptyBT (NodeBT 6 EmptyBT EmptyBT))"
   ]
  },
  {
   "cell_type": "markdown",
   "id": "bf31599a",
   "metadata": {},
   "source": [
    "**4.2 Dołączyć Cart3DVec a do klas Eq i Num**"
   ]
  },
  {
   "cell_type": "code",
   "execution_count": 55,
   "id": "f2000b26",
   "metadata": {},
   "outputs": [],
   "source": [
    "data Cart3DVec a = Cart3DVec a a a\n",
    "\n",
    "instance Eq a => Eq (Cart3DVec a) where\n",
    "    (==) (Cart3DVec a b c) (Cart3DVec x y z) = a == x && b == y && c == z\n",
    "    \n",
    "instance Num a => Num (Cart3DVec a) where\n",
    "    (+) (Cart3DVec a b c) (Cart3DVec x y z) = Cart3DVec (a+x) (b+y) (c+z)\n",
    "    (-) (Cart3DVec a b c) (Cart3DVec x y z) = Cart3DVec (a-x) (b-y) (c-z)\n",
    "    (*) (Cart3DVec a b c) (Cart3DVec x y z) = Cart3DVec (a*x) (b*y) (c*z)"
   ]
  },
  {
   "cell_type": "markdown",
   "id": "e6f1e4b6",
   "metadata": {},
   "source": [
    "**4.3 Zaproponować implementację operatora < dla Cart3DVec a; sprawdzić, czy kompilator może wygenerować automatycznie (jakąkolwiek) implementację operatora <**"
   ]
  },
  {
   "cell_type": "code",
   "execution_count": 56,
   "id": "b87cc0a1",
   "metadata": {},
   "outputs": [
    {
     "data": {
      "text/plain": [
       "False"
      ]
     },
     "metadata": {},
     "output_type": "display_data"
    }
   ],
   "source": [
    "instance Ord a => Ord (Cart3DVec a) where\n",
    "    (<) (Cart3DVec a b c) (Cart3DVec x y z)\n",
    "        | a == x && b == y = c < z\n",
    "        | a == x = b < y\n",
    "        | otherwise = a < x\n",
    "        \n",
    "Cart3DVec 1 2 3 < Cart3DVec 1 2 2"
   ]
  },
  {
   "cell_type": "markdown",
   "id": "b6a4af6d",
   "metadata": {},
   "source": [
    "## Zadania #5"
   ]
  },
  {
   "cell_type": "markdown",
   "id": "bd003500",
   "metadata": {},
   "source": [
    "**5.1 Dodać typ do klasy Mappable; sprawdzić działanie fMap dla kilku drzew**"
   ]
  },
  {
   "cell_type": "code",
   "execution_count": 57,
   "id": "fbba3dee",
   "metadata": {},
   "outputs": [],
   "source": [
    "class Mappable t where\n",
    "  fMap :: (a -> b) -> t a -> t b\n",
    "\n",
    "\n",
    "data BinTree a = EmptyBT |\n",
    "                 NodeBT a (BinTree a) (BinTree a)\n",
    "                 deriving Show"
   ]
  },
  {
   "cell_type": "code",
   "execution_count": 58,
   "id": "f2b79c88",
   "metadata": {},
   "outputs": [
    {
     "data": {
      "text/plain": [
       "NodeBT 4 (NodeBT 2 EmptyBT EmptyBT) (NodeBT 6 EmptyBT (NodeBT 7 EmptyBT EmptyBT))"
      ]
     },
     "metadata": {},
     "output_type": "display_data"
    }
   ],
   "source": [
    "instance Mappable BinTree where\n",
    "    fMap _ EmptyBT = EmptyBT\n",
    "    fMap f (NodeBT a left right) = NodeBT (f a) (fMap f left) (fMap f right)\n",
    "    \n",
    "fMap (+1) $ NodeBT 3 (NodeBT 1 EmptyBT EmptyBT) (NodeBT 5 EmptyBT (NodeBT 6 EmptyBT EmptyBT))"
   ]
  },
  {
   "cell_type": "markdown",
   "id": "3a2d6d3a",
   "metadata": {},
   "source": [
    "**5.2 Dołączyć Maybe do klasy Mappable (deklaracja instance Mappable Maybe)**"
   ]
  },
  {
   "cell_type": "code",
   "execution_count": 59,
   "id": "c85d1b60",
   "metadata": {},
   "outputs": [
    {
     "data": {
      "text/plain": [
       "Nothing"
      ]
     },
     "metadata": {},
     "output_type": "display_data"
    },
    {
     "data": {
      "text/plain": [
       "Just 4"
      ]
     },
     "metadata": {},
     "output_type": "display_data"
    }
   ],
   "source": [
    "instance Mappable Maybe where\n",
    "    fMap _ Nothing = Nothing\n",
    "    fMap f (Just a) = Just (f a)\n",
    "    \n",
    "fMap (+1) Nothing\n",
    "fMap (+1) $ Just 3"
   ]
  },
  {
   "cell_type": "markdown",
   "id": "3767745b",
   "metadata": {},
   "source": [
    "**5.3 Dołączyć Either do klasy Mappable (uwaga na liczbę parametrów typu)**"
   ]
  },
  {
   "cell_type": "code",
   "execution_count": 60,
   "id": "258fbdd8",
   "metadata": {},
   "outputs": [],
   "source": [
    "instance Mappable (Either a) where\n",
    "    fMap f (Left x) = Left x\n",
    "    fMap f (Right y) = Right (f y)"
   ]
  },
  {
   "cell_type": "markdown",
   "id": "e50aec51",
   "metadata": {},
   "source": [
    "**5.4 Uzupełnić definicję**"
   ]
  },
  {
   "cell_type": "code",
   "execution_count": 61,
   "id": "f910b759",
   "metadata": {},
   "outputs": [],
   "source": [
    "instance Mappable ((->) a) where\n",
    "  fMap f g = f.g"
   ]
  },
  {
   "cell_type": "markdown",
   "id": "41bab2d1",
   "metadata": {},
   "source": [
    "**5.5 Zdefiniować klasę a następnie jej instancje dla Vec2D i Vec3D (tj. dodać te typy do klasy VectorLike)**"
   ]
  },
  {
   "cell_type": "code",
   "execution_count": 62,
   "id": "40b05601",
   "metadata": {},
   "outputs": [],
   "source": [
    "class VectorLike t where\n",
    " (|==|) :: Eq a => t a -> t a -> Bool\n",
    " (|+|), (|-|) :: (Num a) => t a -> t a -> t a\n",
    " (|*|) :: (Num a) => t a -> t a -> a\n",
    " (||?), (|-?) :: (Num a, Eq a) => t a -> t a -> Bool -- równoległość i prostopadłość\n",
    " vectLength :: Floating a => t a -> a\n",
    " unitVectOf :: Floating a => t a -> t a\n",
    "\n",
    "data Vec2D a = Vec2D a a deriving Show\n",
    "\n",
    "\n",
    "instance VectorLike Vec2D where\n",
    "    (|==|) (Vec2D x1 y1) (Vec2D x2 y2) = x1 == x2 && y1 == y2\n",
    "    (|+|) (Vec2D x1 y1) (Vec2D x2 y2) = Vec2D (x1 + x2) (y1 + y2)\n",
    "    (|-|) (Vec2D x1 y1) (Vec2D x2 y2) = Vec2D (x1 - x2) (y1 - y2)\n",
    "    (|*|) (Vec2D x1 y1) (Vec2D x2 y2) = (x1 * x2) + (y1 * y2)\n",
    "    (||?) (Vec2D x1 y1) (Vec2D x2 y2) = (x1 * y2) - (x2 * y1) == 0\n",
    "    (|-?) (Vec2D x1 y1) (Vec2D x2 y2) = (x1 * x2) + (y1 * y2) == 0\n",
    "    vectLength (Vec2D x1 y1) = sqrt (x1^2 + y1^2)\n",
    "    unitVectOf (Vec2D x1 y1) = Vec2D (vl/x1) (vl/y1)\n",
    "        where vl = vectLength (Vec2D x1 y1)"
   ]
  },
  {
   "cell_type": "code",
   "execution_count": 63,
   "id": "cd2677dc",
   "metadata": {},
   "outputs": [
    {
     "data": {
      "text/plain": [
       "True"
      ]
     },
     "metadata": {},
     "output_type": "display_data"
    },
    {
     "data": {
      "text/plain": [
       "Vec2D 2 4"
      ]
     },
     "metadata": {},
     "output_type": "display_data"
    },
    {
     "data": {
      "text/plain": [
       "Vec2D 0 0"
      ]
     },
     "metadata": {},
     "output_type": "display_data"
    },
    {
     "data": {
      "text/plain": [
       "5"
      ]
     },
     "metadata": {},
     "output_type": "display_data"
    },
    {
     "data": {
      "text/plain": [
       "True"
      ]
     },
     "metadata": {},
     "output_type": "display_data"
    },
    {
     "data": {
      "text/plain": [
       "True"
      ]
     },
     "metadata": {},
     "output_type": "display_data"
    },
    {
     "data": {
      "text/plain": [
       "2.23606797749979"
      ]
     },
     "metadata": {},
     "output_type": "display_data"
    },
    {
     "data": {
      "text/plain": [
       "Vec2D 2.23606797749979 1.118033988749895"
      ]
     },
     "metadata": {},
     "output_type": "display_data"
    }
   ],
   "source": [
    "Vec2D 1 2 |==| Vec2D 1 2\n",
    "Vec2D 1 2 |+| Vec2D 1 2\n",
    "Vec2D 1 2 |-| Vec2D 1 2\n",
    "Vec2D 1 2 |*| Vec2D 1 2\n",
    "Vec2D 1 2 |-? Vec2D (-2) 1\n",
    "Vec2D 1 2 ||? Vec2D 2 4\n",
    "vectLength $ Vec2D 1 2\n",
    "unitVectOf $ Vec2D 1 2"
   ]
  },
  {
   "cell_type": "markdown",
   "id": "98fb0352",
   "metadata": {},
   "source": [
    "## Zadania #6"
   ]
  },
  {
   "cell_type": "markdown",
   "id": "d6486c89",
   "metadata": {},
   "source": [
    "**6.1 Zaimplementować następujący ADT dla kolejki**"
   ]
  },
  {
   "cell_type": "code",
   "execution_count": 64,
   "id": "d64a0a67",
   "metadata": {},
   "outputs": [],
   "source": [
    "module Queue\n",
    "  ( Queue\n",
    "  , emptyQ   -- :: Queue a\n",
    "  , isEmptyQ -- :: Queue a -> Bool\n",
    "  , addQ     -- :: a -> Queue a -> Queue a\n",
    "  , remQ     -- :: Queue a -> (a, Queue a)\n",
    "  ) where\n",
    "  \n",
    "emptyQ :: Queue a\n",
    "isEmptyQ :: Queue a -> Bool\n",
    "addQ :: a -> Queue a -> Queue a\n",
    "remQ :: Queue a -> (a, Queue a)\n",
    "\n",
    "newtype Queue a = MkQueue [a] deriving Show\n",
    "\n",
    "emptyQ = MkQueue []\n",
    "isEmptyQ (MkQueue s) = null s\n",
    "addQ x (MkQueue s) = MkQueue (s ++ [x])\n",
    "remQ (MkQueue (s:ss)) = (s, MkQueue ss)"
   ]
  },
  {
   "cell_type": "code",
   "execution_count": 65,
   "id": "59b39f19",
   "metadata": {},
   "outputs": [
    {
     "data": {
      "text/plain": [
       "MkQueue []"
      ]
     },
     "metadata": {},
     "output_type": "display_data"
    },
    {
     "data": {
      "text/plain": [
       "MkQueue [1]"
      ]
     },
     "metadata": {},
     "output_type": "display_data"
    },
    {
     "data": {
      "text/plain": [
       "(5,MkQueue [3])"
      ]
     },
     "metadata": {},
     "output_type": "display_data"
    }
   ],
   "source": [
    "import Queue\n",
    "emptyQ\n",
    "addQ 1 emptyQ\n",
    "remQ $ addQ 3 $ addQ 5 emptyQ"
   ]
  },
  {
   "cell_type": "markdown",
   "id": "12adfa31",
   "metadata": {},
   "source": [
    "**6.2 Zaimplementować następujący ADT dla kolejki dwukierunkowej**"
   ]
  },
  {
   "cell_type": "code",
   "execution_count": 66,
   "id": "dcf56f0f",
   "metadata": {},
   "outputs": [],
   "source": [
    "module Dequeue\n",
    "    ( Dequeue\n",
    "    , emptyDEQ\n",
    "    , isEmptyDEQ\n",
    "    , lengthDEQ\n",
    "    , firstDEQ\n",
    "    , lastDEQ\n",
    "    , takeFrontDEQ\n",
    "    , takeBackDEQ\n",
    "    , pushFrontDEQ\n",
    "    , popFrontDEQ\n",
    "    , pushBackDEQ\n",
    "    , popBackDEQ\n",
    "    , fromListDEQ\n",
    "    ) where\n",
    "\n",
    "emptyDEQ :: Dequeue a\n",
    "isEmptyDEQ :: Dequeue a -> Bool\n",
    "lengthDEQ :: Dequeue a -> Int -- O(1)\n",
    "firstDEQ :: Dequeue a -> Maybe a --  O(1)\n",
    "lastDEQ :: Dequeue a -> Maybe a -- O(1)\n",
    "takeFrontDEQ :: Int -> Dequeue a -> [a] -- O(n)\n",
    "takeBackDEQ :: Int -> Dequeue a -> [a] -- O(n)\n",
    "pushFrontDEQ :: Dequeue a -> a -> Dequeue a -- O(1) amortised\n",
    "popFrontDEQ :: Dequeue a -> Maybe (a, Dequeue a) -- O(1) amortised\n",
    "pushBackDEQ :: Dequeue a -> a -> Dequeue a -- O(1) amortised\n",
    "popBackDEQ :: Dequeue a -> Maybe (a, Dequeue a) -- O(1) amortised\n",
    "fromListDEQ :: [a] -> Dequeue a -- O(n)\n",
    "\n",
    "newtype Dequeue a = MkDequeue [a] deriving Show\n",
    "\n",
    "emptyDEQ = MkDequeue []\n",
    "\n",
    "isEmptyDEQ (MkDequeue xs) = null xs\n",
    "\n",
    "lengthDEQ (MkDequeue xs) = length xs\n",
    "\n",
    "firstDEQ (MkDequeue []) = Nothing\n",
    "firstDEQ (MkDequeue (x:xs)) = Just x\n",
    "\n",
    "lastDEQ (MkDequeue []) = Nothing\n",
    "lastDEQ (MkDequeue xs) = Just (last xs)\n",
    "\n",
    "takeFrontDEQ n (MkDequeue (x:xs)) | n == 0 = []\n",
    "                                  | otherwise = x : takeFrontDEQ (n-1) (MkDequeue xs)\n",
    "takeBackDEQ n (MkDequeue xs) | n == 0 = []\n",
    "                             | otherwise = takeBackDEQ (n-1) (MkDequeue (init xs)) ++ [last xs]\n",
    "\n",
    "pushFrontDEQ (MkDequeue xs) x = MkDequeue (x:xs)\n",
    "\n",
    "popFrontDEQ (MkDequeue [])     = Nothing\n",
    "popFrontDEQ (MkDequeue (x:xs)) = Just (x, MkDequeue xs)\n",
    "\n",
    "pushBackDEQ (MkDequeue xs) x = MkDequeue (xs ++ [x])\n",
    "\n",
    "popBackDEQ (MkDequeue []) = Nothing\n",
    "popBackDEQ (MkDequeue xs) = Just (last xs, MkDequeue (init xs))\n",
    "\n",
    "fromListDEQ = MkDequeue"
   ]
  }
 ],
 "metadata": {
  "kernelspec": {
   "display_name": "Haskell",
   "language": "haskell",
   "name": "haskell"
  },
  "language_info": {
   "codemirror_mode": "ihaskell",
   "file_extension": ".hs",
   "mimetype": "text/x-haskell",
   "name": "haskell",
   "pygments_lexer": "Haskell",
   "version": "8.10.7"
  }
 },
 "nbformat": 4,
 "nbformat_minor": 5
}
