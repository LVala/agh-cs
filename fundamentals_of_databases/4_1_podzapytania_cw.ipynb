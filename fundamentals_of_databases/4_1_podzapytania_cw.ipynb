{
    "metadata": {
        "kernelspec": {
            "name": "SQL",
            "display_name": "SQL",
            "language": "sql"
        },
        "language_info": {
            "name": "sql",
            "version": ""
        },
        "extensions": {
            "azuredatastudio": {
                "version": 1,
                "views": []
            }
        }
    },
    "nbformat_minor": 2,
    "nbformat": 4,
    "cells": [
        {
            "cell_type": "markdown",
            "source": [
                "# Zestaw 4.1 - \"Podzapytania - ćwiczenia końcowe\""
            ],
            "metadata": {
                "azdata_cell_guid": "c347e611-1501-48be-8228-e23dc4bdda56",
                "extensions": {
                    "azuredatastudio": {
                        "views": []
                    }
                }
            }
        },
        {
            "cell_type": "code",
            "source": [
                "USE Northwind"
            ],
            "metadata": {
                "azdata_cell_guid": "7fd17664-430b-4738-8c94-077659197dc8",
                "extensions": {
                    "azuredatastudio": {
                        "views": []
                    }
                }
            },
            "outputs": [],
            "execution_count": null
        },
        {
            "cell_type": "markdown",
            "source": [
                "## Ćwiczenie #1\n",
                "\n",
                "**1.1 Wybierz nazwy i numery telefonów klientów , którym w 1997 roku przesyłki\n",
                "dostarczała firma United Package**"
            ],
            "metadata": {
                "azdata_cell_guid": "95fe758e-666c-42a6-a6da-db22fff1b392",
                "extensions": {
                    "azuredatastudio": {
                        "views": []
                    }
                }
            },
            "attachments": {}
        },
        {
            "cell_type": "code",
            "source": [
                "SELECT CompanyName, Phone\r\n",
                "FROM Customers\r\n",
                "WHERE CustomerID IN\r\n",
                "    (SELECT DISTINCT CustomerID\r\n",
                "    FROM Orders\r\n",
                "    WHERE ShipVia IN\r\n",
                "        (SELECT ShipperID\r\n",
                "        FROM Shippers\r\n",
                "        WHERE CompanyName = 'United Package'))"
            ],
            "metadata": {
                "azdata_cell_guid": "646ebfb4-8456-4ce8-934e-1161e00f6713"
            },
            "outputs": [],
            "execution_count": null
        },
        {
            "cell_type": "markdown",
            "source": [
                "**1.2 Wybierz nazwy i numery telefonów klientów, którzy kupowali produkty z kategorii\r\n",
                "Confections**"
            ],
            "metadata": {
                "azdata_cell_guid": "5eee0768-f44a-4015-aa9c-4ddd119cc365"
            },
            "attachments": {}
        },
        {
            "cell_type": "code",
            "source": [
                "SELECT C.CompanyName, C.Phone\r\n",
                "FROM Customers AS C\r\n",
                "WHERE C.CustomerID IN\r\n",
                "    (SELECT O.CustomerID\r\n",
                "    FROM Orders AS O\r\n",
                "    WHERE O.OrderID IN\r\n",
                "        (SELECT OD.OrderID\r\n",
                "        FROM [Order Details] AS OD\r\n",
                "        WHERE OD.ProductID IN\r\n",
                "            (SELECT P.ProductID \r\n",
                "            FROM Products AS P\r\n",
                "            WHERE P.CategoryID IN \r\n",
                "                (SELECT CA.CategoryID\r\n",
                "                FROM Categories AS CA\r\n",
                "                WHERE CA.CategoryName = 'Confections'))))"
            ],
            "metadata": {
                "azdata_cell_guid": "5c38f1ac-0241-457d-ac37-d5d9af86d2ee"
            },
            "outputs": [],
            "execution_count": null
        },
        {
            "cell_type": "code",
            "source": [
                "SELECT DISTINCT C.CompanyName, C.Phone, CA.CategoryName\r\n",
                "FROM Customers AS C\r\n",
                "INNER JOIN Orders AS O\r\n",
                "ON C.CustomerID = O.CustomerID\r\n",
                "INNER JOIN [Order Details] AS OD\r\n",
                "ON OD.OrderID = O.OrderID\r\n",
                "INNER JOIN Products AS P\r\n",
                "ON P.ProductID = OD.ProductID\r\n",
                "INNER JOIN Categories AS CA\r\n",
                "ON CA.CategoryID = P.CategoryID\r\n",
                "WHERE CA.CategoryName = 'Confections'"
            ],
            "metadata": {
                "azdata_cell_guid": "f090a23a-4a13-4679-8aaf-2efdd1cadc37"
            },
            "outputs": [],
            "execution_count": null
        },
        {
            "cell_type": "markdown",
            "source": [
                "**1.3 Wybierz nazwy i numery telefonów klientów, którzy nie kupowali produktów z\r\n",
                "kategorii Confections**"
            ],
            "metadata": {
                "azdata_cell_guid": "53f3faba-8fc0-465b-b759-cbaf85862afa"
            },
            "attachments": {}
        },
        {
            "cell_type": "code",
            "source": [
                "SELECT C.CompanyName, C.Phone\r\n",
                "FROM Customers AS C\r\n",
                "WHERE C.CustomerID NOT IN\r\n",
                "    (SELECT O.CustomerID\r\n",
                "    FROM Orders AS O\r\n",
                "    INNER JOIN [Order Details] AS OD\r\n",
                "    ON O.OrderID = OD.OrderID\r\n",
                "    INNER JOIN Products AS P\r\n",
                "    ON OD.ProductID = P.ProductID\r\n",
                "    INNER JOIN Categories AS CA\r\n",
                "    ON CA.CategoryID = P.CategoryID\r\n",
                "    WHERE CA.CategoryName = 'Confections')"
            ],
            "metadata": {
                "azdata_cell_guid": "bd6fd999-a722-4f61-bfe2-f997b93943e9"
            },
            "outputs": [],
            "execution_count": null
        },
        {
            "cell_type": "code",
            "source": [
                "SELECT Customers.CompanyName, Customers.Phone FROM Customers\r\n",
                "LEFT OUTER JOIN \r\n",
                "    (Orders AS O INNER JOIN [Order Details] AS OD\r\n",
                "    ON O.OrderID = OD.OrderID\r\n",
                "    INNER JOIN products AS P\r\n",
                "    ON P.productID = OD.ProductID \r\n",
                "    INNER JOIN categories AS C\r\n",
                "    ON C.CategoryID = P.CategoryID AND C.CategoryName = 'Confections' )\r\n",
                "ON Customers.CustomerID = O.customerID \r\n",
                "WHERE C.CategoryID IS NULL"
            ],
            "metadata": {
                "azdata_cell_guid": "391a21bf-b2de-414c-b994-1d18df545ea0"
            },
            "outputs": [],
            "execution_count": null
        },
        {
            "cell_type": "markdown",
            "source": [
                "## Ćwiczenie #2\r\n",
                "**2.1 Dla każdego produktu podaj maksymalną liczbę zamówionych jednostek**"
            ],
            "metadata": {
                "azdata_cell_guid": "62f4cc2c-994c-44ef-b38d-d3513ddbc211"
            },
            "attachments": {}
        },
        {
            "cell_type": "code",
            "source": [
                "SELECT DISTINCT OD.OrderID, OD.Quantity\r\n",
                "FROM [Order Details] AS OD\r\n",
                "WHERE OD.Quantity = \r\n",
                "    (SELECT MAX(Quantity)\r\n",
                "    FROM [Order Details] AS OD2\r\n",
                "    WHERE OD.OrderID = OD2.OrderID)\r\n",
                "ORDER BY OD.Quantity\r\n",
                ""
            ],
            "metadata": {
                "azdata_cell_guid": "6736ca69-c70a-4ebf-a0ab-c1254f63b191"
            },
            "outputs": [],
            "execution_count": null
        },
        {
            "cell_type": "code",
            "source": [
                "SELECT OD.OrderID, MAX(OD.Quantity)\r\n",
                "FROM [Order Details] AS OD\r\n",
                "GROUP BY OD.OrderID"
            ],
            "metadata": {
                "azdata_cell_guid": "53c6658d-176b-461b-b306-1f670450c3e2"
            },
            "outputs": [],
            "execution_count": null
        },
        {
            "cell_type": "markdown",
            "source": [
                "**2.2 Podaj wszystkie produkty których cena jest mniejsza niż średnia cena produktu**"
            ],
            "metadata": {
                "azdata_cell_guid": "a4a4e9d7-c835-4477-91ce-8c3f4c515f92"
            }
        },
        {
            "cell_type": "code",
            "source": [
                "SELECT P.ProductID\r\n",
                "FROM Products AS P\r\n",
                "WHERE P.UnitPrice < \r\n",
                "    (SELECT AVG(P2.UnitPrice)\r\n",
                "    FROM Products AS P2)"
            ],
            "metadata": {
                "azdata_cell_guid": "1a2f27d8-43c0-407d-9a40-b93c6354cc3a"
            },
            "outputs": [],
            "execution_count": null
        },
        {
            "cell_type": "markdown",
            "source": [
                "**2.3 Podaj wszystkie produkty których cena jest mniejsza niż średnia cena produktu\r\n",
                "danej kategorii**"
            ],
            "metadata": {
                "azdata_cell_guid": "4b1d3966-a8b3-4f02-b60b-d2346266f540"
            }
        },
        {
            "cell_type": "code",
            "source": [
                "SELECT P.ProductID \r\n",
                "FROM Products AS P\r\n",
                "WHERE P.UnitPrice <\r\n",
                "    (SELECT AVG(P2.UnitPrice)\r\n",
                "    FROM Products AS P2\r\n",
                "    INNER JOIN Categories AS C\r\n",
                "    ON P2.CategoryID = C.CategoryID\r\n",
                "    WHERE C.CategoryID = P.CategoryID)"
            ],
            "metadata": {
                "azdata_cell_guid": "fb3250e7-76fa-42f8-817a-3ddb05e23d18"
            },
            "outputs": [],
            "execution_count": null
        },
        {
            "cell_type": "markdown",
            "source": [
                "## Ćwiczenie #3\r\n",
                "**3.1 Dla każdego produktu podaj jego nazwę, cenę, średnią cenę wszystkich\r\n",
                "produktów oraz różnicę między ceną produktu a średnią ceną wszystkich\r\n",
                "produktów**"
            ],
            "metadata": {
                "azdata_cell_guid": "4c67acf8-63d9-4f8c-b12e-3e262991c71a"
            }
        },
        {
            "cell_type": "code",
            "source": [
                "SELECT *, A.UnitPrice - A.AvgPrice AS Diff\r\n",
                "FROM (\r\n",
                "    SELECT ProductName, UnitPrice, (\r\n",
                "        SELECT AVG(UnitPrice) FROM Products\r\n",
                "    ) AS AvgPrice\r\n",
                "    FROM Products\r\n",
                ") AS A"
            ],
            "metadata": {
                "azdata_cell_guid": "29f4dbf2-8b9f-4112-8d32-3adfbc41951f"
            },
            "outputs": [],
            "execution_count": null
        },
        {
            "cell_type": "markdown",
            "source": [
                "**3.2 Dla każdego produktu podaj jego nazwę kategorii, nazwę produktu, cenę, średnią\r\n",
                "cenę wszystkich produktów danej kategorii oraz różnicę między ceną produktu a\r\n",
                "średnią ceną wszystkich produktów danej kategorii**"
            ],
            "metadata": {
                "azdata_cell_guid": "3e3901ef-a33e-4392-b201-2892fe80b101"
            }
        },
        {
            "cell_type": "code",
            "source": [
                "SELECT C.CategoryName, P.ProductName, P.UnitPrice, (\r\n",
                "    SELECT AVG(P2.UnitPrice)\r\n",
                "    FROM Products AS P2\r\n",
                "    WHERE P2.CategoryID = P.CategoryID\r\n",
                ") AS AvgCatPrice, P.UnitPrice-(\r\n",
                "    SELECT AVG(P2.UnitPrice)\r\n",
                "    FROM Products AS P2\r\n",
                "    WHERE P2.CategoryID = P.CategoryID\r\n",
                ") AS Diff\r\n",
                "FROM Products AS P\r\n",
                "INNER JOIN Categories AS C\r\n",
                "ON P.CategoryID = C.CategoryID"
            ],
            "metadata": {
                "azdata_cell_guid": "6a0898d9-202b-4732-af6c-21ee400adee4"
            },
            "outputs": [],
            "execution_count": null
        },
        {
            "cell_type": "code",
            "source": [
                "SELECT *, A.UnitPrice-A.CatAvgPrice AS Diff\r\n",
                "FROM (\r\n",
                "    SELECT C.CategoryName, P.ProductName, P.UnitPrice, (\r\n",
                "        SELECT AVG(P2.UnitPrice)\r\n",
                "        FROM Products AS P2\r\n",
                "        WHERE P2.CategoryID = P.CategoryID\r\n",
                "    ) AS CatAvgPrice\r\n",
                "    FROM Products AS P\r\n",
                "    INNER JOIN Categories AS C\r\n",
                "    ON P.CategoryID = C.CategoryID\r\n",
                ") AS A"
            ],
            "metadata": {
                "azdata_cell_guid": "61d3f52f-46f6-4671-8515-7502ca97b118"
            },
            "outputs": [],
            "execution_count": null
        },
        {
            "cell_type": "markdown",
            "source": [
                "## Ćwiczenie #4\r\n",
                "**4.1 Podaj łączną wartość zamówienia o numerze 1025 (uwzględnij cenę za przesyłkę)**"
            ],
            "metadata": {
                "azdata_cell_guid": "970dced9-c553-441e-9c74-8c0fdd548f73"
            }
        },
        {
            "cell_type": "code",
            "source": [
                "SELECT O.OrderID, (\r\n",
                "    SELECT SUM(OD.UnitPrice * OD.Quantity * (1-OD.Discount))\r\n",
                "    FROM [Order Details] AS OD\r\n",
                "    WHERE OD.OrderID = O.OrderID\r\n",
                ") + O.Freight AS TotalPrice\r\n",
                "FROM Orders AS O\r\n",
                "WHERE O.OrderID = 10250"
            ],
            "metadata": {
                "azdata_cell_guid": "d648e306-8e2f-4dc4-92b6-75163ac7e94e"
            },
            "outputs": [],
            "execution_count": null
        },
        {
            "cell_type": "markdown",
            "source": [
                "**4.2 Podaj łączną wartość zamówień każdego zamówienia (uwzględnij cenę za\r\n",
                "przesyłkę)**"
            ],
            "metadata": {
                "azdata_cell_guid": "46aa2b2d-ae9d-4ea9-9bdd-07cee3c28037"
            }
        },
        {
            "cell_type": "code",
            "source": [
                "SELECT O.OrderID, (\r\n",
                "    SELECT SUM(OD.UnitPrice * OD.Quantity * (1-OD.Discount))\r\n",
                "    FROM [Order Details] AS OD\r\n",
                "    WHERE OD.OrderID = O.OrderID\r\n",
                ") + O.Freight AS TotalPrice\r\n",
                "FROM Orders AS O"
            ],
            "metadata": {
                "azdata_cell_guid": "5a1bcfaf-d8db-422d-a7ec-db4cdd4fc6e6"
            },
            "outputs": [],
            "execution_count": null
        },
        {
            "cell_type": "markdown",
            "source": [
                "**4.3 Czy są jacyś klienci którzy nie złożyli żadnego zamówienia w 1997 roku, jeśli tak\r\n",
                "to pokaż ich dane adresowe**"
            ],
            "metadata": {
                "azdata_cell_guid": "2046c850-3268-4386-a12f-d20a1a7627fc"
            }
        },
        {
            "cell_type": "code",
            "source": [
                "SELECT CompanyName, Address, City, Country\r\n",
                "FROM Customers\r\n",
                "WHERE CustomerID NOT IN (\r\n",
                "    SELECT CustomerID\r\n",
                "    FROM Orders\r\n",
                "    WHERE YEAR(OrderDate) <> 1997 \r\n",
                ")"
            ],
            "metadata": {
                "azdata_cell_guid": "ce5aa308-5394-4f1b-b786-5d2abeed81bf"
            },
            "outputs": [],
            "execution_count": null
        },
        {
            "cell_type": "markdown",
            "source": [
                "**4.4 Podaj produkty kupowane przez więcej niż jednego klienta**"
            ],
            "metadata": {
                "azdata_cell_guid": "090f5c0a-a760-4860-96b4-1c00de9152b7"
            }
        },
        {
            "cell_type": "code",
            "source": [
                "SELECT P.ProductName\r\n",
                "FROM Products AS P\r\n",
                "WHERE (\r\n",
                "    SELECT COUNT(O.CustomerID)\r\n",
                "    FROM [Order Details] AS OD\r\n",
                "    INNER JOIN Orders AS O\r\n",
                "    ON OD.OrderID = O.OrderID\r\n",
                "    WHERE OD.ProductID = P.ProductID\r\n",
                "    GROUP BY OD.ProductID\r\n",
                ") > 1"
            ],
            "metadata": {
                "azdata_cell_guid": "2e6ccd04-c889-4e16-9f87-04964e08db76",
                "tags": []
            },
            "outputs": [],
            "execution_count": null
        },
        {
            "cell_type": "markdown",
            "source": [
                "## Ćwiczenie #5\r\n",
                "**5.1 Dla każdego pracownika (imię i nazwisko) podaj łączną wartość zamówień\r\n",
                "obsłużonych przez tego pracownika (przy obliczaniu wartości zamówień\r\n",
                "uwzględnij cenę za przesyłkę**"
            ],
            "metadata": {
                "azdata_cell_guid": "7f2500e7-423e-460c-8fb2-8d0d9bc26685"
            }
        },
        {
            "cell_type": "code",
            "source": [
                "SELECT E.FirstName, E.LastName, (\r\n",
                "    SELECT O.Freight + (\r\n",
                "        SELECT OD.UnitPrice * OD.Quantity * (1-OD.Discount) AS Total\r\n",
                "        FROM [Order Details] AS OD\r\n",
                "        WHERE O.OrderID = OD.OrderID\r\n",
                "    )\r\n",
                "    FROM Orders AS O\r\n",
                "    WHERE O.EmployeeID = E.EmployeeID\r\n",
                ") AS TotalPrice\r\n",
                "FROM Employees AS E\r\n",
                "--nie działa"
            ],
            "metadata": {
                "azdata_cell_guid": "3dc4c5f9-29ad-4110-a999-2a2a4746f436"
            },
            "outputs": [],
            "execution_count": null
        },
        {
            "cell_type": "code",
            "source": [
                "SELECT E.FirstName, E.LastName, \r\n",
                "    ROUND(SUM(O.Freight + OD.UnitPrice * OD.Quantity * (1-OD.Discount)), 2) AS TotalServed\r\n",
                "FROM Employees AS E\r\n",
                "INNER JOIN Orders AS O\r\n",
                "ON O.EmployeeID = E.EmployeeID\r\n",
                "INNER JOIN [Order Details] AS OD\r\n",
                "ON OD.OrderID = O.OrderID\r\n",
                "GROUP BY E.FirstName, E.LastName"
            ],
            "metadata": {
                "azdata_cell_guid": "b1ce554a-0e0b-472f-abf3-3d1df23e186d"
            },
            "outputs": [],
            "execution_count": null
        },
        {
            "cell_type": "markdown",
            "source": [
                "**5.2 Który z pracowników obsłużył najaktywniejszy (obsłużył zamówienia o\r\n",
                "największej wartości) w 1997r, podaj imię i nazwisko takiego pracownika**"
            ],
            "metadata": {
                "azdata_cell_guid": "fc2d7534-ec00-400a-b05e-13c25c9b4b2a"
            }
        },
        {
            "cell_type": "code",
            "source": [
                "SELECT TOP 1 E.FirstName, E.LastName\r\n",
                "FROM Employees AS E\r\n",
                "INNER JOIN Orders AS O\r\n",
                "ON O.EmployeeID = E.EmployeeID AND YEAR(O.OrderDate) = 1997\r\n",
                "INNER JOIN [Order Details] AS OD\r\n",
                "ON OD.OrderID = O.OrderID\r\n",
                "GROUP BY E.FirstName, E.LastName\r\n",
                "ORDER BY ROUND(SUM(O.Freight + OD.UnitPrice * OD.Quantity * (1-OD.Discount)), 2) DESC"
            ],
            "metadata": {
                "azdata_cell_guid": "91c813bf-4e50-4ab2-bd98-2178ac331dfb"
            },
            "outputs": [],
            "execution_count": null
        },
        {
            "cell_type": "markdown",
            "source": [
                "**5.3 Ogranicz wynik z pkt 5.1 tylko do pracowników\r\n",
                "a) którzy mają podwładnych\r\n",
                "b) którzy nie mają podwładnych**"
            ],
            "metadata": {
                "azdata_cell_guid": "5df9d280-d14a-45a6-afa9-bc77689578fd"
            }
        },
        {
            "cell_type": "code",
            "source": [
                "SELECT E.FirstName, E.LastName,\r\n",
                "    ROUND(SUM(O.Freight + OD.UnitPrice * OD.Quantity * (1-OD.Discount)), 2) AS TotalServed\r\n",
                "FROM Employees AS E\r\n",
                "LEFT OUTER JOIN Employees AS E2\r\n",
                "ON E.EmployeeID = E2.ReportsTo\r\n",
                "INNER JOIN Orders AS O\r\n",
                "ON O.EmployeeID = E.EmployeeID\r\n",
                "INNER JOIN [Order Details] AS OD\r\n",
                "ON OD.OrderID = O.OrderID\r\n",
                "WHERE E2.EmployeeID IS NOT NULL\r\n",
                "GROUP BY E.FirstName, E.LastName"
            ],
            "metadata": {
                "azdata_cell_guid": "4473c117-5688-47f2-80bc-c910e353f50f"
            },
            "outputs": [],
            "execution_count": null
        },
        {
            "cell_type": "code",
            "source": [
                "SELECT E.FirstName, E.LastName,\r\n",
                "    ROUND(SUM(O.Freight + OD.UnitPrice * OD.Quantity * (1-OD.Discount)), 2) AS TotalServed\r\n",
                "FROM Employees AS E\r\n",
                "LEFT OUTER JOIN Employees AS E2\r\n",
                "ON E.EmployeeID = E2.ReportsTo\r\n",
                "INNER JOIN Orders AS O\r\n",
                "ON O.EmployeeID = E.EmployeeID\r\n",
                "INNER JOIN [Order Details] AS OD\r\n",
                "ON OD.OrderID = O.OrderID\r\n",
                "WHERE E2.EmployeeID IS NULL\r\n",
                "GROUP BY E.FirstName, E.LastName"
            ],
            "metadata": {
                "azdata_cell_guid": "794f8e1a-3839-493e-9bda-270af12f78fe",
                "tags": []
            },
            "outputs": [],
            "execution_count": null
        },
        {
            "cell_type": "markdown",
            "source": [
                "**5.4 Zmodyfikuj rozwiązania z pkt 5.3 tak aby dla pracowników pokazać jeszcze datę\r\n",
                "ostatnio obsłużonego zamówienia**"
            ],
            "metadata": {
                "azdata_cell_guid": "58f0f13b-8b4c-4ebe-966b-88a7bc0c978c"
            }
        },
        {
            "cell_type": "code",
            "source": [
                "SELECT E.FirstName, E.LastName,\r\n",
                "    ROUND(SUM(O.Freight + OD.UnitPrice * OD.Quantity * (1-OD.Discount)), 2) AS TotalServed,\r\n",
                "    MAX(O.OrderDate) AS LastOrderServed\r\n",
                "FROM Employees AS E\r\n",
                "LEFT OUTER JOIN Employees AS E2\r\n",
                "ON E.EmployeeID = E2.ReportsTo\r\n",
                "INNER JOIN Orders AS O\r\n",
                "ON O.EmployeeID = E.EmployeeID\r\n",
                "INNER JOIN [Order Details] AS OD\r\n",
                "ON OD.OrderID = O.OrderID\r\n",
                "WHERE E2.EmployeeID IS NOT NULL\r\n",
                "GROUP BY E.FirstName, E.LastName"
            ],
            "metadata": {
                "azdata_cell_guid": "aba390ca-b9ce-4722-9075-bcad3594dd14"
            },
            "outputs": [],
            "execution_count": null
        }
    ]
}