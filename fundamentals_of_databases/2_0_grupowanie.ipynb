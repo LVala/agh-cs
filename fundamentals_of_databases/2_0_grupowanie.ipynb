{
    "metadata": {
        "kernelspec": {
            "name": "SQL",
            "display_name": "SQL",
            "language": "sql"
        },
        "language_info": {
            "name": "sql",
            "version": ""
        },
        "extensions": {
            "azuredatastudio": {
                "version": 1,
                "views": []
            }
        }
    },
    "nbformat_minor": 2,
    "nbformat": 4,
    "cells": [
        {
            "cell_type": "markdown",
            "source": [
                "#  Zestaw 1.1 - \"Grupowanie danych\""
            ],
            "metadata": {
                "azdata_cell_guid": "4071eade-29df-4352-acd2-3fa6aeaad146"
            }
        },
        {
            "cell_type": "code",
            "source": [
                "USE Northwind"
            ],
            "metadata": {
                "azdata_cell_guid": "ba085b1f-28ca-4b99-ba1b-654c012de766"
            },
            "outputs": [],
            "execution_count": null
        },
        {
            "cell_type": "markdown",
            "source": [
                "## 1. Ćwiczenie #1\r\n",
                "**1.1 Podaj liczbę produktów o cenach mniejszych niż 10 lub większych niż 20**"
            ],
            "metadata": {
                "azdata_cell_guid": "8f65656e-b39e-4128-a511-a84dbdbf9497"
            }
        },
        {
            "cell_type": "code",
            "source": [
                "SELECT COUNT(*) FROM Products WHERE UnitPrice < 10 OR UnitPrice > 20"
            ],
            "metadata": {
                "azdata_cell_guid": "b9e875ec-a8e9-43e8-8baf-c665261b3b5c"
            },
            "outputs": [],
            "execution_count": null
        },
        {
            "cell_type": "markdown",
            "source": [
                "**1.2 Podaj maksymalną cenę produktu dla produktów o cenach poniżej 20**"
            ],
            "metadata": {
                "azdata_cell_guid": "f5c35f2a-03f2-42be-b40f-642dfb3d0457"
            }
        },
        {
            "cell_type": "code",
            "source": [
                "SELECT MAX(UnitPrice) FROM Products WHERE UnitPrice < 20"
            ],
            "metadata": {
                "azdata_cell_guid": "50605c48-0d48-43d7-b2e5-aa1945721dbb"
            },
            "outputs": [],
            "execution_count": null
        },
        {
            "cell_type": "markdown",
            "source": [
                "**1.3 Podaj maksymalną i minimalną i średnią cenę produktu dla produktów o\r\n",
                "produktach sprzedawanych w butelkach (‘bottle’)**"
            ],
            "metadata": {
                "azdata_cell_guid": "63ce3c7a-3134-4fa3-b495-d107c38ca308"
            }
        },
        {
            "cell_type": "code",
            "source": [
                "SELECT MAX(UnitPrice) AS 'MaxPrice', MIN(UnitPrice) AS 'MinPrice' FROM Products WHERE QuantityPerUnit LIKE '%bottle%'"
            ],
            "metadata": {
                "azdata_cell_guid": "db7c4788-9da7-48b7-a49d-489ddac12359"
            },
            "outputs": [],
            "execution_count": null
        },
        {
            "cell_type": "markdown",
            "source": [
                "**1.4 Wypisz informację o wszystkich produktach o cenie powyżej średniej**"
            ],
            "metadata": {
                "azdata_cell_guid": "042502de-5956-4992-bc99-83e5420efd8f"
            }
        },
        {
            "cell_type": "code",
            "source": [
                "SELECT * FROM Products WHERE UnitPrice > (SELECT AVG(UnitPrice) FROM Products)"
            ],
            "metadata": {
                "azdata_cell_guid": "9a07aaa5-c5c7-4eca-8aa3-04a65018d66c"
            },
            "outputs": [],
            "execution_count": null
        },
        {
            "cell_type": "markdown",
            "source": [
                "**1.5 Podaj sumę/wartość zamówienia o numerze 10250**"
            ],
            "metadata": {
                "azdata_cell_guid": "35daf4f0-74f8-4709-ae29-a8af41d2e4cd"
            }
        },
        {
            "cell_type": "code",
            "source": [
                "SELECT ROUND(SUM((1-Discount) * UnitPrice * Quantity), 2) FROM [Order Details] WHERE OrderID = 10250"
            ],
            "metadata": {
                "azdata_cell_guid": "d0c83522-1eec-4ccb-9f12-2d7b0a53f339"
            },
            "outputs": [],
            "execution_count": null
        },
        {
            "cell_type": "markdown",
            "source": [
                "## 2. Ćwiczenie #2\r\n",
                "**2.1 Podaj maksymalną cenę zamawianego produktu dla każdego zamówienia**"
            ],
            "metadata": {
                "azdata_cell_guid": "d01d08b1-7a63-4349-91dd-0bb7d970f231"
            }
        },
        {
            "cell_type": "code",
            "source": [
                "SELECT OrderID, MAX(UnitPrice * (1-Discount)) AS 'MaxPrice' FROM [Order Details] GROUP BY OrderID"
            ],
            "metadata": {
                "azdata_cell_guid": "ae354b5b-7a40-4a75-a45b-247d6eed8493"
            },
            "outputs": [],
            "execution_count": null
        },
        {
            "cell_type": "markdown",
            "source": [
                "**2.2 Posortuj zamówienia wg maksymalnej ceny produktu**"
            ],
            "metadata": {
                "azdata_cell_guid": "e45fcb16-a144-4bc6-bb25-53e8eedb4a6f"
            }
        },
        {
            "cell_type": "code",
            "source": [
                "SELECT OrderID, MAX(UnitPrice) AS 'MaxPrice' FROM [Order Details] GROUP BY OrderID ORDER BY MaxPrice"
            ],
            "metadata": {
                "azdata_cell_guid": "c19926ff-4b97-4d24-823f-6d74d1d35849"
            },
            "outputs": [],
            "execution_count": null
        },
        {
            "cell_type": "markdown",
            "source": [
                "**2.3 Podaj maksymalną i minimalną cenę zamawianego produktu dla każdego zamówienia**"
            ],
            "metadata": {
                "azdata_cell_guid": "11f4db4b-4721-4efb-9ea3-a922e567d905"
            }
        },
        {
            "cell_type": "code",
            "source": [
                "SELECT OrderID, MAX(UnitPrice) AS 'MaxPrice', MIN(UnitPrice) AS 'MinPrice' FROM [Order Details] GROUP BY OrderID"
            ],
            "metadata": {
                "azdata_cell_guid": "25be9d66-3e15-474a-a228-333cd422efc3"
            },
            "outputs": [],
            "execution_count": null
        },
        {
            "cell_type": "markdown",
            "source": [
                "**2.4 Podaj liczbę zamówień dostarczanych przez poszczególnych spedytorów (przewoźników)**"
            ],
            "metadata": {
                "azdata_cell_guid": "59efadc5-686e-446b-a431-1040e5808e79"
            }
        },
        {
            "cell_type": "code",
            "source": [
                "SELECT ShipVia, COUNT (*) AS 'OrdersForShipper' FROM Orders GROUP BY ShipVia"
            ],
            "metadata": {
                "azdata_cell_guid": "d6288ad3-af12-4995-a6d2-ac408134d414"
            },
            "outputs": [],
            "execution_count": null
        },
        {
            "cell_type": "markdown",
            "source": [
                "**2.5 Który z spedytorów był najaktywniejszy w 1997 roku**"
            ],
            "metadata": {
                "azdata_cell_guid": "8710817b-473d-4a54-abea-605ab068bdf3"
            }
        },
        {
            "cell_type": "code",
            "source": [
                "SELECT TOP 1 WITH TIES ShipVia, COUNT(*) AS 'OrdersCount' FROM Orders WHERE YEAR(ShippedDate) = 1997 GROUP BY ShipVia ORDER BY OrdersCount"
            ],
            "metadata": {
                "azdata_cell_guid": "834c2d20-1b91-4828-ae57-23cc4cb2d747"
            },
            "outputs": [],
            "execution_count": null
        },
        {
            "cell_type": "markdown",
            "source": [
                "## 3. Ćwiczenie #3\r\n",
                "**3.1 Wyświetl zamówienia dla których liczba pozycji zamówienia jest większa niż 5**"
            ],
            "metadata": {
                "azdata_cell_guid": "e8f56ee9-a627-49b8-8db6-9f26789d57be"
            }
        },
        {
            "cell_type": "code",
            "source": [
                "SELECT OrderID, COUNT(*) AS OrderItemsCount FROM [Order Details] GROUP BY OrderID HAVING COUNT(*) > 5"
            ],
            "metadata": {
                "azdata_cell_guid": "f481ed02-c615-48dd-bb0d-ea49418a50d0"
            },
            "outputs": [],
            "execution_count": null
        },
        {
            "cell_type": "markdown",
            "source": [
                "**3.2 Wyświetl klientów dla których w 1998 roku zrealizowano więcej niż 8 zamówień (wyniki posortuj malejąco wg łącznej kwoty za dostarczenie zamówień dla każdego z klientów)**"
            ],
            "metadata": {
                "azdata_cell_guid": "5f763b9a-f3cb-4972-adf2-4a84b1ff1f8a"
            }
        },
        {
            "cell_type": "code",
            "source": [
                "SELECT CustomerID, COUNT(*) AS OrderQuantity FROM Orders WHERE YEAR(ShippedDate) = 1998 GROUP BY CustomerID HAVING COUNT(*) > 8 ORDER BY COUNT(*) DESC"
            ],
            "metadata": {
                "azdata_cell_guid": "f06eef3f-7191-431c-a6dd-e92fa12c86a7"
            },
            "outputs": [],
            "execution_count": null
        }
    ]
}