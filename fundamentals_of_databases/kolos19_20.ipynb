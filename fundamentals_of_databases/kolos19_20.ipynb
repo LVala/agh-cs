{
    "metadata": {
        "kernelspec": {
            "name": "SQL",
            "display_name": "SQL",
            "language": "sql"
        },
        "language_info": {
            "name": "sql",
            "version": ""
        }
    },
    "nbformat_minor": 2,
    "nbformat": 4,
    "cells": [
        {
            "cell_type": "markdown",
            "source": [
                "# Zadania z kolokwium 2019/20\r\n",
                "wiele rzeczy może być źle"
            ],
            "metadata": {
                "azdata_cell_guid": "4c9acf7b-2646-4cb3-b913-d3609cfa3008"
            }
        },
        {
            "cell_type": "markdown",
            "source": [
                "## Zadania #1\r\n",
                "**1.1 Wypisz wszystkich członków biblioteki z adresami i info czy jest dzieckiem czy nie i\r\n",
                "ilość wypożyczeń w poszczególnych latach i miesiącach.**"
            ],
            "metadata": {
                "azdata_cell_guid": "4d6c3c28-4ff5-4204-96c1-f8f4e555a34b"
            }
        },
        {
            "cell_type": "code",
            "source": [
                "USE Library"
            ],
            "metadata": {
                "azdata_cell_guid": "21fd505d-d19e-4f06-9ade-fb90120c80bb"
            },
            "outputs": [],
            "execution_count": null
        },
        {
            "cell_type": "code",
            "source": [
                "-- to może być źle, nie wiem czy uwzględniać loan\n",
                "\n",
                "SELECT \n",
                "    M.firstname, M.lastname,\n",
                "    CASE\n",
                "        WHEN A1.street IS NOT NULL THEN A1.street + ' ' + A1.city + ' ' + A1.state\n",
                "        ELSE A2.street + ' ' + A2.city + ' ' + A2.state\n",
                "    END AS address,\n",
                "    CASE\n",
                "        WHEN J.member_no IS NOT NULL THEN 'child'\n",
                "        ELSE 'adult'\n",
                "    END AS child_or_adult,\n",
                "    YEAR(LH.out_date) AS year,\n",
                "    MONTH(LH.out_date) AS MONTH,\n",
                "    COUNT(LH.isbn) AS borrowed_books\n",
                "FROM member AS M\n",
                "LEFT OUTER JOIN juvenile AS J\n",
                "ON M.member_no = J.member_no\n",
                "LEFT OUTER JOIN adult AS A1\n",
                "ON M.member_no = A1.member_no\n",
                "LEFT OUTER JOIN adult AS A2\n",
                "ON J.adult_member_no = A2.member_no\n",
                "LEFT OUTER JOIN loanhist AS LH\n",
                "ON M.member_no = LH.member_no\n",
                "WHERE LH.out_date IS NOT NULL\n",
                "GROUP BY  M.firstname, M.lastname, A1.street, A1.city, A1.state, A2.street, A2.city, A2.state, J.member_no, LH.out_date"
            ],
            "metadata": {
                "azdata_cell_guid": "510f2333-76a4-4e29-b2fc-7c630748fbaf"
            },
            "outputs": [],
            "execution_count": null
        },
        {
            "cell_type": "markdown",
            "source": [
                "**1.2 Zamówienia z Freight większym niż AVG danego roku.**"
            ],
            "metadata": {
                "azdata_cell_guid": "ac8f64ff-017a-4760-8bf5-c81e354217ae"
            }
        },
        {
            "cell_type": "code",
            "source": [
                "USE Northwind"
            ],
            "metadata": {
                "azdata_cell_guid": "88360553-3ab6-4254-88d2-b76df84e3a86"
            },
            "outputs": [],
            "execution_count": null
        },
        {
            "cell_type": "code",
            "source": [
                "SELECT OrderID\r\n",
                "FROM Orders AS O\r\n",
                "WHERE Freight > \r\n",
                "    (SELECT AVG(Freight) \r\n",
                "    FROM Orders AS O2 \r\n",
                "    WHERE YEAR(ShippedDate) = YEAR(O.ShippedDate))"
            ],
            "metadata": {
                "azdata_cell_guid": "5cf9cc6e-202a-4e04-baad-18e336225f06"
            },
            "outputs": [],
            "execution_count": null
        },
        {
            "cell_type": "markdown",
            "source": [
                "**1.3 Klienci, którzy nie zamówili nigdy nic z kategorii 'Seafood' w trzech wersjach.**"
            ],
            "metadata": {
                "azdata_cell_guid": "39f08749-73ee-44f3-a9dc-14ea2f7d85a1"
            }
        },
        {
            "cell_type": "code",
            "source": [
                "SELECT CompanyName\r\n",
                "FROM Customers\r\n",
                "WHERE Customers.CustomerID NOT IN\r\n",
                "    (SELECT C.CustomerID\r\n",
                "    FROM Customers AS C\r\n",
                "    INNER JOIN Orders AS O\r\n",
                "    ON C.CustomerID = O.CustomerID\r\n",
                "    INNER JOIN [Order Details] AS OD\r\n",
                "    ON OD.OrderID = O.OrderID\r\n",
                "    INNER JOIN Products AS P\r\n",
                "    ON OD.ProductID = P.ProductID\r\n",
                "    INNER JOIN Categories AS CA\r\n",
                "    ON P.CategoryID = CA.CategoryID\r\n",
                "    WHERE CA.CategoryName = 'Seafood')"
            ],
            "metadata": {
                "azdata_cell_guid": "1bde6876-9532-4f79-823d-95a53726f1d8"
            },
            "outputs": [],
            "execution_count": null
        },
        {
            "cell_type": "code",
            "source": [
                "SELECT CompanyName\r\n",
                "FROM Customers\r\n",
                "LEFT OUTER JOIN \r\n",
                "    (Orders AS O\r\n",
                "    INNER JOIN [Order Details] AS OD\r\n",
                "    ON O.OrderID = OD.OrderID\r\n",
                "    INNER JOIN Products AS P\r\n",
                "    ON OD.ProductID = P.ProductID\r\n",
                "    INNER JOIN Categories AS C\r\n",
                "    ON C.CategoryId = P.CategoryID AND C.CategoryName = 'Seafood')\r\n",
                "ON Customers.CustomerID = O.CustomerID\r\n",
                "WHERE C.CategoryID IS NULL"
            ],
            "metadata": {
                "azdata_cell_guid": "250badf8-0349-4646-9b8e-33c5dee762f7"
            },
            "outputs": [],
            "execution_count": null
        },
        {
            "cell_type": "markdown",
            "source": [
                "**1.4 Dla każdego klienta najczęściej zamawianą kategorię w dwóch wersjach.**"
            ],
            "metadata": {
                "azdata_cell_guid": "1cd22ffa-6f77-4ddc-a8a9-9ee43ab427b7"
            }
        },
        {
            "cell_type": "code",
            "source": [
                "SELECT C2.CompanyName, \r\n",
                "    (SELECT TOP 1 CA.CategoryName\r\n",
                "    FROM Customers AS C\r\n",
                "    INNER JOIN Orders AS O\r\n",
                "    ON C.CustomerID = O.CustomerID\r\n",
                "    INNER JOIN [Order Details] AS OD\r\n",
                "    ON OD.OrderID = O.OrderID\r\n",
                "    INNER JOIN Products AS P\r\n",
                "    ON P.ProductID = OD.ProductID\r\n",
                "    INNER JOIN Categories AS CA\r\n",
                "    ON CA.CategoryID = P.CategoryID\r\n",
                "    WHERE C.CustomerID = C2.CustomerID\r\n",
                "    GROUP BY CA.CategoryName\r\n",
                "    ORDER BY COUNT(*) DESC) AS MostBoughtCat\r\n",
                "FROM Customers AS C2"
            ],
            "metadata": {
                "azdata_cell_guid": "99a8ee5a-f92e-4334-b2bf-756841240d6b",
                "tags": []
            },
            "outputs": [],
            "execution_count": null
        },
        {
            "cell_type": "markdown",
            "source": [
                "## Zadania #2\r\n",
                "**2.1 Podział na company, year month i suma freight**"
            ],
            "metadata": {
                "azdata_cell_guid": "30992956-3d18-40f0-bdec-18703fe6ba01"
            }
        },
        {
            "cell_type": "code",
            "source": [
                "SELECT C.CompanyName, YEAR(O.OrderDate) AS year, MONTH(O.OrderDate) AS month, SUM(O.Freight) AS TotalFreight\r\n",
                "FROM Customers AS C\r\n",
                "INNER JOIN Orders AS O\r\n",
                "ON C.CustomerID = O.CustomerID\r\n",
                "GROUP BY C.CompanyName, YEAR(O.OrderDate), MONTH(O.OrderDate)\r\n",
                "ORDER BY 1"
            ],
            "metadata": {
                "azdata_cell_guid": "57aab6e0-da9d-4c95-b04c-6e58076161a3"
            },
            "outputs": [],
            "execution_count": null
        },
        {
            "cell_type": "markdown",
            "source": [
                "**2.2 Wypisać wszystkich czytelników, którzy nigdy nie wypożyczyli książki dane\r\n",
                "adresowe i podział czy ta osoba jest dzieckiem (joiny, in, exists)**"
            ],
            "metadata": {
                "azdata_cell_guid": "02d74519-b3fa-40aa-a113-96da213fc323"
            }
        },
        {
            "cell_type": "code",
            "source": [
                "--źle, nie uwzględnia loan\r\n",
                "\r\n",
                "SELECT\r\n",
                "    M.firstname, M.lastname,\r\n",
                "    CASE\r\n",
                "        WHEN A1.street IS NOT NULL THEN A1.street + ' ' + A1.city + ' ' + A1.state\r\n",
                "        ELSE A2.street + ' ' + A2.city + ' ' + A2.state\r\n",
                "    END AS address,\r\n",
                "    CASE\r\n",
                "        WHEN J.member_no IS NOT NULL THEN 'child'\r\n",
                "        ELSE 'adult'\r\n",
                "    END AS child_or_adult\r\n",
                "FROM member AS M\r\n",
                "LEFT OUTER JOIN juvenile AS J\r\n",
                "ON M.member_no = J.member_no\r\n",
                "LEFT OUTER JOIN adult AS A1\r\n",
                "ON M.member_no = A1.member_no\r\n",
                "LEFT OUTER JOIN adult AS A2\r\n",
                "ON J.adult_member_no = A2.member_no\r\n",
                "LEFT OUTER JOIN loanhist AS LH\r\n",
                "ON M.member_no = LH.member_no\r\n",
                "WHERE LH.out_date IS NULL"
            ],
            "metadata": {
                "azdata_cell_guid": "f34266b3-c175-4e2c-b10c-b96b9425fdfd",
                "tags": []
            },
            "outputs": [],
            "execution_count": null
        },
        {
            "cell_type": "code",
            "source": [
                "SELECT\r\n",
                "    M.firstname, M.lastname,\r\n",
                "    CASE\r\n",
                "        WHEN A1.street IS NOT NULL THEN A1.street + ' ' + A1.city + ' ' + A1.state\r\n",
                "        ELSE A2.street + ' ' + A2.city + ' ' + A2.state\r\n",
                "    END AS address,\r\n",
                "    CASE\r\n",
                "        WHEN J.member_no IS NOT NULL THEN 'child'\r\n",
                "        ELSE 'adult'\r\n",
                "    END AS child_or_adult\r\n",
                "FROM member AS M\r\n",
                "LEFT OUTER JOIN juvenile AS J\r\n",
                "ON M.member_no = J.member_no\r\n",
                "LEFT OUTER JOIN adult AS A1\r\n",
                "ON M.member_no = A1.member_no\r\n",
                "LEFT OUTER JOIN adult AS A2\r\n",
                "ON J.adult_member_no = A2.member_no\r\n",
                "WHERE M.member_no NOT IN\r\n",
                "    (SELECT M1.member_no\r\n",
                "    FROM member AS M1\r\n",
                "    INNER JOIN loanhist AS LH\r\n",
                "    ON M1.member_no = LH.member_no)"
            ],
            "metadata": {
                "azdata_cell_guid": "02a33d23-dab4-4e52-8d4b-ee9f8e3d4662"
            },
            "outputs": [],
            "execution_count": null
        },
        {
            "cell_type": "code",
            "source": [
                "SELECT\r\n",
                "    M.firstname, M.lastname,\r\n",
                "    CASE\r\n",
                "        WHEN A1.street IS NOT NULL THEN A1.street + ' ' + A1.city + ' ' + A1.state\r\n",
                "        ELSE A2.street + ' ' + A2.city + ' ' + A2.state\r\n",
                "    END AS address,\r\n",
                "    CASE\r\n",
                "        WHEN J.member_no IS NOT NULL THEN 'child'\r\n",
                "        ELSE 'adult'\r\n",
                "    END AS child_or_adult\r\n",
                "FROM member AS M\r\n",
                "LEFT OUTER JOIN juvenile AS J\r\n",
                "ON M.member_no = J.member_no\r\n",
                "LEFT OUTER JOIN adult AS A1\r\n",
                "ON M.member_no = A1.member_no\r\n",
                "LEFT OUTER JOIN adult AS A2\r\n",
                "ON J.adult_member_no = A2.member_no\r\n",
                "WHERE NOT EXISTS \r\n",
                "    (SELECT *\r\n",
                "    FROM member AS M1\r\n",
                "    INNER JOIN loanhist AS LH\r\n",
                "    ON M1.member_no = LH.member_no AND M1.member_no = M.member_no)"
            ],
            "metadata": {
                "azdata_cell_guid": "eab93116-8fdd-46f7-b367-065e69bd9dd6"
            },
            "outputs": [],
            "execution_count": null
        },
        {
            "cell_type": "markdown",
            "source": [
                "**2.3 Najczęściej wybierana kategoria w 1997 dla każdego klienta**"
            ],
            "metadata": {
                "azdata_cell_guid": "8ef83046-ab9b-4f21-a132-6a20e052ea3c"
            }
        },
        {
            "cell_type": "code",
            "source": [
                "USE Northwind"
            ],
            "metadata": {
                "azdata_cell_guid": "409b58ee-f5c2-49ca-b66a-7d503f7b7346"
            },
            "outputs": [],
            "execution_count": null
        },
        {
            "cell_type": "code",
            "source": [
                "SELECT C2.CompanyName, \r\n",
                "    (SELECT TOP 1 CA.CategoryName\r\n",
                "    FROM Customers AS C\r\n",
                "    INNER JOIN Orders AS O\r\n",
                "    ON C.CustomerID = O.CustomerID AND YEAR(O.OrderDate) = 1997\r\n",
                "    INNER JOIN [Order Details] AS OD\r\n",
                "    ON OD.OrderID = O.OrderID\r\n",
                "    INNER JOIN Products AS P\r\n",
                "    ON P.ProductID = OD.ProductID\r\n",
                "    INNER JOIN Categories AS CA\r\n",
                "    ON CA.CategoryID = P.CategoryID\r\n",
                "    WHERE C.CustomerID = C2.CustomerID\r\n",
                "    GROUP BY CA.CategoryName\r\n",
                "    ORDER BY COUNT(*) DESC) AS MostBoughtCat\r\n",
                "FROM Customers AS C2"
            ],
            "metadata": {
                "azdata_cell_guid": "bfcf4980-dddb-4788-9e76-28c6db5c3cab"
            },
            "outputs": [],
            "execution_count": null
        },
        {
            "cell_type": "markdown",
            "source": [
                "**2.4 Dla każdego czytelnika imię nazwisko, suma książek wypożyczony przez tą osobę i\r\n",
                "jej dzieci, który żyje w Arizona ma mieć więcej niż 2 dzieci lub kto żyje w Kalifornii\r\n",
                "ma mieć więcej niż 3 dzieci**"
            ],
            "metadata": {
                "azdata_cell_guid": "b11b45d3-9a48-4905-b415-f8af78ecaffd"
            }
        },
        {
            "cell_type": "code",
            "source": [
                "USE Library"
            ],
            "metadata": {
                "azdata_cell_guid": "e1a4a721-32ff-4872-a724-88cfee73075f"
            },
            "outputs": [],
            "execution_count": null
        },
        {
            "cell_type": "code",
            "source": [
                "-- może być źle, nie uwzględnia loan\r\n",
                "\r\n",
                "SELECT M.firstname, M.lastname, COUNT(*) + \r\n",
                "    (SELECT COUNT(*)\r\n",
                "    FROM member AS M1\r\n",
                "    INNER JOIN loanhist AS LH1\r\n",
                "    ON M1.member_no = LH1.member_no\r\n",
                "    WHERE M1.member_no = M.member_no)\r\n",
                "FROM member AS M\r\n",
                "INNER JOIN adult AS A\r\n",
                "ON M.member_no = A.member_no\r\n",
                "INNER JOIN juvenile AS J\r\n",
                "ON A.member_no = J.adult_member_no\r\n",
                "INNER JOIN loanhist AS LH\r\n",
                "ON J.member_no = LH.member_no\r\n",
                "GROUP BY M.member_no, M.firstname, M.lastname, A.state\r\n",
                "HAVING (A.state = 'AZ' AND COUNT(J.member_no) > 2) OR (A.state = 'CA' AND COUNT(J.member_no) > 3)\r\n",
                "-- nie wiem czy to działa w sumie, chyba nie"
            ],
            "metadata": {
                "azdata_cell_guid": "b124c56f-e7da-45ea-9152-2e7ea938a2d5"
            },
            "outputs": [],
            "execution_count": null
        },
        {
            "cell_type": "markdown",
            "source": [
                "## Zadania #3\r\n",
                "**3.1 Jaki był najpopularniejszy autor wśród dzieci w Arizonie w 2001**"
            ],
            "metadata": {
                "azdata_cell_guid": "94b2c0b1-323c-4cd3-a6f5-ac84d9bbfc22"
            }
        },
        {
            "cell_type": "code",
            "source": [
                "SELECT TOP 1 WITH TIES T.author\r\n",
                "FROM title AS T\r\n",
                "INNER JOIN loanhist AS LH\r\n",
                "ON T.title_no = LH.title_no\r\n",
                "INNER JOIN member AS M\r\n",
                "ON M.member_no = LH.member_no\r\n",
                "INNER JOIN juvenile AS J\r\n",
                "ON J.member_no = M.member_no\r\n",
                "INNER JOIN adult AS A\r\n",
                "ON J.adult_member_no = A.member_no AND A.state = 'AZ'\r\n",
                "GROUP BY T.author\r\n",
                "ORDER BY T.author DESC"
            ],
            "metadata": {
                "azdata_cell_guid": "a46b2553-a731-4de1-9bbb-4566bac51b61"
            },
            "outputs": [],
            "execution_count": null
        },
        {
            "cell_type": "markdown",
            "source": [
                "**3.2 Dla każdego dziecka wybierz jego imię nazwisko, adres, imię i nazwisko rodzica i\r\n",
                "ilość książek, które oboje przeczytali w 2001**"
            ],
            "metadata": {
                "azdata_cell_guid": "4c26f84b-3dcf-441d-b5ed-7bc4a265cf08"
            }
        },
        {
            "cell_type": "code",
            "source": [
                "SELECT M.member_no, M.firstname, M.lastname, A.street, A.city, A.state, \r\n",
                "    MP.firstname as parentfirstname, MP.lastname as parentlastname,\r\n",
                "    CASE\r\n",
                "        WHEN M.member_no IN (SELECT member_no FROM loanhist) THEN COUNT(LH.isbn) + (\r\n",
                "            SELECT COUNT(*)\r\n",
                "            FROM member AS M1\r\n",
                "            INNER JOIN loanhist AS LH1\r\n",
                "            ON M1.member_no = LH1.member_no AND M1.member_no = M.member_no AND YEAR(LH1.out_date) = 2001\r\n",
                "        )\r\n",
                "        ELSE 0\r\n",
                "    END\r\n",
                "FROM juvenile AS J\r\n",
                "INNER JOIN member AS M\r\n",
                "ON M.member_no = J.member_no\r\n",
                "INNER JOIN adult AS A\r\n",
                "ON A.member_no = J.adult_member_no\r\n",
                "INNER JOIN member AS MP\r\n",
                "ON MP.member_no = J.adult_member_no\r\n",
                "LEFT OUTER JOIN loanhist AS LH\r\n",
                "ON LH.member_no = M.member_no AND YEAR(LH.out_date) = 2001 \r\n",
                "GROUP BY M.member_no, M.firstname, M.lastname, A.street, A.city, A.state, MP.firstname, MP.lastname\r\n",
                "ORDER BY 1"
            ],
            "metadata": {
                "azdata_cell_guid": "0ca1d88b-7c6d-4bda-8807-40861103dbc2"
            },
            "outputs": [],
            "execution_count": null
        },
        {
            "cell_type": "markdown",
            "source": [
                "**3.3 Kategorie które w roku 1997 grudzień były obsłużone wyłącznie przez ‘United\r\n",
                "Package**"
            ],
            "metadata": {
                "azdata_cell_guid": "6df666dd-79de-4fa9-8f0a-6f465f9e40d8"
            }
        },
        {
            "cell_type": "code",
            "source": [
                "USE Northwind"
            ],
            "metadata": {
                "azdata_cell_guid": "35b217a1-6757-40a6-b410-35f83105802f"
            },
            "outputs": [],
            "execution_count": null
        },
        {
            "cell_type": "code",
            "source": [
                "SELECT DISTINCT C.CategoryName\r\n",
                "FROM Orders AS O\r\n",
                "INNER JOIN Shippers AS S\r\n",
                "ON O.ShipVia = S.ShipperID AND S.CompanyName = 'United Package'\r\n",
                "INNER JOIN [Order Details] AS OD\r\n",
                "ON OD.OrderID = O.OrderID\r\n",
                "INNER JOIN Products AS P\r\n",
                "ON P.ProductID = OD.ProductID\r\n",
                "INNER JOIN Categories AS C\r\n",
                "ON C.CategoryID = P.CategoryID\r\n",
                "WHERE YEAR(O.ShippedDate) = 1997 AND MONTH(O.ShippedDate) = 12"
            ],
            "metadata": {
                "azdata_cell_guid": "623e911e-b685-4ddd-9a09-452be7b4577a"
            },
            "outputs": [],
            "execution_count": null
        },
        {
            "cell_type": "markdown",
            "source": [
                "**3.4 Wybierz klientów, którzy kupili przedmioty wyłącznie z jednej kategorii w marcu\r\n",
                "1997 i wypisz nazwę tej kategorii**"
            ],
            "metadata": {
                "azdata_cell_guid": "b997b52f-4f30-47c3-b6cc-694af09e53e0"
            }
        },
        {
            "cell_type": "code",
            "source": [
                "SELECT DISTINCT C.CustomerID,\r\n",
                "    (SELECT CA1.CategoryName\r\n",
                "    FROM Customers AS C1\r\n",
                "    INNER JOIN Orders AS O1\r\n",
                "    ON O1.CustomerID = C1.CustomerID AND YEAR(O1.OrderDate) = 1997 AND MONTH(O1.OrderDate) = 3\r\n",
                "    INNER JOIN [Order Details] AS OD1\r\n",
                "    ON OD1.OrderID = O1.OrderID\r\n",
                "    INNER JOIN Products AS P1\r\n",
                "    ON P1.ProductID = OD1.ProductID\r\n",
                "    INNER JOIN Categories AS CA1\r\n",
                "    ON CA1.CategoryID = P1.CategoryID\r\n",
                "    WHERE C1.CustomerID = C.CustomerID) AS Category\r\n",
                "FROM Customers AS C\r\n",
                "INNER JOIN Orders AS O \r\n",
                "ON C.CustomerID = O.CustomerID AND YEAR(O.OrderDate) = 1997 AND MONTH(O.OrderDate) = 3\r\n",
                "INNER JOIN [Order Details] AS OD\r\n",
                "ON OD.OrderID = O.OrderID\r\n",
                "INNER JOIN Products AS P\r\n",
                "ON OD.ProductID = P.ProductID\r\n",
                "GROUP BY C.CustomerID\r\n",
                "HAVING COUNT(P.CategoryID) = 1"
            ],
            "metadata": {
                "azdata_cell_guid": "a6eff805-d255-4e7d-aa17-ceb6712c3abc"
            },
            "outputs": [],
            "execution_count": null
        },
        {
            "cell_type": "markdown",
            "source": [
                "## Zadania #4\r\n",
                "**4.1 Wybierz dzieci wraz z adresem, które nie wypożyczyły książek w lipcu 2001\r\n",
                "autorstwa ‘Jane Austin’**"
            ],
            "metadata": {
                "azdata_cell_guid": "8f6ac288-29f9-4d12-914e-5342b9abe44c"
            }
        },
        {
            "cell_type": "code",
            "source": [
                "USE Library"
            ],
            "metadata": {
                "azdata_cell_guid": "8a57645e-74ff-4fcc-952e-d8e5e0e0a9a7"
            },
            "outputs": [],
            "execution_count": null
        },
        {
            "cell_type": "code",
            "source": [
                "SELECT M.firstname, M.lastname, A.street, A.city, A.state\r\n",
                "FROM juvenile AS J\r\n",
                "INNER JOIN member AS M\r\n",
                "ON M.member_no = J.member_no\r\n",
                "INNER JOIN adult AS A\r\n",
                "ON A.member_no = J.adult_member_no\r\n",
                "WHERE J.member_no NOT IN\r\n",
                "    (SELECT J2.member_no\r\n",
                "    FROM juvenile AS J2\r\n",
                "    INNER JOIN loanhist AS LH2\r\n",
                "    ON J2.member_no = LH2.member_no AND YEAR(LH2.out_date) = 2001 AND MONTH(LH2.out_date) = 7\r\n",
                "    INNER JOIN title AS T2\r\n",
                "    ON LH2.title_no = T2.title_no AND T2.author = 'Jane Austin')"
            ],
            "metadata": {
                "azdata_cell_guid": "7ba3b504-b59a-48fe-aa51-d5de4de0c85e"
            },
            "outputs": [],
            "execution_count": null
        },
        {
            "cell_type": "markdown",
            "source": [
                "**4.2 Wybierz kategorię, która w danym roku 1997 najwięcej zarobiła, podział na miesiące**"
            ],
            "metadata": {
                "azdata_cell_guid": "139bf022-2291-46d0-9aa4-c90a32772581"
            }
        },
        {
            "cell_type": "code",
            "source": [
                "USE Northwind"
            ],
            "metadata": {
                "azdata_cell_guid": "e20010b1-1ba0-47fd-8084-3d1ed1ce8da1"
            },
            "outputs": [],
            "execution_count": null
        },
        {
            "cell_type": "code",
            "source": [
                "SELECT TOP 1 P.CategoryID\r\n",
                "FROM Products AS P\r\n",
                "INNER JOIN [Order Details] AS OD\r\n",
                "ON P.ProductID = OD.ProductID\r\n",
                "GROUP BY P.CategoryID\r\n",
                "ORDER BY SUM(OD.UnitPrice * OD.Quantity * (1-OD.Discount)) DESC"
            ],
            "metadata": {
                "azdata_cell_guid": "192af5f3-075c-40f7-917a-c0d05b7e1dc7"
            },
            "outputs": [],
            "execution_count": null
        },
        {
            "cell_type": "markdown",
            "source": [
                "**4.3 Dane pracownika i najczęstszy dostawca pracowników bez podwładnych**"
            ],
            "metadata": {
                "azdata_cell_guid": "f099242c-8292-44ac-883b-ec8335df136d"
            }
        },
        {
            "cell_type": "code",
            "source": [
                "WITH  EmpNoSub\r\n",
                "AS (SELECT E.EmployeeID, E.FirstName, E.LastName\r\n",
                "    FROM Employees AS E\r\n",
                "    LEFT OUTER JOIN Employees AS E2\r\n",
                "    ON E.EmployeeID = E2.ReportsTo\r\n",
                "    WHERE E2.EmployeeID IS NULL),\r\n",
                "tab\r\n",
                "AS (SELECT ENS.EmployeeID, O.ShipVia, COUNT(*) as cnt\r\n",
                "    FROM EmpNoSub AS ENS\r\n",
                "    INNER JOIN Orders AS O\r\n",
                "    ON ENS.EmployeeID = O.EmployeeID\r\n",
                "    GROUP BY ENS.EmployeeID, O.ShipVia)\r\n",
                "\r\n",
                "SELECT tab.EmployeeID, tab.ShipVia\r\n",
                "FROM  tab\r\n",
                "WHERE tab.cnt = \r\n",
                "    (SELECT MAX(tab2.cnt)\r\n",
                "    FROM tab AS tab2\r\n",
                "    WHERE tab2.EmployeeID = tab.EmployeeID)"
            ],
            "metadata": {
                "azdata_cell_guid": "35d57f3b-3f4d-47fc-a5fa-65af7d35fb35"
            },
            "outputs": [],
            "execution_count": null
        },
        {
            "cell_type": "markdown",
            "source": [
                "**4.4 Wybierz tytuły książek, gdzie ilość wypożyczeń książki jest większa od średniej ilości\r\n",
                "wypożyczeń książek tego samego autora.**"
            ],
            "metadata": {
                "azdata_cell_guid": "f6858632-b07c-4023-80e4-0d8a144759eb"
            }
        },
        {
            "cell_type": "code",
            "source": [
                "USE Library"
            ],
            "metadata": {
                "azdata_cell_guid": "4c6e44ba-9a40-4dc6-a187-07b461b9ba7a"
            },
            "outputs": [],
            "execution_count": null
        },
        {
            "cell_type": "code",
            "source": [
                "--może być źle, nie uwzględnia loan\r\n",
                "\r\n",
                "SELECT T.title, COUNT(*)\r\n",
                "FROM title AS T\r\n",
                "INNER JOIN loanhist AS LH\r\n",
                "ON LH.title_no = T.title_no\r\n",
                "GROUP BY T.title_no, T.title, T.author\r\n",
                "HAVING COUNT(*) > \r\n",
                "    (SELECT AVG(tab.num)\r\n",
                "    FROM\r\n",
                "    (SELECT T.author, T.title_no, COUNT(*) AS num\r\n",
                "    FROM title AS T\r\n",
                "    INNER JOIN loanhist AS LH\r\n",
                "    ON T.title_no = LH.title_no\r\n",
                "    GROUP BY T.author, T.title_no) AS tab\r\n",
                "    WHERE tab.author = T.author\r\n",
                "    GROUP BY tab.author)"
            ],
            "metadata": {
                "azdata_cell_guid": "8fa602e7-10b3-48ab-9b68-8d65b4dacc8e"
            },
            "outputs": [],
            "execution_count": null
        }
    ]
}