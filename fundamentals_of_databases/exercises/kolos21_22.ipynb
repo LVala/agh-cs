{
    "metadata": {
        "kernelspec": {
            "name": "SQL",
            "display_name": "SQL",
            "language": "sql"
        },
        "language_info": {
            "name": "sql",
            "version": ""
        }
    },
    "nbformat_minor": 2,
    "nbformat": 4,
    "cells": [
        {
            "cell_type": "markdown",
            "source": [
                "# Zadania z kolokwium 2020/21\r\n",
                "wiele rzeczy może być źle"
            ],
            "metadata": {
                "azdata_cell_guid": "a88cb6a4-5c10-4170-b5b0-28e635098e52"
            }
        },
        {
            "cell_type": "markdown",
            "source": [
                "## Zadania #1"
            ],
            "metadata": {
                "azdata_cell_guid": "4aed905d-e6ed-4c51-8a6b-18ebb3f49525"
            }
        },
        {
            "cell_type": "markdown",
            "source": [
                "**1.1 Dla każdego klienta podaj imię i nazwisko pracownika, który w 1997r obsłużył\r\n",
                "najwięcej jego zamówień, podaj także liczbę tych zamówień (jeśli jest kilku\r\n",
                "takich pracownikow to wystarczy podać imie nazwisko jednego nich). Zbiór\r\n",
                "wynikowy powinien zawierać nazwę klienta, imię i nazwisko pracownika oraz\r\n",
                "liczbę obsłużonych zamówien (baza northwind)**"
            ],
            "metadata": {
                "azdata_cell_guid": "2de08ea8-c233-4eee-bce5-16c8f63e59b2"
            }
        },
        {
            "cell_type": "code",
            "source": [
                "USE Northwind"
            ],
            "metadata": {
                "azdata_cell_guid": "67863479-474d-459e-a0fc-964fc2483029"
            },
            "outputs": [],
            "execution_count": null
        },
        {
            "cell_type": "code",
            "source": [
                "WITH tab AS \r\n",
                "    (SELECT C.CustomerID, C.CompanyName, E.EmployeeID, E.firstname, E.lastname, COUNT(*) AS cnt\r\n",
                "    FROM Customers AS C\r\n",
                "    INNER JOIN Orders AS O\r\n",
                "    ON C.CustomerID = O.CustomerID\r\n",
                "    INNER JOIN Employees AS E\r\n",
                "    ON E.EmployeeId = O.EmployeeID\r\n",
                "    GROUP BY C.CustomerID, C.CompanyName, E.EmployeeID, E.firstname, E.lastname)\r\n",
                "\r\n",
                "SELECT T.CompanyName, T.FirstName, T.LastName, T.cnt\r\n",
                "FROM tab AS T\r\n",
                "INNER JOIN \r\n",
                "    (SELECT T2.CustomerID, MAX(T2.cnt) AS cnt2\r\n",
                "    FROM tab AS T2\r\n",
                "    GROUP BY T2.CustomerID) AS T3\r\n",
                "ON T.CustomerID = T3.CustomerID AND T.cnt = T3.cnt2\r\n",
                "ORDER BY 1"
            ],
            "metadata": {
                "azdata_cell_guid": "4ed9f34f-683a-4a12-83f3-be9e2f0536d1",
                "tags": []
            },
            "outputs": [],
            "execution_count": null
        },
        {
            "cell_type": "code",
            "source": [
                "with all_ as (\r\n",
                "    select e.EmployeeID, c.CustomerID, e.FirstName, e.LastName, c.CompanyName\r\n",
                "    from Orders o\r\n",
                "             left join Employees e on e.EmployeeID = o.EmployeeID\r\n",
                "             left join Customers C on o.CustomerID = C.CustomerID\r\n",
                "    where year(o.OrderDate) = 1997\r\n",
                "    ),\r\n",
                "     count_ as (\r\n",
                "         select EmployeeID, CustomerID, FirstName, LastName, CompanyName, count(*) as suma\r\n",
                "         from all_\r\n",
                "         group by EmployeeID, CustomerID, FirstName, LastName, CompanyName\r\n",
                "     )\r\n",
                "\r\n",
                "select c.CompanyName,\r\n",
                "       (select top 1 suma from count_ where count_.CompanyName = c.CompanyName order by suma desc) as suma,\r\n",
                "       (select top 1 concat(firstname, ' ', lastname)\r\n",
                "        from count_\r\n",
                "        where c.CompanyName = count_.CompanyName\r\n",
                "        order by suma desc) as 'employeeName'\r\n",
                "from Customers c"
            ],
            "metadata": {
                "azdata_cell_guid": "a3edbd9a-74d7-4df6-9eb0-d8e81707fb2e"
            },
            "outputs": [],
            "execution_count": null
        },
        {
            "cell_type": "markdown",
            "source": [
                "**1.2 Wypisz wszystkich członków biblioteki (imie i nazwisko, adres), liczba\r\n",
                "aktualnie zarezerwowanych ksiazek oraz sumaryczna liczba dni zalegania z\r\n",
                "wypozyczonymi ksiazkami. Dla kazdego czytelnika podaj informacje czy jest\r\n",
                "dzieckiem czy doroslym, jezeli jest dzieckiem i zalegal z oddaniem ksiazek\r\n",
                "wyswietl imie i nazwisko opiekuna prawnego.**"
            ],
            "metadata": {
                "azdata_cell_guid": "ad8908ef-4176-49f9-b338-736014fb2ce5"
            }
        },
        {
            "cell_type": "code",
            "source": [
                "USE Library"
            ],
            "metadata": {
                "azdata_cell_guid": "8642b39e-5ff9-4ef9-bc78-b76ff76961aa"
            },
            "outputs": [],
            "execution_count": null
        },
        {
            "cell_type": "code",
            "source": [
                "-- to jest źle, nie bazuej na loan, tylko na loanhist\r\n",
                "\r\n",
                "SELECT M.firstname, M.lastname,\r\n",
                "CASE  WHEN M.member_no IN (SELECT member_no FROM juvenile) THEN A2.street ELSE A1.street END AS street,\r\n",
                "CASE  WHEN M.member_no IN (SELECT member_no FROM juvenile) THEN A2.city ELSE A1.city END AS city,\r\n",
                "CASE  WHEN M.member_no IN (SELECT member_no FROM juvenile) THEN A2.state ELSE A1.state END AS state,\r\n",
                "(SELECT COUNT(*) FROM reservation AS R WHERE R.member_no = M.member_no) AS reservations,\r\n",
                "CASE WHEN (SELECT SUM(DATEDIFF(day, LH.due_date, GETDATE())) AS cnt FROM loanhist AS LH WHERE LH.member_no = M.member_no AND LH.in_date IS NULL) IS NULL THEN 0 \r\n",
                "    ELSE (SELECT SUM(DATEDIFF(day, LH.due_date, GETDATE())) FROM loanhist AS LH WHERE LH.member_no = M.member_no AND LH.in_date IS NULL) END AS days_over_due_date,\r\n",
                "CASE WHEN J.member_no IS NULL THEN 'adult' ELSE 'child' END AS adult_or_child,\r\n",
                "CASE WHEN J.member_no IS NOT NULL AND (SELECT SUM(DATEDIFF(day, LH.due_date, GETDATE())) AS cnt FROM loanhist AS LH WHERE LH.member_no = M.member_no AND LH.in_date IS NULL) > 0\r\n",
                "    THEN (SELECT firstname FROM member WHERE member.member_no = J.adult_member_no) ELSE NULL END AS parent_name,\r\n",
                "CASE WHEN J.member_no IS NOT NULL AND (SELECT SUM(DATEDIFF(day, LH.due_date, GETDATE())) AS cnt FROM loanhist AS LH WHERE LH.member_no = M.member_no AND LH.in_date IS NULL) > 0\r\n",
                "    THEN (SELECT lastname FROM member WHERE member.member_no = J.adult_member_no) ELSE NULL END AS parent_name\r\n",
                "FROM member AS M\r\n",
                "LEFT OUTER JOIN juvenile AS J\r\n",
                "ON M.member_no = J.member_no\r\n",
                "LEFT OUTER JOIN adult AS A1\r\n",
                "ON M.member_no = A1.member_no\r\n",
                "LEFT OUTER JOIN adult AS A2\r\n",
                "ON J.adult_member_no = A2.member_no"
            ],
            "metadata": {
                "azdata_cell_guid": "71140ae3-d6a2-426c-a0b9-863b888efacd"
            },
            "outputs": [],
            "execution_count": null
        },
        {
            "cell_type": "markdown",
            "source": [
                "**1.3 Nazwy klientów którzy złożyli zamówienia w dniu 23/05/1997 oraz jeśli\r\n",
                "obsługiwali te zamówienia pracownicy którzy mają podwłanych to ich wypisz\r\n",
                "(imie i nazwisko)**"
            ],
            "metadata": {
                "azdata_cell_guid": "b6606426-f6dd-4a32-a940-04bc1c013e4e"
            }
        },
        {
            "cell_type": "code",
            "source": [
                "WITH tab AS\r\n",
                "    (SELECT E1.EmployeeID\r\n",
                "    FROM Employees AS E1\r\n",
                "    LEFT OUTER JOIN Employees AS E2\r\n",
                "    ON E1.EmployeeID = E2.ReportsTo\r\n",
                "    WHERE E2.EmployeeID IS NOT NULL)\r\n",
                "\r\n",
                "SELECT C.CompanyName, \r\n",
                "    CASE WHEN (E.EmployeeID IN (SELECT EmployeeID FROM tab)) THEN E.firstName ELSE NULL END AS EmployeeFirstName,\r\n",
                "    CASE WHEN (E.EmployeeID IN (SELECT EmployeeID FROM tab)) THEN E.lastname ELSE NULL END AS EmployeeLastName\r\n",
                "FROM Customers AS C\r\n",
                "INNER JOIN Orders AS O\r\n",
                "ON C.CustomerID = O.CustomerID AND YEAR(O.OrderDate) = 1997 AND MONTH(O.OrderDate) = 5 AND DAY(O.OrderDate) = 23\r\n",
                "INNER JOIN Employees AS E\r\n",
                "ON O.EmployeeId = E.EmployeeID"
            ],
            "metadata": {
                "azdata_cell_guid": "30ca62d1-ac87-4890-9285-388b2e59d80e"
            },
            "outputs": [],
            "execution_count": null
        },
        {
            "cell_type": "markdown",
            "source": [
                "**1.4 wypisz wszystkich członków biblioteki, którzy nigdy nic nie wypożyczyli. Stwierdz czy członek jest dzieckiem czy dorosłym, jeśli dorosłym, to wypisz liczbę jego dzieci**"
            ],
            "metadata": {
                "azdata_cell_guid": "114786cb-8462-4c55-9e52-275bd636a3bc"
            }
        },
        {
            "cell_type": "code",
            "source": [
                "SELECT M.firstname, M.lastname,\r\n",
                "    CASE WHEN J.member_no IS NULL THEN A1.street ELSE A2.street END AS street,\r\n",
                "    CASE WHEN J.member_no IS NULL THEN A1.city ELSE A2.city END AS city,\r\n",
                "    CASE WHEN J.member_no IS NULL THEN A1.state ELSE A2.state END AS state,\r\n",
                "    CASE WHEN J.member_no IS NULL THEN 'adult' ELSE 'child' END AS child_or_adult,\r\n",
                "    CASE WHEN J.member_no IS NULL THEN (SELECT COUNT(*) FROM juvenile AS J2 WHERE J2.adult_member_no = M.member_no GROUP BY J2.adult_member_no) ELSE NULL END AS number_of_children\r\n",
                "FROM member AS M\r\n",
                "LEFT OUTER JOIN juvenile AS J\r\n",
                "    ON M.member_no = J.member_no\r\n",
                "LEFT OUTER JOIN adult AS A1\r\n",
                "    ON M.member_no = A1.member_no\r\n",
                "LEFT OUTER JOIN adult AS A2\r\n",
                "    ON J.adult_member_no = A2.member_no\r\n",
                "WHERE M.member_no NOT IN (SELECT DISTINCT LH.member_no FROM loanhist AS LH\r\n",
                "UNION (SELECT L.member_no FROM loan AS L))"
            ],
            "metadata": {
                "azdata_cell_guid": "80d2a8b5-1f66-4b55-ab5a-9eaa9331cb73",
                "tags": []
            },
            "outputs": [],
            "execution_count": null
        },
        {
            "cell_type": "markdown",
            "source": [
                "**1.5 Wypisz produkt który zarobił najmniej w 1996, ale zarobił cokolwiek**"
            ],
            "metadata": {
                "azdata_cell_guid": "d5fe8a68-ce6b-43a6-8c70-6269c30cf44c"
            }
        },
        {
            "cell_type": "code",
            "source": [
                "SELECT TOP 1 P.ProductID, P.ProductName\r\n",
                "FROM Products AS P\r\n",
                "INNER JOIN [Order Details] AS OD\r\n",
                "ON P.ProductId = OD.ProductId\r\n",
                "INNER JOIN Orders AS O\r\n",
                "ON OD.OrderID = O.OrderID AND YEAR(O.OrderDate) = 1996\r\n",
                "GROUP BY P.ProductID, P.ProductName\r\n",
                "ORDER BY SUM(OD.UnitPrice * OD.Quantity * (1-OD.Discount))"
            ],
            "metadata": {
                "azdata_cell_guid": "6c926f46-5fda-4257-a155-91cb3f19258c"
            },
            "outputs": [],
            "execution_count": null
        },
        {
            "cell_type": "markdown",
            "source": [
                "**1.6  Podaj liczbę zamówień oraz wartość zamówień (uwzględnij opłatę za przesyłkę)\r\n",
                "obsłużonych przez każdego pracownika w lutym 1997. Za datę obsłużenia\r\n",
                "zamówienia należy uznać datę jego złożenia (orderdate). Jeśli pracownik nie\r\n",
                "obsłużył w tym okresie żadnego zamówienia, to też powinien pojawić się na\r\n",
                "liście (liczba obsluzonych zamówień oraz ich wartość jest w takim przypadku\r\n",
                "równa O). Zbiór wynikowy powinien zawierać: imię i nazwisko pracownika, liczbę\r\n",
                "obsłużonych zamówieni, wartość obsłużonych zamówień. (baza northwind)**"
            ],
            "metadata": {
                "azdata_cell_guid": "9e223072-240c-43a6-ada7-72e240f45770"
            }
        },
        {
            "cell_type": "code",
            "source": [
                "SELECT DISTINCT E.FirstName, E.LastName,\r\n",
                "    (SELECT COUNT(*) FROM Orders AS O1 WHERE O1.EmployeeID = E.EmployeeID AND YEAR(O1.OrderDate) = 1997 AND MONTH(O1.OrderDate) = 2) AS OrdersNumber,\r\n",
                "    CASE\r\n",
                "        WHEN O.EmployeeID IS NULL THEN 0\r\n",
                "        ELSE SUM(O.Freight) + \r\n",
                "            (SELECT SUM(OD1.UnitPrice * OD1.Quantity * (1-OD1.Discount))\r\n",
                "            FROM [Order Details] AS OD1 \r\n",
                "            INNER JOIN Orders AS O2 \r\n",
                "                ON OD1.OrderID = O2.OrderID AND O2.EmployeeID = E.EmployeeID AND YEAR(O2.OrderDate) = 1997 AND MONTH(O2.OrderDate) = 2)\r\n",
                "    END AS TotalEarnings\r\n",
                "FROM Employees AS E\r\n",
                "LEFT OUTER JOIN Orders AS O\r\n",
                "ON E.EmployeeID = O.EmployeeID AND YEAR(O.OrderDate) = 1997 AND MONTH(O.OrderDate) = 2\r\n",
                "GROUP BY E.EmployeeID, O.EmployeeID, E.FirstName, E.LastName"
            ],
            "metadata": {
                "azdata_cell_guid": "25db2b44-67ba-4e20-abc2-3ecb736ab083"
            },
            "outputs": [],
            "execution_count": null
        },
        {
            "cell_type": "markdown",
            "source": [
                "**1.7 Podaj listę dzieci będących członkami biblioteki, które w dniu '2001-12-14'\r\n",
                "zwróciły do biblioteki książkę o tytule 'Walking'. Zbiór wynikowy powinien\r\n",
                "zawierać imię i nazwisko oraz dane adresowe dziecka. (baza library)**"
            ],
            "metadata": {
                "azdata_cell_guid": "31b9ae57-7083-40ac-af5f-a4eba39956c0"
            }
        },
        {
            "cell_type": "code",
            "source": [
                "SELECT M.firstname, M.lastname, A.street, A.city, A.state\r\n",
                "FROM juvenile AS J\r\n",
                "INNER JOIN member AS M\r\n",
                "On J.member_no = M.member_no\r\n",
                "INNER JOIN adult AS A\r\n",
                "ON J.adult_member_no = A.member_no\r\n",
                "INNER JOIN loanhist AS LH\r\n",
                "ON J.member_no = LH.member_no AND YEAR(LH.in_date) = 2001 AND MONTH(LH.in_date) = 12 AND DAY(LH.in_date) = 14\r\n",
                "INNER JOIN title AS T\r\n",
                "ON LH.title_no = T.title_no AND T.title = 'Walking'"
            ],
            "metadata": {
                "azdata_cell_guid": "cd8ea3c1-8c01-4dc7-a273-cb88f125caa6"
            },
            "outputs": [],
            "execution_count": null
        }
    ]
}