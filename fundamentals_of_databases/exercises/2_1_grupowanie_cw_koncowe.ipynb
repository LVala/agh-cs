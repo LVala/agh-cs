{
    "metadata": {
        "kernelspec": {
            "name": "SQL",
            "display_name": "SQL",
            "language": "sql"
        },
        "language_info": {
            "name": "sql",
            "version": ""
        },
        "extensions": {
            "azuredatastudio": {
                "version": 1,
                "views": []
            }
        }
    },
    "nbformat_minor": 2,
    "nbformat": 4,
    "cells": [
        {
            "cell_type": "markdown",
            "source": [
                "#  Zestaw 2.1 - \"Grupowanie danych - ćwiczenia końcowe\""
            ],
            "metadata": {
                "azdata_cell_guid": "63bfd424-d9e5-44ac-8540-d48587c652bf"
            }
        },
        {
            "cell_type": "code",
            "source": [
                "USE Northwind"
            ],
            "metadata": {
                "azdata_cell_guid": "b9577fd3-9625-417f-9392-a43475671d26"
            },
            "outputs": [],
            "execution_count": null
        },
        {
            "cell_type": "markdown",
            "source": [
                "## Ćwiczenie #1\r\n",
                "**1.1 Napisz polecenie, które oblicza wartość sprzedaży dla każdego zamówienia w tablicy order details i zwraca wynik posortowany w malejącej kolejności (wg wartości sprzedaży).**"
            ],
            "metadata": {
                "azdata_cell_guid": "8fd790fd-668a-4467-8419-de5db6b9b618"
            }
        },
        {
            "cell_type": "code",
            "source": [
                "SELECT OrderID, ROUND(SUM((1-Discount) * UnitPrice * Quantity), 2) AS OrderValue FROM [Order Details] \r\n",
                "GROUP BY OrderID ORDER BY OrderValue DESC"
            ],
            "metadata": {
                "azdata_cell_guid": "ac2f1c0f-d646-4c0b-b541-e6e9f9675244"
            },
            "outputs": [],
            "execution_count": null
        },
        {
            "cell_type": "markdown",
            "source": [
                "**1.2 Zmodyfikuj zapytanie z poprzedniego punktu, tak aby zwracało pierwszych 10 wierszy**"
            ],
            "metadata": {
                "azdata_cell_guid": "d0674ddb-4d73-42c3-baad-7ac7ea54acc0"
            }
        },
        {
            "cell_type": "code",
            "source": [
                "SELECT TOP 10 OrderID, ROUND(SUM((1-Discount) * UnitPrice * Quantity), 2) AS OrderValue FROM [Order Details] \r\n",
                "GROUP BY OrderID ORDER BY OrderValue DESC"
            ],
            "metadata": {
                "azdata_cell_guid": "b5548eeb-79cf-4bee-b7cb-14f6d2c41032"
            },
            "outputs": [],
            "execution_count": null
        },
        {
            "cell_type": "markdown",
            "source": [
                "## Ćwiczenie #2\r\n",
                "**2.1 Podaj liczbę zamówionych jednostek produktów dla produktów, dla których productid < 3**"
            ],
            "metadata": {
                "azdata_cell_guid": "0eb5e541-ee08-43a8-9291-51f77ac87f45"
            }
        },
        {
            "cell_type": "code",
            "source": [
                "SELECT ProductID, SUM(Quantity) AS QuantitySum FROM [Order Details] WHERE ProductID < 3 GROUP BY ProductID"
            ],
            "metadata": {
                "azdata_cell_guid": "3fa7819b-514b-4a26-a590-6087a0f0a502"
            },
            "outputs": [],
            "execution_count": null
        },
        {
            "cell_type": "markdown",
            "source": [
                "**2.2 Zmodyfikuj zapytanie z poprzedniego punktu, tak aby podawało liczbę zamówionych jednostek produktu dla wszystkich produktów**"
            ],
            "metadata": {
                "azdata_cell_guid": "f49ac973-5e21-4929-abea-48d43cbe3024"
            }
        },
        {
            "cell_type": "code",
            "source": [
                "SELECT ProductID, SUM(Quantity) AS QuantitySum FROM [Order Details] GROUP BY ProductID"
            ],
            "metadata": {
                "azdata_cell_guid": "ce9254e4-34d0-4454-a6a9-e4ce231711d6"
            },
            "outputs": [],
            "execution_count": null
        },
        {
            "cell_type": "markdown",
            "source": [
                "**2.3 Podaj nr zamówienia oraz wartość zamówienia, dla zamówień, dla których łączna liczba zamawianych jednostek produktów jest > 250**"
            ],
            "metadata": {
                "azdata_cell_guid": "a3e37a41-703a-4ca3-b415-45631bf64e7b"
            }
        },
        {
            "cell_type": "code",
            "source": [
                "SELECT OrderID, ROUND(SUM((1-Discount) * UnitPrice * Quantity), 2) AS OrderValue FROM [Order Details] \r\n",
                "GROUP BY OrderID HAVING SUM(Quantity) > 250"
            ],
            "metadata": {
                "azdata_cell_guid": "c016b0ea-558f-42d5-8b17-ef58cb0ff4f6"
            },
            "outputs": [],
            "execution_count": null
        },
        {
            "cell_type": "markdown",
            "source": [
                "## Ćwczenie #3\r\n",
                "**3.1 Dla każdego pracownika podaj liczbę obsługiwanych przez niego zamówień**"
            ],
            "metadata": {
                "azdata_cell_guid": "2d62d2b6-ef13-42fe-aa7a-e4e080b73dae"
            }
        },
        {
            "cell_type": "code",
            "source": [
                "SELECT EmployeeID, COUNT(*) AS EmployeeOrders FROM Orders GROUP BY EmployeeID"
            ],
            "metadata": {
                "azdata_cell_guid": "fd274ba0-f146-40ad-ba39-f4153a7966bf"
            },
            "outputs": [],
            "execution_count": null
        },
        {
            "cell_type": "markdown",
            "source": [
                "**3.2 Dla każdego spedytora/przewoźnika podaj wartość \"opłata za przesyłkę\" przewożonych przez niego zamówień**"
            ],
            "metadata": {
                "azdata_cell_guid": "94eec155-95eb-4b9d-b68d-9c7da12a053f"
            }
        },
        {
            "cell_type": "code",
            "source": [
                "SELECT ShipVia, SUM(Freight) AS ShipperFreight FROM Orders GROUP BY ShipVia"
            ],
            "metadata": {
                "azdata_cell_guid": "ce5ce886-4402-41df-846a-ce08cdbe369e"
            },
            "outputs": [],
            "execution_count": null
        },
        {
            "cell_type": "markdown",
            "source": [
                "**3.3 Dla każdego spedytora/przewoźnika podaj wartość \"opłata za przesyłkę\" przewożonych przez niego zamówień w latach o 1996 do 1997**"
            ],
            "metadata": {
                "azdata_cell_guid": "b81fbc3c-515b-4405-85a8-8925dc57729e"
            }
        },
        {
            "cell_type": "code",
            "source": [
                "SELECT ShipVia, SUM(Freight) AS ShipperFreight FROM Orders WHERE YEAR(ShippedDate) BETWEEN 1996 AND 1997 GROUP BY ShipVia"
            ],
            "metadata": {
                "azdata_cell_guid": "0c921fc1-b953-4587-b357-f3de69240259"
            },
            "outputs": [],
            "execution_count": null
        },
        {
            "cell_type": "markdown",
            "source": [
                "## Ćwiczenie #4\r\n",
                "**4.1 Dla każdego pracownika podaj liczbę obsługiwanych przez niego zamówień z podziałem na lata i miesiące**"
            ],
            "metadata": {
                "azdata_cell_guid": "ed694cb0-0025-417b-ad1b-baf297bb9670"
            }
        },
        {
            "cell_type": "code",
            "source": [
                "SELECT EmployeeID, MONTH(OrderDate) AS OrderMonth, YEAR(OrderDate) AS OrderYear, COUNT(*) AS EmployeeOrders FROM Orders \r\n",
                "GROUP BY EmployeeID, MONTH(OrderDate), YEAR(OrderDate) ORDER BY OrderYear, OrderMonth"
            ],
            "metadata": {
                "azdata_cell_guid": "9ae0628b-cca4-4e3c-b2b4-c7f7835bee22"
            },
            "outputs": [],
            "execution_count": null
        },
        {
            "cell_type": "markdown",
            "source": [
                "**4.2 Dla każdej kategorii podaj maksymalną i minimalną cenę produktu w tej kategorii**"
            ],
            "metadata": {
                "azdata_cell_guid": "48ad8b12-8ec0-4bde-9f00-12aa366f7822"
            }
        },
        {
            "cell_type": "code",
            "source": [
                "SELECT CategoryID, MIN(UnitPrice) AS MinPrice, MAX(UnitPrice) AS MaxPrice FROM Products GROUP BY CategoryID"
            ],
            "metadata": {
                "azdata_cell_guid": "9fd2b88d-de57-4b38-966e-8ef5e9bd8b09"
            },
            "outputs": [],
            "execution_count": null
        }
    ]
}