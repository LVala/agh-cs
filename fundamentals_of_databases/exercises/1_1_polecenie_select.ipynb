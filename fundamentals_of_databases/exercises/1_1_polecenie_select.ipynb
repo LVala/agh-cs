{
    "metadata": {
        "kernelspec": {
            "name": "SQL",
            "display_name": "SQL",
            "language": "sql"
        },
        "language_info": {
            "name": "sql",
            "version": ""
        },
        "extensions": {
            "azuredatastudio": {
                "version": 1,
                "views": []
            }
        }
    },
    "nbformat_minor": 2,
    "nbformat": 4,
    "cells": [
        {
            "cell_type": "markdown",
            "source": [
                "#  Zestaw 1.1 - \"Polecenie SELECT\""
            ],
            "metadata": {
                "azdata_cell_guid": "9d6f53fd-7463-4424-b332-22ea461534fd"
            },
            "attachments": {}
        },
        {
            "cell_type": "code",
            "source": [
                "USE Northwind"
            ],
            "metadata": {
                "azdata_cell_guid": "263a97b0-33ac-4c7b-a498-bedce304d310"
            },
            "outputs": [],
            "execution_count": null
        },
        {
            "cell_type": "markdown",
            "source": [
                "## 1. Wybór kolumn\n",
                "\n",
                "**1.1 Wybierz nazwy i adresy wszystkich klientów**"
            ],
            "metadata": {
                "azdata_cell_guid": "acefc161-2a73-4d66-ab3a-7b7c80bbeeee"
            },
            "attachments": {}
        },
        {
            "cell_type": "code",
            "source": [
                "SELECT CompanyName, City, Country, PostalCode, Address FROM Customers"
            ],
            "metadata": {
                "azdata_cell_guid": "d8789043-02e8-40a4-8fcb-412d78af8569"
            },
            "outputs": [],
            "execution_count": null
        },
        {
            "cell_type": "markdown",
            "source": [
                "**1.2 Wybierz nazwiska i numery telefonów pracowników**"
            ],
            "metadata": {
                "azdata_cell_guid": "e0d426d2-3f8d-4f65-9261-69ae84e8bbbc"
            },
            "attachments": {}
        },
        {
            "cell_type": "code",
            "source": [
                "SELECT LastName, HomePhone FROM Employees"
            ],
            "metadata": {
                "azdata_cell_guid": "6e41d580-9c1f-4c7f-8add-597c7e9a7563"
            },
            "outputs": [],
            "execution_count": null
        },
        {
            "cell_type": "markdown",
            "source": [
                "**1.2 Wybierz nazwy i ceny produktów**"
            ],
            "metadata": {
                "azdata_cell_guid": "a4009332-b52a-4c01-9a09-6a7a05e93619"
            },
            "attachments": {}
        },
        {
            "cell_type": "code",
            "source": [
                "SELECT Productname, UnitPrice FROM Products"
            ],
            "metadata": {
                "azdata_cell_guid": "a8a71a03-c7de-403f-94c3-be04809a68ca"
            },
            "outputs": [],
            "execution_count": null
        },
        {
            "cell_type": "markdown",
            "source": [
                "**1.4 Pokaż wszystkie kategorie produktów (nazwy i opisy)**"
            ],
            "metadata": {
                "azdata_cell_guid": "4686e954-dbbe-47bd-aa99-0dabb2f0bfb5"
            },
            "attachments": {}
        },
        {
            "cell_type": "code",
            "source": [
                "SELECT CategoryName, Description FROM Categories"
            ],
            "metadata": {
                "azdata_cell_guid": "eee33c73-0e19-4a89-a9f0-28409bc1c107"
            },
            "outputs": [],
            "execution_count": null
        },
        {
            "cell_type": "markdown",
            "source": [
                "**1.5 Pokaż nazwy i adresy stron www dostawców**"
            ],
            "metadata": {
                "azdata_cell_guid": "cd06293f-a8ce-429f-9860-9b2dd1e16f7b"
            },
            "attachments": {}
        },
        {
            "cell_type": "code",
            "source": [
                "SELECT CompanyName, HomePage FROM Suppliers"
            ],
            "metadata": {
                "azdata_cell_guid": "527da942-adde-4009-87a9-36a5425038e6"
            },
            "outputs": [],
            "execution_count": null
        },
        {
            "cell_type": "markdown",
            "source": [
                "## 2. Wybór wierszy\r\n",
                "**2.1 Wybierz nazwy i adresy wszystkich klientów mających siedziby w Londynie**"
            ],
            "metadata": {
                "azdata_cell_guid": "d80e989e-e0f8-4dba-a481-ab54738b3fbd"
            }
        },
        {
            "cell_type": "code",
            "source": [
                "SELECT companyname, city, address FROM customers WHERE city = 'London'"
            ],
            "metadata": {
                "azdata_cell_guid": "9ee85f98-643a-47b9-9b5d-4f055e18a862"
            },
            "outputs": [],
            "execution_count": null
        },
        {
            "cell_type": "markdown",
            "source": [
                "**2.2 Wybierz nazwy i adresy wszystkich klientów mających siedziby we Francji lub w Hiszpani**"
            ],
            "metadata": {
                "azdata_cell_guid": "14e0cae5-abdb-4495-bea5-47ccf58be6a3"
            }
        },
        {
            "cell_type": "code",
            "source": [
                "SELECT companyname, city, address FROM customers WHERE country = 'France' OR country = 'Spain'"
            ],
            "metadata": {
                "azdata_cell_guid": "7a7ec643-66c5-41fd-ab11-dd39a25d3297"
            },
            "outputs": [],
            "execution_count": null
        },
        {
            "cell_type": "markdown",
            "source": [
                "**2.3 Wybierz nazwy i ceny produktów o cenie jednostkowej pomiędzy 20.00 a 30.00**"
            ],
            "metadata": {
                "azdata_cell_guid": "9e8bba3a-3b19-4a8d-a2a2-863592af77ef"
            }
        },
        {
            "cell_type": "code",
            "source": [
                "SELECT productname, unitprice FROM products WHERE 20 <= unitprice  AND unitprice <= 30"
            ],
            "metadata": {
                "azdata_cell_guid": "de3ecda4-32bf-4215-94fa-4899265a2bf9"
            },
            "outputs": [],
            "execution_count": null
        },
        {
            "cell_type": "markdown",
            "source": [
                "**2.4 Wybierz nazwy produktów oraz inf. o stanie magazynu dla produktów dostarczanych przez firmę ‘Tokyo Traders**"
            ],
            "metadata": {
                "azdata_cell_guid": "ce6f6c42-9793-4bad-a284-a01726e4b579"
            }
        },
        {
            "cell_type": "code",
            "source": [
                "SELECT ProductName, UnitsInStock FROM Products WHERE SupplierID IN (SELECT SupplierID FROM Suppliers WHERE CompanyName = 'Tokyo Traders')"
            ],
            "metadata": {
                "azdata_cell_guid": "354a2563-2f08-461d-8c93-2e4fe5c3858c"
            },
            "outputs": [],
            "execution_count": null
        },
        {
            "cell_type": "markdown",
            "source": [
                "**2.5 Wybierz nazwy i ceny produktów z kategorii ‘meat’**"
            ],
            "metadata": {
                "azdata_cell_guid": "f15b168c-af4e-484d-8938-6f192913ceda"
            }
        },
        {
            "cell_type": "code",
            "source": [
                "SELECT ProductName, UnitPrice FROM Products WHERE CategoryID IN (SELECT CategoryID FROM Categories WHERE CategoryName = 'Meat/Poultry')"
            ],
            "metadata": {
                "azdata_cell_guid": "32b1da86-51b8-4353-bf62-876f6102db33"
            },
            "outputs": [],
            "execution_count": null
        },
        {
            "cell_type": "markdown",
            "source": [
                "## 3. Porównywanie napisów\r\n",
                "**3.1 Szukamy informacji o produktach sprzedawanych w butelkach (‘bottle’)**"
            ],
            "metadata": {
                "azdata_cell_guid": "eddb3bf9-2e0d-4150-98fa-edcca5af4df5"
            }
        },
        {
            "cell_type": "code",
            "source": [
                "SELECT ProductName FROM Products WHERE QuantityPerUnit LIKE '%bottle%'"
            ],
            "metadata": {
                "azdata_cell_guid": "a4bb787e-30f5-4328-9f21-7bc59303174e"
            },
            "outputs": [],
            "execution_count": null
        },
        {
            "cell_type": "markdown",
            "source": [
                "**3.2 Wyszukaj informacje o stanowisku pracowników, których nazwiska zaczynają się na literę z zakresu od B do L**"
            ],
            "metadata": {
                "azdata_cell_guid": "a7b5e59e-3c91-4bbb-9998-4d21f5506f61"
            }
        },
        {
            "cell_type": "code",
            "source": [
                "SELECT Title FROM Employees WHERE LastName LIKE '[B-L]%'"
            ],
            "metadata": {
                "azdata_cell_guid": "2a8fb804-ea3d-40ba-91c8-0b97c1c6c233"
            },
            "outputs": [],
            "execution_count": null
        },
        {
            "cell_type": "markdown",
            "source": [
                "**3.3 Wyszukaj informacje o stanowisku pracowników, których nazwiska zaczynają się na literę B lub L**"
            ],
            "metadata": {
                "azdata_cell_guid": "444125f5-c173-4fcc-a0c1-4ced8f8d2ad7"
            }
        },
        {
            "cell_type": "code",
            "source": [
                "SELECT Title FROM Employees WHERE LastName LIKE '[BL]%'"
            ],
            "metadata": {
                "azdata_cell_guid": "3c91bfe1-d023-4793-9dbc-fc39acf69b0c"
            },
            "outputs": [],
            "execution_count": null
        },
        {
            "cell_type": "markdown",
            "source": [
                "**3.4 Znajdź nazwy kategorii, które w opisie zawierają przecinek**"
            ],
            "metadata": {
                "azdata_cell_guid": "7e562fcd-09a3-409c-82f0-00b25839e4a3"
            }
        },
        {
            "cell_type": "code",
            "source": [
                "SELECT CategoryName FROM Categories WHERE [Description] LIKE '%,%'"
            ],
            "metadata": {
                "azdata_cell_guid": "9b15f552-ae6f-4ed2-a54a-385fea512ddc"
            },
            "outputs": [],
            "execution_count": null
        },
        {
            "cell_type": "markdown",
            "source": [
                "**3.5 Znajdź klientów, którzy w swojej nazwie mają w którymś miejscu słowo ‘Store’**"
            ],
            "metadata": {
                "azdata_cell_guid": "06827df0-4e21-4558-8e5c-e5d0e69874df"
            }
        },
        {
            "cell_type": "code",
            "source": [
                "SELECT CompanyName FROM Customers WHERE CompanyName LIKE '%Store%'"
            ],
            "metadata": {
                "azdata_cell_guid": "e1b40e76-2c5b-4e42-8d22-e29230c1c460"
            },
            "outputs": [],
            "execution_count": null
        },
        {
            "cell_type": "markdown",
            "source": [
                "## 4. Zakres wartości\r\n",
                "**4.1 Szukamy informacji o produktach o cenach mniejszych niż 10 lub większych niż 20**"
            ],
            "metadata": {
                "azdata_cell_guid": "f37e61aa-79d6-4e23-8ddc-6411758ceb0d"
            }
        },
        {
            "cell_type": "code",
            "source": [
                "SELECT ProductName, UnitPrice FROM Products WHERE UnitPrice NOT BETWEEN 10 AND 20"
            ],
            "metadata": {
                "azdata_cell_guid": "9d4b3e46-2e39-4a1f-8c34-036108f71df1"
            },
            "outputs": [],
            "execution_count": null
        },
        {
            "cell_type": "markdown",
            "source": [
                "**4.2 Wybierz nazwy i ceny produktów o cenie jednostkowej pomiędzy 20.00 a 30.00**"
            ],
            "metadata": {
                "azdata_cell_guid": "42868f99-84d3-426c-b328-4f33c43be74a"
            }
        },
        {
            "cell_type": "code",
            "source": [
                "SELECT ProductName, UnitPrice FROM Products WHERE UnitPrice BETWEEN 20.00 AND 30.00"
            ],
            "metadata": {
                "azdata_cell_guid": "7491864b-1c22-42ce-8c37-92e0efc59d80"
            },
            "outputs": [],
            "execution_count": null
        },
        {
            "cell_type": "markdown",
            "source": [
                "## 5. Warunki logiczne\r\n",
                "**5.1 Wybierz nazwy i kraje wszystkich klientów mających siedziby w Japonii (Japan) lub we Włoszech (Italy)**"
            ],
            "metadata": {
                "azdata_cell_guid": "a81ad00d-d5de-4443-9d61-59e9af90486b"
            }
        },
        {
            "cell_type": "code",
            "source": [
                "SELECT CompanyName, Country FROM Customers WHERE Country IN ('Japan', 'Italy')"
            ],
            "metadata": {
                "azdata_cell_guid": "acc83964-3853-4a74-af64-52a4ee173a71"
            },
            "outputs": [],
            "execution_count": null
        },
        {
            "cell_type": "markdown",
            "source": [
                "## 6. Ćwiczenie #1\r\n",
                "**6.1 Napisz instrukcję select tak aby wybrać numer zlecenia, datę zamówienia, numer klienta dla wszystkich niezrealizowanych jeszcze zleceń, dla których krajem odbiorcy jest Argentyna**"
            ],
            "metadata": {
                "azdata_cell_guid": "8510cf7b-4d04-4072-8d99-e5cf562edd59"
            }
        },
        {
            "cell_type": "code",
            "source": [
                "SELECT OrderID, OrderDate, CustomerID FROM Orders WHERE (ShippedDate > GETDATE() OR ShippedDate IS NULL) AND ShipCountry = 'Argentina'"
            ],
            "metadata": {
                "azdata_cell_guid": "a33d26a6-f4c6-4d39-aa0a-67a042a21b34"
            },
            "outputs": [],
            "execution_count": null
        },
        {
            "cell_type": "markdown",
            "source": [
                "## 7. ORDER BY\r\n",
                "**7.1 Wybierz nazwy i kraje wszystkich klientów, wyniki posortuj według kraju, w ramach danego kraju nazwy firm posortuj alfabetycznie**"
            ],
            "metadata": {
                "azdata_cell_guid": "f97cb9d4-d8ff-4a4a-9027-5a4ac829892d"
            }
        },
        {
            "cell_type": "code",
            "source": [
                "SELECT CompanyName, Country FROM Customers ORDER BY 2, 1"
            ],
            "metadata": {
                "azdata_cell_guid": "9dfc3c8c-eb06-4e44-bd6d-d3faaf315d5e"
            },
            "outputs": [],
            "execution_count": null
        },
        {
            "cell_type": "markdown",
            "source": [
                "**7.2 Wybierz informację o produktach (grupa, nazwa, cena), produkty posortuj wg grup a w grupach malejąco wg ceny**"
            ],
            "metadata": {
                "azdata_cell_guid": "44d4a585-0c95-4303-9634-b337885838d9"
            }
        },
        {
            "cell_type": "code",
            "source": [
                "SELECT CategoryName, ProductName, UnitPrice FROM Products, Categories WHERE Categories.CategoryID = Products.CategoryID ORDER BY 1, 3 DESC"
            ],
            "metadata": {
                "azdata_cell_guid": "d8faedff-42dd-444c-9926-3c22c491744b"
            },
            "outputs": [],
            "execution_count": null
        },
        {
            "cell_type": "markdown",
            "source": [
                "**7.3 Wybierz nazwy i kraje wszystkich klientów mających siedziby w Japonii (Japan) lub we Włoszech (Italy), wyniki posortuj tak jak w pkt 1**"
            ],
            "metadata": {
                "azdata_cell_guid": "5d925034-58ec-4ae0-be33-fa83329055f4"
            }
        },
        {
            "cell_type": "code",
            "source": [
                "SELECT CompanyName, Country FROM Customers WHERE Country IN ('Japan', 'Italy') ORDER BY 2, 1"
            ],
            "metadata": {
                "azdata_cell_guid": "218f9f49-4b5a-42d2-88b2-63f2744c8bd0"
            },
            "outputs": [],
            "execution_count": null
        },
        {
            "cell_type": "markdown",
            "source": [
                "## 8. Ćwiczenie #2\r\n",
                "**8.1 Napisz polecenie, które oblicza wartość każdej pozycji zamówienia o numerze 10250**"
            ],
            "metadata": {
                "azdata_cell_guid": "bf85b6dc-8337-44c8-a9f6-6b846650afa1"
            }
        },
        {
            "cell_type": "code",
            "source": [
                "SELECT OrderID, UnitPrice * Quantity as TotalPrice FROM [Order Details] WHERE OrderID = 10250"
            ],
            "metadata": {
                "azdata_cell_guid": "ca160c5e-64b2-49c9-b6c4-136f59963140"
            },
            "outputs": [],
            "execution_count": null
        },
        {
            "cell_type": "markdown",
            "source": [
                "**8.2 Napisz polecenie które dla każdego dostawcy (supplier) pokaże pojedynczą kolumnę zawierającą nr telefonu i nr faksu w formacie (numer telefonu i faksu mają być oddzielone przecinkiem)**"
            ],
            "metadata": {
                "azdata_cell_guid": "1a632d92-aa20-4026-a86b-ca0fb64a35e8"
            }
        },
        {
            "cell_type": "code",
            "source": [
                "SELECT CompanyName, Phone + ISNULL(', ' + Fax, '') as [Phone, Fax] FROM Suppliers\r\n",
                "-- alternatywna opcja\r\n",
                "SELECT CompanyName, \r\n",
                "    CASE\r\n",
                "        WHEN Fax IS NOT NULL THEN Phone + ', ' + Fax\r\n",
                "        ELSE Phone\r\n",
                "    END AS [Phone, Fax] \r\n",
                "FROM Suppliers"
            ],
            "metadata": {
                "azdata_cell_guid": "482a9a91-99cf-4c08-bee8-4c0eb089c6e9",
                "tags": [
                    "hide_input"
                ]
            },
            "outputs": [],
            "execution_count": null
        }
    ]
}