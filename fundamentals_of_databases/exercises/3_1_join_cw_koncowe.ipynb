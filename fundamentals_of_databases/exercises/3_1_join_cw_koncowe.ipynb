{
    "metadata": {
        "kernelspec": {
            "name": "SQL",
            "display_name": "SQL",
            "language": "sql"
        },
        "language_info": {
            "name": "sql",
            "version": ""
        }
    },
    "nbformat_minor": 2,
    "nbformat": 4,
    "cells": [
        {
            "cell_type": "markdown",
            "source": [
                "#  Zestaw 3.1 - \"Łączenie tabel - JOIN - ćwiczenia końcowe\""
            ],
            "metadata": {
                "azdata_cell_guid": "1ec7914e-59e6-42ab-8f3a-a2a10d35cff2"
            }
        },
        {
            "cell_type": "code",
            "source": [
                "USE Northwind"
            ],
            "metadata": {
                "azdata_cell_guid": "3c3fe61a-8eb0-49c0-9311-00df85e6f493"
            },
            "outputs": [],
            "execution_count": null
        },
        {
            "cell_type": "markdown",
            "source": [
                "## Ćwiczenie #1\r\n",
                "**1.1 Dla każdego zamówienia podaj łączną liczbę zamówionych jednostek towaru oraz\r\n",
                "nazwę klienta**"
            ],
            "metadata": {
                "azdata_cell_guid": "5a42736b-7399-445d-872f-ea86e375daf7"
            }
        },
        {
            "cell_type": "code",
            "source": [
                "SELECT OD.OrderId, SUM(OD.Quantity) AS TotalQuantity, C.CompanyName\r\n",
                "FROM [Order Details] AS OD\r\n",
                "INNER JOIN ORDERS AS O\r\n",
                "ON OD.OrderID = O.OrderID\r\n",
                "INNER JOIN Customers AS C\r\n",
                "ON O.CustomerID = C.CustomerID\r\n",
                "GROUP BY OD.OrderId, C.CompanyName"
            ],
            "metadata": {
                "azdata_cell_guid": "3599a994-04e5-432b-bcd4-56946d23c6c3"
            },
            "outputs": [],
            "execution_count": null
        },
        {
            "cell_type": "markdown",
            "source": [
                "**1.2 Zmodyfikuj poprzedni przykład, aby pokazać tylko takie zamówienia, dla których\r\n",
                "łączna liczbę zamówionych jednostek jest większa niż 250**"
            ],
            "metadata": {
                "azdata_cell_guid": "2e6133ca-7f06-461c-a812-681e952857c1"
            }
        },
        {
            "cell_type": "code",
            "source": [
                "SELECT OD.OrderId, SUM(OD.Quantity) AS TotalQuantity, C.CompanyName\r\n",
                "FROM [Order Details] AS OD\r\n",
                "INNER JOIN ORDERS AS O\r\n",
                "ON OD.OrderID = O.OrderID\r\n",
                "INNER JOIN Customers AS C\r\n",
                "ON O.CustomerID = C.CustomerID\r\n",
                "GROUP BY OD.OrderId, C.CompanyName\r\n",
                "HAVING SUM(OD.Quantity) > 250"
            ],
            "metadata": {
                "azdata_cell_guid": "b4494d8c-6c58-4900-b090-3987c9427c06"
            },
            "outputs": [],
            "execution_count": null
        },
        {
            "cell_type": "markdown",
            "source": [
                "**1.3 Dla każdego zamówienia podaj łączną wartość tego zamówienia oraz nazwę\r\n",
                "klienta**"
            ],
            "metadata": {
                "azdata_cell_guid": "00147a5a-298b-415b-b0dd-c90327bebe56"
            }
        },
        {
            "cell_type": "code",
            "source": [
                "SELECT OD.OrderId, ROUND(SUM(OD.Quantity * OD.UnitPrice * (1 -OD.Discount)), 2) AS TotalCost, C.CompanyName\r\n",
                "FROM [Order Details] AS OD\r\n",
                "INNER JOIN ORDERS AS O\r\n",
                "ON OD.OrderID = O.OrderID\r\n",
                "INNER JOIN Customers AS C\r\n",
                "ON O.CustomerID = C.CustomerID\r\n",
                "GROUP BY OD.OrderId, C.CompanyName"
            ],
            "metadata": {
                "azdata_cell_guid": "119e7867-c70f-40ce-be09-b157cfe26cd4",
                "tags": []
            },
            "outputs": [],
            "execution_count": null
        },
        {
            "cell_type": "markdown",
            "source": [
                "**1.4 Zmodyfikuj poprzedni przykład, aby pokazać tylko takie zamówienia, dla których\r\n",
                "łączna liczba jednostek jest większa niż 250**"
            ],
            "metadata": {
                "azdata_cell_guid": "7577f847-58e5-48f7-883b-6890e9265264"
            }
        },
        {
            "cell_type": "code",
            "source": [
                "SELECT OD.OrderId, ROUND(SUM(OD.Quantity * OD.UnitPrice * (1 -OD.Discount)), 2) AS TotalCost, C.CompanyName\r\n",
                "FROM [Order Details] AS OD\r\n",
                "INNER JOIN ORDERS AS O\r\n",
                "ON OD.OrderID = O.OrderID\r\n",
                "INNER JOIN Customers AS C\r\n",
                "ON O.CustomerID = C.CustomerID\r\n",
                "GROUP BY OD.OrderId, C.CompanyName\r\n",
                "HAVING SUM(OD.Quantity) > 250"
            ],
            "metadata": {
                "azdata_cell_guid": "386d5178-25bf-425c-8457-ab438e33b065"
            },
            "outputs": [],
            "execution_count": null
        },
        {
            "cell_type": "markdown",
            "source": [
                "**1.5 Zmodyfikuj poprzedni przykład tak żeby dodać jeszcze imię i nazwisko\r\n",
                "pracownika obsługującego zamówienie**"
            ],
            "metadata": {
                "azdata_cell_guid": "67ebfca8-eb2e-44e4-80ed-b177d4edf9bb"
            }
        },
        {
            "cell_type": "code",
            "source": [
                "SELECT OD.OrderId, ROUND(SUM(OD.Quantity * OD.UnitPrice * (1 -OD.Discount)), 2) AS TotalCost, C.CompanyName, \r\n",
                "    E.FirstName + ' ' + E.LastName AS EmployeeName\r\n",
                "FROM [Order Details] AS OD\r\n",
                "INNER JOIN ORDERS AS O\r\n",
                "ON OD.OrderID = O.OrderID\r\n",
                "INNER JOIN Customers AS C\r\n",
                "ON O.CustomerID = C.CustomerID\r\n",
                "INNER JOIN Employees AS E\r\n",
                "ON O.EmployeeID = E.EmployeeID\r\n",
                "GROUP BY OD.OrderId, C.CompanyName, E.LastName, E.FirstName\r\n",
                "HAVING SUM(OD.Quantity) > 250"
            ],
            "metadata": {
                "azdata_cell_guid": "4400d732-3cbf-460e-bc54-a57e850e2759"
            },
            "outputs": [],
            "execution_count": null
        },
        {
            "cell_type": "markdown",
            "source": [
                "## Ćwiczenie #2\r\n",
                "**2.1 Dla każdej kategorii produktu (nazwa), podaj łączną liczbę zamówionych przez\r\n",
                "klientów jednostek towarów z tek kategorii**"
            ],
            "metadata": {
                "azdata_cell_guid": "107b78b4-e8d4-469f-8a53-a7330fadf224"
            }
        },
        {
            "cell_type": "code",
            "source": [
                "SELECT C.CategoryName, SUM(OD.Quantity) AS TotalQuantity\r\n",
                "FROM Categories AS C\r\n",
                "INNER JOIN Products AS P\r\n",
                "ON C.CategoryID = P.CategoryID\r\n",
                "INNER JOIN [Order Details] AS OD\r\n",
                "ON OD.ProductID = P.ProductID\r\n",
                "GROUP BY C.CategoryName"
            ],
            "metadata": {
                "azdata_cell_guid": "87d0d1b2-185e-499b-873d-76bbd6876d66"
            },
            "outputs": [],
            "execution_count": null
        },
        {
            "cell_type": "markdown",
            "source": [
                "**2.2 Dla każdej kategorii produktu (nazwa), podaj łączną wartość zamówionych przez\r\n",
                "klientów jednostek towarów z tek kategorii**"
            ],
            "metadata": {
                "azdata_cell_guid": "73fb4a72-d019-474d-923e-535cab8eb23e"
            }
        },
        {
            "cell_type": "code",
            "source": [
                "SELECT C.CategoryName, ROUND(SUM(OD.Quantity * OD.UnitPrice * (1 -OD.Discount)), 2) AS TotalCost\r\n",
                "FROM Categories AS C\r\n",
                "INNER JOIN Products AS P\r\n",
                "ON C.CategoryID = P.CategoryID\r\n",
                "INNER JOIN [Order Details] AS OD\r\n",
                "ON OD.ProductID = P.ProductID\r\n",
                "GROUP BY C.CategoryName"
            ],
            "metadata": {
                "azdata_cell_guid": "e62930c5-2824-4222-a982-fc68e22ed3f3"
            },
            "outputs": [],
            "execution_count": null
        },
        {
            "cell_type": "markdown",
            "source": [
                "**2.3 Posortuj wyniki w zapytaniu z poprzedniego punktu wg:\r\n",
                "a) łącznej wartości zamówień,\r\n",
                "b) łącznej liczby zamówionych przez klientów jednostek towarów**"
            ],
            "metadata": {
                "azdata_cell_guid": "4e7d5f76-9abc-439a-997c-adb0e812c797"
            }
        },
        {
            "cell_type": "code",
            "source": [
                "SELECT C.CategoryName, ROUND(SUM(OD.Quantity * OD.UnitPrice * (1 -OD.Discount)), 2) AS TotalCost\r\n",
                "FROM Categories AS C\r\n",
                "INNER JOIN Products AS P\r\n",
                "ON C.CategoryID = P.CategoryID\r\n",
                "INNER JOIN [Order Details] AS OD\r\n",
                "ON OD.ProductID = P.ProductID\r\n",
                "GROUP BY C.CategoryName\r\n",
                "ORDER BY TotalCost\r\n",
                "--ORDER BY SUM(OD.Quantity)"
            ],
            "metadata": {
                "azdata_cell_guid": "8d006d76-c387-4190-88b1-3fa876763b0d"
            },
            "outputs": [],
            "execution_count": null
        },
        {
            "cell_type": "markdown",
            "source": [
                "**2.4 Dla każdego zamówienia podaj jego wartość uwzględniając opłatę za przesyłkę**"
            ],
            "metadata": {
                "azdata_cell_guid": "dafcd91c-58d5-44a2-b02d-e6cfe25b65aa"
            }
        },
        {
            "cell_type": "code",
            "source": [
                "SELECT OD.OrderId, ROUND(SUM(OD.Quantity * OD.UnitPrice * (1 -OD.Discount) + O.Freight), 2) AS TotalCost\r\n",
                "FROM [Order Details] AS OD\r\n",
                "INNER JOIN ORDERS AS O\r\n",
                "ON OD.OrderID = O.OrderID\r\n",
                "GROUP BY OD.OrderId"
            ],
            "metadata": {
                "azdata_cell_guid": "9f1a1d20-0c57-4322-8f1a-1dff46e0873d"
            },
            "outputs": [],
            "execution_count": null
        },
        {
            "cell_type": "markdown",
            "source": [
                "## Ćwiczenie #3\r\n",
                "**3.1 Dla każdego przewoźnika (nazwa) podaj liczbę zamówień które przewieźli w 1997r**"
            ],
            "metadata": {
                "azdata_cell_guid": "61826fbf-cd17-4c55-9774-3c0ccf6080ce"
            }
        },
        {
            "cell_type": "code",
            "source": [
                "SELECT S.CompanyName, COUNT(O.OrderID) AS OrderCompleted\r\n",
                "FROM Shippers AS S\r\n",
                "INNER JOIN Orders AS O\r\n",
                "ON S.ShipperID = O.ShipVia AND YEAR(O.ShippedDate) = 1997\r\n",
                "GROUP BY S.CompanyName"
            ],
            "metadata": {
                "azdata_cell_guid": "ebc8fd1c-319b-42c1-905f-11e423f1e57b"
            },
            "outputs": [],
            "execution_count": null
        },
        {
            "cell_type": "markdown",
            "source": [
                "**3.2 Który z przewoźników był najaktywniejszy (przewiózł największą liczbę\r\n",
                "zamówień) w 1997r, podaj nazwę tego przewoźnika**"
            ],
            "metadata": {
                "azdata_cell_guid": "501a3757-af1a-4d97-b6f9-7a80b771ce61"
            }
        },
        {
            "cell_type": "code",
            "source": [
                "SELECT TOP 1 S.CompanyName\r\n",
                "FROM Shippers AS S\r\n",
                "INNER JOIN Orders AS O\r\n",
                "ON S.ShipperID = O.ShipVia AND YEAR(O.ShippedDate) = 1997\r\n",
                "GROUP BY S.CompanyName\r\n",
                "ORDER BY COUNT(O.OrderID)"
            ],
            "metadata": {
                "azdata_cell_guid": "ff26a34b-f7ed-4686-96fc-ec8b46f5c495"
            },
            "outputs": [],
            "execution_count": null
        },
        {
            "cell_type": "markdown",
            "source": [
                "**3.3 Dla każdego pracownika (imię i nazwisko) podaj łączną wartość zamówień\r\n",
                "obsłużonych przez tego pracownika**"
            ],
            "metadata": {
                "azdata_cell_guid": "8c097888-29ac-4141-bc20-65aaaae5c9cd"
            }
        },
        {
            "cell_type": "code",
            "source": [
                "SELECT E.FirstName + ' ' + E.LastName AS EmployeeName, ROUND(SUM(OD.UnitPrice * OD.Quantity * (1-Od.Discount)), 2) AS TotalCost\r\n",
                "FROM Employees AS E\r\n",
                "INNER JOIN Orders AS O\r\n",
                "ON O.EmployeeID = E.EmployeeID\r\n",
                "INNER JOIN [Order Details] AS OD\r\n",
                "ON OD.OrderID = O.OrderID\r\n",
                "GROUP BY E.FirstName, E.LastName"
            ],
            "metadata": {
                "azdata_cell_guid": "91db18f1-8ecd-4e41-907f-d3e1773d38e9"
            },
            "outputs": [],
            "execution_count": null
        },
        {
            "cell_type": "markdown",
            "source": [
                "**3.4 Który z pracowników obsłużył największą liczbę zamówień w 1997r, podaj imię i\r\n",
                "nazwisko takiego pracownika**"
            ],
            "metadata": {
                "azdata_cell_guid": "171d8cc9-e204-40cf-864c-4fc31e847f43"
            }
        },
        {
            "cell_type": "code",
            "source": [
                "SELECT TOP 1 E.FirstName + ' ' + E.LastName AS EmployeeName\r\n",
                "FROM Employees AS E\r\n",
                "INNER JOIN Orders AS O\r\n",
                "ON E.EmployeeID = O.EmployeeID AND YEAR(OrderDate) = 1997\r\n",
                "GROUP BY E.FirstName, E.LastName\r\n",
                "ORDER BY COUNT(O.OrderID) DESC"
            ],
            "metadata": {
                "azdata_cell_guid": "9a32fa0b-d90e-49b4-8146-411bc13c269e"
            },
            "outputs": [],
            "execution_count": null
        },
        {
            "cell_type": "markdown",
            "source": [
                "**3.5 Który z pracowników obsłużył najaktywniejszy (obsłużył zamówienia o\r\n",
                "największej wartości) w 1997r, podaj imię i nazwisko takiego pracownika**"
            ],
            "metadata": {
                "azdata_cell_guid": "c33dce30-6ca4-4f47-9cb7-c140ace900bb"
            }
        },
        {
            "cell_type": "code",
            "source": [
                "SELECT TOP 1 E.FirstName + ' ' + E.LastName AS EmployeeName\r\n",
                "FROM Employees AS E\r\n",
                "INNER JOIN Orders AS O\r\n",
                "ON E.EmployeeID = O.EmployeeID AND YEAR(OrderDate) = 1997\r\n",
                "INNER JOIN [Order Details] AS OD\r\n",
                "ON OD.OrderID = O.OrderID\r\n",
                "GROUP BY E.FirstName, E.LastName\r\n",
                "ORDER BY SUM(OD.UnitPrice * OD.Quantity * (1-OD.Discount)) DESC"
            ],
            "metadata": {
                "azdata_cell_guid": "6653dc72-61b2-4a8f-8a5c-115cb0551528"
            },
            "outputs": [],
            "execution_count": null
        },
        {
            "cell_type": "markdown",
            "source": [
                "## Ćwiczenie #4\r\n",
                "**4.1 Dla każdego pracownika (imię i nazwisko) podaj łączną wartość zamówień\r\n",
                "obsłużonych przez tego pracownika\r\n",
                "– Ogranicz wynik tylko do pracowników\r\n",
                "a) którzy mają podwładnych\r\n",
                "b) którzy nie mają podwładnych**"
            ],
            "metadata": {
                "azdata_cell_guid": "56ce61ee-31c1-4770-9508-cff76dd985d9"
            }
        },
        {
            "cell_type": "code",
            "source": [
                "SELECT E.FirstName + ' ' + E.LastName AS EmployeeName, ROUND(SUM(OD.UnitPrice * OD.Quantity * (1-Od.Discount)), 2) AS TotalCost\r\n",
                "FROM Employees AS E\r\n",
                "LEFT OUTER JOIN Employees AS E1\r\n",
                "ON E.EmployeeID = E1.ReportsTo\r\n",
                "INNER JOIN Orders AS O\r\n",
                "ON E.EmployeeID = O.EmployeeID\r\n",
                "INNER JOIN [Order Details] AS OD\r\n",
                "ON OD.OrderID = O.OrderID\r\n",
                "WHERE E1.EmployeeID IS NOT NULL\r\n",
                "GROUP BY E.FirstName, E.LastName"
            ],
            "metadata": {
                "azdata_cell_guid": "07da382c-e9ab-4e99-8ae9-fce3702d1887"
            },
            "outputs": [],
            "execution_count": null
        },
        {
            "cell_type": "code",
            "source": [
                "SELECT E.FirstName + ' ' + E.LastName AS EmployeeName, ROUND(SUM(OD.UnitPrice * OD.Quantity * (1-Od.Discount)), 2) AS TotalCost\r\n",
                "FROM Employees AS E\r\n",
                "LEFT OUTER JOIN Employees AS E1\r\n",
                "ON E.EmployeeID = E1.ReportsTo\r\n",
                "INNER JOIN Orders AS O\r\n",
                "ON E.EmployeeID = O.EmployeeID\r\n",
                "INNER JOIN [Order Details] AS OD\r\n",
                "ON OD.OrderID = O.OrderID\r\n",
                "WHERE E1.EmployeeID IS NULL\r\n",
                "GROUP BY E.FirstName, E.LastName"
            ],
            "metadata": {
                "azdata_cell_guid": "7a2f98b1-129f-4529-a9f4-aa195b4d8bbd"
            },
            "outputs": [],
            "execution_count": null
        }
    ]
}