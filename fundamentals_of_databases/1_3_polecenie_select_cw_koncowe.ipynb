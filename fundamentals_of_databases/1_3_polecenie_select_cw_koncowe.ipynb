{
    "metadata": {
        "kernelspec": {
            "name": "SQL",
            "display_name": "SQL",
            "language": "sql"
        },
        "language_info": {
            "name": "sql",
            "version": ""
        },
        "extensions": {
            "azuredatastudio": {
                "version": 1,
                "views": []
            }
        }
    },
    "nbformat_minor": 2,
    "nbformat": 4,
    "cells": [
        {
            "cell_type": "markdown",
            "source": [
                "# Zestaw 1.3 - \"Polecenie SELECT - ćwiczenia końcowe\""
            ],
            "metadata": {
                "azdata_cell_guid": "538fdc9e-a3d0-4982-825d-791752354e8e"
            }
        },
        {
            "cell_type": "code",
            "source": [
                "USE Library"
            ],
            "metadata": {
                "azdata_cell_guid": "956c8980-707d-4f6d-8db9-f04a4d460710"
            },
            "outputs": [],
            "execution_count": null
        },
        {
            "cell_type": "markdown",
            "source": [
                "## 1. Ćwiczenie #1\r\n",
                "**1.1 Napisz polecenie select, za pomocą którego uzyskasz tytuł i numer książki**"
            ],
            "metadata": {
                "azdata_cell_guid": "095184f8-49a6-46d5-96bf-81a0362045d9"
            }
        },
        {
            "cell_type": "code",
            "source": [
                "SELECT title, title_no FROM title"
            ],
            "metadata": {
                "azdata_cell_guid": "06a6d18e-8c90-496e-9765-d160b3ed6abf"
            },
            "outputs": [],
            "execution_count": null
        },
        {
            "cell_type": "markdown",
            "source": [
                "**1.2 Napisz polecenie, które wybiera tytuł o numerze 10**"
            ],
            "metadata": {
                "azdata_cell_guid": "ae02106a-34c3-42af-8ff3-c7e041793973"
            }
        },
        {
            "cell_type": "code",
            "source": [
                "SELECT title FROM title WHERE title_no = 10"
            ],
            "metadata": {
                "azdata_cell_guid": "d0dd6193-7b44-44df-b8da-bd039c9cfe6c"
            },
            "outputs": [],
            "execution_count": null
        },
        {
            "cell_type": "markdown",
            "source": [
                "**1.3 Napisz polecenie select, za pomocą którego uzyskasz numer książki (nr tyułu) i autora z tablicy title dla wszystkich książek, których autorem jest Charles Dickens lub Jane Austen**"
            ],
            "metadata": {
                "azdata_cell_guid": "cf274844-6eeb-4dc2-a983-6f523e781dfc"
            }
        },
        {
            "cell_type": "code",
            "source": [
                "SELECT title_no, author FROM title WHERE author IN ('Charles Dickens','Jane Austen')"
            ],
            "metadata": {
                "azdata_cell_guid": "5dd3554a-3c28-4173-ba39-8dad8a48646d"
            },
            "outputs": [],
            "execution_count": null
        },
        {
            "cell_type": "markdown",
            "source": [
                "## 2. Ćwiczenie #2\r\n",
                "**2.1 Napisz polecenie, które wybiera numer tytułu i tytuł dla wszystkich książek, których tytuły zawierających słowo „adventure”**"
            ],
            "metadata": {
                "azdata_cell_guid": "9f7b9f29-f3ed-48cf-b362-9efb19d5b22f"
            }
        },
        {
            "cell_type": "code",
            "source": [
                "SELECT title_no, title FROM title WHERE title LIKE '%adventure%'"
            ],
            "metadata": {
                "azdata_cell_guid": "450050d9-5fc8-4f9f-8e21-cd313c8dbb25"
            },
            "outputs": [],
            "execution_count": null
        },
        {
            "cell_type": "markdown",
            "source": [
                "**2.2 Napisz polecenie, które wybiera numer czytelnika, oraz zapłaconą karę**"
            ],
            "metadata": {
                "azdata_cell_guid": "892beae6-540c-4110-9668-25c58257067c"
            }
        },
        {
            "cell_type": "code",
            "source": [
                "SELECT member_no, fine_paid FROM loanhist WHERE fine_paid IS NOT NULL"
            ],
            "metadata": {
                "azdata_cell_guid": "a6f75908-dda7-4946-ae99-ada419dcd1d7"
            },
            "outputs": [],
            "execution_count": null
        },
        {
            "cell_type": "markdown",
            "source": [
                "**2.3 Napisz polecenie, które wybiera wszystkie unikalne pary miast i stanów z tablicy adult.**"
            ],
            "metadata": {
                "azdata_cell_guid": "e64ef847-0689-4b5f-96d2-0622eb9a31c6"
            }
        },
        {
            "cell_type": "code",
            "source": [
                "SELECT DISTINCT city, state FROM adult"
            ],
            "metadata": {
                "azdata_cell_guid": "99175a4b-8b3c-444f-8b59-b8dee4a391f0"
            },
            "outputs": [],
            "execution_count": null
        },
        {
            "cell_type": "markdown",
            "source": [
                "**2.4 Napisz polecenie, które wybiera wszystkie tytuły z tablicy title i wyświetla je w porządku alfabetycznym.**"
            ],
            "metadata": {
                "azdata_cell_guid": "ff794ab2-a634-4a94-9053-96b8835de503"
            }
        },
        {
            "cell_type": "code",
            "source": [
                "SELECT title FROM title ORDER BY 1"
            ],
            "metadata": {
                "azdata_cell_guid": "23ad26de-d23d-4fb2-ad16-07fe34bee5da"
            },
            "outputs": [],
            "execution_count": null
        },
        {
            "cell_type": "markdown",
            "source": [
                "## 3. Ćwiczenie #3\r\n",
                "**3.1 Napisz polecenie, które:**\r\n",
                "- **wybiera numer członka biblioteki (member_no), isbn książki (isbn) i watrość**\r\n",
                "- **naliczonej kary (fine_assessed) z tablicy loanhist dla wszystkich wypożyczeń dla których naliczono karę (wartość nie NULL w kolumnie fine_assessed)**\r\n",
                "- **stwórz kolumnę wyliczeniową zawierającą podwojoną wartość kolumny fine_assessed**\r\n",
                "- **stwórz alias ‘double fine’ dla tej kolumny**"
            ],
            "metadata": {
                "azdata_cell_guid": "0e95420c-0b66-45de-a97e-3a263dab1535"
            }
        },
        {
            "cell_type": "code",
            "source": [
                "SELECT member_no, isbn, fine_assessed, fine_assessed * 2 as [double fine] FROM loanhist WHERE fine_assessed IS NOT NULL"
            ],
            "metadata": {
                "azdata_cell_guid": "82afdd8c-c07a-4c03-9943-1096fb110631"
            },
            "outputs": [],
            "execution_count": null
        },
        {
            "cell_type": "markdown",
            "source": [
                "## 4. Ćwiczenie #4\r\n",
                "**4.1 Napisz polecenie, które**\r\n",
                "- **generuje pojedynczą kolumnę, która zawiera kolumny: firstname (imię członka biblioteki), middleinitial (inicjał drugiego imienia) i lastname (nazwisko) z tablicy member dla wszystkich członków biblioteki, którzy nazywają się Anderson**\r\n",
                "- **nazwij tak powstałą kolumnę email_name (użyj aliasu email_name dla kolumny)**\r\n",
                "- **zmodyfikuj polecenie, tak by zwróciło „listę proponowanych loginów e-mail” utworzonych przez połączenie imienia członka biblioteki, z inicjałem drugiego imienia i pierwszymi dwoma literami nazwiska (wszystko małymi małymi literami).**\r\n",
                "- - **Wykorzystaj funkcję SUBSTRING do uzyskania części kolumny znakowej oraz LOWER do zwrócenia wyniku małymi literami.**"
            ],
            "metadata": {
                "azdata_cell_guid": "39ba3d87-b7bc-42c7-a600-35287222a1fa"
            }
        },
        {
            "cell_type": "code",
            "source": [
                "SELECT LOWER(REPLACE(firstname, ' ', '') + middleinitial + SUBSTRING(lastname, 1, 2)) AS email_name \r\n",
                "FROM member WHERE lastname = 'Anderson'"
            ],
            "metadata": {
                "azdata_cell_guid": "ca8759e9-86e4-469a-92fa-67909b7aa010",
                "tags": []
            },
            "outputs": [],
            "execution_count": null
        },
        {
            "cell_type": "markdown",
            "source": [
                "## 5. Ćwiczenie #5\r\n",
                "**5.1 Napisz polecenie, które wybiera title i title_no z tablicy title.**\r\n",
                "- **Wynikiem powinna być pojedyncza kolumna o formacie jak w przykładzie poniżej:**\r\n",
                "- - **The title is: Poems, title number 7**\r\n",
                "- **Czyli zapytanie powinno zwracać pojedynczą kolumnę w oparciu o wyrażenie, które łączy 4 elementy:**\r\n",
                "- - **stała znakowa ‘The title is:’**\r\n",
                "- - **wartość kolumny title**\r\n",
                "- - **stała znakowa ‘title number’**\r\n",
                "- - **wartość kolumny title_no**"
            ],
            "metadata": {
                "azdata_cell_guid": "0423f1c5-9659-4476-9689-0392a278e3da"
            }
        },
        {
            "cell_type": "code",
            "source": [
                "SELECT 'The title is: ' + title + ', title number ' + CONVERT(varchar(10), title_no) AS [Title and number] FROM title"
            ],
            "metadata": {
                "azdata_cell_guid": "c35fdcfa-8f83-450e-a5e5-f95fc3c41c7d"
            },
            "outputs": [],
            "execution_count": null
        }
    ]
}