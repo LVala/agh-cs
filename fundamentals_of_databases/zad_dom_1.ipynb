{
    "metadata": {
        "kernelspec": {
            "name": "SQL",
            "display_name": "SQL",
            "language": "sql"
        },
        "language_info": {
            "name": "sql",
            "version": ""
        }
    },
    "nbformat_minor": 2,
    "nbformat": 4,
    "cells": [
        {
            "cell_type": "markdown",
            "source": [
                "# Zadanie domowe 1"
            ],
            "metadata": {
                "azdata_cell_guid": "56815874-2271-4fc2-9a1a-56bb17cf0f81"
            }
        },
        {
            "cell_type": "code",
            "source": [
                "USE Northwind"
            ],
            "metadata": {
                "azdata_cell_guid": "e5bc3436-b01e-420c-b056-aafac6f57082"
            },
            "outputs": [],
            "execution_count": null
        },
        {
            "cell_type": "markdown",
            "source": [
                "**1\\. Ile lat przepracował w firmie każdy z pracowników?**"
            ],
            "metadata": {
                "azdata_cell_guid": "7cc2733e-0b91-45e9-9bc0-45aa9193e137"
            }
        },
        {
            "cell_type": "code",
            "source": [
                "SELECT FirstName, LastName, DATEDIFF(year, HireDate, GETDATE()) AS WorkedYears FROM Employees"
            ],
            "metadata": {
                "azdata_cell_guid": "980cf213-f13c-43a2-8c8a-3de434d3b2b8"
            },
            "outputs": [],
            "execution_count": null
        },
        {
            "cell_type": "markdown",
            "source": [
                "**2\\. Policz sumę lat przepracowanych przez wszystkich pracowników i średni czas pracy w firmie**"
            ],
            "metadata": {
                "azdata_cell_guid": "803fa694-24a6-47f2-8c2a-9ea0eaae6fab"
            }
        },
        {
            "cell_type": "code",
            "source": [
                "SELECT SUM(DATEDIFF(year, HireDate, GETDATE())) AS SumOfWorkedYears, \r\n",
                "AVG(DATEDIFF(year, HireDate, GETDATE())) AS AverageOfWorkedYears FROM Employees"
            ],
            "metadata": {
                "azdata_cell_guid": "54029f72-b97a-4072-b98e-72a62d21176b"
            },
            "outputs": [],
            "execution_count": null
        },
        {
            "cell_type": "markdown",
            "source": [
                "**3\\. Dla każdego pracownika wyświetl imię, nazwisko oraz wiek**"
            ],
            "metadata": {
                "azdata_cell_guid": "ef59201f-0105-4d22-ae76-cb1dbf3bbb18"
            }
        },
        {
            "cell_type": "code",
            "source": [
                "SELECT FirstName, LastName, DATEDIFF(year, BirthDate, GETDATE()) as Age FROM Employees"
            ],
            "metadata": {
                "azdata_cell_guid": "bfe4f94c-46b3-426f-8f22-605a17602172"
            },
            "outputs": [],
            "execution_count": null
        },
        {
            "cell_type": "markdown",
            "source": [
                "**4\\. Policz średni wiek wszystkich pracowników**"
            ],
            "metadata": {
                "azdata_cell_guid": "c35b66f7-55dc-4da9-90c2-e11ab49c72c4"
            }
        },
        {
            "cell_type": "code",
            "source": [
                "SELECT AVG(DATEDIFF(year, BirthDate, GETDATE())) AS AverageAge FROM Employees "
            ],
            "metadata": {
                "azdata_cell_guid": "4bb2a89b-4969-4cab-8e97-3139d8060fa2"
            },
            "outputs": [],
            "execution_count": null
        },
        {
            "cell_type": "markdown",
            "source": [
                "**5\\. Wyświetl wszystkich pracowników, którzy mają teraz więcej niż 25 lat**"
            ],
            "metadata": {
                "azdata_cell_guid": "bb77d694-5c78-49b3-8c05-28e5b8578802"
            }
        },
        {
            "cell_type": "code",
            "source": [
                "SELECT * FROM (SELECT FirstName, LastName, DATEDIFF(year, BirthDate, GETDATE()) AS Age FROM Employees) AS x WHERE x.Age > 25"
            ],
            "metadata": {
                "azdata_cell_guid": "439bf2db-7522-413a-8fe0-e5c55891e406"
            },
            "outputs": [],
            "execution_count": null
        },
        {
            "cell_type": "markdown",
            "source": [
                "**6\\. Policz średnią liczbę miesięcy przepracowanyh przez każdego pracownika**"
            ],
            "metadata": {
                "azdata_cell_guid": "7e655c72-40c0-40e3-807a-32e6b1e1ca36"
            }
        },
        {
            "cell_type": "code",
            "source": [
                "SELECT AVG(DATEDIFF(month, HireDate, GETDATE())) AS AverageMonths FROM Employees"
            ],
            "metadata": {
                "azdata_cell_guid": "e6a2ac8c-31a7-4bd6-a041-5e4993648f4e"
            },
            "outputs": [],
            "execution_count": null
        },
        {
            "cell_type": "markdown",
            "source": [
                "**7\\. Wyświetl dane wszystkich pracowników, którzy przepracowali w firmie co najmniej 320 miesięcy, ale nie więcej niż 333**"
            ],
            "metadata": {
                "azdata_cell_guid": "4194f674-7eed-4024-a6c7-1b2dac5452c7"
            }
        },
        {
            "cell_type": "code",
            "source": [
                "SELECT * FROM Employees WHERE DATEDIFF(month, HireDate, GETDATE()) BETWEEN 320 AND 333"
            ],
            "metadata": {
                "azdata_cell_guid": "1c657625-7e4f-492c-ac04-9ca95743beec"
            },
            "outputs": [],
            "execution_count": null
        }
    ]
}