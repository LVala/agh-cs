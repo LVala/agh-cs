{
 "cells": [
  {
   "cell_type": "markdown",
   "metadata": {
    "id": "emO4I1aZo3oA"
   },
   "source": [
    "# Kryptografia klasyczna (od starożytności do czasów współczesnych)\n",
    "### Literatura:\n",
    "1. Księga szyfrów, Simon Singh, Świat książki, 2001\n",
    "2. Łamacze kodów, David Kahn, WNT, 2004"
   ]
  },
  {
   "cell_type": "markdown",
   "metadata": {
    "id": "CDs90SH7o3oD"
   },
   "source": [
    "## Szyfr Cezara\n",
    "--------------\n",
    "Szyfr Cezara oczywiście nie zawdzięcza swego istnienia Juliuszowi Cezarowi. Został przezeń jedynie wspomniany w pamiętnikach o wojnach galijskich. Prawdopodobnie była to dobrze znana metoda w tym czasie."
   ]
  },
  {
   "cell_type": "code",
   "execution_count": null,
   "metadata": {
    "id": "aAmgDNvOo3oF"
   },
   "outputs": [],
   "source": [
    "# Alfabet jawny i szyfrowy \n",
    "alphabets = ['a','b', 'c', 'd', 'e', 'f', 'g', 'h', 'i', 'j', 'k', 'l', 'm', 'n', 'o', 'p',\n",
    "            'q', 'r', 's', 't', 'u', 'v', 'w', 'x', 'y', 'z']\n",
    "\n",
    "alphabet_size = 26\n",
    "\n",
    "plaintext = \"Zorro fly zealotry zipper\"\n",
    "\n",
    "ciphertext = \"\"\n",
    "\n",
    "key = 15 #przesunięcie permutacji czyli klucz szyfrowania \n",
    "\n",
    "print(\"Tekst jawny: \", plaintext)\n",
    "\n",
    "for text in plaintext.lower().split():\n",
    "    for char in text:\n",
    "        ciphertext = ciphertext + alphabets[(alphabets.index(char) + key) % alphabet_size] \n",
    "print(\"Szyfrogram: \",  ciphertext, \"(spacje usunięte)\")\n",
    "\n",
    "decodedtext = \"\"\n",
    "for text in ciphertext:\n",
    "    for char in text:\n",
    "        decodedtext = decodedtext + alphabets[(alphabets.index(char)- key) % alphabet_size]\n",
    "print(\"Odszyfrowana wiadomość: \",  decodedtext,  \"(spacje usunięte)\")"
   ]
  },
  {
   "cell_type": "markdown",
   "metadata": {
    "id": "_hKOpGSvo3oG"
   },
   "source": [
    "## Szyfr monoalfabetyczny: \n",
    "_danemu symbolowi alfabetu jawnego odpowiada dokładnie jeden i ten sam symbol alfabetu tajnego._"
   ]
  },
  {
   "cell_type": "markdown",
   "metadata": {
    "id": "IPg2ADLHo3oH"
   },
   "source": [
    "### Zastanów się:\n",
    "1. Czy szyfr Cezara jest łatwy do złamania? Ile prób (testów przesunięć) trzeba aby złamać szyfr Cezara?\n",
    "2. Co to jest atak siłowy (__brute force__)?  \n",
    "3. Zaproponuj i zaimplementuj wariant szyfru Cezara, która wymaga wykonania większej liczby prób podczas ataku?  \n",
    "4. Oceń koszt ataku na ten wariant Cezara."
   ]
  },
  {
   "cell_type": "markdown",
   "metadata": {
    "id": "wWPR1mY0o3oH"
   },
   "source": [
    "### Zadanie samodzielne dla studentów\n",
    "1. Napisz ,,ulepszony szyfr Cezara'' czyli monoalfabetyczny szyfr z tajną pemutacją alfabetu szufrowego\n",
    "2. Można wykorzystać funkcję random.permutation() z biblioteki numpy"
   ]
  },
  {
   "cell_type": "code",
   "execution_count": null,
   "metadata": {
    "colab": {
     "base_uri": "https://localhost:8080/"
    },
    "executionInfo": {
     "elapsed": 258,
     "status": "ok",
     "timestamp": 1665050871920,
     "user": {
      "displayName": "Łukasz Wala",
      "userId": "08106281641708650168"
     },
     "user_tz": -120
    },
    "id": "Le-Fgma3o3oH",
    "outputId": "4b97ab57-f8f7-49dc-edda-74683edb0b9e"
   },
   "outputs": [],
   "source": [
    "# lepszy Cezar\n",
    "import string\n",
    "import numpy as np\n",
    "plaintext = \"Zorro fly zealotry zipper\"\n",
    "\n",
    "alphabet = list(np.random.permutation(list(string.ascii_lowercase)))\n",
    "alphabet_len = len(alphabet)\n",
    "key = 15\n",
    "\n",
    "print(\"Tekst jawny: \", plaintext)\n",
    "\n",
    "ciphertext = \"\"\n",
    "for char in plaintext.replace(\" \", \"\").lower():\n",
    "    ciphertext += alphabet[(alphabet.index(char) + key) % alphabet_len]\n",
    "print(\"Szyfrogram: \",  ciphertext, \"(spacje usunięte)\")\n",
    "\n",
    "decodedtext = \"\"\n",
    "for char in ciphertext.replace(\" \", \"\").lower():\n",
    "    decodedtext += alphabet[(alphabet.index(char) - key) % alphabet_len] \n",
    "print(\"Odszyfrowana wiadomość: \",  decodedtext,  \"(spacje usunięte)\")"
   ]
  },
  {
   "cell_type": "markdown",
   "metadata": {
    "id": "Elohwo77o3oI"
   },
   "source": [
    "## Kryptoanaliza szyfrów monoalfabetycznych\n",
    "\n",
    "Współcześnie kryptoanaliza szyfru Cezara jest trywialna. Można po prostu sprawdzić wszystkie 26 możliwych przesunięć. \n",
    "\n",
    "Szyfry monoalfabetyczne nie są także odporne na __kryptoanalizę statystyczną__. Znając rozkład częstości liter w tekstach napisanych w danym języku możemy odgadnąć przesunięcie obserwując minima i maxima w histogramach. \n",
    "\n",
    "W zasadzie kluczową sprawą w obu przypadkach jest znajomość języka, a w gruncie rzeczy alfabetu. "
   ]
  },
  {
   "cell_type": "markdown",
   "metadata": {
    "id": "1rT5pUzVo3oI"
   },
   "source": [
    "### Zadanie samodzielne dla studentów\n",
    "1. Narysuj rozkład częstości występowania liter w języku angielskim (kod rysowania histogramu poniżej)"
   ]
  },
  {
   "cell_type": "code",
   "execution_count": null,
   "metadata": {
    "colab": {
     "base_uri": "https://localhost:8080/",
     "height": 567
    },
    "executionInfo": {
     "elapsed": 419,
     "status": "ok",
     "timestamp": 1665051113088,
     "user": {
      "displayName": "Łukasz Wala",
      "userId": "08106281641708650168"
     },
     "user_tz": -120
    },
    "id": "eiLepAjRo3oJ",
    "outputId": "bcb50287-dcdd-4b9e-8dbc-77cc19288eb5"
   },
   "outputs": [],
   "source": [
    "from matplotlib import pyplot as plt\n",
    "import numpy as np\n",
    "\n",
    "letters =   ['a',  'b',    'c',   'd',  'e',   'f',   'g',   'h',   'i',   'j',   'k',   'l',    'm',  'n',   'o',   'p',    'q',  'r',   's',   't',   'u',   'v',   'w',   'x',    'y',   'z']\n",
    "frequency = [0.080, 0.015, 0.030, 0.040, 0.130, 0.020, 0.015, 0.060, 0.065, 0.005, 0.005, 0.035, 0.030, 0.070, 0.080, 0.020, 0.002, 0.065, 0.060, 0.090, 0.030, 0.010, 0.015, 0.005, 0.020, 0.002]\n",
    "labels = np.arange(len(letters))\n",
    "plt.figure(figsize=(15,9))\n",
    "plt.bar(labels, frequency, alpha=0.5, edgecolor=\"green\")\n",
    "plt.xlabel('Alfabet')\n",
    "plt.xticks(np.arange(26), ('a','b', 'c', 'd', 'e', 'f', 'g', 'h', 'i', 'j', 'k', 'l', 'm', 'n', 'o', 'p', 'q', 'r', 's', 't', 'u', 'v', 'w', 'x', 'y', 'z'))\n",
    "plt.title(\"Język angielski\");\n",
    "plt.ylabel('Częstość występowania')\n",
    "plt.show()"
   ]
  },
  {
   "cell_type": "markdown",
   "metadata": {
    "id": "BDffSAYDo3oJ"
   },
   "source": [
    "2. Dokonaj analizy częstości występowania liter w tekście jawnym i szyfrogramie (szyfr Cezara z dowolnym przesunięciem) dla tekstu w poniższym fragmencie kodu. Wyświetl wyniki podobnie jak powyżej. \n",
    "3. Dokonaj analizy częstości występowania liter w szyfrogramie wygenerowanym przez \"ulepszonego Cezara\""
   ]
  },
  {
   "cell_type": "code",
   "execution_count": null,
   "metadata": {
    "colab": {
     "base_uri": "https://localhost:8080/",
     "height": 567
    },
    "executionInfo": {
     "elapsed": 862,
     "status": "ok",
     "timestamp": 1665052908454,
     "user": {
      "displayName": "Łukasz Wala",
      "userId": "08106281641708650168"
     },
     "user_tz": -120
    },
    "id": "PEPGKV-Ao3oJ",
    "outputId": "6fc5f004-344f-43de-9839-1941164b67aa",
    "scrolled": true
   },
   "outputs": [],
   "source": [
    "import numpy as np\n",
    "from matplotlib import pyplot as plt\n",
    "\n",
    "plaintext = \"TobeornottobethatisthequestionWhethertisNoblerinthemindtosufferTheSlingsandArrowsofoutrageousFortuneOrtotakeArmsagainstaSeaoftroublesAndbyopposingendthem\"\n",
    "\n",
    "Alphabet = [\n",
    "    'a','b','c','d','e','f','g','h','i','j','k','l','m',\n",
    "    'n','o','p','q','r','s','t','u','v','w','x','y','z'\n",
    "]\n",
    "\n",
    "alphabet_size = len(Alphabet)\n",
    "\n",
    "key = 10\n",
    "\n",
    "plaintext = plaintext.lower()\n",
    "cesar_alphabet = list(np.random.permutation(Alphabet))\n",
    "\n",
    "cesar = [Alphabet[(Alphabet.index(letter)+key) % alphabet_size] for letter in plaintext.lower()]\n",
    "imporved_cesar = [cesar_alphabet[(cesar_alphabet.index(letter)+key) % alphabet_size] for letter in plaintext.lower()]\n",
    "\n",
    "# policz częstość i wyświetl rozkłady\n",
    "all_letters = len(plaintext)\n",
    "plaintext_letter_count = {}\n",
    "cesar_letter_count = {}\n",
    "imporved_cesar_letter_count = {}\n",
    "\n",
    "\n",
    "for letter in plaintext:\n",
    "  plaintext_letter_count[letter] = plaintext_letter_count.get(letter, 0) + 1\n",
    "\n",
    "plaintext_letter_frequency = [plaintext_letter_count.get(i, 0)/all_letters for i in Alphabet]\n",
    "\n",
    "for letter in cesar:\n",
    "  cesar_letter_count[letter] = cesar_letter_count.get(letter, 0) + 1\n",
    "\n",
    "cesar_letter_frequency = [cesar_letter_count.get(i, 0)/all_letters for i in Alphabet]\n",
    "\n",
    "for letter in imporved_cesar:\n",
    "  imporved_cesar_letter_count[letter] = imporved_cesar_letter_count.get(letter, 0) + 1\n",
    "\n",
    "imporved_cesar_letter_frequency = [imporved_cesar_letter_count.get(i, 0)/all_letters for i in Alphabet]\n",
    "\n",
    "labels = np.arange(len(Alphabet))\n",
    "plt.figure(figsize=(15,9))\n",
    "plt.bar(labels, imporved_cesar_letter_frequency, alpha=0.5, edgecolor=\"green\")\n",
    "plt.xlabel('Alfabet')\n",
    "plt.xticks(np.arange(26), Alphabet)\n",
    "plt.title(\"Język angielski\");\n",
    "plt.ylabel('Częstość występowania')\n",
    "plt.show()"
   ]
  },
  {
   "cell_type": "markdown",
   "metadata": {
    "id": "qFlXNqAzo3oK"
   },
   "source": [
    "### Ciekawostka: \n",
    "Automatyczna kryptoanaliza tekst zaszyfrowanego zwykłym Cezarem"
   ]
  },
  {
   "cell_type": "code",
   "execution_count": null,
   "metadata": {
    "id": "oU6O2Onuo3oK"
   },
   "outputs": [],
   "source": [
    "!pip install nltk \n",
    "import nltk\n",
    "nltk.download('words')\n",
    "from nltk.corpus import words\n",
    "\n",
    "\n",
    "unique = []\n",
    "frequency = []\n",
    "psi = []\n",
    "key = 0\n",
    "value = 0.0\n",
    "exit = True\n",
    "\n",
    "ciphertext = \"odggd\".lower()\n",
    "\n",
    "alphabets = \"abcdefghijklmnopqrstuvwxyz\"\n",
    "\n",
    "english_frequency_prob = [0.080, 0.015, 0.030, 0.040, 0.130, 0.020, 0.015, 0.060, 0.065, 0.005, \n",
    "                          0.005, 0.035, 0.030, 0.070, 0.080, 0.020, 0.002, 0.065, 0.060, 0.090, \n",
    "                          0.030, 0.010, 0.015, 0.005, 0.020, 0.002]\n",
    "\n",
    "\n",
    "\n",
    "for char in ciphertext: #lista liter w szyfrogramie\n",
    "    if (char not in unique) and (char.isalpha()):\n",
    "        unique.append(char)\n",
    "        \n",
    "only_alphabets = [char for char in ciphertext if char.isalpha()]  #tylko litery\n",
    "\n",
    "for unique_char in unique: #częstość liter w tekście \n",
    "     frequency.append(ciphertext.count(unique_char) / (float)(len(only_alphabets)))\n",
    "\n",
    "for i in range(0,26): #oblicz dopasowanie\n",
    "    for unique_char in unique:\n",
    "         value = value + frequency[unique.index(unique_char)] * english_frequency_prob[alphabets.index(unique_char) - i]\n",
    "    psi.append(value)  \n",
    "    value = 0.0\n",
    "    \n",
    "sorted_psi = psi[:] # sortuj dopasowanie\n",
    "sorted_psi.sort(reverse=True)\n",
    "\n",
    "decoded_string = \"\"\n",
    "for i in range(0, 26):\n",
    "    key = psi.index(sorted_psi[i])\n",
    "    decoded_string = \"\"\n",
    "    for char in ciphertext:\n",
    "        if (char != ' '):\n",
    "            decoded_string = decoded_string + alphabets[alphabets.index(char) - key]\n",
    "        else:\n",
    "            decoded_string = decoded_string + \" \"\n",
    "            \n",
    "    print(\"Próba klucza: \", key, \" ....\", decoded_string)\n",
    "    \n",
    "    for word in decoded_string.split():\n",
    "        if word not in words.words(): #czy szyfrowanie ma sens\n",
    "            exit = False\n",
    "        else:\n",
    "            exit = True\n",
    "    if exit:\n",
    "        break\n",
    "        \n",
    "print(\"\\n\", \"Decoded string: \", decoded_string)"
   ]
  },
  {
   "cell_type": "markdown",
   "metadata": {
    "id": "i6jlCJ76o3oK"
   },
   "source": [
    "## Podsumowanie \n",
    "Główną słabością szyfrów monoalfabetycznych jest stałość przekształcenia, dzięki czemu możliwe jest łatwe zaobserwowanie regularności.\n",
    "\n",
    "Rozwiązaniem może być zmiana alfabetów w trakcie szyfrowania. Dla uproszczenia wystarczy zmieniać jedynie porządek liter. \n",
    "\n",
    "### Zadanie samodzielne dla studentów\n",
    "1. Napisać program, który zmienia alfabet szyfrowania po każdej literze.\n",
    "_Co będzie potrzebne oprócz tekst jawnego?_\n",
    "2. Dokonaj analizy częstościowej szyfrogramu zaszyfrowanego szyfrem Vigenera\n"
   ]
  },
  {
   "cell_type": "code",
   "execution_count": null,
   "metadata": {
    "colab": {
     "base_uri": "https://localhost:8080/",
     "height": 567
    },
    "executionInfo": {
     "elapsed": 359,
     "status": "ok",
     "timestamp": 1665053198619,
     "user": {
      "displayName": "Łukasz Wala",
      "userId": "08106281641708650168"
     },
     "user_tz": -120
    },
    "id": "Qyac1nCIo3oL",
    "outputId": "f4c98df2-a0f1-4d97-810f-45d9b9b6517e"
   },
   "outputs": [],
   "source": [
    "plaintext = \"TobeornottobethatisthequestionWhethertisNoblerinthemindtosufferTheSlingsandArrowsofoutrageousFortuneOrtotakeArmsagainstaSeaoftroublesAndbyopposingendthem\"\n",
    "key = \"qwerfaszxcvuytrfghjnvbc\"\n",
    "ciphertext = \"\"\n",
    "\n",
    "alphabet = [\n",
    "    'a','b','c','d','e','f','g','h','i','j','k','l','m',\n",
    "    'n','o','p','q','r','s','t','u','v','w','x','y','z'\n",
    "]\n",
    "\n",
    "alphabet_length = len(alphabet)\n",
    "\n",
    "for i, letter in enumerate(plaintext.lower()):\n",
    "  starting_alphbabet_index = alphabet.index(key[i % len(key)])\n",
    "  ciphertext += alphabet[(starting_alphbabet_index + alphabet.index(letter)) % alphabet_length]\n",
    "\n",
    "letter_count = {}\n",
    "\n",
    "for i in ciphertext:\n",
    "  letter_count[i] = letter_count.get(i, 0) + 1\n",
    "\n",
    "letter_frequency = [letter_count.get(i, 0)/len(plaintext) for i in alphabet]\n",
    "\n",
    "labels = np.arange(len(alphabet))\n",
    "plt.figure(figsize=(15,9))\n",
    "plt.bar(labels, letter_frequency, alpha=0.5, edgecolor=\"green\")\n",
    "plt.xlabel('Alfabet')\n",
    "plt.xticks(np.arange(26), alphabet)\n",
    "plt.title(\"Kod Vigenera\");\n",
    "plt.ylabel('Częstość występowania')\n",
    "plt.show()"
   ]
  },
  {
   "cell_type": "markdown",
   "metadata": {
    "id": "Ie7Bo4XOo3oL"
   },
   "source": [
    "### Zastanów się:\n",
    "1. Sprawdź jak wygląda histogram szyfrogrami. \n",
    "2. Zastanów się jakie znaczenia ma długość klucza dla bezpieczeństwa szyfrowania.\n",
    "3. Czy powtarzanie klucza można wykorzystać dla potrzeb kryptoanalizy? \n",
    "4. Jaki klucz gwarantowałby bezpieczeństwo?\n",
    "5. Jaki rozkład częstości symboli szyfrogramu nie ujawni żadnych przydatnych danych kryptoanalitykowi? \n",
    "\n",
    "### Szyfr polialfabetyczny \n",
    "_Szyfr używający wielu alfabetów szyfrowych. W trakcie szyfrowania te same litery w tekście jawnym_\n",
    "\n",
    "### Szyfr doskonały (według Clouda Shannona):\n",
    "1. Jakie warunki musi spełniać szyfr-nie-do-złamania? "
   ]
  },
  {
   "cell_type": "markdown",
   "metadata": {
    "id": "AavK3PC-o3oL"
   },
   "source": [
    "## Zadanie (dodatkowe, na ocenę)\n",
    "1. Napisz notebook jupyter, które implementuje klasyczne szyfry mechaniczne: Enigma, szyfr Playfair, szyfr maszyny Lorenza. W sieci można łatwo znaleźć gotowe kody, wiec przy ocenie zwracam uwagę no dokładne omówienie kodu, przejrzystość, komentarze etc. "
   ]
  }
 ],
 "metadata": {
  "colab": {
   "provenance": []
  },
  "kernelspec": {
   "display_name": "Python 3 (ipykernel)",
   "language": "python",
   "name": "python3"
  },
  "language_info": {
   "codemirror_mode": {
    "name": "ipython",
    "version": 3
   },
   "file_extension": ".py",
   "mimetype": "text/x-python",
   "name": "python",
   "nbconvert_exporter": "python",
   "pygments_lexer": "ipython3",
   "version": "3.10.7"
  }
 },
 "nbformat": 4,
 "nbformat_minor": 1
}
