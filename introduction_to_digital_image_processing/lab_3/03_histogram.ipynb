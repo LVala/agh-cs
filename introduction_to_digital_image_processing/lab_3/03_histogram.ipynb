{
  "cells": [
    {
      "cell_type": "markdown",
      "metadata": {
        "id": "GyJVpdDDcDvQ"
      },
      "source": [
        "# Histogram obrazu. Wyrównywanie histogramu."
      ]
    },
    {
      "cell_type": "markdown",
      "metadata": {
        "collapsed": false,
        "id": "NLeSSymzcDvS"
      },
      "source": [
        "## Cel ćwiczenia\n",
        "\n",
        "- Zapoznanie z pojęciem histogramu obrazu (w odcieniach szarości i kolorze).\n",
        "- Zapoznanie z metodami modyfikacji histogramu (rozciąganie, wyrównywanie, dopasowywanie)."
      ]
    },
    {
      "cell_type": "markdown",
      "metadata": {
        "collapsed": false,
        "id": "-vb7gT4WcDvT"
      },
      "source": [
        "## Histogram\n",
        "\n",
        "- Histogramem obrazu nazywamy wykres słupkowy zdefiniowany następującymi zależnościami:<br>\n",
        "\\begin{equation}\n",
        "h(i) = \\sum_{x=0}^{N-1} \\sum_{y=0}^{M-1} p(i,(x,y))\n",
        "\\end{equation}<br>\n",
        "gdzie:<br>\n",
        "\\begin{equation}\n",
        "p(i) =  \\left\\{\n",
        "  \\begin{array}{l l}\n",
        "    1 & \\quad \\text{gdy} f(x,y) = i\\\\\n",
        "    0 & \\quad \\text{gdy} f(x,y) \\ne i\n",
        "  \\end{array} \\right.\n",
        "\\end{equation}\n",
        "\n",
        "- Inaczej mówiąc, histogram zawiera informacje na temat tego ile pikseli o danym poziomie jasności występuje na obrazie (w przypadku obrazu w odcieniach szarości). Określa się to także rozkładem empirycznym cechy.\n",
        "\n",
        "- Często wykorzystuje się tzw. znormalizowaną postać histogramu  – wszystkie wartości $h(i)$ są dzielone przez liczbę pikseli na obrazie.\n",
        "Otrzymana w ten sposób wielkość to gęstość prawdopodobieństwa wystąpienia na obrazie pikseli o odcieniu $i$.\n",
        "\n",
        "- Histogram można zdefiniować również dla obrazów kolorowych.\n",
        "Otrzymujemy wtedy 3 histogramy – po jednym dla danej składowej: R,G,B (lub HSV, YCbCr, itp.) lub histogram trójwymiarowy.\n",
        "\n",
        "- Histogram jest bardzo użyteczny w przetwarzaniu i analizie obrazów.\n",
        "Wykorzystywany jest przy binaryzacji (szerzej na jednym z kolejnych laboratoriów) oraz do oceny jakości (dynamiki, kontrastu) obrazu.\n",
        "W idealnym przypadku wszystkie poziomy jasności w obrazie powinny być wykorzystane (i to najlepiej w miarę jednolicie)  – obrazowo mówiąc histogram powinien rozciągać się od 0  – 255 (obraz w skali szarości).\n",
        "\n",
        "- W przypadku gdy  wykorzystujemy jedynie fragment dostępnego zakresu (wąski histogram)  lub histogram nie jest jednolity (występują dominujące grupy pikseli) obraz ma dość słaby kontrast.\n",
        "Cechę tę można poprawić stosując tzw. rozciąganie albo wyrównywanie histogramu (ang. *histogram equalization*).</div>"
      ]
    },
    {
      "cell_type": "markdown",
      "metadata": {
        "collapsed": false,
        "id": "lFY1GGOecDvU"
      },
      "source": [
        "## Histogram dla obrazów w odcieniach szarości\n",
        "\n",
        "1. Zaimportuj potrzebne biblioteki: *OpenCV*, *pyplot* z *matplotlib* i *numpy*.\n",
        "        import cv2\n",
        "        from matplotlib import pyplot as plt\n",
        "        import numpy as np\n",
        "2. Wczytaj obrazy *lenaX.bmp* w skali szarości. *X* jest numerem wczytywanego obrazu (1 - 4).\n",
        "        I = cv2.imread('lenaX.bmp', cv2.IMREAD_GRAYSCALE)\n",
        "3. Oblicz histogram wczytanego obrazu wykorzystując funkcję `cv2.calcHist`.\n",
        "    - Pierwszym argumentem jest obraz, dla którego obliczony zostanie histogram.\n",
        "    Należy go przekazać w nawiasie kwadratowym.\n",
        "    - Drugim argumentem jest numer kanału, dla którego ma zostać obliczony histogram.\n",
        "    Również powinien być przekazany w nawiasie kwadratowym.\n",
        "    - Trzeci argument oznacza maskę, czyli obszar, dla którego ma zostać wyznaczony histogram.\n",
        "    Aby obliczyć dla całego obrazu należy przekazać *None*.\n",
        "    - Czwartym argumentem jest rozmiar histogramu (liczba przedziałów).\n",
        "    Argument powinien być w nawiasie kwadratowym. Dla pełnej skali należy przekazać wartość *256*.\n",
        "    - Ostatnim argumentem jest zakres wartości. Dla obrazów typu *uint8* powinien on wynosić *[0, 256]*.\n",
        "    - Funkcja zwraca obliczony histogram.\n",
        "4. Wyświetl wczytane obrazy i ich histogramy w jednym oknie. Użyj `plt.subplot()` w celu stworzenia siatki wykresów.\n",
        "        figLena, axsLena = plt.subplots(2, 4)\n",
        "Rozmiar utworzonego okna można zmienić wykorzystując instrukcję (uwaga w calach -  1 cal to 2.54cm):\n",
        "        figLena.set_size_inches(20, 10)\n",
        "Przykładowe wyświetlenie obrazu:\n",
        "        axsLena[0, 0].imshow(I1, 'gray', vmin=0, vmax=256)\n",
        "        axsLena[0, 0].axis('off')\n",
        "Przykładowe wyświetlenie histogramu:\n",
        "        axsLena[1, 0].plot(H1)\n",
        "        axsLena[1, 0].grid()\n",
        "5. Przeanalizuj (dokładnie) związek histogramu z jasnością i ostrością obrazu (tu rozumianą jako subiektywne odczucie)."
      ]
    },
    {
      "cell_type": "code",
      "execution_count": null,
      "metadata": {
        "id": "KweWeS_UcDvV"
      },
      "outputs": [],
      "source": [
        "import cv2\n",
        "import os\n",
        "import requests\n",
        "from matplotlib import pyplot as plt\n",
        "import numpy as np\n",
        "\n",
        "url = 'https://raw.githubusercontent.com/vision-agh/poc_sw/master/03_Histogram/'\n",
        "\n",
        "fileName = 'lena1.bmp'\n",
        "if not os.path.exists(fileName) :\n",
        "    r = requests.get(url + fileName, allow_redirects=True)\n",
        "    open(fileName, 'wb').write(r.content)\n",
        "\n",
        "fileName = 'lena2.bmp'\n",
        "if not os.path.exists(fileName) :\n",
        "    r = requests.get(url + fileName, allow_redirects=True)\n",
        "    open(fileName, 'wb').write(r.content)\n",
        "\n",
        "fileName = 'lena3.bmp'\n",
        "if not os.path.exists(fileName) :\n",
        "    r = requests.get(url + fileName, allow_redirects=True)\n",
        "    open(fileName, 'wb').write(r.content)\n",
        "\n",
        "fileName = 'lena4.bmp'\n",
        "if not os.path.exists(fileName) :\n",
        "    r = requests.get(url + fileName, allow_redirects=True)\n",
        "    open(fileName, 'wb').write(r.content)"
      ]
    },
    {
      "cell_type": "markdown",
      "metadata": {
        "collapsed": false,
        "id": "yvrZfMJZcDvV"
      },
      "source": [
        "## Rozciąganie histogramu\n",
        "\n",
        "Najprostszą metodą poprawienia jakości obrazu jest tzw. rozciągnięcie histogramu.\n",
        "Polega na przeskalowaniu wartości pikseli w obrazie tak, aby wykorzystać cały dostępny zakres [0-255] (oczywiście w przypadku obrazów w odcieniach szarości w reprezentacji 8-bitowej).\n",
        "\n",
        "1. Wczytaj obraz *hist1.bmp* w skali szarości.\n",
        "Oblicz i wyświetl histogram rozpatrywanego obrazu (na wspólnym rysunku z obrazem).\n",
        "Zwróć uwagę na ilość widocznych szczegółów.\n",
        "2. Rozciągnij histogram obrazu. W tym celu można wykorzystać funkcję `cv2.normalize`.\n",
        "    - Pierwszym argumentem funkcji jest obraz poddawany operacji.\n",
        "    - Drugim argumentem jest tablica do której zostanie wpisany wynik.\n",
        "    Należy ją najpierw zainicjalizować.\n",
        "    Najlepiej zrobić to funkcją `np.zeros`, której pierwszym argumentem jest rozmiar obrazu (`I.shape`), a drugim typ danych (`uint8`).\n",
        "    Można również przekazać `None`, a wynik przypisać do nowej zmiennej.\n",
        "    - Trzecim argumentem jest minimalna wartość po normalizacji.\n",
        "    - Czwartym argumentem jest wartość maksymalna po normalizacji.\n",
        "    - Ostatnim argumentem jest typ wykorzystanej normy (uogólnienie pojęcia długości wektora).\n",
        "    Należy wykorzystać normę `cv2.NORM_MINMAX`.\n",
        "3. Wyświetl obraz oryginalny, po wykonanej operacji oraz ich histogramy.\n",
        "4. Czy ilość \"widocznych\" szczegółów uległa zmianie?"
      ]
    },
    {
      "cell_type": "code",
      "execution_count": null,
      "metadata": {
        "id": "9dmix38-cDvW"
      },
      "outputs": [],
      "source": [
        "fileName = 'hist1.bmp'\n",
        "if not os.path.exists(fileName) :\n",
        "    r = requests.get(url + fileName, allow_redirects=True)\n",
        "    open(fileName, 'wb').write(r.content)\n",
        "\n",
        "fileName = 'hist2.bmp'\n",
        "if not os.path.exists(fileName) :\n",
        "    r = requests.get(url + fileName, allow_redirects=True)\n",
        "    open(fileName, 'wb').write(r.content)\n",
        "\n",
        "fileName = 'hist3.bmp'\n",
        "if not os.path.exists(fileName) :\n",
        "    r = requests.get(url + fileName, allow_redirects=True)\n",
        "    open(fileName, 'wb').write(r.content)\n",
        "\n",
        "fileName = 'hist4.bmp'\n",
        "if not os.path.exists(fileName) :\n",
        "    r = requests.get(url + fileName, allow_redirects=True)\n",
        "    open(fileName, 'wb').write(r.content)"
      ]
    },
    {
      "cell_type": "code",
      "execution_count": null,
      "metadata": {
        "id": "BPEOJkdAn3g3"
      },
      "outputs": [],
      "source": [
        "I = cv2.imread('hist1.bmp', cv2.IMREAD_GRAYSCALE)\n",
        "H = cv2.calcHist([I], [0], None,[256],[0,256])\n",
        "\n",
        "fig1, axs1 = plt.subplots(1, 2)\n",
        "fig1.set_size_inches(20, 10)\n",
        "\n",
        "axs1[0].imshow(I, 'gray', vmin=0, vmax=256)\n",
        "axs1[0].axis('off')\n",
        "axs1[1].plot(H)\n",
        "axs1[1].grid()\n",
        "\n",
        "normalized_I1 = cv2.normalize(I, None, 0, 255, cv2.NORM_MINMAX)\n",
        "\n",
        "normalized_H1 = cv2.calcHist([normalized_I1], [0], None, [256], [0,256])\n",
        "\n",
        "fig2, axs2 = plt.subplots(1, 2)\n",
        "fig2.set_size_inches(20, 10)\n",
        "\n",
        "axs2[0].imshow(normalized_I1, 'gray', vmin=0, vmax=256)\n",
        "axs2[0].axis('off')\n",
        "axs2[1].plot(normalized_H1)\n",
        "axs2[1].grid()"
      ]
    },
    {
      "cell_type": "markdown",
      "metadata": {
        "collapsed": false,
        "id": "qQYQVoOEcDvW"
      },
      "source": [
        "## Wyrównywanie histogramu\n",
        "\n",
        "<div style=\"text-align: justify\">\n",
        "Bardziej zaawansowaną metodą jest tzw. wyrównywanie histogramu (ang. *histogram equalization – HE*).\n",
        "Idea jest następująca: z punktu widzenia lepszego wykorzystania dostępnych poziomów jasności pożądane jest rozciągnięcie \"szczytów\" histogramu, a~skompresowanie \"dolin\" tak, aby taka sama liczba pikseli reprezentowana była przez każdy z dostępnych poziomów jasności (a przynjamniej przybliżona).\n",
        "Warto zwrócić uwagę, że takie przekształcenie powoduje częściową utratę informacji o szczegółach w obszarach \"dolin\".\n",
        "Inaczej mówiąc, dążymy do sytuacji, aby histogram był względnie jednostajny.\n",
        "Operacją, która pozwala wykonać wyrównywanie histogramu, jest przekształcenie LUT z funkcją przejścia w postaci histogramu skumulowanego danego obrazu.</div><br>\n",
        "\n",
        "<div style=\"text-align: justify\">\n",
        "Histogram skumulowany to funkcja obliczona na podstawie histogramu.\n",
        "Jej pierwszy element to liczba pikseli o odcieniu $0$.\n",
        "Kolejne wartości to liczba pikseli o odcieniach od $0$ do $n$.</div>\n",
        "\n",
        "\\begin{equation}\n",
        "C(n) = \\sum_{i=0}^{n} h(i)\n",
        "\\end{equation}\n",
        "\n",
        "<div style=\"text-align: justify\">\n",
        "Jeżeli histogram jest w postaci znormalizowanej (gęstość rozkładu prawdopodobieństwa) to histogram skumulowany stanowi dystrybuantę rozkładu prawdopodobieństwa.</div><br>\n",
        "\n",
        "1. Wyznacz histogram skumulowany dla obrazu *hist1.bmp*.\n",
        "W tym celu wykorzystaj metodę `cumsum` dla histogramu wczytanego obrazu.\n",
        "Nie przyjmuje ona żadnych argumentów, a zwraca skumulowane wartości tablicy, dla której została użyta.\n",
        "Histogram należy wyliczyć dla **obrazka wejściowego**, a nie dla wyniku rozciągania.\n",
        "2. Histogram skumulowany wyświetl razem z histogramem zwykłym na jednym wykresie (nie obok siebie).\n",
        "Na potrzeby wyświetlenia przeskaluj histogram skumulowany tak, by miał taką samą wartość maksymalną jak zwykły histogram.\n",
        "W tym celu wykorzystaj metodę `max`.\n",
        "3. Wyświetlenie kilku linii na jednym wykresie może być zrealizowane w następujący sposób:\n",
        "        figHistCum, axsHistCum = plt.subplots()\n",
        "\n",
        "        axsHistCum.plot(HHist)\n",
        "        axsHistCum.plot(CHistNorm)\n",
        "        axsHistCum.grid()\n",
        "4. Teraz zaimplementuj klasyczny algorytm wyrównywania histogramu.\n",
        "Wykorzystać należy obliczony histogram skumulowany.\n",
        "Należy go przeskalować w taki sposób aby na jego podstawie zrealizować przekształcenie LUT, czyli do zakresu 0 - 255.\n",
        "\n",
        ">Uwaga. Opisany algorytm wyrównywania histogramu jest wersją uproszczoną.\n",
        ">W wersji pełnej należy podczas skalowania tablicy przekodowań LUT pominąć elementy równe *0*.\n",
        ">\n",
        ">W tym celu należy wykorzystać funkcje `np.ma.masked_equal` i `np.ma.filled`.\n",
        ">Pierwsza służy do ukrywania elementów tablicy, natomiast druga zamienia ukryte elementy na podaną wartość.\n",
        ">W tym przypadku elementem ukrywanym i wpisywaną wartością byłoby *0*.\n",
        "\n",
        "5. Na kolejnym rysunku wyświetl obrazek po przekształceniu, jego histogram oraz histogram skumulowany.\n",
        "Co szczególnego można powiedzieć o jego histogramie i histogramie skumulowanym?\n",
        "6. W bibliotece *OpenCV* dostępna jest funkcja wykonująca wyrównywanie histogramu `cv2.equalizeHist`.\n",
        "Jej argumentem jest obraz, którego histogram zostanie wyrównany. Zwraca natomiast obraz wynikowy.\n",
        "Na kolejnym rysunku wyświetl wynik funkcji, jego histogram oraz histogram skumulowany.\n",
        "7. W wykorzystywanej bibliotece zaimplementowana jest również metoda adaptacyjnego wyrównywania histogramu algorytmem CLAHE (ang. *Contrast Limited Adaptive Histogram Equalization*}.\n",
        "   Kilka słów wyjaśnienia.\n",
        "   Wadą poznanej metody HE jest jej \"globalność\" rozumiana jako nieuwzględnianie lokalnych właściwości obrazu.\n",
        "   Dlatego też powstała metoda adaptacyjnego wyrównywania histogramu (AHE).\n",
        "   Jest ona spotykana w dwóch wariantach:\n",
        "   - dla każdego piksela niezależnie, w pewnym jego otoczeniu, wyznaczany jest histogram i przeprowadzane wyrównywanie.\n",
        "     Jak nietrudno się domyślić rozwiązanie jest dość kosztowne obliczeniowo.\n",
        "   - obraz wejściowy dzielony jest na nienachodzące na siebie prostokątne okna.\n",
        "     W każdym z okien obliczany jest histogram i przeprowadzane jest wyrównywanie.\n",
        "     W celu eliminacji błędów na granicy okien, stosuje się interpolację.\n",
        "\n",
        "   Metoda AHE ma jednak tą wadę, że w obszarach jednorodnych wzmacnia szum.\n",
        "   Dlatego też zaproponowano rozwiązanie CLAHE, które zakłada ograniczenie kontrastu (CL).\n",
        "   W metodzie definiuje się maksymalną wartość danego przedziału histogramu (próg ograniczenia kontrastu).\n",
        "   Piksele, które przekraczają próg są następnie równomiernie rozdzielane pomiędzy poszczególne przedziały.\n",
        "   Bardziej szczegółowy opis obu metod dostępny jest na [Wikipedii](https://en.wikipedia.org/wiki/Adaptive_histogram_equalization).\n",
        "\n",
        "8.W celu użycia algorytmu należy wywołać funkcję `cv2.createCLAHE`.\n",
        "    - Pierwszym parametrem jest próg ograniczenia kontrastu.\n",
        "    - Drugi parametr definiuje na ile prostokątów zostanie podzielony obraz w rzęch i kolumnach.\n",
        "    - Zwracany jest zainicjalizowany *smart pointer* do klasy `cv::CLAHE`.\n",
        "9. Aby wykonać wyrównywanie należy użyć metody `apply`.\n",
        "Jej argumentem jest obraz wejściowy. Zwracany jest obraz o zmodyfikowanym histogramie.\n",
        "10. Przetestuj różne parametry algorytmu CLAHE.\n",
        "11. W kolejnym etapie należy przetestować operacje (rozciąganie, wyrównywanie (HE) i adaptacyjne wyrównywanie CLAHE)  na histogramie dla obrazów rzeczywistych. *hist2.bmp*, *hist3.bmp*, *hist4.jpg*.\n",
        "W jednym oknie wyświetl: obraz oryginalny, rozciąganie, wyrównywanie HE oraz wyrównywanie CLAHE."
      ]
    },
    {
      "cell_type": "code",
      "execution_count": null,
      "metadata": {
        "id": "Hthp3Q0WcDvX"
      },
      "outputs": [],
      "source": [
        "I = cv2.imread('hist1.bmp', cv2.IMREAD_GRAYSCALE)\n",
        "H = cv2.calcHist([I], [0], None,[256],[0,256])\n",
        "cumsum_H = H.cumsum()\n",
        "\n",
        "fig, ax = plt.subplots()\n",
        "fig.set_size_inches(20, 10)\n",
        "\n",
        "ax.plot(H)\n",
        "ax.plot(cumsum_H/cumsum_H.max()*H.max())\n",
        "ax.grid()"
      ]
    },
    {
      "cell_type": "code",
      "execution_count": null,
      "metadata": {
        "id": "xxEuLreccDvY"
      },
      "outputs": [],
      "source": [
        "equalized_I = cv2.LUT(I, cumsum_H/cumsum_H.max()*256)\n",
        "\n",
        "equalized_H = cv2.calcHist([equalized_I], [0], None,[256],[0,256])\n",
        "equalized_cumsum_H = equalized_H.cumsum()\n",
        "\n",
        "fig, axs = plt.subplots(1, 2)\n",
        "fig.set_size_inches(20, 10)\n",
        "\n",
        "axs[0].imshow(equalized_I, 'gray', vmin=0, vmax=256)\n",
        "axs[0].axis('off')\n",
        "axs[1].plot(equalized_H)\n",
        "axs[1].plot(equalized_cumsum_H/equalized_cumsum_H.max()*equalized_H.max())\n",
        "axs[1].grid()"
      ]
    },
    {
      "cell_type": "code",
      "execution_count": null,
      "metadata": {
        "colab": {
          "background_save": true
        },
        "id": "EajsxfqncDvY"
      },
      "outputs": [],
      "source": [
        "equalized_I = cv2.equalizeHist(I)\n",
        "equalized_H = cv2.calcHist([equalized_I], [0], None,[256],[0,256])\n",
        "equalized_cumsum_H = equalized_H.cumsum()\n",
        "\n",
        "fig, axs = plt.subplots(1, 2)\n",
        "fig.set_size_inches(20, 10)\n",
        "\n",
        "axs[0].imshow(equalized_I, 'gray', vmin=0, vmax=256)\n",
        "axs[0].axis('off')\n",
        "axs[1].plot(equalized_H)\n",
        "axs[1].plot(equalized_cumsum_H/equalized_H.max())\n",
        "axs[1].grid()"
      ]
    },
    {
      "cell_type": "code",
      "execution_count": null,
      "metadata": {
        "id": "xOEFxbVrcDvY"
      },
      "outputs": [],
      "source": [
        "clahe = cv2.createCLAHE(10.0, (10,10))\n",
        "clahe_I = clahe.apply(I)\n",
        "\n",
        "clahe_H = cv2.calcHist([clahe_I], [0], None,[256],[0,256])\n",
        "\n",
        "clahe_cumsum_H = clahe_H.cumsum()\n",
        "\n",
        "fig, axs = plt.subplots(1, 2)\n",
        "fig.set_size_inches(20, 10)\n",
        "\n",
        "axs[0].imshow(clahe_I, 'gray', vmin=0, vmax=256)\n",
        "axs[0].axis('off')\n",
        "axs[1].plot(clahe_H)\n",
        "axs[1].plot(clahe_cumsum_H/clahe_cumsum_H.max()*clahe_H.max())\n",
        "axs[1].grid()"
      ]
    },
    {
      "cell_type": "code",
      "execution_count": null,
      "metadata": {
        "id": "2DpK0RZi3GzN"
      },
      "outputs": [],
      "source": [
        "files = ['hist2.bmp', 'hist2.bmp', 'hist3.bmp']\n",
        "\n",
        "for file in files:\n",
        "  image = cv2.imread(file, cv2.IMREAD_GRAYSCALE)\n",
        "\n",
        "  normalized_image = cv2.normalize(image, None, 0, 255, cv2.NORM_MINMAX)\n",
        "\n",
        "  equalized_image = cv2.equalizeHist(image)\n",
        "  \n",
        "  clahe = cv2.createCLAHE(15.0, (10,10))\n",
        "  clahe_image = clahe.apply(image)\n",
        "\n",
        "  fig, axs = plt.subplots(1, 4)\n",
        "  fig.set_size_inches(20, 10)\n",
        "\n",
        "  for i in axs: i.axis('off')\n",
        "\n",
        "  axs[0].imshow(image, 'gray', vmin=0, vmax=256)\n",
        "  axs[1].imshow(normalized_image, 'gray', vmin=0, vmax=256)\n",
        "  axs[2].imshow(equalized_image, 'gray', vmin=0, vmax=256)\n",
        "  axs[3].imshow(clahe_image, 'gray', vmin=0, vmax=256)"
      ]
    },
    {
      "cell_type": "markdown",
      "metadata": {
        "collapsed": false,
        "id": "C9WYAOJTcDvZ"
      },
      "source": [
        "## Histogram dla obrazów kolorowych i jego wyrównywanie\n",
        "\n",
        "1. Wczytaj obraz *lenaRGB.bmp*.\n",
        "2. Wykonaj konwersję przestrzeni barw z BGR do RGB.\n",
        "3. Wyświetl wczytany obraz oraz histogram dla każdej składowej przestrzeni barw.\n",
        "W tym celu można użyć drugiego argumentu wykorzystywanej funkcji (numer kanału).\n",
        "4. Wykonaj wyrównywanie dla każdej składowej obrazu. Połącz otrzymane składowe w nowy obraz i wyświetl go.\n",
        "Jaka jest zasadnicza wada takiego podejścia?\n",
        "5. Przekształć obraz wejściowy do przestrzeni HSV (flaga `cv2.COLOR_BGR2HSV`).\n",
        "Wyświetl histogramy poszczególnych składowych.\n",
        "Manipulacji dokonujemy na składowej odpowiadającej za jasność, czyli V.\n",
        "Wykonaj wyrównywanie histogramu dla tej składowej.\n",
        "Dokonaj podmiany składowej V i wyświetl rezultat operacji.\n",
        "Uprzednio przeprowadź konwersję HSV->RGB (flaga `cv2.COLOR_HSV2RGB`).\n",
        "6. Wykonaj te same operacje dla obrazu *jezioro.jpg*."
      ]
    },
    {
      "cell_type": "code",
      "execution_count": null,
      "metadata": {
        "id": "y5T31GV3cDvZ"
      },
      "outputs": [],
      "source": [
        "fileName = 'lenaRGB.bmp'\n",
        "if not os.path.exists(fileName) :\n",
        "    r = requests.get(url + fileName, allow_redirects=True)\n",
        "    open(fileName, 'wb').write(r.content)\n",
        "\n",
        "fileName = 'jezioro.jpg'\n",
        "if not os.path.exists(fileName) :\n",
        "    r = requests.get(url + fileName, allow_redirects=True)\n",
        "    open(fileName, 'wb').write(r.content)"
      ]
    },
    {
      "cell_type": "code",
      "execution_count": null,
      "metadata": {
        "id": "vzj4kEtOcDva"
      },
      "outputs": [],
      "source": [
        "image_bgr = cv2.imread('lenaRGB.bmp')\n",
        "image = cv2.cvtColor(image_bgr, cv2.COLOR_BGR2RGB)\n",
        "\n",
        "hist_0 = cv2.calcHist([image], [0], None, [256], [0,256])\n",
        "hist_1 = cv2.calcHist([image], [1], None, [256], [0,256])\n",
        "hist_2 = cv2.calcHist([image], [2], None, [256], [0,256])\n",
        "\n",
        "fig, axs = plt.subplots(2, 2)\n",
        "fig.set_size_inches(20, 10)\n",
        "\n",
        "axs[0][0].imshow(image)\n",
        "axs[0][0].axis('off')\n",
        "axs[0][1].plot(hist_0)\n",
        "axs[1][0].plot(hist_1)\n",
        "axs[1][1].plot(hist_2)"
      ]
    },
    {
      "cell_type": "code",
      "execution_count": null,
      "metadata": {
        "id": "bFjuq6rKnpc_"
      },
      "outputs": [],
      "source": [
        "image[:, :, 0] = cv2.equalizeHist(image[:, :, 0])\n",
        "image[:, :, 1] = cv2.equalizeHist(image[:, :, 1])\n",
        "image[:, :, 2] = cv2.equalizeHist(image[:, :, 2])\n",
        "\n",
        "fig, ax = plt.subplots()\n",
        "ax.imshow(image)\n",
        "ax.axis('off')"
      ]
    },
    {
      "cell_type": "code",
      "execution_count": null,
      "metadata": {
        "id": "sExCMbOYcDva"
      },
      "outputs": [],
      "source": [
        "image_hsv = cv2.cvtColor(image_bgr, cv2.COLOR_BGR2HSV)\n",
        "\n",
        "hist_hsv_0 = cv2.calcHist([image_hsv], [0], None, [256], [0,256])\n",
        "hist_hsv_1 = cv2.calcHist([image_hsv], [1], None, [256], [0,256])\n",
        "hist_hsv_2 = cv2.calcHist([image_hsv], [2], None, [256], [0,256])\n",
        "\n",
        "fig, axs = plt.subplots(1, 3)\n",
        "fig.set_size_inches(20, 10)\n",
        "\n",
        "axs[0].plot(hist_hsv_0)\n",
        "axs[1].plot(hist_hsv_1)\n",
        "axs[2].plot(hist_hsv_2)"
      ]
    },
    {
      "cell_type": "code",
      "execution_count": null,
      "metadata": {
        "id": "AGV4sG7TcDvb"
      },
      "outputs": [],
      "source": [
        "image_hsv[:, :, 2] = cv2.equalizeHist(image_hsv[:, :, 2])\n",
        "\n",
        "image_hsv = cv2.cvtColor(image_hsv, cv2.COLOR_HSV2RGB)\n",
        "fig, ax = plt.subplots()\n",
        "ax.imshow(image_hsv)\n",
        "ax.axis('off')"
      ]
    },
    {
      "cell_type": "code",
      "execution_count": null,
      "metadata": {
        "id": "AeR1rrua0dtz"
      },
      "outputs": [],
      "source": [
        "image_bgr = cv2.imread('jezioro.jpg')\n",
        "image = cv2.cvtColor(image_bgr, cv2.COLOR_BGR2RGB)\n",
        "\n",
        "hist_0 = cv2.calcHist([image], [0], None, [256], [0,256])\n",
        "hist_1 = cv2.calcHist([image], [1], None, [256], [0,256])\n",
        "hist_2 = cv2.calcHist([image], [2], None, [256], [0,256])\n",
        "\n",
        "fig, axs = plt.subplots(2, 2)\n",
        "fig.set_size_inches(20, 10)\n",
        "\n",
        "axs[0][0].imshow(image)\n",
        "axs[0][0].axis('off')\n",
        "axs[0][1].plot(hist_0)\n",
        "axs[1][0].plot(hist_1)\n",
        "axs[1][1].plot(hist_2)"
      ]
    },
    {
      "cell_type": "code",
      "execution_count": null,
      "metadata": {
        "id": "65YTPLNT0kFx"
      },
      "outputs": [],
      "source": [
        "image[:, :, 0] = cv2.equalizeHist(image[:, :, 0])\n",
        "image[:, :, 1] = cv2.equalizeHist(image[:, :, 1])\n",
        "image[:, :, 2] = cv2.equalizeHist(image[:, :, 2])\n",
        "\n",
        "fig, ax = plt.subplots()\n",
        "ax.imshow(image)\n",
        "ax.axis('off')"
      ]
    },
    {
      "cell_type": "code",
      "execution_count": null,
      "metadata": {
        "id": "ClNSWCTV0s_P"
      },
      "outputs": [],
      "source": [
        "image_hsv = cv2.cvtColor(image_bgr, cv2.COLOR_BGR2HSV)\n",
        "\n",
        "hist_hsv_0 = cv2.calcHist([image_hsv], [0], None, [256], [0,256])\n",
        "hist_hsv_1 = cv2.calcHist([image_hsv], [1], None, [256], [0,256])\n",
        "hist_hsv_2 = cv2.calcHist([image_hsv], [2], None, [256], [0,256])\n",
        "\n",
        "fig, axs = plt.subplots(1, 3)\n",
        "fig.set_size_inches(20, 10)\n",
        "\n",
        "axs[0].plot(hist_hsv_0)\n",
        "axs[1].plot(hist_hsv_1)\n",
        "axs[2].plot(hist_hsv_2)"
      ]
    },
    {
      "cell_type": "code",
      "execution_count": null,
      "metadata": {
        "id": "5oMaVjH80wae"
      },
      "outputs": [],
      "source": [
        "image_hsv[:, :, 2] = cv2.equalizeHist(image_hsv[:, :, 2])\n",
        "\n",
        "image_hsv = cv2.cvtColor(image_hsv, cv2.COLOR_HSV2RGB)\n",
        "fig, ax = plt.subplots()\n",
        "ax.imshow(image_hsv)\n",
        "ax.axis('off')"
      ]
    }
  ],
  "metadata": {
    "colab": {
      "provenance": []
    },
    "kernelspec": {
      "display_name": "Python 3",
      "language": "python",
      "name": "python3"
    },
    "language_info": {
      "codemirror_mode": {
        "name": "ipython",
        "version": 3
      },
      "file_extension": ".py",
      "mimetype": "text/x-python",
      "name": "python",
      "nbconvert_exporter": "python",
      "pygments_lexer": "ipython3",
      "version": "3.8.3"
    }
  },
  "nbformat": 4,
  "nbformat_minor": 0
}