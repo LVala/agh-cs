{
  "cells": [
    {
      "cell_type": "markdown",
      "metadata": {
        "pycharm": {
          "name": "#%% md\n"
        },
        "id": "SF56QXdpr0cm"
      },
      "source": [
        "# Rozdzielczość obrazu. Interpolacja.\n",
        "\n",
        "## Cel zajęć:\n",
        "\n",
        "* zapoznanie z pojęciem rozdzielczości przestrzennej (rozmiaru obrazu),\n",
        "* metody interpolacji najbliższego sąsiada oraz dwuliniowa,\n",
        "* zapoznanie z pojęciem rozdzielczości dpi (ang. dots per inch),\n",
        "* zapoznanie z pojęciem rozdzielczości  poziomów jasności (dla obrazów w skali szarości),\n",
        "* zadanie domowe: interpolacja dwusześcienna.\n",
        "\n",
        "## Rodzielczość przestrzenna\n",
        "\n",
        "Dyskretna reprezentacja obrazu to zwykle macierz dwu (N x M - obraz w skali szarości) lub trójwymiarowa (N x M x 3 - obraz kolorowy).\n",
        "Przez rozdzielczość przestrzenną rozumie się liczbę pikseli z których składa się obraz.\n",
        "Przykładowo rozdzielczość VGA to  640 x 480, FullHD to 1920 x 1080, a UltraHD (4K) to 3840 x 2160.\n",
        "Rozdzielczość obrazu można modyfikować (zwiększać/zmniejszać), co nazywa się skalowaniem obrazu.\n",
        "Warto wiedzieć, że zwiększenie rozdzielczości obrazu nie zwiększa ilości informacji, a jedynie liczbę pikseli (w sensie \"lepiej nie będzie\").\n",
        "Ponadto skalowanie zawsze wprowadza pewne zniekształcenia, nawet przy zmniejszaniu rozmiaru.\n",
        "\n",
        "W ramach niniejszego ćwiczenia zapoznamy się z metodami interpolacji, które są podstawą takich operacji jak: przybliżanie (zoom), zmiana rozdzielczości, rotacja obrazu, czy też korekcje geometryczne.\n",
        "Jako przykład posłuży nam zmiana rozdzielczości, czyli inaczej mówiąc przepróbkowanie obrazu.\n",
        "Dla przypomnienia - interpolacja to wykorzystanie znanych danych (wartości dla tzw. punktów węzłowych) do określania wartości w nieznanych lokalizacjach.\n",
        "\n",
        "Zacznijmy od prostego przykładu.\n",
        "Mamy obraz o rozdzielczości 500 x 500 pikseli, a chcemy go powiększyć do 750 x 750 pikseli -- tj. o współczynnik 1,5.\n",
        "Wyobraźmy sobie zatem, że dysponujemy siatką 750 x 750 o takim samym \"rozmiarze\" pojedynczego piksela jak obraz oryginalny.\n",
        "Następnie siatkę tą ,,ścieśniamy'', tak aby miała rozmiar 500 x 500.\n",
        "W rezultacie otrzymana siatka będzie miała mniejszy rozmiar pojedynczego piksela niż obraz oryginalny.\n",
        "Schematycznie przedstawiono to na poniższym rysunku.\n",
        "\n",
        "![Ilustracja interpolacji](https://raw.githubusercontent.com/vision-agh/poc_sw/master/05_Resolution/img/interEx57.png)\n",
        "\n",
        "\n",
        "Pokazuje on przykład interpolacji: a) obraz 5x5, b) oraz 7x7, c) obraz 7x7 zmiejszony do 5x5.\n",
        "\n",
        "\n",
        "Chcemy teraz poszczególnym elementom nowej siatki przyporządkować piksele z obrazu wejściowego.\n",
        "Jedną z możliwości jest poszukanie \"najbliższego\" piksela w oryginalnym obrazie i wzięcie jego wartości.\n",
        "Przykład takiego postępowania zaprezentowano na  poniższym rysunku.\n",
        "\n",
        "![Ilustracja najbliższego sąsiada](https://raw.githubusercontent.com/vision-agh/poc_sw/master/05_Resolution/img/inteNNEx.png)\n",
        "\n",
        "Kilka słów wyjasnienia.\n",
        "Kolorem ciemnoszarym oznaczono siatkę 5x5, a czarnym 7x7 (już po przeskalowaniu).\n",
        "Nasze zadanie sprowadza się do znalezienia dla każdej kropki czarnej (umowny środek piksela), najbliżej leżącej kropki szarej - oznaczono to dla pierwszych trzech wierzszy obrazu liniami.\n",
        "\n",
        "Po zrealizowaniu powyższego kroku dla całego obrazu wykonujemy \"rozciągniecie\" do rozdzielczości 750 x 750.\n",
        "W ten sposób uzyskujemy finalny efekt zmiany rozdzielczości.\n",
        "\n",
        "## Interpolacja metodą najbliższego sąsiada\n",
        "\n",
        "Takie postępowanie określa się mianem **interpolacji metodą najbliższego sąsiada** (ang. *nearest neighbour interpolation*).\n",
        "W ramach pierwszego etapu ćwiczenia zaimplementujemy to podejście.\n",
        "\n",
        "1. Ładujemy potrzebne biblioteki, pobieramy obrazy z repozytorium, wczytujemy jeden z obrazów testowych (*parrot.bmp*) i wyświetlamy go:"
      ]
    },
    {
      "cell_type": "code",
      "execution_count": null,
      "metadata": {
        "jupyter": {
          "outputs_hidden": false
        },
        "pycharm": {
          "name": "#%%\n"
        },
        "id": "JsQECJRzr0cr"
      },
      "outputs": [],
      "source": [
        "import cv2\n",
        "import os\n",
        "import requests\n",
        "from matplotlib import pyplot as plt\n",
        "import numpy as np\n",
        "\n",
        "url = 'https://raw.githubusercontent.com/vision-agh/poc_sw/master/05_Resolution/'\n",
        "\n",
        "fileNames = [\"parrot.bmp\", \"clock.bmp\", \"chessboard.bmp\", \"lena.bmp\", \"firetruck.jpg\"]\n",
        "for fileName in fileNames:\n",
        "  if not os.path.exists(fileName):\n",
        "      r = requests.get(url + fileName, allow_redirects=True)\n",
        "      open(fileName, 'wb').write(r.content)\n",
        "\n",
        "\n",
        "I = cv2.imread('parrot.bmp')           # Read image\n",
        "I = cv2.cvtColor(I, cv2.COLOR_BGR2GRAY) # Convert to RGB\n",
        "\n",
        "# Display\n",
        "plt.figure(figsize=(I.shape[0]/100,I.shape[1]/100), dpi=200)\n",
        "plt.imshow(I, cmap =\"gray\")\n",
        "plt.xticks([]), plt.yticks([])  # Hides the graph ticks and x / y axis\n",
        "plt.show()"
      ]
    },
    {
      "cell_type": "markdown",
      "metadata": {
        "pycharm": {
          "name": "#%% md\n"
        },
        "id": "AFRX0ECur0cu"
      },
      "source": [
        "2. Definiujemy funkcję do interpolacji metodą najbliższego sąsiada.\n",
        "\n",
        "Jako argumenty wejściowe powinna ona przyjąć obraz oraz współczynniki skalowania w pionie i poziomie.\n",
        "Wyjściem powinien być natomiast obraz w nowej rozdzielczości.\n",
        "Wewnątrz należy:\n",
        "\n",
        "* odczytać wymiary obrazka wejściowego,\n",
        "* wyliczyć wymiary obrazka wyjściowego (tj. wymnożyć wymiary wejściowe przez skalę i zaokrąglić do liczb całkowitych),\n",
        "* utworzyć nowy obraz o ww. rozmiarze,\n",
        "* w pętli po nowym obrazie, dla każdego piksela, wykorzystując współczynniki skalowania, odnaleźć najbliższego sąsiada.\n",
        "\n",
        "\n"
      ]
    },
    {
      "cell_type": "code",
      "execution_count": null,
      "metadata": {
        "jupyter": {
          "outputs_hidden": false
        },
        "pycharm": {
          "name": "#%%\n"
        },
        "id": "QBuA_ZPmr0cv"
      },
      "outputs": [],
      "source": [
        "math_round = lambda x: int(x + 0.5)\n",
        "\n",
        "def nearest_neigh(image, k, m):\n",
        "  old_y, old_x = image.shape\n",
        "  new_y, new_x = math_round(old_y * m), math_round(old_x * k)\n",
        "  new_image = np.zeros((new_y, new_x))\n",
        "\n",
        "  for j in range(new_y):\n",
        "    for i in range(new_x):\n",
        "      new_image[j, i] = image[min(math_round(j/m), old_y-1), min(math_round(i/k), old_x-1)]\n",
        "\n",
        "  plt.figure()\n",
        "  plt.imshow(new_image, cmap =\"gray\")\n",
        "  plt.xticks([]), plt.yticks([])\n",
        "  plt.show()"
      ]
    },
    {
      "cell_type": "markdown",
      "metadata": {
        "id": "HK493NAur0cx"
      },
      "source": [
        "3. Testujemy stworzoną funkcję:\n",
        "    * dla skali 1.5, 1.5 i obrazka *parrot*,\n",
        "    * dla 2.5, 2.5 - tu może okazać się, że do kodu trzeba dopisać zabezpieczenie przed wyjściem poza zakres,\n",
        "    * dla niejednakowych skal np. 1.5 i 2.5,\n",
        "    * dla skal mniejszych od 1,\n",
        "    * dla niesymetrycznego obrazka *clock*,\n",
        "    * dla obrazka z szachownicą *chessboard*.\n",
        "\n",
        "Uwaga: proszę dla powyższych przypadków przygotować osobne sekcje kodu - tak, aby wyświetlały się wszystkie rozważane przypadki.\n",
        "\n",
        "Wykonana metoda jest bardzo prosta i szybka, ale wprowadza pewne niepożądane artefakty, w szczególnie źle odwzorowane są linie proste.\n",
        "Z drugiej strony sprawdza się w pewnych nietypowych przypadkach.\n",
        "Zostanie to zademonstrowane w dalszej części ćwiczenia."
      ]
    },
    {
      "cell_type": "code",
      "execution_count": null,
      "metadata": {
        "jupyter": {
          "outputs_hidden": false
        },
        "pycharm": {
          "name": "#%%\n"
        },
        "id": "RdxOj4Dmr0cy"
      },
      "outputs": [],
      "source": [
        "nearest_neigh(I, 1.5, 1.5)"
      ]
    },
    {
      "cell_type": "code",
      "source": [
        "nearest_neigh(I, 2.5, 2.5)"
      ],
      "metadata": {
        "id": "ga0PYQIl9JYw"
      },
      "execution_count": null,
      "outputs": []
    },
    {
      "cell_type": "code",
      "source": [
        "nearest_neigh(I, 1.5, 2.5)"
      ],
      "metadata": {
        "id": "_0hwgm12BV-F"
      },
      "execution_count": null,
      "outputs": []
    },
    {
      "cell_type": "code",
      "source": [
        "nearest_neigh(I, 0.7, 0.7)"
      ],
      "metadata": {
        "id": "r-BOZt-mBaId"
      },
      "execution_count": null,
      "outputs": []
    },
    {
      "cell_type": "code",
      "source": [
        "clock = cv2.imread('clock.bmp')\n",
        "clock = cv2.cvtColor(clock, cv2.COLOR_BGR2GRAY)\n",
        "\n",
        "plt.figure()\n",
        "plt.imshow(clock, cmap =\"gray\")\n",
        "plt.xticks([]), plt.yticks([])\n",
        "plt.show()\n",
        "\n",
        "nearest_neigh(clock, 2, 2)"
      ],
      "metadata": {
        "id": "meziPlecBjPu"
      },
      "execution_count": null,
      "outputs": []
    },
    {
      "cell_type": "code",
      "source": [
        "chessboard = cv2.imread('chessboard.bmp')\n",
        "chessboard = cv2.cvtColor(chessboard, cv2.COLOR_BGR2GRAY)\n",
        "\n",
        "plt.figure()\n",
        "plt.imshow(chessboard, cmap =\"gray\")\n",
        "plt.xticks([]), plt.yticks([])\n",
        "plt.show()\n",
        "\n",
        "nearest_neigh(chessboard, 2, 2)"
      ],
      "metadata": {
        "id": "8R8tNQhMCIWn"
      },
      "execution_count": null,
      "outputs": []
    },
    {
      "cell_type": "markdown",
      "source": [
        "## Interpolacja dwuliniowa\n",
        "\n",
        "W praktyce, lepszym rozwiązaniem zwykle okazuje tzw. **interpolacja dwuliniowa** (ang. *bilinear interpolation*).\n",
        "Wykorzystuje ona informację o czterech najbliższych sąsiadach do określenia nowej wartości piksela.\n",
        "\n",
        "Jeśli przez $(i,j)$ oznaczymy współrzędne poszukiwanego piksela, a przez $I(i,j)$ jego jasność (składową w odcieniach szarości) to jego wartość można obliczyć wykorzystując równanie:\n",
        "\\begin{equation}\n",
        "I(i,j) = a \\cdot i + b \\cdot j+ c \\cdot i \\cdot j + d\n",
        "\\end{equation}\n",
        "gdzie: współczynniki $a,b,c,d$ można wyliczyć na podstawie czterech najbliższych sąsiadów.\n",
        "\n",
        "![Ilustracja dwuliniowej](https://raw.githubusercontent.com/vision-agh/poc_sw/master/05_Resolution/img/interABCD.png)\n",
        "\n",
        "Prześledźmy to na przykładzie z powyższego rysunku.\n",
        "Niech współrzędne poszczególnych punktów to $A = (j_1,i_1)$, $B = (j_1,i_2)$, $ C= (j_2,i_2)$ oraz $D = (j_2,i_1)$.\n",
        "W pierwszej kolejności dokonujemy interpolacji wartości w punktach $AB$ i $CD$ -- czyli poziomo.\n",
        "Wychodząc od równania prostej otrzymujemy:\n",
        "\n",
        "\\begin{equation}\n",
        "f(AB) \\approx \\frac{i_2 - i}{i_2-i_1}f(A) + \\frac{i - i_1}{i_2-i_1}f(B)\n",
        "\\end{equation}\n",
        "\n",
        "\\begin{equation}\n",
        "f(CD) \\approx \\frac{i_2 - i}{i_2-i_1}f(D) + \\frac{i - i_1}{i_2-i_1}f(C)\n",
        "\\end{equation}\n",
        "\n",
        "Następnie wykonujemy analogiczną interpolację w pionie:\n",
        "\\begin{equation}\n",
        "f(ABCD) \\approx \\frac{j_2 - j}{j_2-j_1}f(AB) + \\frac{j - j_1}{j_2-j_1}f(CD)\n",
        "\\end{equation}\n",
        "\n",
        "Łącząc powyższe równania otrzymujemy:\n",
        "\\begin{equation}\n",
        "f(ABCD) \\approx \\frac{1}{(i_2 - i_1)(j_2-j_1)} ( f(A)(i_2-i)(j_2 - y) + f(B)(i-i_1)(j_2 - j) \\\\ + f(C)(i-i_1)(j-j_1) + f(D)(i_2-i)(j-j_1))\n",
        "\\end{equation}\n",
        "gdzie zapis $f(X)$ oznacza wartość piksela w punkcie $X$.\n",
        "\n",
        "Rozważania można uprościć przyjmując, że narożniki rozpatrywanego kwadratu mają następujące współrzędne: $A = (0,0)$, $B = (0,1)$, $ C= (1,1)$ oraz $D = (1,0)$.\n",
        "Wtedy powyższe równanie można zapisać:\n",
        "\\begin{equation}\n",
        "f(ABCD) \\approx f(A)(1-i)(1-j) + f(B)i(1-j) + f(C)ij + f(D)(1-i)j\n",
        "\\end{equation}\n",
        "\n",
        "lub macierzowo:\n",
        "\\begin{equation}\n",
        "f(ABCD) \\approx \\begin{bmatrix}1 - i & i \\end{bmatrix} \\begin{bmatrix} f(A) & f(D) \\\\\\\\ f(B) & f(C)  \\end{bmatrix}   \\begin{bmatrix} 1-j \\\\\\\\ j  \\end{bmatrix}\n",
        "\\end{equation}\n",
        "\n",
        "Uwaga.\n",
        "Nieco wbrew nazwie interpolacja dwuliniowa nie jest operacją liniową.\n",
        "W złożeniu dwóch operacji liniowych pojawia się człon $xy$.\n",
        "\n",
        "Warto dodać, że kolejny ``poziom wtajemniczenia'' to **interpolacja dwusześcienna** (ang. *bicubic interpolation*).\n",
        "Dana jest ona wzorem:\n",
        "\\begin{equation}\n",
        "I(i,j) = \\sum_{i=0}^{3} \\sum_{j=0}^{3} a_{ij} x^i y^j\n",
        "\\end{equation}\n",
        "Jej implementacja stanowi zadanie domowe do bieżącego ćwiczenia.\n",
        "\n",
        "Trzy powyżej przedstawione metody bynajmniej nie wyczerpują tematu.\n",
        "Wystarczy choćby otworzyć stronę [wiki o skalowaniu](https://en.wikipedia.org/wiki/Image_scaling), by zobaczyć, że metod jest dużo więcej.\n",
        "\n"
      ],
      "metadata": {
        "collapsed": false,
        "pycharm": {
          "name": "#%% md\n"
        },
        "id": "Z73TPILgr0cz"
      }
    },
    {
      "cell_type": "markdown",
      "source": [
        "Wykorzystując powyższe równania zaimplementuj interpolację dwuliniową:\n",
        "* dobrym punktem wyjścia będzie stworzona funkcja do interpolacji metodą najbliższego sąsiada,\n",
        "* początek powinien być identyczny,\n",
        "* różnice rozpoczynają się w momencie obliczenia współrzędnych nowego piksela,\n",
        "* jeśli chcemy zastosować opisane powyżej wzory (w wariancie uproszczonym), to musimy wyliczyć współrzędne punktów $A,B,C,D$,\n",
        "* w pierwszym kroku obliczamy współrzędne $A$ tj. $(0,0)$ - należy do tego wykorzystać funkcję *floor* (np. $i_1 = floor(i / h_{scale})$).\n",
        "  Proszę ten krok odnieść do przedstawionego rysunku poglądowego,\n",
        "* obliczenie współrzędnych $B,C,D$ jest już proste i sprowadza się do operacji `+1`,\n",
        "* potrzebujemy jeszcze część ułamkową współrzędnych punktu $ABCD$ tj. $(i,j)$ - od ilorazu $i/h_{scale}$ należy odjąć wartość $i_1$\n",
        "* wykorzystując wyznaczone współrzędne, należy pobrać wartości jasności w punktach $A,B,C,D$, tj. $f(A),f(B),f(C),f(D)$, podstawić do odpowiedniego równania i wykonać interpolację.\n",
        "\n",
        "  Uwagi:\n",
        "* Tworzenie macierzy *np.array*, mnożenie macierzy *np.dot*. Przy tworzeniu macierzy proszę zwrócić uwagę na niezbędne nawiasy kwadratowe.\n",
        "* Przy próbie uruchomienia kodu pewnie okaże się, że wystąpi przekroczenie zakresu - należy dodać stosowne zabezpiczenie.\n",
        "\n",
        "Proszę dla interpolacji dwuliniowej wykonać takie same eksperymenty, jak dla  najbliższego sąsiada.\n",
        "\n",
        "\n"
      ],
      "metadata": {
        "collapsed": false,
        "pycharm": {
          "name": "#%% md\n"
        },
        "id": "zTEOsLFkr0c0"
      }
    },
    {
      "cell_type": "code",
      "execution_count": null,
      "metadata": {
        "id": "LMshZfMhr0c1"
      },
      "outputs": [],
      "source": [
        "def two_neigh(image, k, m):\n",
        "  old_y, old_x = image.shape\n",
        "  new_y, new_x = math_round(old_y * m), math_round(old_x * k)\n",
        "  new_image = np.zeros((new_y, new_x))\n",
        "\n",
        "  for j in range(new_y):\n",
        "    for i in range(new_x):\n",
        "      i_1 = np.floor(i/k).astype(\"uint32\")\n",
        "      j_1 = np.floor(j/m).astype(\"uint32\")\n",
        "\n",
        "      bound = lambda y, x: (min(y, old_y-1), min(x, old_x-1))\n",
        "\n",
        "      A = bound(j_1, i_1)\n",
        "      B = bound(j_1, i_1+1)\n",
        "      C = bound(j_1+1, i_1+1)\n",
        "      D = bound(j_1+1, i_1)\n",
        "\n",
        "      f_A = image[A[0], A[1]]\n",
        "      f_B = image[B[0], B[1]]\n",
        "      f_C = image[C[0], C[1]]\n",
        "      f_D = image[D[0], D[1]]\n",
        "\n",
        "      i_dec = i/k - i_1\n",
        "      j_dec = j/m - j_1\n",
        "\n",
        "      new_image[j, i] = np.array([1-i_dec, i_dec]) @ np.array([[f_A, f_D], [f_B, f_C]]) @ np.array([[1-j_dec], [j_dec]])\n",
        "\n",
        "  plt.figure()\n",
        "  plt.imshow(new_image, cmap =\"gray\")\n",
        "  plt.xticks([]), plt.yticks([])\n",
        "  plt.show()"
      ]
    },
    {
      "cell_type": "code",
      "source": [
        "parrot = cv2.imread(\"parrot.bmp\")\n",
        "parrot = cv2.cvtColor(parrot, cv2.COLOR_BGR2GRAY)"
      ],
      "metadata": {
        "id": "ZJ7gEhKSalEk"
      },
      "execution_count": null,
      "outputs": []
    },
    {
      "cell_type": "code",
      "source": [
        "two_neigh(parrot, 1.5, 1.5)"
      ],
      "metadata": {
        "id": "0DIshNwzalYk"
      },
      "execution_count": null,
      "outputs": []
    },
    {
      "cell_type": "code",
      "source": [
        "two_neigh(parrot, 2.5, 2.5)"
      ],
      "metadata": {
        "id": "Z5Qh-2oLalbk"
      },
      "execution_count": null,
      "outputs": []
    },
    {
      "cell_type": "code",
      "source": [
        "two_neigh(parrot, 1.5, 2.5)"
      ],
      "metadata": {
        "id": "RoKYiGalald_"
      },
      "execution_count": null,
      "outputs": []
    },
    {
      "cell_type": "code",
      "source": [
        "two_neigh(parrot, 0.7, 0.7)"
      ],
      "metadata": {
        "id": "K_7FCsXcfuP7"
      },
      "execution_count": null,
      "outputs": []
    },
    {
      "cell_type": "code",
      "source": [
        "clock = cv2.imread('clock.bmp')\n",
        "clock = cv2.cvtColor(clock, cv2.COLOR_BGR2GRAY)\n",
        "\n",
        "two_neigh(clock, 2, 2)"
      ],
      "metadata": {
        "id": "g8UHNij5f3dt"
      },
      "execution_count": null,
      "outputs": []
    },
    {
      "cell_type": "code",
      "source": [
        "chessboard = cv2.imread('chessboard.bmp')\n",
        "chessboard = cv2.cvtColor(chessboard, cv2.COLOR_BGR2GRAY)\n",
        "\n",
        "two_neigh(chessboard, 10, 10)"
      ],
      "metadata": {
        "id": "_FDE8gN2f9ue"
      },
      "execution_count": null,
      "outputs": []
    },
    {
      "cell_type": "markdown",
      "source": [
        "## Intepolacja w OpenCV\n",
        "\n",
        "W OpenCV dostępna jest funkcja `resize`, która służy do zmiany rozmiaru obrazka.\n",
        "Składnia jest następująca `dst = cv2.resize(src, dsize[, dst[, fx[, fy[, interpolation]]]] )`, gdzie `dst` to obraz wynikowy, `src` obraz źródłowy, `dsize` rozmiar docelowy (ew. można podać współczynniki skalowania dla poszczególnych osi: `fx,fy`), `interpolation` metoda interpolacji.\n",
        "Metod podstawowych dostępnych jest 5:\n",
        "- najbliższego sąsiada - ` cv2.INTER_NEAREST`,\n",
        "- dwuliniowa - ` cv2.INTER_LINEAR`,\n",
        "- dwukubiczna - ` cv2.INTER_CUBIC`,\n",
        "- *area* - ` cv2.INTER_AREA`,\n",
        "- *lanczos4* - ` cv2.INTER_LANCZOS4`.\n",
        "\n",
        "Przeprowadzimy następujący eksperyment: obraz (o większej niż dotąd rozdzielczości) przeskalujemy każdą z metod -- zwiększymy i zmniejszymy jego rozdzielczość. Dodamy też pomiar czasu realizacji obliczeń.\n",
        "\n",
        "Proszę stworzyć funkcję, która jako argumenty przyjmuje obraz oraz dwa współczynniki skalujące, a wewnątrz przeprowadzone zostaną interpolacje, pomiar czasu oraz wizualizacja (można wypisać czas w tytule rysunku).\n",
        "\n",
        "Pomiar czasu:\n",
        "```{python}\n",
        "from timeit import default_timer as timer\n",
        "start = timer()\n",
        "# ...\n",
        "end = timer()\n",
        "print(end - start)\n",
        "```\n",
        "\n",
        "Wykonaj eksperyment dla kilku różnych skal, przeanalizuj czasy obliczeń."
      ],
      "metadata": {
        "collapsed": false,
        "pycharm": {
          "name": "#%% md\n"
        },
        "id": "kwDw-tA1r0c3"
      }
    },
    {
      "cell_type": "code",
      "execution_count": null,
      "outputs": [],
      "source": [
        "from timeit import default_timer as timer\n",
        "\n",
        "def calculateTime(image, k, m, method):\n",
        "    time_start = timer()\n",
        "    new_image = cv2.resize(image, None, fx=k, fy=m, interpolation=method)\n",
        "    time_end = timer()\n",
        "    return new_image, time_end - time_start\n",
        "\n",
        "def analyzeMethods(file, k, m):\n",
        "    methods = [cv2.INTER_NEAREST, cv2.INTER_LINEAR, cv2.INTER_CUBIC, cv2.INTER_AREA, cv2.INTER_LANCZOS4]\n",
        "    methods_names = ['INTER_NEAREST', 'INTER_LINEAR', 'INTER_CUBIC', 'INTER_AREA', 'INTER_LANCZOS4']\n",
        "    image = cv2.imread(file, cv2.IMREAD_GRAYSCALE)\n",
        "    \n",
        "    fig, axs = plt.subplots(2,3)\n",
        "    fig.set_size_inches(15, 10)\n",
        "    \n",
        "    axs[0][0].imshow(image, 'gray')\n",
        "    axs[0][0].set_title(\"Original image\")\n",
        "    \n",
        "    for index, (method, method_name) in enumerate(zip(methods, methods_names)):\n",
        "        new_image, time = calculateTime(image, k, m, method)\n",
        "        \n",
        "        axs[(index+1)//3][(index+1)%3].imshow(new_image, 'gray')\n",
        "        axs[(index+1)//3][(index+1)%3].set_title(f\"{method_name}\\n time={time:.10f}\")"
      ],
      "metadata": {
        "pycharm": {
          "name": "#%%\n"
        },
        "id": "Pf76ZYxNr0c4"
      }
    },
    {
      "cell_type": "code",
      "source": [
        "analyzeMethods('parrot.bmp', 1.5, 1.5)"
      ],
      "metadata": {
        "id": "ZZN0PKUa47YO"
      },
      "execution_count": null,
      "outputs": []
    },
    {
      "cell_type": "code",
      "source": [
        "analyzeMethods('parrot.bmp', 2.5, 2.5)"
      ],
      "metadata": {
        "id": "lcAMkqCB5nX4"
      },
      "execution_count": null,
      "outputs": []
    },
    {
      "cell_type": "code",
      "source": [
        "analyzeMethods('parrot.bmp', 1.5, 2.5)"
      ],
      "metadata": {
        "id": "yAEJf_ag5smT"
      },
      "execution_count": null,
      "outputs": []
    },
    {
      "cell_type": "code",
      "source": [
        "analyzeMethods('parrot.bmp', 0.7, 0.7)"
      ],
      "metadata": {
        "id": "1xMXUX5g6ALG"
      },
      "execution_count": null,
      "outputs": []
    },
    {
      "cell_type": "code",
      "source": [
        "analyzeMethods('clock.bmp', 1.5, 1.5)"
      ],
      "metadata": {
        "id": "X9ydwyNB6Ed-"
      },
      "execution_count": null,
      "outputs": []
    },
    {
      "cell_type": "code",
      "source": [
        "analyzeMethods('chessboard.bmp', 3, 3)"
      ],
      "metadata": {
        "id": "GXIg3TkD6JBj"
      },
      "execution_count": null,
      "outputs": []
    },
    {
      "cell_type": "markdown",
      "source": [
        "## Rozdzielczość (dpi)\n",
        "\n",
        "Omówioną wcześniej rozdzielczość przestrzenną (rozmiar) należy utożsamiać z rozmiarem macierzy w której zapisany jest obraz.\n",
        "W tym ujęciu rozmiar pojedynczego piksela nie ma specjalnego znaczenia.\n",
        "Problem pojawia się, kiedy obraz trzeba wyświetlić lub wydrukować.\n",
        "Wtedy pojedynczy piksel staje się ,,obiektem fizycznym'' i musi mieć swój rozmiar (wysokość/szerokość/powierzchnię).\n",
        "\n",
        "Parametr dpi (ang. *dots per inch*) określa liczbę kropek (pikseli), która mieści się na jednym calu (25,4 mm) długości/szerokości.\n",
        "Dopiero kombinacja rozmiaru i rozdzielczości określa nam rzeczywisty rozmiar obrazu jaki uzyskamy na wydruku.\n",
        "\n",
        "Dpi staje się istotne w przypadku drukowania, gdyż wyświetlanie na monitorze odbywa się zazwyczaj 1 piksel obrazka = 1 piksel na monitorze (w przypadku maksymalnej rozdzielczości wspieranej przez monitor), ew. następuje automatyczne skalowanie.\n",
        "\n",
        "Wpływ rozdzielczości można zademonstrować w następujący sposób:\n",
        "- wczytaj obraz *lena.bmp*.  Ma on rozmiar $512 \\times 512$.\n",
        "- wykorzystując funkcję `imresize` stwórz obrazy o rozmiarach $256 \\times 256$, $128 \\times 128$, $64 \\times 64$ - metoda interpolacji jest w tym wypadku mniej istotna.\n",
        "- wyświetl obrazy wymuszając zachowanie na ekranie wejściowej rozdzielczości $512 \\times 512$. W przypadku biblioteki *matplotlib* ta funkcjonalność jest domyślna.\n",
        "\n",
        "Proszę zaobserwować co dzieję się z obrazkiem."
      ],
      "metadata": {
        "collapsed": false,
        "id": "B4EjhiBhr0c4"
      }
    },
    {
      "cell_type": "code",
      "execution_count": null,
      "outputs": [],
      "source": [
        "def getImageWithRes(filepath, dpi):\n",
        "    image = cv2.imread(filepath)\n",
        "    image = cv2.cvtColor(image, cv2.COLOR_BGR2GRAY)\n",
        "    image = cv2.resize(image, (dpi, dpi))\n",
        "    plt.imshow(image, cmap =\"gray\")\n",
        "    plt.xticks([]), plt.yticks([])\n",
        "    plt.title(f\"{dpi}x{dpi}\")\n",
        "    plt.show()"
      ],
      "metadata": {
        "pycharm": {
          "name": "#%%\n"
        },
        "id": "UtnwDEmqr0c5"
      }
    },
    {
      "cell_type": "code",
      "source": [
        "getImageWithRes(\"lena.bmp\", 512)"
      ],
      "metadata": {
        "id": "DIamoeVb7eRg"
      },
      "execution_count": null,
      "outputs": []
    },
    {
      "cell_type": "code",
      "source": [
        "getImageWithRes(\"lena.bmp\", 256)"
      ],
      "metadata": {
        "id": "njN3EWIn7eUY"
      },
      "execution_count": null,
      "outputs": []
    },
    {
      "cell_type": "code",
      "source": [
        "getImageWithRes(\"lena.bmp\", 128)"
      ],
      "metadata": {
        "id": "Uzk02UY97eXi"
      },
      "execution_count": null,
      "outputs": []
    },
    {
      "cell_type": "code",
      "source": [
        "getImageWithRes(\"lena.bmp\", 64)"
      ],
      "metadata": {
        "id": "Db6h2KRp7eak"
      },
      "execution_count": null,
      "outputs": []
    },
    {
      "cell_type": "markdown",
      "source": [
        "## Liczba poziomów jasności\n",
        "\n",
        "Dla obrazów w skali szarości pojedynczy piksel zwykle zapisuje się na 8 bitach, co daje 256 rozróżnialnych poziomów szarości.\n",
        "Dla większości zastosowań wartość ta jest wystarczająca (choć są kamery o wyjścu 12 lub 16 bitów).\n",
        "Jednak oko ludzkie nie potrafi rozróżnić wszystkich 256 poziomów jasności (jest za mało czułe).\n",
        "Zazwyczaj człowiek rozróżnia 20-30 poziomów szarości (to ile i jakie dokładnie rozróżnia, zależy od konkretnego oświetlenia sceny i cech osobniczych).\n",
        "\n",
        "W poniższych krokach zademonstrujemy omówione zjawisko:\n",
        "- wczytaj (użyj) obrazu _lena_,\n",
        "- wykorzystując znaną funkcję `normalize` zmień liczbę poziomów szarości z 0-255 na:\n",
        "    * 0-31\n",
        "    * 0-15\n",
        "    * 0-7\n",
        "    * 0-3\n",
        "    * 0-1 (binaryzacja)\n",
        "- rezultaty wyświetl na wspólnym rysunku.\n",
        "\n",
        "Podpowiedzi:\n",
        "- trzeba przygotować tablice na obrazki np, `I_31 = np.zeros(I.shape,'uint8')`,\n",
        "- prawidłowe użycie funkcji normalize `cv2.normalize(I,I_31,0,31,cv2.NORM_MINMAX)`,\n",
        "- przykładowe wyświetlanie `axsHist[0,1].imshow(I, 'gray', vmin=0, vmax=31)`.\n",
        "\n",
        "Czy rezultaty eksperymentu pasują do teorii o rozpoznawaniu przez człowieka ograniczonego zakresu poziomów jasności?\n",
        "Wizualne porównanie których obrazów o tym świadczy?"
      ],
      "metadata": {
        "collapsed": false,
        "id": "NsiHhA7kr0c5"
      }
    },
    {
      "cell_type": "code",
      "execution_count": null,
      "outputs": [],
      "source": [
        "image = cv2.imread('lena.bmp')\n",
        "image = cv2.cvtColor(image, cv2.COLOR_BGR2GRAY)\n",
        "\n",
        "levels = [32, 16, 8, 4, 2]\n",
        "\n",
        "fig, axs = plt.subplots(2,3)\n",
        "fig.set_size_inches(15, 10)\n",
        "\n",
        "axs[0][0].imshow(image, 'gray')\n",
        "axs[0][0].set_title('oryginal image 0-255')\n",
        "\n",
        "for index, level in enumerate(levels):\n",
        "    new_image = np.zeros(image.shape, 'uint8')\n",
        "    cv2.normalize(image, new_image, 0, level-1, cv2.NORM_MINMAX)\n",
        "\n",
        "    axs[(index+1)//3][(index+1)%3].imshow(new_image, 'gray', vmin=0, vmax=level-1)\n",
        "    axs[(index+1)//3][(index+1)%3].set_title(level)"
      ],
      "metadata": {
        "pycharm": {
          "name": "#%%\n"
        },
        "id": "aCK_jswsr0c6"
      }
    }
  ],
  "metadata": {
    "kernelspec": {
      "display_name": "Python 3",
      "language": "python",
      "name": "python3"
    },
    "language_info": {
      "codemirror_mode": {
        "name": "ipython",
        "version": 3
      },
      "file_extension": ".py",
      "mimetype": "text/x-python",
      "name": "python",
      "nbconvert_exporter": "python",
      "pygments_lexer": "ipython3",
      "version": "3.8.3"
    },
    "colab": {
      "provenance": []
    }
  },
  "nbformat": 4,
  "nbformat_minor": 0
}