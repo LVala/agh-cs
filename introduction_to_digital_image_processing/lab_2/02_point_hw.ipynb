{
  "cells": [
    {
      "cell_type": "markdown",
      "source": [
        "# Zadanie domowe\n",
        "\n",
        "W przypadku obrazów w odcieniach szarości pojedynczy piksel z zakresu [0; 255] reprezentowany jest jako 8-bitowa liczba bez znaku.\n",
        "Pewnym rozszerzeniem analizy sposobu reprezentacji obrazu może być następujący eksperyment.\n",
        "Załóżmy, że z każdego z 8 bitów możemy stworzyć pojedynczy obraz binarny (ang. _bit-plane slicing_).\n",
        "Dla obrazka _100zloty.jpg_ (https://raw.githubusercontent.com/vision-agh/poc_sw/master/02_Point/100zloty.jpg) stwórz 8 obrazów, z których każdy powinien zawierać jedną płaszczyznę bitową.\n",
        "Podpowiedź $-$ warto sprawdzić, jak realizuje się bitowe operacje logiczne.\n",
        "Zastosowanie takiej dekompozycji obrazu pozwala na analizę ,,ważności'' poszczególnych bitów.\n",
        "Jest to użyteczne w kwantyzacji, ale także w kompresji.\n",
        "\n",
        "W drugim etapie zadania proszę spróbować odtworzyć obraz oryginalny z mniejszej liczby obrazów binarnych.\n",
        "Warto zacząć od dwóch najbardziej znaczących bitów, a później dodawać kolejne.\n",
        "Należy utworzyć co najmniej trzy wersje zrekonstruowanych obrazów.\n",
        "Podpowiedź $-$ rekonstrukcja obrazu to mnożenie przez odpowiednią potęgę liczby 2 (przesunięcie bitowe) oraz dodawanie."
      ],
      "metadata": {
        "collapsed": false,
        "id": "m5Q2hnDC3NuL"
      }
    },
    {
      "cell_type": "code",
      "source": [
        "import cv2\n",
        "import os\n",
        "import requests\n",
        "import matplotlib.pyplot as plt\n",
        "\n",
        "url = 'https://raw.githubusercontent.com/vision-agh/poc_sw/master/02_Point/'\n",
        "fileName = '100zloty.jpg'\n",
        "if not os.path.exists(fileName) :\n",
        "    r = requests.get(url + fileName, allow_redirects=True)\n",
        "    open(fileName, 'wb').write(r.content)"
      ],
      "metadata": {
        "id": "tsKtFztv4T2l"
      },
      "execution_count": null,
      "outputs": []
    },
    {
      "cell_type": "code",
      "source": [
        "image = cv2.imread('100zloty.jpg')\n",
        "\n",
        "plt.imshow(image)\n",
        "plt.show()\n",
        "\n",
        "mask = 0b00000001\n",
        "slices = []\n",
        "\n",
        "for i in range(8):\n",
        "  cur_mask = mask << i\n",
        "  print(bin(cur_mask))\n",
        "  cur_image = ((image & cur_mask) >> i) * 255\n",
        "  slices.append(cur_image)\n",
        "  plt.imshow(cur_image)\n",
        "  plt.show()"
      ],
      "metadata": {
        "id": "fdL_pyxybp4B"
      },
      "execution_count": null,
      "outputs": []
    },
    {
      "cell_type": "code",
      "source": [
        "def binary_to_slice(binary_image, num_of_bit):\n",
        "  mask = 0b00000001 << num_of_bit\n",
        "  return binary_image & mask\n",
        "\n",
        "# Reconstruction from 8th and 7th bit\n",
        "image_1 = binary_to_slice(slices[7], 7) + binary_to_slice(slices[6], 6)\n",
        "plt.imshow(image_1)\n",
        "plt.show()\n",
        "\n",
        "# Reconstruction from 3th to 6th bit\n",
        "image_2 = binary_to_slice(slices[2], 2) + binary_to_slice(slices[3], 3) + \\\n",
        "          binary_to_slice(slices[4], 4) + binary_to_slice(slices[5], 5)\n",
        "plt.imshow(image_2)\n",
        "plt.show()\n",
        "\n",
        "# Reconstruction from all of the bits\n",
        "image_3 = binary_to_slice(slices[0], 0)\n",
        "for i in range(1, 8): \n",
        "  image_3 = image_3 + binary_to_slice(slices[i], i)\n",
        "\n",
        "plt.imshow(image_3)\n",
        "plt.show()"
      ],
      "metadata": {
        "id": "JZXgmdra43ed"
      },
      "execution_count": null,
      "outputs": []
    }
  ],
  "metadata": {
    "kernelspec": {
      "display_name": "Python 3",
      "language": "python",
      "name": "python3"
    },
    "language_info": {
      "codemirror_mode": {
        "name": "ipython",
        "version": 2
      },
      "file_extension": ".py",
      "mimetype": "text/x-python",
      "name": "python",
      "nbconvert_exporter": "python",
      "pygments_lexer": "ipython2",
      "version": "2.7.6"
    },
    "colab": {
      "provenance": []
    }
  },
  "nbformat": 4,
  "nbformat_minor": 0
}